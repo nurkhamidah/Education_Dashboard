{
 "cells": [
  {
   "cell_type": "code",
   "execution_count": 32,
   "metadata": {},
   "outputs": [],
   "source": [
    "import pandas as pd\n",
    "import plotly as pl\n",
    "import plotly.graph_objects as go\n",
    "import plotly.express as px\n",
    "import numpy as np\n",
    "from sklearn.linear_model import LinearRegression\n",
    "from sklearn import linear_model as lr\n",
    "import statsmodels.api as sm\n",
    "from scipy import stats\n",
    "from sklearn.datasets._samples_generator import make_regression"
   ]
  },
  {
   "cell_type": "code",
   "execution_count": 2,
   "metadata": {},
   "outputs": [],
   "source": [
    "G20_OECD = ['Argentina', 'Australia', 'Brazil', 'Canada', 'China', 'France', 'Germany', 'India', 'Indonesia', 'Italy', \n",
    "       'Japan', 'Korea', 'Mexico', 'Russia', 'Saudi Arabia', 'South Africa', 'Türkiye', 'Turkey', 'United Kingdom', \n",
    "       'United States', 'European Union', 'Austria', 'Belgium', 'Canada', 'Chile', 'Czech Republic', 'Denmark', 'Estonia', \n",
    "       'Finland', 'Greece', 'Hungary', 'Iceland', 'Ireland', 'Israel', 'Portugal', 'Slovak Republic', 'Slovakia', 'Slovenia',\n",
    "       'Spain', 'Sweden', 'Switzerland', 'Malaysia', 'Singapore', 'Myanmar', 'Thailand', 'Brunei Darussalam', 'Viet Nam', 'Philippines',\n",
    "       'Timor Leste', 'Cambodia']"
   ]
  },
  {
   "cell_type": "markdown",
   "metadata": {},
   "source": [
    "## PISA Score IDN vs 79 Countries"
   ]
  },
  {
   "cell_type": "code",
   "execution_count": 3,
   "metadata": {},
   "outputs": [
    {
     "data": {
      "text/html": [
       "<div>\n",
       "<style scoped>\n",
       "    .dataframe tbody tr th:only-of-type {\n",
       "        vertical-align: middle;\n",
       "    }\n",
       "\n",
       "    .dataframe tbody tr th {\n",
       "        vertical-align: top;\n",
       "    }\n",
       "\n",
       "    .dataframe thead th {\n",
       "        text-align: right;\n",
       "    }\n",
       "</style>\n",
       "<table border=\"1\" class=\"dataframe\">\n",
       "  <thead>\n",
       "    <tr style=\"text-align: right;\">\n",
       "      <th></th>\n",
       "      <th>Unnamed: 0</th>\n",
       "      <th>country_name</th>\n",
       "      <th>reading</th>\n",
       "      <th>math</th>\n",
       "      <th>science</th>\n",
       "      <th>rank_reading</th>\n",
       "      <th>rank_math</th>\n",
       "      <th>rank_science</th>\n",
       "    </tr>\n",
       "  </thead>\n",
       "  <tbody>\n",
       "    <tr>\n",
       "      <th>0</th>\n",
       "      <td>1</td>\n",
       "      <td>Australia</td>\n",
       "      <td>503</td>\n",
       "      <td>491</td>\n",
       "      <td>503</td>\n",
       "      <td>16</td>\n",
       "      <td>29</td>\n",
       "      <td>15</td>\n",
       "    </tr>\n",
       "    <tr>\n",
       "      <th>1</th>\n",
       "      <td>2</td>\n",
       "      <td>Austria</td>\n",
       "      <td>484</td>\n",
       "      <td>499</td>\n",
       "      <td>490</td>\n",
       "      <td>28</td>\n",
       "      <td>22</td>\n",
       "      <td>27</td>\n",
       "    </tr>\n",
       "    <tr>\n",
       "      <th>2</th>\n",
       "      <td>3</td>\n",
       "      <td>Belgium</td>\n",
       "      <td>493</td>\n",
       "      <td>508</td>\n",
       "      <td>499</td>\n",
       "      <td>22</td>\n",
       "      <td>15</td>\n",
       "      <td>19</td>\n",
       "    </tr>\n",
       "    <tr>\n",
       "      <th>3</th>\n",
       "      <td>4</td>\n",
       "      <td>Canada</td>\n",
       "      <td>520</td>\n",
       "      <td>512</td>\n",
       "      <td>518</td>\n",
       "      <td>6</td>\n",
       "      <td>12</td>\n",
       "      <td>8</td>\n",
       "    </tr>\n",
       "    <tr>\n",
       "      <th>4</th>\n",
       "      <td>5</td>\n",
       "      <td>Chile</td>\n",
       "      <td>452</td>\n",
       "      <td>417</td>\n",
       "      <td>444</td>\n",
       "      <td>44</td>\n",
       "      <td>59</td>\n",
       "      <td>45</td>\n",
       "    </tr>\n",
       "    <tr>\n",
       "      <th>...</th>\n",
       "      <td>...</td>\n",
       "      <td>...</td>\n",
       "      <td>...</td>\n",
       "      <td>...</td>\n",
       "      <td>...</td>\n",
       "      <td>...</td>\n",
       "      <td>...</td>\n",
       "      <td>...</td>\n",
       "    </tr>\n",
       "    <tr>\n",
       "      <th>73</th>\n",
       "      <td>74</td>\n",
       "      <td>Chinese Taipei</td>\n",
       "      <td>503</td>\n",
       "      <td>531</td>\n",
       "      <td>516</td>\n",
       "      <td>17</td>\n",
       "      <td>5</td>\n",
       "      <td>10</td>\n",
       "    </tr>\n",
       "    <tr>\n",
       "      <th>74</th>\n",
       "      <td>75</td>\n",
       "      <td>Thailand</td>\n",
       "      <td>393</td>\n",
       "      <td>419</td>\n",
       "      <td>426</td>\n",
       "      <td>68</td>\n",
       "      <td>57</td>\n",
       "      <td>54</td>\n",
       "    </tr>\n",
       "    <tr>\n",
       "      <th>75</th>\n",
       "      <td>76</td>\n",
       "      <td>Ukraine</td>\n",
       "      <td>466</td>\n",
       "      <td>453</td>\n",
       "      <td>469</td>\n",
       "      <td>41</td>\n",
       "      <td>43</td>\n",
       "      <td>38</td>\n",
       "    </tr>\n",
       "    <tr>\n",
       "      <th>76</th>\n",
       "      <td>77</td>\n",
       "      <td>United Arab Emirates</td>\n",
       "      <td>432</td>\n",
       "      <td>435</td>\n",
       "      <td>434</td>\n",
       "      <td>47</td>\n",
       "      <td>50</td>\n",
       "      <td>49</td>\n",
       "    </tr>\n",
       "    <tr>\n",
       "      <th>77</th>\n",
       "      <td>78</td>\n",
       "      <td>Uruguay</td>\n",
       "      <td>427</td>\n",
       "      <td>418</td>\n",
       "      <td>426</td>\n",
       "      <td>49</td>\n",
       "      <td>58</td>\n",
       "      <td>55</td>\n",
       "    </tr>\n",
       "  </tbody>\n",
       "</table>\n",
       "<p>78 rows × 8 columns</p>\n",
       "</div>"
      ],
      "text/plain": [
       "    Unnamed: 0          country_name  reading  math  science  rank_reading  \\\n",
       "0            1             Australia      503   491      503            16   \n",
       "1            2               Austria      484   499      490            28   \n",
       "2            3               Belgium      493   508      499            22   \n",
       "3            4                Canada      520   512      518             6   \n",
       "4            5                 Chile      452   417      444            44   \n",
       "..         ...                   ...      ...   ...      ...           ...   \n",
       "73          74        Chinese Taipei      503   531      516            17   \n",
       "74          75              Thailand      393   419      426            68   \n",
       "75          76               Ukraine      466   453      469            41   \n",
       "76          77  United Arab Emirates      432   435      434            47   \n",
       "77          78               Uruguay      427   418      426            49   \n",
       "\n",
       "    rank_math  rank_science  \n",
       "0          29            15  \n",
       "1          22            27  \n",
       "2          15            19  \n",
       "3          12             8  \n",
       "4          59            45  \n",
       "..        ...           ...  \n",
       "73          5            10  \n",
       "74         57            54  \n",
       "75         43            38  \n",
       "76         50            49  \n",
       "77         58            55  \n",
       "\n",
       "[78 rows x 8 columns]"
      ]
     },
     "execution_count": 3,
     "metadata": {},
     "output_type": "execute_result"
    }
   ],
   "source": [
    "pisa_score = pd.read_csv(\"https://raw.githubusercontent.com/nurkhamidah/Education_Dashboard/master/79countries_rankedpisa.csv\", sep=\",\")\n",
    "pisa_score"
   ]
  },
  {
   "cell_type": "code",
   "execution_count": 4,
   "metadata": {},
   "outputs": [
    {
     "data": {
      "text/html": [
       "<div>\n",
       "<style scoped>\n",
       "    .dataframe tbody tr th:only-of-type {\n",
       "        vertical-align: middle;\n",
       "    }\n",
       "\n",
       "    .dataframe tbody tr th {\n",
       "        vertical-align: top;\n",
       "    }\n",
       "\n",
       "    .dataframe thead th {\n",
       "        text-align: right;\n",
       "    }\n",
       "</style>\n",
       "<table border=\"1\" class=\"dataframe\">\n",
       "  <thead>\n",
       "    <tr style=\"text-align: right;\">\n",
       "      <th></th>\n",
       "      <th>Unnamed: 0</th>\n",
       "      <th>country_name</th>\n",
       "      <th>reading</th>\n",
       "      <th>math</th>\n",
       "      <th>science</th>\n",
       "      <th>rank_reading</th>\n",
       "      <th>rank_math</th>\n",
       "      <th>rank_science</th>\n",
       "      <th>sum_all</th>\n",
       "    </tr>\n",
       "  </thead>\n",
       "  <tbody>\n",
       "    <tr>\n",
       "      <th>32</th>\n",
       "      <td>33</td>\n",
       "      <td>Switzerland</td>\n",
       "      <td>484</td>\n",
       "      <td>515</td>\n",
       "      <td>495</td>\n",
       "      <td>29</td>\n",
       "      <td>11</td>\n",
       "      <td>23</td>\n",
       "      <td>1494</td>\n",
       "    </tr>\n",
       "    <tr>\n",
       "      <th>26</th>\n",
       "      <td>27</td>\n",
       "      <td>Norway</td>\n",
       "      <td>499</td>\n",
       "      <td>501</td>\n",
       "      <td>490</td>\n",
       "      <td>19</td>\n",
       "      <td>19</td>\n",
       "      <td>28</td>\n",
       "      <td>1490</td>\n",
       "    </tr>\n",
       "    <tr>\n",
       "      <th>6</th>\n",
       "      <td>7</td>\n",
       "      <td>Czech Republic</td>\n",
       "      <td>490</td>\n",
       "      <td>499</td>\n",
       "      <td>497</td>\n",
       "      <td>25</td>\n",
       "      <td>23</td>\n",
       "      <td>21</td>\n",
       "      <td>1486</td>\n",
       "    </tr>\n",
       "    <tr>\n",
       "      <th>35</th>\n",
       "      <td>36</td>\n",
       "      <td>United States</td>\n",
       "      <td>505</td>\n",
       "      <td>478</td>\n",
       "      <td>502</td>\n",
       "      <td>13</td>\n",
       "      <td>37</td>\n",
       "      <td>18</td>\n",
       "      <td>1485</td>\n",
       "    </tr>\n",
       "    <tr>\n",
       "      <th>10</th>\n",
       "      <td>11</td>\n",
       "      <td>France</td>\n",
       "      <td>493</td>\n",
       "      <td>495</td>\n",
       "      <td>493</td>\n",
       "      <td>23</td>\n",
       "      <td>25</td>\n",
       "      <td>25</td>\n",
       "      <td>1481</td>\n",
       "    </tr>\n",
       "    <tr>\n",
       "      <th>28</th>\n",
       "      <td>29</td>\n",
       "      <td>Portugal</td>\n",
       "      <td>492</td>\n",
       "      <td>492</td>\n",
       "      <td>492</td>\n",
       "      <td>24</td>\n",
       "      <td>28</td>\n",
       "      <td>26</td>\n",
       "      <td>1476</td>\n",
       "    </tr>\n",
       "    <tr>\n",
       "      <th>1</th>\n",
       "      <td>2</td>\n",
       "      <td>Austria</td>\n",
       "      <td>484</td>\n",
       "      <td>499</td>\n",
       "      <td>490</td>\n",
       "      <td>28</td>\n",
       "      <td>22</td>\n",
       "      <td>27</td>\n",
       "      <td>1473</td>\n",
       "    </tr>\n",
       "    <tr>\n",
       "      <th>36</th>\n",
       "      <td>37</td>\n",
       "      <td>OECD average</td>\n",
       "      <td>487</td>\n",
       "      <td>489</td>\n",
       "      <td>489</td>\n",
       "      <td>26</td>\n",
       "      <td>30</td>\n",
       "      <td>29</td>\n",
       "      <td>1465</td>\n",
       "    </tr>\n",
       "    <tr>\n",
       "      <th>20</th>\n",
       "      <td>21</td>\n",
       "      <td>Latvia</td>\n",
       "      <td>479</td>\n",
       "      <td>496</td>\n",
       "      <td>487</td>\n",
       "      <td>30</td>\n",
       "      <td>24</td>\n",
       "      <td>30</td>\n",
       "      <td>1462</td>\n",
       "    </tr>\n",
       "    <tr>\n",
       "      <th>69</th>\n",
       "      <td>70</td>\n",
       "      <td>Russia</td>\n",
       "      <td>479</td>\n",
       "      <td>488</td>\n",
       "      <td>478</td>\n",
       "      <td>32</td>\n",
       "      <td>31</td>\n",
       "      <td>33</td>\n",
       "      <td>1445</td>\n",
       "    </tr>\n",
       "    <tr>\n",
       "      <th>14</th>\n",
       "      <td>15</td>\n",
       "      <td>Iceland</td>\n",
       "      <td>474</td>\n",
       "      <td>495</td>\n",
       "      <td>475</td>\n",
       "      <td>36</td>\n",
       "      <td>26</td>\n",
       "      <td>35</td>\n",
       "      <td>1444</td>\n",
       "    </tr>\n",
       "    <tr>\n",
       "      <th>21</th>\n",
       "      <td>22</td>\n",
       "      <td>Lithuania</td>\n",
       "      <td>476</td>\n",
       "      <td>481</td>\n",
       "      <td>482</td>\n",
       "      <td>35</td>\n",
       "      <td>36</td>\n",
       "      <td>31</td>\n",
       "      <td>1439</td>\n",
       "    </tr>\n",
       "    <tr>\n",
       "      <th>13</th>\n",
       "      <td>14</td>\n",
       "      <td>Hungary</td>\n",
       "      <td>476</td>\n",
       "      <td>481</td>\n",
       "      <td>481</td>\n",
       "      <td>33</td>\n",
       "      <td>35</td>\n",
       "      <td>32</td>\n",
       "      <td>1438</td>\n",
       "    </tr>\n",
       "    <tr>\n",
       "      <th>17</th>\n",
       "      <td>18</td>\n",
       "      <td>Italy</td>\n",
       "      <td>476</td>\n",
       "      <td>487</td>\n",
       "      <td>468</td>\n",
       "      <td>34</td>\n",
       "      <td>32</td>\n",
       "      <td>39</td>\n",
       "      <td>1431</td>\n",
       "    </tr>\n",
       "    <tr>\n",
       "      <th>22</th>\n",
       "      <td>23</td>\n",
       "      <td>Luxembourg</td>\n",
       "      <td>470</td>\n",
       "      <td>483</td>\n",
       "      <td>477</td>\n",
       "      <td>39</td>\n",
       "      <td>34</td>\n",
       "      <td>34</td>\n",
       "      <td>1430</td>\n",
       "    </tr>\n",
       "    <tr>\n",
       "      <th>40</th>\n",
       "      <td>41</td>\n",
       "      <td>Belarus</td>\n",
       "      <td>474</td>\n",
       "      <td>472</td>\n",
       "      <td>471</td>\n",
       "      <td>37</td>\n",
       "      <td>38</td>\n",
       "      <td>37</td>\n",
       "      <td>1417</td>\n",
       "    </tr>\n",
       "    <tr>\n",
       "      <th>47</th>\n",
       "      <td>48</td>\n",
       "      <td>Croatia</td>\n",
       "      <td>479</td>\n",
       "      <td>464</td>\n",
       "      <td>472</td>\n",
       "      <td>31</td>\n",
       "      <td>40</td>\n",
       "      <td>36</td>\n",
       "      <td>1415</td>\n",
       "    </tr>\n",
       "    <tr>\n",
       "      <th>29</th>\n",
       "      <td>30</td>\n",
       "      <td>Slovak Republic</td>\n",
       "      <td>458</td>\n",
       "      <td>486</td>\n",
       "      <td>464</td>\n",
       "      <td>42</td>\n",
       "      <td>33</td>\n",
       "      <td>41</td>\n",
       "      <td>1408</td>\n",
       "    </tr>\n",
       "    <tr>\n",
       "      <th>16</th>\n",
       "      <td>17</td>\n",
       "      <td>Israel</td>\n",
       "      <td>470</td>\n",
       "      <td>463</td>\n",
       "      <td>462</td>\n",
       "      <td>38</td>\n",
       "      <td>41</td>\n",
       "      <td>42</td>\n",
       "      <td>1395</td>\n",
       "    </tr>\n",
       "  </tbody>\n",
       "</table>\n",
       "</div>"
      ],
      "text/plain": [
       "    Unnamed: 0     country_name  reading  math  science  rank_reading  \\\n",
       "32          33      Switzerland      484   515      495            29   \n",
       "26          27           Norway      499   501      490            19   \n",
       "6            7   Czech Republic      490   499      497            25   \n",
       "35          36    United States      505   478      502            13   \n",
       "10          11           France      493   495      493            23   \n",
       "28          29         Portugal      492   492      492            24   \n",
       "1            2          Austria      484   499      490            28   \n",
       "36          37     OECD average      487   489      489            26   \n",
       "20          21           Latvia      479   496      487            30   \n",
       "69          70           Russia      479   488      478            32   \n",
       "14          15          Iceland      474   495      475            36   \n",
       "21          22        Lithuania      476   481      482            35   \n",
       "13          14          Hungary      476   481      481            33   \n",
       "17          18            Italy      476   487      468            34   \n",
       "22          23       Luxembourg      470   483      477            39   \n",
       "40          41          Belarus      474   472      471            37   \n",
       "47          48          Croatia      479   464      472            31   \n",
       "29          30  Slovak Republic      458   486      464            42   \n",
       "16          17           Israel      470   463      462            38   \n",
       "\n",
       "    rank_math  rank_science  sum_all  \n",
       "32         11            23     1494  \n",
       "26         19            28     1490  \n",
       "6          23            21     1486  \n",
       "35         37            18     1485  \n",
       "10         25            25     1481  \n",
       "28         28            26     1476  \n",
       "1          22            27     1473  \n",
       "36         30            29     1465  \n",
       "20         24            30     1462  \n",
       "69         31            33     1445  \n",
       "14         26            35     1444  \n",
       "21         36            31     1439  \n",
       "13         35            32     1438  \n",
       "17         32            39     1431  \n",
       "22         34            34     1430  \n",
       "40         38            37     1417  \n",
       "47         40            36     1415  \n",
       "29         33            41     1408  \n",
       "16         41            42     1395  "
      ]
     },
     "execution_count": 4,
     "metadata": {},
     "output_type": "execute_result"
    }
   ],
   "source": [
    "pisa_score_sum = pisa_score\n",
    "pisa_score_sum['sum_all'] = pisa_score_sum['reading']+pisa_score_sum['math']+pisa_score_sum['science']\n",
    "pisa_score_sum = pisa_score_sum.sort_values('sum_all', ascending=False)\n",
    "pisa_score_sum[21:40]"
   ]
  },
  {
   "cell_type": "code",
   "execution_count": 5,
   "metadata": {},
   "outputs": [
    {
     "data": {
      "text/html": [
       "<div>\n",
       "<style scoped>\n",
       "    .dataframe tbody tr th:only-of-type {\n",
       "        vertical-align: middle;\n",
       "    }\n",
       "\n",
       "    .dataframe tbody tr th {\n",
       "        vertical-align: top;\n",
       "    }\n",
       "\n",
       "    .dataframe thead th {\n",
       "        text-align: right;\n",
       "    }\n",
       "</style>\n",
       "<table border=\"1\" class=\"dataframe\">\n",
       "  <thead>\n",
       "    <tr style=\"text-align: right;\">\n",
       "      <th></th>\n",
       "      <th>Unnamed: 0</th>\n",
       "      <th>country_name</th>\n",
       "      <th>reading</th>\n",
       "      <th>math</th>\n",
       "      <th>science</th>\n",
       "      <th>rank_reading</th>\n",
       "      <th>rank_math</th>\n",
       "      <th>rank_science</th>\n",
       "      <th>sum_all</th>\n",
       "    </tr>\n",
       "  </thead>\n",
       "  <tbody>\n",
       "    <tr>\n",
       "      <th>44</th>\n",
       "      <td>45</td>\n",
       "      <td>China</td>\n",
       "      <td>555</td>\n",
       "      <td>591</td>\n",
       "      <td>590</td>\n",
       "      <td>1</td>\n",
       "      <td>1</td>\n",
       "      <td>1</td>\n",
       "      <td>1736</td>\n",
       "    </tr>\n",
       "    <tr>\n",
       "      <th>72</th>\n",
       "      <td>73</td>\n",
       "      <td>Singapore</td>\n",
       "      <td>549</td>\n",
       "      <td>569</td>\n",
       "      <td>551</td>\n",
       "      <td>2</td>\n",
       "      <td>2</td>\n",
       "      <td>2</td>\n",
       "      <td>1669</td>\n",
       "    </tr>\n",
       "    <tr>\n",
       "      <th>8</th>\n",
       "      <td>9</td>\n",
       "      <td>Estonia</td>\n",
       "      <td>523</td>\n",
       "      <td>523</td>\n",
       "      <td>530</td>\n",
       "      <td>5</td>\n",
       "      <td>8</td>\n",
       "      <td>4</td>\n",
       "      <td>1576</td>\n",
       "    </tr>\n",
       "    <tr>\n",
       "      <th>18</th>\n",
       "      <td>19</td>\n",
       "      <td>Japan</td>\n",
       "      <td>504</td>\n",
       "      <td>527</td>\n",
       "      <td>529</td>\n",
       "      <td>14</td>\n",
       "      <td>6</td>\n",
       "      <td>5</td>\n",
       "      <td>1560</td>\n",
       "    </tr>\n",
       "    <tr>\n",
       "      <th>19</th>\n",
       "      <td>20</td>\n",
       "      <td>Korea</td>\n",
       "      <td>514</td>\n",
       "      <td>526</td>\n",
       "      <td>519</td>\n",
       "      <td>9</td>\n",
       "      <td>7</td>\n",
       "      <td>7</td>\n",
       "      <td>1559</td>\n",
       "    </tr>\n",
       "    <tr>\n",
       "      <th>3</th>\n",
       "      <td>4</td>\n",
       "      <td>Canada</td>\n",
       "      <td>520</td>\n",
       "      <td>512</td>\n",
       "      <td>518</td>\n",
       "      <td>6</td>\n",
       "      <td>12</td>\n",
       "      <td>8</td>\n",
       "      <td>1550</td>\n",
       "    </tr>\n",
       "    <tr>\n",
       "      <th>9</th>\n",
       "      <td>10</td>\n",
       "      <td>Finland</td>\n",
       "      <td>520</td>\n",
       "      <td>507</td>\n",
       "      <td>522</td>\n",
       "      <td>7</td>\n",
       "      <td>16</td>\n",
       "      <td>6</td>\n",
       "      <td>1549</td>\n",
       "    </tr>\n",
       "    <tr>\n",
       "      <th>15</th>\n",
       "      <td>16</td>\n",
       "      <td>Ireland</td>\n",
       "      <td>518</td>\n",
       "      <td>500</td>\n",
       "      <td>496</td>\n",
       "      <td>8</td>\n",
       "      <td>21</td>\n",
       "      <td>22</td>\n",
       "      <td>1514</td>\n",
       "    </tr>\n",
       "    <tr>\n",
       "      <th>34</th>\n",
       "      <td>35</td>\n",
       "      <td>United Kingdom</td>\n",
       "      <td>504</td>\n",
       "      <td>502</td>\n",
       "      <td>505</td>\n",
       "      <td>15</td>\n",
       "      <td>18</td>\n",
       "      <td>14</td>\n",
       "      <td>1511</td>\n",
       "    </tr>\n",
       "    <tr>\n",
       "      <th>30</th>\n",
       "      <td>31</td>\n",
       "      <td>Slovenia</td>\n",
       "      <td>495</td>\n",
       "      <td>509</td>\n",
       "      <td>507</td>\n",
       "      <td>21</td>\n",
       "      <td>14</td>\n",
       "      <td>13</td>\n",
       "      <td>1511</td>\n",
       "    </tr>\n",
       "    <tr>\n",
       "      <th>31</th>\n",
       "      <td>32</td>\n",
       "      <td>Sweden</td>\n",
       "      <td>506</td>\n",
       "      <td>502</td>\n",
       "      <td>499</td>\n",
       "      <td>12</td>\n",
       "      <td>17</td>\n",
       "      <td>20</td>\n",
       "      <td>1507</td>\n",
       "    </tr>\n",
       "    <tr>\n",
       "      <th>7</th>\n",
       "      <td>8</td>\n",
       "      <td>Denmark</td>\n",
       "      <td>501</td>\n",
       "      <td>509</td>\n",
       "      <td>493</td>\n",
       "      <td>18</td>\n",
       "      <td>13</td>\n",
       "      <td>24</td>\n",
       "      <td>1503</td>\n",
       "    </tr>\n",
       "    <tr>\n",
       "      <th>11</th>\n",
       "      <td>12</td>\n",
       "      <td>Germany</td>\n",
       "      <td>498</td>\n",
       "      <td>500</td>\n",
       "      <td>503</td>\n",
       "      <td>20</td>\n",
       "      <td>20</td>\n",
       "      <td>16</td>\n",
       "      <td>1501</td>\n",
       "    </tr>\n",
       "    <tr>\n",
       "      <th>2</th>\n",
       "      <td>3</td>\n",
       "      <td>Belgium</td>\n",
       "      <td>493</td>\n",
       "      <td>508</td>\n",
       "      <td>499</td>\n",
       "      <td>22</td>\n",
       "      <td>15</td>\n",
       "      <td>19</td>\n",
       "      <td>1500</td>\n",
       "    </tr>\n",
       "    <tr>\n",
       "      <th>0</th>\n",
       "      <td>1</td>\n",
       "      <td>Australia</td>\n",
       "      <td>503</td>\n",
       "      <td>491</td>\n",
       "      <td>503</td>\n",
       "      <td>16</td>\n",
       "      <td>29</td>\n",
       "      <td>15</td>\n",
       "      <td>1497</td>\n",
       "    </tr>\n",
       "    <tr>\n",
       "      <th>32</th>\n",
       "      <td>33</td>\n",
       "      <td>Switzerland</td>\n",
       "      <td>484</td>\n",
       "      <td>515</td>\n",
       "      <td>495</td>\n",
       "      <td>29</td>\n",
       "      <td>11</td>\n",
       "      <td>23</td>\n",
       "      <td>1494</td>\n",
       "    </tr>\n",
       "    <tr>\n",
       "      <th>6</th>\n",
       "      <td>7</td>\n",
       "      <td>Czech Republic</td>\n",
       "      <td>490</td>\n",
       "      <td>499</td>\n",
       "      <td>497</td>\n",
       "      <td>25</td>\n",
       "      <td>23</td>\n",
       "      <td>21</td>\n",
       "      <td>1486</td>\n",
       "    </tr>\n",
       "    <tr>\n",
       "      <th>35</th>\n",
       "      <td>36</td>\n",
       "      <td>United States</td>\n",
       "      <td>505</td>\n",
       "      <td>478</td>\n",
       "      <td>502</td>\n",
       "      <td>13</td>\n",
       "      <td>37</td>\n",
       "      <td>18</td>\n",
       "      <td>1485</td>\n",
       "    </tr>\n",
       "    <tr>\n",
       "      <th>10</th>\n",
       "      <td>11</td>\n",
       "      <td>France</td>\n",
       "      <td>493</td>\n",
       "      <td>495</td>\n",
       "      <td>493</td>\n",
       "      <td>23</td>\n",
       "      <td>25</td>\n",
       "      <td>25</td>\n",
       "      <td>1481</td>\n",
       "    </tr>\n",
       "    <tr>\n",
       "      <th>28</th>\n",
       "      <td>29</td>\n",
       "      <td>Portugal</td>\n",
       "      <td>492</td>\n",
       "      <td>492</td>\n",
       "      <td>492</td>\n",
       "      <td>24</td>\n",
       "      <td>28</td>\n",
       "      <td>26</td>\n",
       "      <td>1476</td>\n",
       "    </tr>\n",
       "    <tr>\n",
       "      <th>1</th>\n",
       "      <td>2</td>\n",
       "      <td>Austria</td>\n",
       "      <td>484</td>\n",
       "      <td>499</td>\n",
       "      <td>490</td>\n",
       "      <td>28</td>\n",
       "      <td>22</td>\n",
       "      <td>27</td>\n",
       "      <td>1473</td>\n",
       "    </tr>\n",
       "    <tr>\n",
       "      <th>69</th>\n",
       "      <td>70</td>\n",
       "      <td>Russia</td>\n",
       "      <td>479</td>\n",
       "      <td>488</td>\n",
       "      <td>478</td>\n",
       "      <td>32</td>\n",
       "      <td>31</td>\n",
       "      <td>33</td>\n",
       "      <td>1445</td>\n",
       "    </tr>\n",
       "    <tr>\n",
       "      <th>14</th>\n",
       "      <td>15</td>\n",
       "      <td>Iceland</td>\n",
       "      <td>474</td>\n",
       "      <td>495</td>\n",
       "      <td>475</td>\n",
       "      <td>36</td>\n",
       "      <td>26</td>\n",
       "      <td>35</td>\n",
       "      <td>1444</td>\n",
       "    </tr>\n",
       "    <tr>\n",
       "      <th>13</th>\n",
       "      <td>14</td>\n",
       "      <td>Hungary</td>\n",
       "      <td>476</td>\n",
       "      <td>481</td>\n",
       "      <td>481</td>\n",
       "      <td>33</td>\n",
       "      <td>35</td>\n",
       "      <td>32</td>\n",
       "      <td>1438</td>\n",
       "    </tr>\n",
       "    <tr>\n",
       "      <th>17</th>\n",
       "      <td>18</td>\n",
       "      <td>Italy</td>\n",
       "      <td>476</td>\n",
       "      <td>487</td>\n",
       "      <td>468</td>\n",
       "      <td>34</td>\n",
       "      <td>32</td>\n",
       "      <td>39</td>\n",
       "      <td>1431</td>\n",
       "    </tr>\n",
       "    <tr>\n",
       "      <th>29</th>\n",
       "      <td>30</td>\n",
       "      <td>Slovak Republic</td>\n",
       "      <td>458</td>\n",
       "      <td>486</td>\n",
       "      <td>464</td>\n",
       "      <td>42</td>\n",
       "      <td>33</td>\n",
       "      <td>41</td>\n",
       "      <td>1408</td>\n",
       "    </tr>\n",
       "    <tr>\n",
       "      <th>16</th>\n",
       "      <td>17</td>\n",
       "      <td>Israel</td>\n",
       "      <td>470</td>\n",
       "      <td>463</td>\n",
       "      <td>462</td>\n",
       "      <td>38</td>\n",
       "      <td>41</td>\n",
       "      <td>42</td>\n",
       "      <td>1395</td>\n",
       "    </tr>\n",
       "    <tr>\n",
       "      <th>33</th>\n",
       "      <td>34</td>\n",
       "      <td>Turkey</td>\n",
       "      <td>466</td>\n",
       "      <td>454</td>\n",
       "      <td>468</td>\n",
       "      <td>40</td>\n",
       "      <td>42</td>\n",
       "      <td>40</td>\n",
       "      <td>1388</td>\n",
       "    </tr>\n",
       "    <tr>\n",
       "      <th>12</th>\n",
       "      <td>13</td>\n",
       "      <td>Greece</td>\n",
       "      <td>457</td>\n",
       "      <td>451</td>\n",
       "      <td>452</td>\n",
       "      <td>43</td>\n",
       "      <td>44</td>\n",
       "      <td>44</td>\n",
       "      <td>1360</td>\n",
       "    </tr>\n",
       "    <tr>\n",
       "      <th>4</th>\n",
       "      <td>5</td>\n",
       "      <td>Chile</td>\n",
       "      <td>452</td>\n",
       "      <td>417</td>\n",
       "      <td>444</td>\n",
       "      <td>44</td>\n",
       "      <td>59</td>\n",
       "      <td>45</td>\n",
       "      <td>1313</td>\n",
       "    </tr>\n",
       "    <tr>\n",
       "      <th>58</th>\n",
       "      <td>59</td>\n",
       "      <td>Malaysia</td>\n",
       "      <td>415</td>\n",
       "      <td>440</td>\n",
       "      <td>438</td>\n",
       "      <td>57</td>\n",
       "      <td>47</td>\n",
       "      <td>48</td>\n",
       "      <td>1293</td>\n",
       "    </tr>\n",
       "    <tr>\n",
       "      <th>43</th>\n",
       "      <td>44</td>\n",
       "      <td>Brunei Darussalam</td>\n",
       "      <td>408</td>\n",
       "      <td>430</td>\n",
       "      <td>431</td>\n",
       "      <td>60</td>\n",
       "      <td>51</td>\n",
       "      <td>50</td>\n",
       "      <td>1269</td>\n",
       "    </tr>\n",
       "    <tr>\n",
       "      <th>23</th>\n",
       "      <td>24</td>\n",
       "      <td>Mexico</td>\n",
       "      <td>420</td>\n",
       "      <td>409</td>\n",
       "      <td>419</td>\n",
       "      <td>54</td>\n",
       "      <td>61</td>\n",
       "      <td>57</td>\n",
       "      <td>1248</td>\n",
       "    </tr>\n",
       "    <tr>\n",
       "      <th>74</th>\n",
       "      <td>75</td>\n",
       "      <td>Thailand</td>\n",
       "      <td>393</td>\n",
       "      <td>419</td>\n",
       "      <td>426</td>\n",
       "      <td>68</td>\n",
       "      <td>57</td>\n",
       "      <td>54</td>\n",
       "      <td>1238</td>\n",
       "    </tr>\n",
       "    <tr>\n",
       "      <th>42</th>\n",
       "      <td>43</td>\n",
       "      <td>Brazil</td>\n",
       "      <td>413</td>\n",
       "      <td>384</td>\n",
       "      <td>404</td>\n",
       "      <td>58</td>\n",
       "      <td>70</td>\n",
       "      <td>65</td>\n",
       "      <td>1201</td>\n",
       "    </tr>\n",
       "    <tr>\n",
       "      <th>38</th>\n",
       "      <td>39</td>\n",
       "      <td>Argentina</td>\n",
       "      <td>402</td>\n",
       "      <td>379</td>\n",
       "      <td>404</td>\n",
       "      <td>64</td>\n",
       "      <td>71</td>\n",
       "      <td>64</td>\n",
       "      <td>1185</td>\n",
       "    </tr>\n",
       "    <tr>\n",
       "      <th>70</th>\n",
       "      <td>71</td>\n",
       "      <td>Saudi Arabia</td>\n",
       "      <td>399</td>\n",
       "      <td>373</td>\n",
       "      <td>386</td>\n",
       "      <td>66</td>\n",
       "      <td>73</td>\n",
       "      <td>71</td>\n",
       "      <td>1158</td>\n",
       "    </tr>\n",
       "    <tr>\n",
       "      <th>52</th>\n",
       "      <td>53</td>\n",
       "      <td>Indonesia</td>\n",
       "      <td>371</td>\n",
       "      <td>379</td>\n",
       "      <td>396</td>\n",
       "      <td>73</td>\n",
       "      <td>72</td>\n",
       "      <td>70</td>\n",
       "      <td>1146</td>\n",
       "    </tr>\n",
       "    <tr>\n",
       "      <th>66</th>\n",
       "      <td>67</td>\n",
       "      <td>Philippines</td>\n",
       "      <td>340</td>\n",
       "      <td>353</td>\n",
       "      <td>357</td>\n",
       "      <td>78</td>\n",
       "      <td>77</td>\n",
       "      <td>77</td>\n",
       "      <td>1050</td>\n",
       "    </tr>\n",
       "  </tbody>\n",
       "</table>\n",
       "</div>"
      ],
      "text/plain": [
       "    Unnamed: 0       country_name  reading  math  science  rank_reading  \\\n",
       "44          45              China      555   591      590             1   \n",
       "72          73          Singapore      549   569      551             2   \n",
       "8            9            Estonia      523   523      530             5   \n",
       "18          19              Japan      504   527      529            14   \n",
       "19          20              Korea      514   526      519             9   \n",
       "3            4             Canada      520   512      518             6   \n",
       "9           10            Finland      520   507      522             7   \n",
       "15          16            Ireland      518   500      496             8   \n",
       "34          35     United Kingdom      504   502      505            15   \n",
       "30          31           Slovenia      495   509      507            21   \n",
       "31          32             Sweden      506   502      499            12   \n",
       "7            8            Denmark      501   509      493            18   \n",
       "11          12            Germany      498   500      503            20   \n",
       "2            3            Belgium      493   508      499            22   \n",
       "0            1          Australia      503   491      503            16   \n",
       "32          33        Switzerland      484   515      495            29   \n",
       "6            7     Czech Republic      490   499      497            25   \n",
       "35          36      United States      505   478      502            13   \n",
       "10          11             France      493   495      493            23   \n",
       "28          29           Portugal      492   492      492            24   \n",
       "1            2            Austria      484   499      490            28   \n",
       "69          70             Russia      479   488      478            32   \n",
       "14          15            Iceland      474   495      475            36   \n",
       "13          14            Hungary      476   481      481            33   \n",
       "17          18              Italy      476   487      468            34   \n",
       "29          30    Slovak Republic      458   486      464            42   \n",
       "16          17             Israel      470   463      462            38   \n",
       "33          34             Turkey      466   454      468            40   \n",
       "12          13             Greece      457   451      452            43   \n",
       "4            5              Chile      452   417      444            44   \n",
       "58          59           Malaysia      415   440      438            57   \n",
       "43          44  Brunei Darussalam      408   430      431            60   \n",
       "23          24             Mexico      420   409      419            54   \n",
       "74          75           Thailand      393   419      426            68   \n",
       "42          43             Brazil      413   384      404            58   \n",
       "38          39          Argentina      402   379      404            64   \n",
       "70          71       Saudi Arabia      399   373      386            66   \n",
       "52          53          Indonesia      371   379      396            73   \n",
       "66          67        Philippines      340   353      357            78   \n",
       "\n",
       "    rank_math  rank_science  sum_all  \n",
       "44          1             1     1736  \n",
       "72          2             2     1669  \n",
       "8           8             4     1576  \n",
       "18          6             5     1560  \n",
       "19          7             7     1559  \n",
       "3          12             8     1550  \n",
       "9          16             6     1549  \n",
       "15         21            22     1514  \n",
       "34         18            14     1511  \n",
       "30         14            13     1511  \n",
       "31         17            20     1507  \n",
       "7          13            24     1503  \n",
       "11         20            16     1501  \n",
       "2          15            19     1500  \n",
       "0          29            15     1497  \n",
       "32         11            23     1494  \n",
       "6          23            21     1486  \n",
       "35         37            18     1485  \n",
       "10         25            25     1481  \n",
       "28         28            26     1476  \n",
       "1          22            27     1473  \n",
       "69         31            33     1445  \n",
       "14         26            35     1444  \n",
       "13         35            32     1438  \n",
       "17         32            39     1431  \n",
       "29         33            41     1408  \n",
       "16         41            42     1395  \n",
       "33         42            40     1388  \n",
       "12         44            44     1360  \n",
       "4          59            45     1313  \n",
       "58         47            48     1293  \n",
       "43         51            50     1269  \n",
       "23         61            57     1248  \n",
       "74         57            54     1238  \n",
       "42         70            65     1201  \n",
       "38         71            64     1185  \n",
       "70         73            71     1158  \n",
       "52         72            70     1146  \n",
       "66         77            77     1050  "
      ]
     },
     "execution_count": 5,
     "metadata": {},
     "output_type": "execute_result"
    }
   ],
   "source": [
    "pisa_score_use = pisa_score[pisa_score.country_name.isin(G20_OECD)].sort_values('sum_all', ascending=False)\n",
    "pisa_score_use"
   ]
  },
  {
   "cell_type": "code",
   "execution_count": 6,
   "metadata": {},
   "outputs": [
    {
     "data": {
      "application/vnd.plotly.v1+json": {
       "config": {
        "plotlyServerURL": "https://plot.ly"
       },
       "data": [
        {
         "customdata": [
          1,
          2,
          5,
          14,
          9,
          6,
          7,
          8,
          15,
          21,
          12,
          18,
          20,
          22,
          16,
          29,
          25,
          13,
          23,
          24,
          28,
          32,
          36,
          33,
          34,
          42,
          38,
          40,
          43,
          44,
          57,
          60,
          54,
          68,
          58,
          64,
          66,
          73,
          78
         ],
         "hovertemplate": "Country: %{x}<br>Reading Score: %{y}<br>Reading Rank: %{customdata} <br><extra></extra>",
         "marker": {
          "color": "rgba(246, 78, 139, 0.6)",
          "line": {
           "color": "rgba(246, 78, 139, 1.0)",
           "width": 3
          }
         },
         "name": "Reading",
         "orientation": "v",
         "type": "bar",
         "x": [
          "China",
          "Singapore",
          "Estonia",
          "Japan",
          "Korea",
          "Canada",
          "Finland",
          "Ireland",
          "United Kingdom",
          "Slovenia",
          "Sweden",
          "Denmark",
          "Germany",
          "Belgium",
          "Australia",
          "Switzerland",
          "Czech Republic",
          "United States",
          "France",
          "Portugal",
          "Austria",
          "Russia",
          "Iceland",
          "Hungary",
          "Italy",
          "Slovak Republic",
          "Israel",
          "Turkey",
          "Greece",
          "Chile",
          "Malaysia",
          "Brunei Darussalam",
          "Mexico",
          "Thailand",
          "Brazil",
          "Argentina",
          "Saudi Arabia",
          "Indonesia",
          "Philippines"
         ],
         "y": [
          555,
          549,
          523,
          504,
          514,
          520,
          520,
          518,
          504,
          495,
          506,
          501,
          498,
          493,
          503,
          484,
          490,
          505,
          493,
          492,
          484,
          479,
          474,
          476,
          476,
          458,
          470,
          466,
          457,
          452,
          415,
          408,
          420,
          393,
          413,
          402,
          399,
          371,
          340
         ]
        },
        {
         "customdata": [
          1,
          2,
          8,
          6,
          7,
          12,
          16,
          21,
          18,
          14,
          17,
          13,
          20,
          15,
          29,
          11,
          23,
          37,
          25,
          28,
          22,
          31,
          26,
          35,
          32,
          33,
          41,
          42,
          44,
          59,
          47,
          51,
          61,
          57,
          70,
          71,
          73,
          72,
          77
         ],
         "hovertemplate": "Country: %{x}<br>Math Score: %{y}<br>Math Rank: %{customdata} <br><extra></extra>",
         "marker": {
          "color": "rgba(58, 71, 80, 0.6)",
          "line": {
           "color": "rgba(58, 71, 80, 1.0)",
           "width": 3
          }
         },
         "name": "Math",
         "orientation": "v",
         "type": "bar",
         "x": [
          "China",
          "Singapore",
          "Estonia",
          "Japan",
          "Korea",
          "Canada",
          "Finland",
          "Ireland",
          "United Kingdom",
          "Slovenia",
          "Sweden",
          "Denmark",
          "Germany",
          "Belgium",
          "Australia",
          "Switzerland",
          "Czech Republic",
          "United States",
          "France",
          "Portugal",
          "Austria",
          "Russia",
          "Iceland",
          "Hungary",
          "Italy",
          "Slovak Republic",
          "Israel",
          "Turkey",
          "Greece",
          "Chile",
          "Malaysia",
          "Brunei Darussalam",
          "Mexico",
          "Thailand",
          "Brazil",
          "Argentina",
          "Saudi Arabia",
          "Indonesia",
          "Philippines"
         ],
         "y": [
          591,
          569,
          523,
          527,
          526,
          512,
          507,
          500,
          502,
          509,
          502,
          509,
          500,
          508,
          491,
          515,
          499,
          478,
          495,
          492,
          499,
          488,
          495,
          481,
          487,
          486,
          463,
          454,
          451,
          417,
          440,
          430,
          409,
          419,
          384,
          379,
          373,
          379,
          353
         ]
        },
        {
         "customdata": [
          1,
          2,
          4,
          5,
          7,
          8,
          6,
          22,
          14,
          13,
          20,
          24,
          16,
          19,
          15,
          23,
          21,
          18,
          25,
          26,
          27,
          33,
          35,
          32,
          39,
          41,
          42,
          40,
          44,
          45,
          48,
          50,
          57,
          54,
          65,
          64,
          71,
          70,
          77
         ],
         "hovertemplate": "Country: %{x}<br>Science Score: %{y}<br>Science Rank: %{customdata} <br><extra></extra>",
         "marker": {
          "color": "rgba(187, 38, 8, 0.6)",
          "line": {
           "color": "rgba(58, 79, 80, 1.0)",
           "width": 3
          }
         },
         "name": "Science",
         "orientation": "v",
         "type": "bar",
         "x": [
          "China",
          "Singapore",
          "Estonia",
          "Japan",
          "Korea",
          "Canada",
          "Finland",
          "Ireland",
          "United Kingdom",
          "Slovenia",
          "Sweden",
          "Denmark",
          "Germany",
          "Belgium",
          "Australia",
          "Switzerland",
          "Czech Republic",
          "United States",
          "France",
          "Portugal",
          "Austria",
          "Russia",
          "Iceland",
          "Hungary",
          "Italy",
          "Slovak Republic",
          "Israel",
          "Turkey",
          "Greece",
          "Chile",
          "Malaysia",
          "Brunei Darussalam",
          "Mexico",
          "Thailand",
          "Brazil",
          "Argentina",
          "Saudi Arabia",
          "Indonesia",
          "Philippines"
         ],
         "y": [
          590,
          551,
          530,
          529,
          519,
          518,
          522,
          496,
          505,
          507,
          499,
          493,
          503,
          499,
          503,
          495,
          497,
          502,
          493,
          492,
          490,
          478,
          475,
          481,
          468,
          464,
          462,
          468,
          452,
          444,
          438,
          431,
          419,
          426,
          404,
          404,
          386,
          396,
          357
         ]
        }
       ],
       "layout": {
        "barmode": "stack",
        "template": {
         "data": {
          "bar": [
           {
            "error_x": {
             "color": "#2a3f5f"
            },
            "error_y": {
             "color": "#2a3f5f"
            },
            "marker": {
             "line": {
              "color": "#E5ECF6",
              "width": 0.5
             },
             "pattern": {
              "fillmode": "overlay",
              "size": 10,
              "solidity": 0.2
             }
            },
            "type": "bar"
           }
          ],
          "barpolar": [
           {
            "marker": {
             "line": {
              "color": "#E5ECF6",
              "width": 0.5
             },
             "pattern": {
              "fillmode": "overlay",
              "size": 10,
              "solidity": 0.2
             }
            },
            "type": "barpolar"
           }
          ],
          "carpet": [
           {
            "aaxis": {
             "endlinecolor": "#2a3f5f",
             "gridcolor": "white",
             "linecolor": "white",
             "minorgridcolor": "white",
             "startlinecolor": "#2a3f5f"
            },
            "baxis": {
             "endlinecolor": "#2a3f5f",
             "gridcolor": "white",
             "linecolor": "white",
             "minorgridcolor": "white",
             "startlinecolor": "#2a3f5f"
            },
            "type": "carpet"
           }
          ],
          "choropleth": [
           {
            "colorbar": {
             "outlinewidth": 0,
             "ticks": ""
            },
            "type": "choropleth"
           }
          ],
          "contour": [
           {
            "colorbar": {
             "outlinewidth": 0,
             "ticks": ""
            },
            "colorscale": [
             [
              0,
              "#0d0887"
             ],
             [
              0.1111111111111111,
              "#46039f"
             ],
             [
              0.2222222222222222,
              "#7201a8"
             ],
             [
              0.3333333333333333,
              "#9c179e"
             ],
             [
              0.4444444444444444,
              "#bd3786"
             ],
             [
              0.5555555555555556,
              "#d8576b"
             ],
             [
              0.6666666666666666,
              "#ed7953"
             ],
             [
              0.7777777777777778,
              "#fb9f3a"
             ],
             [
              0.8888888888888888,
              "#fdca26"
             ],
             [
              1,
              "#f0f921"
             ]
            ],
            "type": "contour"
           }
          ],
          "contourcarpet": [
           {
            "colorbar": {
             "outlinewidth": 0,
             "ticks": ""
            },
            "type": "contourcarpet"
           }
          ],
          "heatmap": [
           {
            "colorbar": {
             "outlinewidth": 0,
             "ticks": ""
            },
            "colorscale": [
             [
              0,
              "#0d0887"
             ],
             [
              0.1111111111111111,
              "#46039f"
             ],
             [
              0.2222222222222222,
              "#7201a8"
             ],
             [
              0.3333333333333333,
              "#9c179e"
             ],
             [
              0.4444444444444444,
              "#bd3786"
             ],
             [
              0.5555555555555556,
              "#d8576b"
             ],
             [
              0.6666666666666666,
              "#ed7953"
             ],
             [
              0.7777777777777778,
              "#fb9f3a"
             ],
             [
              0.8888888888888888,
              "#fdca26"
             ],
             [
              1,
              "#f0f921"
             ]
            ],
            "type": "heatmap"
           }
          ],
          "heatmapgl": [
           {
            "colorbar": {
             "outlinewidth": 0,
             "ticks": ""
            },
            "colorscale": [
             [
              0,
              "#0d0887"
             ],
             [
              0.1111111111111111,
              "#46039f"
             ],
             [
              0.2222222222222222,
              "#7201a8"
             ],
             [
              0.3333333333333333,
              "#9c179e"
             ],
             [
              0.4444444444444444,
              "#bd3786"
             ],
             [
              0.5555555555555556,
              "#d8576b"
             ],
             [
              0.6666666666666666,
              "#ed7953"
             ],
             [
              0.7777777777777778,
              "#fb9f3a"
             ],
             [
              0.8888888888888888,
              "#fdca26"
             ],
             [
              1,
              "#f0f921"
             ]
            ],
            "type": "heatmapgl"
           }
          ],
          "histogram": [
           {
            "marker": {
             "pattern": {
              "fillmode": "overlay",
              "size": 10,
              "solidity": 0.2
             }
            },
            "type": "histogram"
           }
          ],
          "histogram2d": [
           {
            "colorbar": {
             "outlinewidth": 0,
             "ticks": ""
            },
            "colorscale": [
             [
              0,
              "#0d0887"
             ],
             [
              0.1111111111111111,
              "#46039f"
             ],
             [
              0.2222222222222222,
              "#7201a8"
             ],
             [
              0.3333333333333333,
              "#9c179e"
             ],
             [
              0.4444444444444444,
              "#bd3786"
             ],
             [
              0.5555555555555556,
              "#d8576b"
             ],
             [
              0.6666666666666666,
              "#ed7953"
             ],
             [
              0.7777777777777778,
              "#fb9f3a"
             ],
             [
              0.8888888888888888,
              "#fdca26"
             ],
             [
              1,
              "#f0f921"
             ]
            ],
            "type": "histogram2d"
           }
          ],
          "histogram2dcontour": [
           {
            "colorbar": {
             "outlinewidth": 0,
             "ticks": ""
            },
            "colorscale": [
             [
              0,
              "#0d0887"
             ],
             [
              0.1111111111111111,
              "#46039f"
             ],
             [
              0.2222222222222222,
              "#7201a8"
             ],
             [
              0.3333333333333333,
              "#9c179e"
             ],
             [
              0.4444444444444444,
              "#bd3786"
             ],
             [
              0.5555555555555556,
              "#d8576b"
             ],
             [
              0.6666666666666666,
              "#ed7953"
             ],
             [
              0.7777777777777778,
              "#fb9f3a"
             ],
             [
              0.8888888888888888,
              "#fdca26"
             ],
             [
              1,
              "#f0f921"
             ]
            ],
            "type": "histogram2dcontour"
           }
          ],
          "mesh3d": [
           {
            "colorbar": {
             "outlinewidth": 0,
             "ticks": ""
            },
            "type": "mesh3d"
           }
          ],
          "parcoords": [
           {
            "line": {
             "colorbar": {
              "outlinewidth": 0,
              "ticks": ""
             }
            },
            "type": "parcoords"
           }
          ],
          "pie": [
           {
            "automargin": true,
            "type": "pie"
           }
          ],
          "scatter": [
           {
            "fillpattern": {
             "fillmode": "overlay",
             "size": 10,
             "solidity": 0.2
            },
            "type": "scatter"
           }
          ],
          "scatter3d": [
           {
            "line": {
             "colorbar": {
              "outlinewidth": 0,
              "ticks": ""
             }
            },
            "marker": {
             "colorbar": {
              "outlinewidth": 0,
              "ticks": ""
             }
            },
            "type": "scatter3d"
           }
          ],
          "scattercarpet": [
           {
            "marker": {
             "colorbar": {
              "outlinewidth": 0,
              "ticks": ""
             }
            },
            "type": "scattercarpet"
           }
          ],
          "scattergeo": [
           {
            "marker": {
             "colorbar": {
              "outlinewidth": 0,
              "ticks": ""
             }
            },
            "type": "scattergeo"
           }
          ],
          "scattergl": [
           {
            "marker": {
             "colorbar": {
              "outlinewidth": 0,
              "ticks": ""
             }
            },
            "type": "scattergl"
           }
          ],
          "scattermapbox": [
           {
            "marker": {
             "colorbar": {
              "outlinewidth": 0,
              "ticks": ""
             }
            },
            "type": "scattermapbox"
           }
          ],
          "scatterpolar": [
           {
            "marker": {
             "colorbar": {
              "outlinewidth": 0,
              "ticks": ""
             }
            },
            "type": "scatterpolar"
           }
          ],
          "scatterpolargl": [
           {
            "marker": {
             "colorbar": {
              "outlinewidth": 0,
              "ticks": ""
             }
            },
            "type": "scatterpolargl"
           }
          ],
          "scatterternary": [
           {
            "marker": {
             "colorbar": {
              "outlinewidth": 0,
              "ticks": ""
             }
            },
            "type": "scatterternary"
           }
          ],
          "surface": [
           {
            "colorbar": {
             "outlinewidth": 0,
             "ticks": ""
            },
            "colorscale": [
             [
              0,
              "#0d0887"
             ],
             [
              0.1111111111111111,
              "#46039f"
             ],
             [
              0.2222222222222222,
              "#7201a8"
             ],
             [
              0.3333333333333333,
              "#9c179e"
             ],
             [
              0.4444444444444444,
              "#bd3786"
             ],
             [
              0.5555555555555556,
              "#d8576b"
             ],
             [
              0.6666666666666666,
              "#ed7953"
             ],
             [
              0.7777777777777778,
              "#fb9f3a"
             ],
             [
              0.8888888888888888,
              "#fdca26"
             ],
             [
              1,
              "#f0f921"
             ]
            ],
            "type": "surface"
           }
          ],
          "table": [
           {
            "cells": {
             "fill": {
              "color": "#EBF0F8"
             },
             "line": {
              "color": "white"
             }
            },
            "header": {
             "fill": {
              "color": "#C8D4E3"
             },
             "line": {
              "color": "white"
             }
            },
            "type": "table"
           }
          ]
         },
         "layout": {
          "annotationdefaults": {
           "arrowcolor": "#2a3f5f",
           "arrowhead": 0,
           "arrowwidth": 1
          },
          "autotypenumbers": "strict",
          "coloraxis": {
           "colorbar": {
            "outlinewidth": 0,
            "ticks": ""
           }
          },
          "colorscale": {
           "diverging": [
            [
             0,
             "#8e0152"
            ],
            [
             0.1,
             "#c51b7d"
            ],
            [
             0.2,
             "#de77ae"
            ],
            [
             0.3,
             "#f1b6da"
            ],
            [
             0.4,
             "#fde0ef"
            ],
            [
             0.5,
             "#f7f7f7"
            ],
            [
             0.6,
             "#e6f5d0"
            ],
            [
             0.7,
             "#b8e186"
            ],
            [
             0.8,
             "#7fbc41"
            ],
            [
             0.9,
             "#4d9221"
            ],
            [
             1,
             "#276419"
            ]
           ],
           "sequential": [
            [
             0,
             "#0d0887"
            ],
            [
             0.1111111111111111,
             "#46039f"
            ],
            [
             0.2222222222222222,
             "#7201a8"
            ],
            [
             0.3333333333333333,
             "#9c179e"
            ],
            [
             0.4444444444444444,
             "#bd3786"
            ],
            [
             0.5555555555555556,
             "#d8576b"
            ],
            [
             0.6666666666666666,
             "#ed7953"
            ],
            [
             0.7777777777777778,
             "#fb9f3a"
            ],
            [
             0.8888888888888888,
             "#fdca26"
            ],
            [
             1,
             "#f0f921"
            ]
           ],
           "sequentialminus": [
            [
             0,
             "#0d0887"
            ],
            [
             0.1111111111111111,
             "#46039f"
            ],
            [
             0.2222222222222222,
             "#7201a8"
            ],
            [
             0.3333333333333333,
             "#9c179e"
            ],
            [
             0.4444444444444444,
             "#bd3786"
            ],
            [
             0.5555555555555556,
             "#d8576b"
            ],
            [
             0.6666666666666666,
             "#ed7953"
            ],
            [
             0.7777777777777778,
             "#fb9f3a"
            ],
            [
             0.8888888888888888,
             "#fdca26"
            ],
            [
             1,
             "#f0f921"
            ]
           ]
          },
          "colorway": [
           "#636efa",
           "#EF553B",
           "#00cc96",
           "#ab63fa",
           "#FFA15A",
           "#19d3f3",
           "#FF6692",
           "#B6E880",
           "#FF97FF",
           "#FECB52"
          ],
          "font": {
           "color": "#2a3f5f"
          },
          "geo": {
           "bgcolor": "white",
           "lakecolor": "white",
           "landcolor": "#E5ECF6",
           "showlakes": true,
           "showland": true,
           "subunitcolor": "white"
          },
          "hoverlabel": {
           "align": "left"
          },
          "hovermode": "closest",
          "mapbox": {
           "style": "light"
          },
          "paper_bgcolor": "white",
          "plot_bgcolor": "#E5ECF6",
          "polar": {
           "angularaxis": {
            "gridcolor": "white",
            "linecolor": "white",
            "ticks": ""
           },
           "bgcolor": "#E5ECF6",
           "radialaxis": {
            "gridcolor": "white",
            "linecolor": "white",
            "ticks": ""
           }
          },
          "scene": {
           "xaxis": {
            "backgroundcolor": "#E5ECF6",
            "gridcolor": "white",
            "gridwidth": 2,
            "linecolor": "white",
            "showbackground": true,
            "ticks": "",
            "zerolinecolor": "white"
           },
           "yaxis": {
            "backgroundcolor": "#E5ECF6",
            "gridcolor": "white",
            "gridwidth": 2,
            "linecolor": "white",
            "showbackground": true,
            "ticks": "",
            "zerolinecolor": "white"
           },
           "zaxis": {
            "backgroundcolor": "#E5ECF6",
            "gridcolor": "white",
            "gridwidth": 2,
            "linecolor": "white",
            "showbackground": true,
            "ticks": "",
            "zerolinecolor": "white"
           }
          },
          "shapedefaults": {
           "line": {
            "color": "#2a3f5f"
           }
          },
          "ternary": {
           "aaxis": {
            "gridcolor": "white",
            "linecolor": "white",
            "ticks": ""
           },
           "baxis": {
            "gridcolor": "white",
            "linecolor": "white",
            "ticks": ""
           },
           "bgcolor": "#E5ECF6",
           "caxis": {
            "gridcolor": "white",
            "linecolor": "white",
            "ticks": ""
           }
          },
          "title": {
           "x": 0.05
          },
          "xaxis": {
           "automargin": true,
           "gridcolor": "white",
           "linecolor": "white",
           "ticks": "",
           "title": {
            "standoff": 15
           },
           "zerolinecolor": "white",
           "zerolinewidth": 2
          },
          "yaxis": {
           "automargin": true,
           "gridcolor": "white",
           "linecolor": "white",
           "ticks": "",
           "title": {
            "standoff": 15
           },
           "zerolinecolor": "white",
           "zerolinewidth": 2
          }
         }
        }
       }
      }
     },
     "metadata": {},
     "output_type": "display_data"
    }
   ],
   "source": [
    "pisa = go.Figure()\n",
    "pisa.add_trace(go.Bar(\n",
    "    x=pisa_score_use['country_name'],\n",
    "    y=pisa_score_use['reading'],\n",
    "    name='Reading',\n",
    "    orientation='v',\n",
    "    marker=dict(\n",
    "        color='rgba(246, 78, 139, 0.6)',\n",
    "        line=dict(color='rgba(246, 78, 139, 1.0)', width=3)\n",
    "    ),\n",
    "    customdata=pisa_score_use['rank_reading'],\n",
    "    hovertemplate='Country: %{x}<br>'+\n",
    "        'Reading Score: %{y}<br>'+\n",
    "        'Reading Rank: %{customdata} <br>'+\n",
    "        '<extra></extra>',\n",
    "))\n",
    "pisa.add_trace(go.Bar(\n",
    "    x=pisa_score_use['country_name'],\n",
    "    y=pisa_score_use['math'],\n",
    "    name='Math',\n",
    "    orientation='v',\n",
    "    marker=dict(\n",
    "        color='rgba(58, 71, 80, 0.6)',\n",
    "        line=dict(color='rgba(58, 71, 80, 1.0)', width=3)\n",
    "    ),\n",
    "    customdata=pisa_score_use['rank_math'],\n",
    "    hovertemplate='Country: %{x}<br>'+\n",
    "        'Math Score: %{y}<br>'+\n",
    "        'Math Rank: %{customdata} <br>'+\n",
    "        '<extra></extra>',\n",
    "))\n",
    "pisa.add_trace(go.Bar(\n",
    "    x=pisa_score_use['country_name'],\n",
    "    y=pisa_score_use['science'],\n",
    "    name='Science',\n",
    "    orientation='v',\n",
    "    marker=dict(\n",
    "        color='rgba(187, 38, 8, 0.6)',\n",
    "        line=dict(color='rgba(58, 79, 80, 1.0)', width=3)\n",
    "    ),\n",
    "    customdata=pisa_score_use['rank_science'],\n",
    "    hovertemplate='Country: %{x}<br>'+\n",
    "        'Science Score: %{y}<br>'+\n",
    "        'Science Rank: %{customdata} <br>'+\n",
    "        '<extra></extra>',\n",
    "))\n",
    "\n",
    "pisa.update_layout(barmode='stack')\n",
    "pisa.show()"
   ]
  },
  {
   "cell_type": "markdown",
   "metadata": {},
   "source": [
    "## IQ Score IDN vs All 199 Countries"
   ]
  },
  {
   "cell_type": "code",
   "execution_count": 7,
   "metadata": {},
   "outputs": [
    {
     "data": {
      "text/html": [
       "<div>\n",
       "<style scoped>\n",
       "    .dataframe tbody tr th:only-of-type {\n",
       "        vertical-align: middle;\n",
       "    }\n",
       "\n",
       "    .dataframe tbody tr th {\n",
       "        vertical-align: top;\n",
       "    }\n",
       "\n",
       "    .dataframe thead th {\n",
       "        text-align: right;\n",
       "    }\n",
       "</style>\n",
       "<table border=\"1\" class=\"dataframe\">\n",
       "  <thead>\n",
       "    <tr style=\"text-align: right;\">\n",
       "      <th></th>\n",
       "      <th>Unnamed: 0</th>\n",
       "      <th>country</th>\n",
       "      <th>iq</th>\n",
       "    </tr>\n",
       "  </thead>\n",
       "  <tbody>\n",
       "    <tr>\n",
       "      <th>0</th>\n",
       "      <td>1</td>\n",
       "      <td>Japan</td>\n",
       "      <td>106.48</td>\n",
       "    </tr>\n",
       "    <tr>\n",
       "      <th>1</th>\n",
       "      <td>2</td>\n",
       "      <td>Taiwan</td>\n",
       "      <td>106.47</td>\n",
       "    </tr>\n",
       "    <tr>\n",
       "      <th>2</th>\n",
       "      <td>3</td>\n",
       "      <td>Singapore</td>\n",
       "      <td>105.89</td>\n",
       "    </tr>\n",
       "    <tr>\n",
       "      <th>3</th>\n",
       "      <td>4</td>\n",
       "      <td>Hong Kong</td>\n",
       "      <td>105.37</td>\n",
       "    </tr>\n",
       "    <tr>\n",
       "      <th>4</th>\n",
       "      <td>5</td>\n",
       "      <td>China</td>\n",
       "      <td>104.10</td>\n",
       "    </tr>\n",
       "    <tr>\n",
       "      <th>...</th>\n",
       "      <td>...</td>\n",
       "      <td>...</td>\n",
       "      <td>...</td>\n",
       "    </tr>\n",
       "    <tr>\n",
       "      <th>194</th>\n",
       "      <td>195</td>\n",
       "      <td>Cape Verde</td>\n",
       "      <td>52.50</td>\n",
       "    </tr>\n",
       "    <tr>\n",
       "      <th>195</th>\n",
       "      <td>196</td>\n",
       "      <td>Guatemala</td>\n",
       "      <td>47.72</td>\n",
       "    </tr>\n",
       "    <tr>\n",
       "      <th>196</th>\n",
       "      <td>197</td>\n",
       "      <td>Sierra Leone</td>\n",
       "      <td>45.07</td>\n",
       "    </tr>\n",
       "    <tr>\n",
       "      <th>197</th>\n",
       "      <td>198</td>\n",
       "      <td>Liberia</td>\n",
       "      <td>45.07</td>\n",
       "    </tr>\n",
       "    <tr>\n",
       "      <th>198</th>\n",
       "      <td>199</td>\n",
       "      <td>Nepal</td>\n",
       "      <td>42.99</td>\n",
       "    </tr>\n",
       "  </tbody>\n",
       "</table>\n",
       "<p>199 rows × 3 columns</p>\n",
       "</div>"
      ],
      "text/plain": [
       "     Unnamed: 0       country      iq\n",
       "0             1         Japan  106.48\n",
       "1             2        Taiwan  106.47\n",
       "2             3     Singapore  105.89\n",
       "3             4     Hong Kong  105.37\n",
       "4             5         China  104.10\n",
       "..          ...           ...     ...\n",
       "194         195    Cape Verde   52.50\n",
       "195         196     Guatemala   47.72\n",
       "196         197  Sierra Leone   45.07\n",
       "197         198       Liberia   45.07\n",
       "198         199         Nepal   42.99\n",
       "\n",
       "[199 rows x 3 columns]"
      ]
     },
     "execution_count": 7,
     "metadata": {},
     "output_type": "execute_result"
    }
   ],
   "source": [
    "iq_score = pd.read_csv(\"https://raw.githubusercontent.com/nurkhamidah/Education_Dashboard/master/199countries_iqscore.csv\", sep=\",\")\n",
    "iq_score"
   ]
  },
  {
   "cell_type": "code",
   "execution_count": 8,
   "metadata": {},
   "outputs": [
    {
     "data": {
      "application/vnd.plotly.v1+json": {
       "config": {
        "plotlyServerURL": "https://plot.ly"
       },
       "data": [
        {
         "alignmentgroup": "True",
         "boxpoints": "all",
         "fillcolor": "rgba(255,255,255,0)",
         "hoveron": "points",
         "hovertemplate": "country=%{x}<br>iq=%{y}<extra></extra>",
         "legendgroup": "",
         "line": {
          "color": "rgba(255,255,255,0)"
         },
         "marker": {
          "color": "#636efa"
         },
         "name": "",
         "offsetgroup": "",
         "orientation": "v",
         "pointpos": 0,
         "showlegend": false,
         "type": "box",
         "x": [
          "Japan",
          "Taiwan",
          "Singapore",
          "Hong Kong",
          "China",
          "South Korea",
          "Belarus",
          "Finland",
          "Liechtenstein",
          "Germany",
          "Netherlands",
          "Estonia",
          "Luxembourg",
          "Macau",
          "Cambodia",
          "Canada",
          "Australia",
          "Hungary",
          "Switzerland",
          "United Kingdom",
          "Greenland",
          "North Korea",
          "Slovenia",
          "New Zealand",
          "Austria",
          "Iceland",
          "Denmark",
          "Belgium",
          "United States",
          "Norway",
          "Sweden",
          "France",
          "Poland",
          "Slovakia",
          "Russia",
          "Lithuania",
          "Croatia",
          "Andorra",
          "Ireland",
          "Czech Republic",
          "Latvia",
          "Italy",
          "Vanuatu",
          "New Caledonia",
          "Spain",
          "Bermuda",
          "Cyprus",
          "Portugal",
          "Israel",
          "Barbados",
          "Malta",
          "Myanmar",
          "Mongolia",
          "Bulgaria",
          "Greece",
          "Suriname",
          "Ukraine",
          "Moldova",
          "Serbia",
          "Vietnam",
          "Iraq",
          "Uzbekistan",
          "Kazakhstan",
          "Thailand",
          "Armenia",
          "Bosnia and Herzegovina",
          "Costa Rica",
          "Bhutan",
          "Chile",
          "Mexico",
          "Tajikistan",
          "Uruguay",
          "Malaysia",
          "Brunei",
          "Bahamas",
          "Romania",
          "Turkey",
          "Argentina",
          "Sri Lanka",
          "Mauritius",
          "Turkmenistan",
          "Montenegro",
          "Trinidad and Tobago",
          "Azerbaijan",
          "Georgia",
          "Turks and Caicos Islands",
          "Paraguay",
          "Fiji",
          "Solomon Islands",
          "Samoa",
          "Kiribati",
          "Micronesia",
          "Tonga",
          "Marshall Islands",
          "Cook Islands",
          "Cuba",
          "Bahrain",
          "Brazil",
          "Guyana",
          "Colombia",
          "Venezuela",
          "Cayman Islands",
          "Afghanistan",
          "Haiti",
          "Dominican Republic",
          "United Arab Emirates",
          "Puerto Rico",
          "North Macedonia",
          "Albania",
          "Lebanon",
          "Philippines",
          "Peru",
          "Northern Mariana Islands",
          "Laos",
          "Libya",
          "Qatar",
          "Jordan",
          "Maldives",
          "Iran",
          "Pakistan",
          "Grenada",
          "Tunisia",
          "Kyrgyzstan",
          "Panama",
          "Sudan",
          "Chad",
          "Seychelles",
          "Oman",
          "Kuwait",
          "Indonesia",
          "Papua New Guinea",
          "Timor-Leste",
          "Ecuador",
          "Palestine",
          "Senegal",
          "Comoros",
          "Madagascar",
          "British Virgin Islands",
          "Bolivia",
          "Uganda",
          "Saudi Arabia",
          "Egypt",
          "India",
          "Algeria",
          "Kenya",
          "Angola",
          "Jamaica",
          "Tanzania",
          "Syria",
          "Bangladesh",
          "Zimbabwe",
          "Burkina Faso",
          "Saint Lucia",
          "Mozambique",
          "Burundi",
          "Niger",
          "Antigua and Barbuda",
          "Saint Kitts and Nevis",
          "Rwanda",
          "Benin",
          "Malawi",
          "El Salvador",
          "Botswana",
          "South Africa",
          "Lesotho",
          "Eswatini",
          "Eritrea",
          "Zambia",
          "Ethiopia",
          "Djibouti",
          "Nigeria",
          "Cameroon",
          "Somalia",
          "Morocco",
          "Namibia",
          "Dominica",
          "Sao Tome and Principe",
          "DR Congo",
          "Saint Vincent and the Grenadines",
          "Republic of the Congo",
          "Gabon",
          "Yemen",
          "Central African Republic",
          "Belize",
          "Honduras",
          "Togo",
          "Mali",
          "Mauritania",
          "South Sudan",
          "Ghana",
          "Ivory Coast",
          "Guinea",
          "Nicaragua",
          "Gambia",
          "Cape Verde",
          "Guatemala",
          "Sierra Leone",
          "Liberia",
          "Nepal"
         ],
         "x0": " ",
         "xaxis": "x",
         "y": [
          106.48,
          106.47,
          105.89,
          105.37,
          104.1,
          102.35,
          101.6,
          101.2,
          101.07,
          100.74,
          100.74,
          100.72,
          99.87,
          99.82,
          99.75,
          99.52,
          99.24,
          99.24,
          99.24,
          99.12,
          98.89,
          98.82,
          98.6,
          98.57,
          98.38,
          98.26,
          97.83,
          97.49,
          97.43,
          97.13,
          97,
          96.69,
          96.35,
          96.32,
          96.29,
          95.89,
          95.75,
          95.2,
          95.13,
          94.92,
          94.79,
          94.23,
          93.92,
          93.92,
          93.9,
          93.48,
          93.39,
          92.77,
          92.43,
          91.6,
          91.27,
          91.18,
          91.03,
          90.99,
          90.77,
          90.29,
          90.07,
          89.98,
          89.6,
          89.53,
          89.28,
          89.01,
          88.89,
          88.87,
          88.82,
          88.54,
          88.34,
          87.94,
          87.89,
          87.73,
          87.71,
          87.59,
          87.58,
          87.58,
          86.99,
          86.88,
          86.8,
          86.63,
          86.62,
          86.56,
          85.86,
          85.78,
          85.63,
          84.81,
          84.5,
          84.29,
          84.04,
          83.96,
          83.96,
          83.96,
          83.96,
          83.96,
          83.96,
          83.96,
          83.96,
          83.9,
          83.6,
          83.38,
          83.23,
          83.13,
          82.99,
          82.24,
          82.12,
          82.1,
          82.05,
          82.05,
          81.99,
          81.91,
          81.75,
          81.7,
          81.64,
          81.44,
          81.36,
          80.99,
          80.92,
          80.78,
          80.7,
          80.54,
          80.01,
          80,
          79.34,
          79.22,
          79.09,
          79,
          78.87,
          78.87,
          78.76,
          78.7,
          78.64,
          78.49,
          78.49,
          78.49,
          78.26,
          77.69,
          77.37,
          77.07,
          76.79,
          76.69,
          76.53,
          76.42,
          76.36,
          76.32,
          76.24,
          76,
          75.2,
          75.1,
          75.08,
          74.95,
          74.41,
          74.33,
          74.01,
          73.8,
          73.68,
          72.5,
          72.09,
          70.82,
          70.48,
          70.48,
          69.95,
          69.71,
          69.7,
          69.63,
          69.45,
          68.87,
          68.87,
          68.87,
          68.77,
          68.43,
          68.42,
          68.41,
          67.76,
          67.76,
          67.67,
          67.03,
          66.19,
          66.03,
          65.22,
          64.92,
          63.42,
          62.97,
          62.97,
          62.86,
          62.55,
          62.55,
          62.16,
          59.83,
          59.76,
          59.76,
          58.61,
          58.16,
          58.16,
          53.48,
          52.69,
          52.68,
          52.5,
          47.72,
          45.07,
          45.07,
          42.99
         ],
         "y0": " ",
         "yaxis": "y"
        }
       ],
       "layout": {
        "boxmode": "group",
        "legend": {
         "tracegroupgap": 0
        },
        "margin": {
         "t": 60
        },
        "template": {
         "data": {
          "bar": [
           {
            "error_x": {
             "color": "#2a3f5f"
            },
            "error_y": {
             "color": "#2a3f5f"
            },
            "marker": {
             "line": {
              "color": "#E5ECF6",
              "width": 0.5
             },
             "pattern": {
              "fillmode": "overlay",
              "size": 10,
              "solidity": 0.2
             }
            },
            "type": "bar"
           }
          ],
          "barpolar": [
           {
            "marker": {
             "line": {
              "color": "#E5ECF6",
              "width": 0.5
             },
             "pattern": {
              "fillmode": "overlay",
              "size": 10,
              "solidity": 0.2
             }
            },
            "type": "barpolar"
           }
          ],
          "carpet": [
           {
            "aaxis": {
             "endlinecolor": "#2a3f5f",
             "gridcolor": "white",
             "linecolor": "white",
             "minorgridcolor": "white",
             "startlinecolor": "#2a3f5f"
            },
            "baxis": {
             "endlinecolor": "#2a3f5f",
             "gridcolor": "white",
             "linecolor": "white",
             "minorgridcolor": "white",
             "startlinecolor": "#2a3f5f"
            },
            "type": "carpet"
           }
          ],
          "choropleth": [
           {
            "colorbar": {
             "outlinewidth": 0,
             "ticks": ""
            },
            "type": "choropleth"
           }
          ],
          "contour": [
           {
            "colorbar": {
             "outlinewidth": 0,
             "ticks": ""
            },
            "colorscale": [
             [
              0,
              "#0d0887"
             ],
             [
              0.1111111111111111,
              "#46039f"
             ],
             [
              0.2222222222222222,
              "#7201a8"
             ],
             [
              0.3333333333333333,
              "#9c179e"
             ],
             [
              0.4444444444444444,
              "#bd3786"
             ],
             [
              0.5555555555555556,
              "#d8576b"
             ],
             [
              0.6666666666666666,
              "#ed7953"
             ],
             [
              0.7777777777777778,
              "#fb9f3a"
             ],
             [
              0.8888888888888888,
              "#fdca26"
             ],
             [
              1,
              "#f0f921"
             ]
            ],
            "type": "contour"
           }
          ],
          "contourcarpet": [
           {
            "colorbar": {
             "outlinewidth": 0,
             "ticks": ""
            },
            "type": "contourcarpet"
           }
          ],
          "heatmap": [
           {
            "colorbar": {
             "outlinewidth": 0,
             "ticks": ""
            },
            "colorscale": [
             [
              0,
              "#0d0887"
             ],
             [
              0.1111111111111111,
              "#46039f"
             ],
             [
              0.2222222222222222,
              "#7201a8"
             ],
             [
              0.3333333333333333,
              "#9c179e"
             ],
             [
              0.4444444444444444,
              "#bd3786"
             ],
             [
              0.5555555555555556,
              "#d8576b"
             ],
             [
              0.6666666666666666,
              "#ed7953"
             ],
             [
              0.7777777777777778,
              "#fb9f3a"
             ],
             [
              0.8888888888888888,
              "#fdca26"
             ],
             [
              1,
              "#f0f921"
             ]
            ],
            "type": "heatmap"
           }
          ],
          "heatmapgl": [
           {
            "colorbar": {
             "outlinewidth": 0,
             "ticks": ""
            },
            "colorscale": [
             [
              0,
              "#0d0887"
             ],
             [
              0.1111111111111111,
              "#46039f"
             ],
             [
              0.2222222222222222,
              "#7201a8"
             ],
             [
              0.3333333333333333,
              "#9c179e"
             ],
             [
              0.4444444444444444,
              "#bd3786"
             ],
             [
              0.5555555555555556,
              "#d8576b"
             ],
             [
              0.6666666666666666,
              "#ed7953"
             ],
             [
              0.7777777777777778,
              "#fb9f3a"
             ],
             [
              0.8888888888888888,
              "#fdca26"
             ],
             [
              1,
              "#f0f921"
             ]
            ],
            "type": "heatmapgl"
           }
          ],
          "histogram": [
           {
            "marker": {
             "pattern": {
              "fillmode": "overlay",
              "size": 10,
              "solidity": 0.2
             }
            },
            "type": "histogram"
           }
          ],
          "histogram2d": [
           {
            "colorbar": {
             "outlinewidth": 0,
             "ticks": ""
            },
            "colorscale": [
             [
              0,
              "#0d0887"
             ],
             [
              0.1111111111111111,
              "#46039f"
             ],
             [
              0.2222222222222222,
              "#7201a8"
             ],
             [
              0.3333333333333333,
              "#9c179e"
             ],
             [
              0.4444444444444444,
              "#bd3786"
             ],
             [
              0.5555555555555556,
              "#d8576b"
             ],
             [
              0.6666666666666666,
              "#ed7953"
             ],
             [
              0.7777777777777778,
              "#fb9f3a"
             ],
             [
              0.8888888888888888,
              "#fdca26"
             ],
             [
              1,
              "#f0f921"
             ]
            ],
            "type": "histogram2d"
           }
          ],
          "histogram2dcontour": [
           {
            "colorbar": {
             "outlinewidth": 0,
             "ticks": ""
            },
            "colorscale": [
             [
              0,
              "#0d0887"
             ],
             [
              0.1111111111111111,
              "#46039f"
             ],
             [
              0.2222222222222222,
              "#7201a8"
             ],
             [
              0.3333333333333333,
              "#9c179e"
             ],
             [
              0.4444444444444444,
              "#bd3786"
             ],
             [
              0.5555555555555556,
              "#d8576b"
             ],
             [
              0.6666666666666666,
              "#ed7953"
             ],
             [
              0.7777777777777778,
              "#fb9f3a"
             ],
             [
              0.8888888888888888,
              "#fdca26"
             ],
             [
              1,
              "#f0f921"
             ]
            ],
            "type": "histogram2dcontour"
           }
          ],
          "mesh3d": [
           {
            "colorbar": {
             "outlinewidth": 0,
             "ticks": ""
            },
            "type": "mesh3d"
           }
          ],
          "parcoords": [
           {
            "line": {
             "colorbar": {
              "outlinewidth": 0,
              "ticks": ""
             }
            },
            "type": "parcoords"
           }
          ],
          "pie": [
           {
            "automargin": true,
            "type": "pie"
           }
          ],
          "scatter": [
           {
            "fillpattern": {
             "fillmode": "overlay",
             "size": 10,
             "solidity": 0.2
            },
            "type": "scatter"
           }
          ],
          "scatter3d": [
           {
            "line": {
             "colorbar": {
              "outlinewidth": 0,
              "ticks": ""
             }
            },
            "marker": {
             "colorbar": {
              "outlinewidth": 0,
              "ticks": ""
             }
            },
            "type": "scatter3d"
           }
          ],
          "scattercarpet": [
           {
            "marker": {
             "colorbar": {
              "outlinewidth": 0,
              "ticks": ""
             }
            },
            "type": "scattercarpet"
           }
          ],
          "scattergeo": [
           {
            "marker": {
             "colorbar": {
              "outlinewidth": 0,
              "ticks": ""
             }
            },
            "type": "scattergeo"
           }
          ],
          "scattergl": [
           {
            "marker": {
             "colorbar": {
              "outlinewidth": 0,
              "ticks": ""
             }
            },
            "type": "scattergl"
           }
          ],
          "scattermapbox": [
           {
            "marker": {
             "colorbar": {
              "outlinewidth": 0,
              "ticks": ""
             }
            },
            "type": "scattermapbox"
           }
          ],
          "scatterpolar": [
           {
            "marker": {
             "colorbar": {
              "outlinewidth": 0,
              "ticks": ""
             }
            },
            "type": "scatterpolar"
           }
          ],
          "scatterpolargl": [
           {
            "marker": {
             "colorbar": {
              "outlinewidth": 0,
              "ticks": ""
             }
            },
            "type": "scatterpolargl"
           }
          ],
          "scatterternary": [
           {
            "marker": {
             "colorbar": {
              "outlinewidth": 0,
              "ticks": ""
             }
            },
            "type": "scatterternary"
           }
          ],
          "surface": [
           {
            "colorbar": {
             "outlinewidth": 0,
             "ticks": ""
            },
            "colorscale": [
             [
              0,
              "#0d0887"
             ],
             [
              0.1111111111111111,
              "#46039f"
             ],
             [
              0.2222222222222222,
              "#7201a8"
             ],
             [
              0.3333333333333333,
              "#9c179e"
             ],
             [
              0.4444444444444444,
              "#bd3786"
             ],
             [
              0.5555555555555556,
              "#d8576b"
             ],
             [
              0.6666666666666666,
              "#ed7953"
             ],
             [
              0.7777777777777778,
              "#fb9f3a"
             ],
             [
              0.8888888888888888,
              "#fdca26"
             ],
             [
              1,
              "#f0f921"
             ]
            ],
            "type": "surface"
           }
          ],
          "table": [
           {
            "cells": {
             "fill": {
              "color": "#EBF0F8"
             },
             "line": {
              "color": "white"
             }
            },
            "header": {
             "fill": {
              "color": "#C8D4E3"
             },
             "line": {
              "color": "white"
             }
            },
            "type": "table"
           }
          ]
         },
         "layout": {
          "annotationdefaults": {
           "arrowcolor": "#2a3f5f",
           "arrowhead": 0,
           "arrowwidth": 1
          },
          "autotypenumbers": "strict",
          "coloraxis": {
           "colorbar": {
            "outlinewidth": 0,
            "ticks": ""
           }
          },
          "colorscale": {
           "diverging": [
            [
             0,
             "#8e0152"
            ],
            [
             0.1,
             "#c51b7d"
            ],
            [
             0.2,
             "#de77ae"
            ],
            [
             0.3,
             "#f1b6da"
            ],
            [
             0.4,
             "#fde0ef"
            ],
            [
             0.5,
             "#f7f7f7"
            ],
            [
             0.6,
             "#e6f5d0"
            ],
            [
             0.7,
             "#b8e186"
            ],
            [
             0.8,
             "#7fbc41"
            ],
            [
             0.9,
             "#4d9221"
            ],
            [
             1,
             "#276419"
            ]
           ],
           "sequential": [
            [
             0,
             "#0d0887"
            ],
            [
             0.1111111111111111,
             "#46039f"
            ],
            [
             0.2222222222222222,
             "#7201a8"
            ],
            [
             0.3333333333333333,
             "#9c179e"
            ],
            [
             0.4444444444444444,
             "#bd3786"
            ],
            [
             0.5555555555555556,
             "#d8576b"
            ],
            [
             0.6666666666666666,
             "#ed7953"
            ],
            [
             0.7777777777777778,
             "#fb9f3a"
            ],
            [
             0.8888888888888888,
             "#fdca26"
            ],
            [
             1,
             "#f0f921"
            ]
           ],
           "sequentialminus": [
            [
             0,
             "#0d0887"
            ],
            [
             0.1111111111111111,
             "#46039f"
            ],
            [
             0.2222222222222222,
             "#7201a8"
            ],
            [
             0.3333333333333333,
             "#9c179e"
            ],
            [
             0.4444444444444444,
             "#bd3786"
            ],
            [
             0.5555555555555556,
             "#d8576b"
            ],
            [
             0.6666666666666666,
             "#ed7953"
            ],
            [
             0.7777777777777778,
             "#fb9f3a"
            ],
            [
             0.8888888888888888,
             "#fdca26"
            ],
            [
             1,
             "#f0f921"
            ]
           ]
          },
          "colorway": [
           "#636efa",
           "#EF553B",
           "#00cc96",
           "#ab63fa",
           "#FFA15A",
           "#19d3f3",
           "#FF6692",
           "#B6E880",
           "#FF97FF",
           "#FECB52"
          ],
          "font": {
           "color": "#2a3f5f"
          },
          "geo": {
           "bgcolor": "white",
           "lakecolor": "white",
           "landcolor": "#E5ECF6",
           "showlakes": true,
           "showland": true,
           "subunitcolor": "white"
          },
          "hoverlabel": {
           "align": "left"
          },
          "hovermode": "closest",
          "mapbox": {
           "style": "light"
          },
          "paper_bgcolor": "white",
          "plot_bgcolor": "#E5ECF6",
          "polar": {
           "angularaxis": {
            "gridcolor": "white",
            "linecolor": "white",
            "ticks": ""
           },
           "bgcolor": "#E5ECF6",
           "radialaxis": {
            "gridcolor": "white",
            "linecolor": "white",
            "ticks": ""
           }
          },
          "scene": {
           "xaxis": {
            "backgroundcolor": "#E5ECF6",
            "gridcolor": "white",
            "gridwidth": 2,
            "linecolor": "white",
            "showbackground": true,
            "ticks": "",
            "zerolinecolor": "white"
           },
           "yaxis": {
            "backgroundcolor": "#E5ECF6",
            "gridcolor": "white",
            "gridwidth": 2,
            "linecolor": "white",
            "showbackground": true,
            "ticks": "",
            "zerolinecolor": "white"
           },
           "zaxis": {
            "backgroundcolor": "#E5ECF6",
            "gridcolor": "white",
            "gridwidth": 2,
            "linecolor": "white",
            "showbackground": true,
            "ticks": "",
            "zerolinecolor": "white"
           }
          },
          "shapedefaults": {
           "line": {
            "color": "#2a3f5f"
           }
          },
          "ternary": {
           "aaxis": {
            "gridcolor": "white",
            "linecolor": "white",
            "ticks": ""
           },
           "baxis": {
            "gridcolor": "white",
            "linecolor": "white",
            "ticks": ""
           },
           "bgcolor": "#E5ECF6",
           "caxis": {
            "gridcolor": "white",
            "linecolor": "white",
            "ticks": ""
           }
          },
          "title": {
           "x": 0.05
          },
          "xaxis": {
           "automargin": true,
           "gridcolor": "white",
           "linecolor": "white",
           "ticks": "",
           "title": {
            "standoff": 15
           },
           "zerolinecolor": "white",
           "zerolinewidth": 2
          },
          "yaxis": {
           "automargin": true,
           "gridcolor": "white",
           "linecolor": "white",
           "ticks": "",
           "title": {
            "standoff": 15
           },
           "zerolinecolor": "white",
           "zerolinewidth": 2
          }
         }
        },
        "xaxis": {
         "anchor": "y",
         "domain": [
          0,
          1
         ],
         "title": {
          "text": "country"
         }
        },
        "yaxis": {
         "anchor": "x",
         "domain": [
          0,
          1
         ],
         "title": {
          "text": "iq"
         }
        }
       }
      }
     },
     "metadata": {},
     "output_type": "display_data"
    }
   ],
   "source": [
    "iq = px.data.tips()\n",
    "iq = px.strip(iq_score, x=\"country\", y=\"iq\")\n",
    "iq.show()"
   ]
  },
  {
   "cell_type": "code",
   "execution_count": 9,
   "metadata": {},
   "outputs": [
    {
     "data": {
      "text/html": [
       "<div>\n",
       "<style scoped>\n",
       "    .dataframe tbody tr th:only-of-type {\n",
       "        vertical-align: middle;\n",
       "    }\n",
       "\n",
       "    .dataframe tbody tr th {\n",
       "        vertical-align: top;\n",
       "    }\n",
       "\n",
       "    .dataframe thead th {\n",
       "        text-align: right;\n",
       "    }\n",
       "</style>\n",
       "<table border=\"1\" class=\"dataframe\">\n",
       "  <thead>\n",
       "    <tr style=\"text-align: right;\">\n",
       "      <th></th>\n",
       "      <th>rank</th>\n",
       "      <th>country</th>\n",
       "      <th>iq</th>\n",
       "    </tr>\n",
       "  </thead>\n",
       "  <tbody>\n",
       "    <tr>\n",
       "      <th>0</th>\n",
       "      <td>1</td>\n",
       "      <td>Japan</td>\n",
       "      <td>106.48</td>\n",
       "    </tr>\n",
       "    <tr>\n",
       "      <th>2</th>\n",
       "      <td>3</td>\n",
       "      <td>Singapore</td>\n",
       "      <td>105.89</td>\n",
       "    </tr>\n",
       "    <tr>\n",
       "      <th>4</th>\n",
       "      <td>5</td>\n",
       "      <td>China</td>\n",
       "      <td>104.10</td>\n",
       "    </tr>\n",
       "    <tr>\n",
       "      <th>7</th>\n",
       "      <td>8</td>\n",
       "      <td>Finland</td>\n",
       "      <td>101.20</td>\n",
       "    </tr>\n",
       "    <tr>\n",
       "      <th>9</th>\n",
       "      <td>10</td>\n",
       "      <td>Germany</td>\n",
       "      <td>100.74</td>\n",
       "    </tr>\n",
       "    <tr>\n",
       "      <th>11</th>\n",
       "      <td>12</td>\n",
       "      <td>Estonia</td>\n",
       "      <td>100.72</td>\n",
       "    </tr>\n",
       "    <tr>\n",
       "      <th>14</th>\n",
       "      <td>15</td>\n",
       "      <td>Cambodia</td>\n",
       "      <td>99.75</td>\n",
       "    </tr>\n",
       "    <tr>\n",
       "      <th>15</th>\n",
       "      <td>16</td>\n",
       "      <td>Canada</td>\n",
       "      <td>99.52</td>\n",
       "    </tr>\n",
       "    <tr>\n",
       "      <th>17</th>\n",
       "      <td>18</td>\n",
       "      <td>Hungary</td>\n",
       "      <td>99.24</td>\n",
       "    </tr>\n",
       "    <tr>\n",
       "      <th>18</th>\n",
       "      <td>19</td>\n",
       "      <td>Switzerland</td>\n",
       "      <td>99.24</td>\n",
       "    </tr>\n",
       "    <tr>\n",
       "      <th>16</th>\n",
       "      <td>17</td>\n",
       "      <td>Australia</td>\n",
       "      <td>99.24</td>\n",
       "    </tr>\n",
       "    <tr>\n",
       "      <th>19</th>\n",
       "      <td>20</td>\n",
       "      <td>United Kingdom</td>\n",
       "      <td>99.12</td>\n",
       "    </tr>\n",
       "    <tr>\n",
       "      <th>22</th>\n",
       "      <td>23</td>\n",
       "      <td>Slovenia</td>\n",
       "      <td>98.60</td>\n",
       "    </tr>\n",
       "    <tr>\n",
       "      <th>24</th>\n",
       "      <td>25</td>\n",
       "      <td>Austria</td>\n",
       "      <td>98.38</td>\n",
       "    </tr>\n",
       "    <tr>\n",
       "      <th>25</th>\n",
       "      <td>26</td>\n",
       "      <td>Iceland</td>\n",
       "      <td>98.26</td>\n",
       "    </tr>\n",
       "    <tr>\n",
       "      <th>26</th>\n",
       "      <td>27</td>\n",
       "      <td>Denmark</td>\n",
       "      <td>97.83</td>\n",
       "    </tr>\n",
       "    <tr>\n",
       "      <th>27</th>\n",
       "      <td>28</td>\n",
       "      <td>Belgium</td>\n",
       "      <td>97.49</td>\n",
       "    </tr>\n",
       "    <tr>\n",
       "      <th>28</th>\n",
       "      <td>29</td>\n",
       "      <td>United States</td>\n",
       "      <td>97.43</td>\n",
       "    </tr>\n",
       "    <tr>\n",
       "      <th>30</th>\n",
       "      <td>31</td>\n",
       "      <td>Sweden</td>\n",
       "      <td>97.00</td>\n",
       "    </tr>\n",
       "    <tr>\n",
       "      <th>31</th>\n",
       "      <td>32</td>\n",
       "      <td>France</td>\n",
       "      <td>96.69</td>\n",
       "    </tr>\n",
       "    <tr>\n",
       "      <th>33</th>\n",
       "      <td>34</td>\n",
       "      <td>Slovakia</td>\n",
       "      <td>96.32</td>\n",
       "    </tr>\n",
       "    <tr>\n",
       "      <th>34</th>\n",
       "      <td>35</td>\n",
       "      <td>Russia</td>\n",
       "      <td>96.29</td>\n",
       "    </tr>\n",
       "    <tr>\n",
       "      <th>38</th>\n",
       "      <td>39</td>\n",
       "      <td>Ireland</td>\n",
       "      <td>95.13</td>\n",
       "    </tr>\n",
       "    <tr>\n",
       "      <th>39</th>\n",
       "      <td>40</td>\n",
       "      <td>Czech Republic</td>\n",
       "      <td>94.92</td>\n",
       "    </tr>\n",
       "    <tr>\n",
       "      <th>41</th>\n",
       "      <td>42</td>\n",
       "      <td>Italy</td>\n",
       "      <td>94.23</td>\n",
       "    </tr>\n",
       "    <tr>\n",
       "      <th>44</th>\n",
       "      <td>45</td>\n",
       "      <td>Spain</td>\n",
       "      <td>93.90</td>\n",
       "    </tr>\n",
       "    <tr>\n",
       "      <th>47</th>\n",
       "      <td>48</td>\n",
       "      <td>Portugal</td>\n",
       "      <td>92.77</td>\n",
       "    </tr>\n",
       "    <tr>\n",
       "      <th>48</th>\n",
       "      <td>49</td>\n",
       "      <td>Israel</td>\n",
       "      <td>92.43</td>\n",
       "    </tr>\n",
       "    <tr>\n",
       "      <th>51</th>\n",
       "      <td>52</td>\n",
       "      <td>Myanmar</td>\n",
       "      <td>91.18</td>\n",
       "    </tr>\n",
       "    <tr>\n",
       "      <th>54</th>\n",
       "      <td>55</td>\n",
       "      <td>Greece</td>\n",
       "      <td>90.77</td>\n",
       "    </tr>\n",
       "    <tr>\n",
       "      <th>63</th>\n",
       "      <td>64</td>\n",
       "      <td>Thailand</td>\n",
       "      <td>88.87</td>\n",
       "    </tr>\n",
       "    <tr>\n",
       "      <th>68</th>\n",
       "      <td>69</td>\n",
       "      <td>Chile</td>\n",
       "      <td>87.89</td>\n",
       "    </tr>\n",
       "    <tr>\n",
       "      <th>69</th>\n",
       "      <td>70</td>\n",
       "      <td>Mexico</td>\n",
       "      <td>87.73</td>\n",
       "    </tr>\n",
       "    <tr>\n",
       "      <th>72</th>\n",
       "      <td>73</td>\n",
       "      <td>Malaysia</td>\n",
       "      <td>87.58</td>\n",
       "    </tr>\n",
       "    <tr>\n",
       "      <th>76</th>\n",
       "      <td>77</td>\n",
       "      <td>Turkey</td>\n",
       "      <td>86.80</td>\n",
       "    </tr>\n",
       "    <tr>\n",
       "      <th>77</th>\n",
       "      <td>78</td>\n",
       "      <td>Argentina</td>\n",
       "      <td>86.63</td>\n",
       "    </tr>\n",
       "    <tr>\n",
       "      <th>97</th>\n",
       "      <td>98</td>\n",
       "      <td>Brazil</td>\n",
       "      <td>83.38</td>\n",
       "    </tr>\n",
       "    <tr>\n",
       "      <th>110</th>\n",
       "      <td>111</td>\n",
       "      <td>Philippines</td>\n",
       "      <td>81.64</td>\n",
       "    </tr>\n",
       "    <tr>\n",
       "      <th>129</th>\n",
       "      <td>130</td>\n",
       "      <td>Indonesia</td>\n",
       "      <td>78.49</td>\n",
       "    </tr>\n",
       "    <tr>\n",
       "      <th>140</th>\n",
       "      <td>141</td>\n",
       "      <td>Saudi Arabia</td>\n",
       "      <td>76.36</td>\n",
       "    </tr>\n",
       "    <tr>\n",
       "      <th>142</th>\n",
       "      <td>143</td>\n",
       "      <td>India</td>\n",
       "      <td>76.24</td>\n",
       "    </tr>\n",
       "    <tr>\n",
       "      <th>163</th>\n",
       "      <td>164</td>\n",
       "      <td>South Africa</td>\n",
       "      <td>68.87</td>\n",
       "    </tr>\n",
       "  </tbody>\n",
       "</table>\n",
       "</div>"
      ],
      "text/plain": [
       "     rank         country      iq\n",
       "0       1           Japan  106.48\n",
       "2       3       Singapore  105.89\n",
       "4       5           China  104.10\n",
       "7       8         Finland  101.20\n",
       "9      10         Germany  100.74\n",
       "11     12         Estonia  100.72\n",
       "14     15        Cambodia   99.75\n",
       "15     16          Canada   99.52\n",
       "17     18         Hungary   99.24\n",
       "18     19     Switzerland   99.24\n",
       "16     17       Australia   99.24\n",
       "19     20  United Kingdom   99.12\n",
       "22     23        Slovenia   98.60\n",
       "24     25         Austria   98.38\n",
       "25     26         Iceland   98.26\n",
       "26     27         Denmark   97.83\n",
       "27     28         Belgium   97.49\n",
       "28     29   United States   97.43\n",
       "30     31          Sweden   97.00\n",
       "31     32          France   96.69\n",
       "33     34        Slovakia   96.32\n",
       "34     35          Russia   96.29\n",
       "38     39         Ireland   95.13\n",
       "39     40  Czech Republic   94.92\n",
       "41     42           Italy   94.23\n",
       "44     45           Spain   93.90\n",
       "47     48        Portugal   92.77\n",
       "48     49          Israel   92.43\n",
       "51     52         Myanmar   91.18\n",
       "54     55          Greece   90.77\n",
       "63     64        Thailand   88.87\n",
       "68     69           Chile   87.89\n",
       "69     70          Mexico   87.73\n",
       "72     73        Malaysia   87.58\n",
       "76     77          Turkey   86.80\n",
       "77     78       Argentina   86.63\n",
       "97     98          Brazil   83.38\n",
       "110   111     Philippines   81.64\n",
       "129   130       Indonesia   78.49\n",
       "140   141    Saudi Arabia   76.36\n",
       "142   143           India   76.24\n",
       "163   164    South Africa   68.87"
      ]
     },
     "execution_count": 9,
     "metadata": {},
     "output_type": "execute_result"
    }
   ],
   "source": [
    "iq_score_use = iq_score[iq_score.country.isin(G20_OECD)].sort_values('iq', ascending=False)\n",
    "iq_score_use.rename({'Unnamed: 0':'rank'}, axis=1, inplace=True)\n",
    "iq_score_use"
   ]
  },
  {
   "cell_type": "code",
   "execution_count": 10,
   "metadata": {},
   "outputs": [
    {
     "data": {
      "application/vnd.plotly.v1+json": {
       "config": {
        "plotlyServerURL": "https://plot.ly"
       },
       "data": [
        {
         "customdata": [
          1,
          3,
          5,
          8,
          10,
          12,
          15,
          16,
          18,
          19,
          17,
          20,
          23,
          25,
          26,
          27,
          28,
          29,
          31,
          32,
          34,
          35,
          39,
          40,
          42,
          45,
          48,
          49,
          52,
          55,
          64,
          69,
          70,
          73,
          77,
          78,
          98,
          111,
          130,
          141,
          143,
          164
         ],
         "hovertemplate": "Country: %{x}<br>Score: %{y}<br>Rank: %{customdata}<br><extra></extra>",
         "mode": "markers",
         "type": "scatter",
         "x": [
          "Japan",
          "Singapore",
          "China",
          "Finland",
          "Germany",
          "Estonia",
          "Cambodia",
          "Canada",
          "Hungary",
          "Switzerland",
          "Australia",
          "United Kingdom",
          "Slovenia",
          "Austria",
          "Iceland",
          "Denmark",
          "Belgium",
          "United States",
          "Sweden",
          "France",
          "Slovakia",
          "Russia",
          "Ireland",
          "Czech Republic",
          "Italy",
          "Spain",
          "Portugal",
          "Israel",
          "Myanmar",
          "Greece",
          "Thailand",
          "Chile",
          "Mexico",
          "Malaysia",
          "Turkey",
          "Argentina",
          "Brazil",
          "Philippines",
          "Indonesia",
          "Saudi Arabia",
          "India",
          "South Africa"
         ],
         "y": [
          106.48,
          105.89,
          104.1,
          101.2,
          100.74,
          100.72,
          99.75,
          99.52,
          99.24,
          99.24,
          99.24,
          99.12,
          98.6,
          98.38,
          98.26,
          97.83,
          97.49,
          97.43,
          97,
          96.69,
          96.32,
          96.29,
          95.13,
          94.92,
          94.23,
          93.9,
          92.77,
          92.43,
          91.18,
          90.77,
          88.87,
          87.89,
          87.73,
          87.58,
          86.8,
          86.63,
          83.38,
          81.64,
          78.49,
          76.36,
          76.24,
          68.87
         ]
        }
       ],
       "layout": {
        "template": {
         "data": {
          "bar": [
           {
            "error_x": {
             "color": "#2a3f5f"
            },
            "error_y": {
             "color": "#2a3f5f"
            },
            "marker": {
             "line": {
              "color": "#E5ECF6",
              "width": 0.5
             },
             "pattern": {
              "fillmode": "overlay",
              "size": 10,
              "solidity": 0.2
             }
            },
            "type": "bar"
           }
          ],
          "barpolar": [
           {
            "marker": {
             "line": {
              "color": "#E5ECF6",
              "width": 0.5
             },
             "pattern": {
              "fillmode": "overlay",
              "size": 10,
              "solidity": 0.2
             }
            },
            "type": "barpolar"
           }
          ],
          "carpet": [
           {
            "aaxis": {
             "endlinecolor": "#2a3f5f",
             "gridcolor": "white",
             "linecolor": "white",
             "minorgridcolor": "white",
             "startlinecolor": "#2a3f5f"
            },
            "baxis": {
             "endlinecolor": "#2a3f5f",
             "gridcolor": "white",
             "linecolor": "white",
             "minorgridcolor": "white",
             "startlinecolor": "#2a3f5f"
            },
            "type": "carpet"
           }
          ],
          "choropleth": [
           {
            "colorbar": {
             "outlinewidth": 0,
             "ticks": ""
            },
            "type": "choropleth"
           }
          ],
          "contour": [
           {
            "colorbar": {
             "outlinewidth": 0,
             "ticks": ""
            },
            "colorscale": [
             [
              0,
              "#0d0887"
             ],
             [
              0.1111111111111111,
              "#46039f"
             ],
             [
              0.2222222222222222,
              "#7201a8"
             ],
             [
              0.3333333333333333,
              "#9c179e"
             ],
             [
              0.4444444444444444,
              "#bd3786"
             ],
             [
              0.5555555555555556,
              "#d8576b"
             ],
             [
              0.6666666666666666,
              "#ed7953"
             ],
             [
              0.7777777777777778,
              "#fb9f3a"
             ],
             [
              0.8888888888888888,
              "#fdca26"
             ],
             [
              1,
              "#f0f921"
             ]
            ],
            "type": "contour"
           }
          ],
          "contourcarpet": [
           {
            "colorbar": {
             "outlinewidth": 0,
             "ticks": ""
            },
            "type": "contourcarpet"
           }
          ],
          "heatmap": [
           {
            "colorbar": {
             "outlinewidth": 0,
             "ticks": ""
            },
            "colorscale": [
             [
              0,
              "#0d0887"
             ],
             [
              0.1111111111111111,
              "#46039f"
             ],
             [
              0.2222222222222222,
              "#7201a8"
             ],
             [
              0.3333333333333333,
              "#9c179e"
             ],
             [
              0.4444444444444444,
              "#bd3786"
             ],
             [
              0.5555555555555556,
              "#d8576b"
             ],
             [
              0.6666666666666666,
              "#ed7953"
             ],
             [
              0.7777777777777778,
              "#fb9f3a"
             ],
             [
              0.8888888888888888,
              "#fdca26"
             ],
             [
              1,
              "#f0f921"
             ]
            ],
            "type": "heatmap"
           }
          ],
          "heatmapgl": [
           {
            "colorbar": {
             "outlinewidth": 0,
             "ticks": ""
            },
            "colorscale": [
             [
              0,
              "#0d0887"
             ],
             [
              0.1111111111111111,
              "#46039f"
             ],
             [
              0.2222222222222222,
              "#7201a8"
             ],
             [
              0.3333333333333333,
              "#9c179e"
             ],
             [
              0.4444444444444444,
              "#bd3786"
             ],
             [
              0.5555555555555556,
              "#d8576b"
             ],
             [
              0.6666666666666666,
              "#ed7953"
             ],
             [
              0.7777777777777778,
              "#fb9f3a"
             ],
             [
              0.8888888888888888,
              "#fdca26"
             ],
             [
              1,
              "#f0f921"
             ]
            ],
            "type": "heatmapgl"
           }
          ],
          "histogram": [
           {
            "marker": {
             "pattern": {
              "fillmode": "overlay",
              "size": 10,
              "solidity": 0.2
             }
            },
            "type": "histogram"
           }
          ],
          "histogram2d": [
           {
            "colorbar": {
             "outlinewidth": 0,
             "ticks": ""
            },
            "colorscale": [
             [
              0,
              "#0d0887"
             ],
             [
              0.1111111111111111,
              "#46039f"
             ],
             [
              0.2222222222222222,
              "#7201a8"
             ],
             [
              0.3333333333333333,
              "#9c179e"
             ],
             [
              0.4444444444444444,
              "#bd3786"
             ],
             [
              0.5555555555555556,
              "#d8576b"
             ],
             [
              0.6666666666666666,
              "#ed7953"
             ],
             [
              0.7777777777777778,
              "#fb9f3a"
             ],
             [
              0.8888888888888888,
              "#fdca26"
             ],
             [
              1,
              "#f0f921"
             ]
            ],
            "type": "histogram2d"
           }
          ],
          "histogram2dcontour": [
           {
            "colorbar": {
             "outlinewidth": 0,
             "ticks": ""
            },
            "colorscale": [
             [
              0,
              "#0d0887"
             ],
             [
              0.1111111111111111,
              "#46039f"
             ],
             [
              0.2222222222222222,
              "#7201a8"
             ],
             [
              0.3333333333333333,
              "#9c179e"
             ],
             [
              0.4444444444444444,
              "#bd3786"
             ],
             [
              0.5555555555555556,
              "#d8576b"
             ],
             [
              0.6666666666666666,
              "#ed7953"
             ],
             [
              0.7777777777777778,
              "#fb9f3a"
             ],
             [
              0.8888888888888888,
              "#fdca26"
             ],
             [
              1,
              "#f0f921"
             ]
            ],
            "type": "histogram2dcontour"
           }
          ],
          "mesh3d": [
           {
            "colorbar": {
             "outlinewidth": 0,
             "ticks": ""
            },
            "type": "mesh3d"
           }
          ],
          "parcoords": [
           {
            "line": {
             "colorbar": {
              "outlinewidth": 0,
              "ticks": ""
             }
            },
            "type": "parcoords"
           }
          ],
          "pie": [
           {
            "automargin": true,
            "type": "pie"
           }
          ],
          "scatter": [
           {
            "fillpattern": {
             "fillmode": "overlay",
             "size": 10,
             "solidity": 0.2
            },
            "type": "scatter"
           }
          ],
          "scatter3d": [
           {
            "line": {
             "colorbar": {
              "outlinewidth": 0,
              "ticks": ""
             }
            },
            "marker": {
             "colorbar": {
              "outlinewidth": 0,
              "ticks": ""
             }
            },
            "type": "scatter3d"
           }
          ],
          "scattercarpet": [
           {
            "marker": {
             "colorbar": {
              "outlinewidth": 0,
              "ticks": ""
             }
            },
            "type": "scattercarpet"
           }
          ],
          "scattergeo": [
           {
            "marker": {
             "colorbar": {
              "outlinewidth": 0,
              "ticks": ""
             }
            },
            "type": "scattergeo"
           }
          ],
          "scattergl": [
           {
            "marker": {
             "colorbar": {
              "outlinewidth": 0,
              "ticks": ""
             }
            },
            "type": "scattergl"
           }
          ],
          "scattermapbox": [
           {
            "marker": {
             "colorbar": {
              "outlinewidth": 0,
              "ticks": ""
             }
            },
            "type": "scattermapbox"
           }
          ],
          "scatterpolar": [
           {
            "marker": {
             "colorbar": {
              "outlinewidth": 0,
              "ticks": ""
             }
            },
            "type": "scatterpolar"
           }
          ],
          "scatterpolargl": [
           {
            "marker": {
             "colorbar": {
              "outlinewidth": 0,
              "ticks": ""
             }
            },
            "type": "scatterpolargl"
           }
          ],
          "scatterternary": [
           {
            "marker": {
             "colorbar": {
              "outlinewidth": 0,
              "ticks": ""
             }
            },
            "type": "scatterternary"
           }
          ],
          "surface": [
           {
            "colorbar": {
             "outlinewidth": 0,
             "ticks": ""
            },
            "colorscale": [
             [
              0,
              "#0d0887"
             ],
             [
              0.1111111111111111,
              "#46039f"
             ],
             [
              0.2222222222222222,
              "#7201a8"
             ],
             [
              0.3333333333333333,
              "#9c179e"
             ],
             [
              0.4444444444444444,
              "#bd3786"
             ],
             [
              0.5555555555555556,
              "#d8576b"
             ],
             [
              0.6666666666666666,
              "#ed7953"
             ],
             [
              0.7777777777777778,
              "#fb9f3a"
             ],
             [
              0.8888888888888888,
              "#fdca26"
             ],
             [
              1,
              "#f0f921"
             ]
            ],
            "type": "surface"
           }
          ],
          "table": [
           {
            "cells": {
             "fill": {
              "color": "#EBF0F8"
             },
             "line": {
              "color": "white"
             }
            },
            "header": {
             "fill": {
              "color": "#C8D4E3"
             },
             "line": {
              "color": "white"
             }
            },
            "type": "table"
           }
          ]
         },
         "layout": {
          "annotationdefaults": {
           "arrowcolor": "#2a3f5f",
           "arrowhead": 0,
           "arrowwidth": 1
          },
          "autotypenumbers": "strict",
          "coloraxis": {
           "colorbar": {
            "outlinewidth": 0,
            "ticks": ""
           }
          },
          "colorscale": {
           "diverging": [
            [
             0,
             "#8e0152"
            ],
            [
             0.1,
             "#c51b7d"
            ],
            [
             0.2,
             "#de77ae"
            ],
            [
             0.3,
             "#f1b6da"
            ],
            [
             0.4,
             "#fde0ef"
            ],
            [
             0.5,
             "#f7f7f7"
            ],
            [
             0.6,
             "#e6f5d0"
            ],
            [
             0.7,
             "#b8e186"
            ],
            [
             0.8,
             "#7fbc41"
            ],
            [
             0.9,
             "#4d9221"
            ],
            [
             1,
             "#276419"
            ]
           ],
           "sequential": [
            [
             0,
             "#0d0887"
            ],
            [
             0.1111111111111111,
             "#46039f"
            ],
            [
             0.2222222222222222,
             "#7201a8"
            ],
            [
             0.3333333333333333,
             "#9c179e"
            ],
            [
             0.4444444444444444,
             "#bd3786"
            ],
            [
             0.5555555555555556,
             "#d8576b"
            ],
            [
             0.6666666666666666,
             "#ed7953"
            ],
            [
             0.7777777777777778,
             "#fb9f3a"
            ],
            [
             0.8888888888888888,
             "#fdca26"
            ],
            [
             1,
             "#f0f921"
            ]
           ],
           "sequentialminus": [
            [
             0,
             "#0d0887"
            ],
            [
             0.1111111111111111,
             "#46039f"
            ],
            [
             0.2222222222222222,
             "#7201a8"
            ],
            [
             0.3333333333333333,
             "#9c179e"
            ],
            [
             0.4444444444444444,
             "#bd3786"
            ],
            [
             0.5555555555555556,
             "#d8576b"
            ],
            [
             0.6666666666666666,
             "#ed7953"
            ],
            [
             0.7777777777777778,
             "#fb9f3a"
            ],
            [
             0.8888888888888888,
             "#fdca26"
            ],
            [
             1,
             "#f0f921"
            ]
           ]
          },
          "colorway": [
           "#636efa",
           "#EF553B",
           "#00cc96",
           "#ab63fa",
           "#FFA15A",
           "#19d3f3",
           "#FF6692",
           "#B6E880",
           "#FF97FF",
           "#FECB52"
          ],
          "font": {
           "color": "#2a3f5f"
          },
          "geo": {
           "bgcolor": "white",
           "lakecolor": "white",
           "landcolor": "#E5ECF6",
           "showlakes": true,
           "showland": true,
           "subunitcolor": "white"
          },
          "hoverlabel": {
           "align": "left"
          },
          "hovermode": "closest",
          "mapbox": {
           "style": "light"
          },
          "paper_bgcolor": "white",
          "plot_bgcolor": "#E5ECF6",
          "polar": {
           "angularaxis": {
            "gridcolor": "white",
            "linecolor": "white",
            "ticks": ""
           },
           "bgcolor": "#E5ECF6",
           "radialaxis": {
            "gridcolor": "white",
            "linecolor": "white",
            "ticks": ""
           }
          },
          "scene": {
           "xaxis": {
            "backgroundcolor": "#E5ECF6",
            "gridcolor": "white",
            "gridwidth": 2,
            "linecolor": "white",
            "showbackground": true,
            "ticks": "",
            "zerolinecolor": "white"
           },
           "yaxis": {
            "backgroundcolor": "#E5ECF6",
            "gridcolor": "white",
            "gridwidth": 2,
            "linecolor": "white",
            "showbackground": true,
            "ticks": "",
            "zerolinecolor": "white"
           },
           "zaxis": {
            "backgroundcolor": "#E5ECF6",
            "gridcolor": "white",
            "gridwidth": 2,
            "linecolor": "white",
            "showbackground": true,
            "ticks": "",
            "zerolinecolor": "white"
           }
          },
          "shapedefaults": {
           "line": {
            "color": "#2a3f5f"
           }
          },
          "ternary": {
           "aaxis": {
            "gridcolor": "white",
            "linecolor": "white",
            "ticks": ""
           },
           "baxis": {
            "gridcolor": "white",
            "linecolor": "white",
            "ticks": ""
           },
           "bgcolor": "#E5ECF6",
           "caxis": {
            "gridcolor": "white",
            "linecolor": "white",
            "ticks": ""
           }
          },
          "title": {
           "x": 0.05
          },
          "xaxis": {
           "automargin": true,
           "gridcolor": "white",
           "linecolor": "white",
           "ticks": "",
           "title": {
            "standoff": 15
           },
           "zerolinecolor": "white",
           "zerolinewidth": 2
          },
          "yaxis": {
           "automargin": true,
           "gridcolor": "white",
           "linecolor": "white",
           "ticks": "",
           "title": {
            "standoff": 15
           },
           "zerolinecolor": "white",
           "zerolinewidth": 2
          }
         }
        }
       }
      }
     },
     "metadata": {},
     "output_type": "display_data"
    }
   ],
   "source": [
    "iq = go.Figure()\n",
    "iq.add_trace(go.Scatter(\n",
    "    x=iq_score_use['country'],\n",
    "    y=iq_score_use['iq'],\n",
    "    mode='markers',\n",
    "    customdata=iq_score_use['rank'],\n",
    "    hovertemplate='Country: %{x}<br>'+\n",
    "    'Score: %{y}<br>'+ 'Rank: %{customdata}<br>'+\n",
    "    '<extra></extra>'\n",
    "))\n",
    "iq.show()"
   ]
  },
  {
   "cell_type": "markdown",
   "metadata": {},
   "source": [
    "## Government Spending on Education (192 Countries)"
   ]
  },
  {
   "cell_type": "code",
   "execution_count": 11,
   "metadata": {},
   "outputs": [
    {
     "data": {
      "text/html": [
       "<div>\n",
       "<style scoped>\n",
       "    .dataframe tbody tr th:only-of-type {\n",
       "        vertical-align: middle;\n",
       "    }\n",
       "\n",
       "    .dataframe tbody tr th {\n",
       "        vertical-align: top;\n",
       "    }\n",
       "\n",
       "    .dataframe thead th {\n",
       "        text-align: right;\n",
       "    }\n",
       "</style>\n",
       "<table border=\"1\" class=\"dataframe\">\n",
       "  <thead>\n",
       "    <tr style=\"text-align: right;\">\n",
       "      <th></th>\n",
       "      <th>Unnamed: 0</th>\n",
       "      <th>country_id</th>\n",
       "      <th>country_name</th>\n",
       "      <th>latest_year</th>\n",
       "      <th>percent_total_expenditure</th>\n",
       "    </tr>\n",
       "  </thead>\n",
       "  <tbody>\n",
       "    <tr>\n",
       "      <th>0</th>\n",
       "      <td>1</td>\n",
       "      <td>ABW</td>\n",
       "      <td>Aruba</td>\n",
       "      <td>2016</td>\n",
       "      <td>21.367</td>\n",
       "    </tr>\n",
       "    <tr>\n",
       "      <th>1</th>\n",
       "      <td>2</td>\n",
       "      <td>AFG</td>\n",
       "      <td>Afghanistan</td>\n",
       "      <td>2021</td>\n",
       "      <td>10.880</td>\n",
       "    </tr>\n",
       "    <tr>\n",
       "      <th>2</th>\n",
       "      <td>3</td>\n",
       "      <td>AGO</td>\n",
       "      <td>Angola</td>\n",
       "      <td>2021</td>\n",
       "      <td>6.920</td>\n",
       "    </tr>\n",
       "    <tr>\n",
       "      <th>3</th>\n",
       "      <td>4</td>\n",
       "      <td>ALB</td>\n",
       "      <td>Albania</td>\n",
       "      <td>2019</td>\n",
       "      <td>13.435</td>\n",
       "    </tr>\n",
       "    <tr>\n",
       "      <th>4</th>\n",
       "      <td>5</td>\n",
       "      <td>AND</td>\n",
       "      <td>Andorra</td>\n",
       "      <td>2021</td>\n",
       "      <td>10.265</td>\n",
       "    </tr>\n",
       "    <tr>\n",
       "      <th>...</th>\n",
       "      <td>...</td>\n",
       "      <td>...</td>\n",
       "      <td>...</td>\n",
       "      <td>...</td>\n",
       "      <td>...</td>\n",
       "    </tr>\n",
       "    <tr>\n",
       "      <th>187</th>\n",
       "      <td>188</td>\n",
       "      <td>WSM</td>\n",
       "      <td>Samoa</td>\n",
       "      <td>2020</td>\n",
       "      <td>16.215</td>\n",
       "    </tr>\n",
       "    <tr>\n",
       "      <th>188</th>\n",
       "      <td>189</td>\n",
       "      <td>YEM</td>\n",
       "      <td>Yemen</td>\n",
       "      <td>2008</td>\n",
       "      <td>12.489</td>\n",
       "    </tr>\n",
       "    <tr>\n",
       "      <th>189</th>\n",
       "      <td>190</td>\n",
       "      <td>ZAF</td>\n",
       "      <td>South Africa</td>\n",
       "      <td>2021</td>\n",
       "      <td>18.417</td>\n",
       "    </tr>\n",
       "    <tr>\n",
       "      <th>190</th>\n",
       "      <td>191</td>\n",
       "      <td>ZMB</td>\n",
       "      <td>Zambia</td>\n",
       "      <td>2021</td>\n",
       "      <td>11.514</td>\n",
       "    </tr>\n",
       "    <tr>\n",
       "      <th>191</th>\n",
       "      <td>192</td>\n",
       "      <td>ZWE</td>\n",
       "      <td>Zimbabwe</td>\n",
       "      <td>2018</td>\n",
       "      <td>19.040</td>\n",
       "    </tr>\n",
       "  </tbody>\n",
       "</table>\n",
       "<p>192 rows × 5 columns</p>\n",
       "</div>"
      ],
      "text/plain": [
       "     Unnamed: 0 country_id  country_name  latest_year  \\\n",
       "0             1        ABW         Aruba         2016   \n",
       "1             2        AFG   Afghanistan         2021   \n",
       "2             3        AGO        Angola         2021   \n",
       "3             4        ALB       Albania         2019   \n",
       "4             5        AND       Andorra         2021   \n",
       "..          ...        ...           ...          ...   \n",
       "187         188        WSM         Samoa         2020   \n",
       "188         189        YEM         Yemen         2008   \n",
       "189         190        ZAF  South Africa         2021   \n",
       "190         191        ZMB        Zambia         2021   \n",
       "191         192        ZWE      Zimbabwe         2018   \n",
       "\n",
       "     percent_total_expenditure  \n",
       "0                       21.367  \n",
       "1                       10.880  \n",
       "2                        6.920  \n",
       "3                       13.435  \n",
       "4                       10.265  \n",
       "..                         ...  \n",
       "187                     16.215  \n",
       "188                     12.489  \n",
       "189                     18.417  \n",
       "190                     11.514  \n",
       "191                     19.040  \n",
       "\n",
       "[192 rows x 5 columns]"
      ]
     },
     "execution_count": 11,
     "metadata": {},
     "output_type": "execute_result"
    }
   ],
   "source": [
    "gov_spending192 = pd.read_csv(\"https://raw.githubusercontent.com/nurkhamidah/Education_Dashboard/master/192countries_govexpend.csv\", sep=\",\")\n",
    "gov_spending192"
   ]
  },
  {
   "cell_type": "markdown",
   "metadata": {},
   "source": [
    "## Government Spending on Education (39 Countries Examined)"
   ]
  },
  {
   "cell_type": "code",
   "execution_count": 12,
   "metadata": {},
   "outputs": [
    {
     "data": {
      "text/html": [
       "<div>\n",
       "<style scoped>\n",
       "    .dataframe tbody tr th:only-of-type {\n",
       "        vertical-align: middle;\n",
       "    }\n",
       "\n",
       "    .dataframe tbody tr th {\n",
       "        vertical-align: top;\n",
       "    }\n",
       "\n",
       "    .dataframe thead th {\n",
       "        text-align: right;\n",
       "    }\n",
       "</style>\n",
       "<table border=\"1\" class=\"dataframe\">\n",
       "  <thead>\n",
       "    <tr style=\"text-align: right;\">\n",
       "      <th></th>\n",
       "      <th>Unnamed: 0</th>\n",
       "      <th>country_id</th>\n",
       "      <th>country_name</th>\n",
       "      <th>gov_expenditure</th>\n",
       "    </tr>\n",
       "  </thead>\n",
       "  <tbody>\n",
       "    <tr>\n",
       "      <th>0</th>\n",
       "      <td>1</td>\n",
       "      <td>ARG</td>\n",
       "      <td>Argentina</td>\n",
       "      <td>12.523</td>\n",
       "    </tr>\n",
       "    <tr>\n",
       "      <th>1</th>\n",
       "      <td>2</td>\n",
       "      <td>AUS</td>\n",
       "      <td>Australia</td>\n",
       "      <td>12.600</td>\n",
       "    </tr>\n",
       "    <tr>\n",
       "      <th>2</th>\n",
       "      <td>3</td>\n",
       "      <td>AUT</td>\n",
       "      <td>Austria</td>\n",
       "      <td>10.262</td>\n",
       "    </tr>\n",
       "    <tr>\n",
       "      <th>3</th>\n",
       "      <td>4</td>\n",
       "      <td>BRA</td>\n",
       "      <td>Brazil</td>\n",
       "      <td>10.412</td>\n",
       "    </tr>\n",
       "    <tr>\n",
       "      <th>4</th>\n",
       "      <td>5</td>\n",
       "      <td>CAN</td>\n",
       "      <td>Canada</td>\n",
       "      <td>12.010</td>\n",
       "    </tr>\n",
       "    <tr>\n",
       "      <th>5</th>\n",
       "      <td>6</td>\n",
       "      <td>CHE</td>\n",
       "      <td>Switzerland</td>\n",
       "      <td>14.333</td>\n",
       "    </tr>\n",
       "    <tr>\n",
       "      <th>6</th>\n",
       "      <td>7</td>\n",
       "      <td>CHL</td>\n",
       "      <td>Chile</td>\n",
       "      <td>13.519</td>\n",
       "    </tr>\n",
       "    <tr>\n",
       "      <th>7</th>\n",
       "      <td>8</td>\n",
       "      <td>CHN</td>\n",
       "      <td>China</td>\n",
       "      <td>10.439</td>\n",
       "    </tr>\n",
       "    <tr>\n",
       "      <th>8</th>\n",
       "      <td>9</td>\n",
       "      <td>COL</td>\n",
       "      <td>Colombia</td>\n",
       "      <td>12.475</td>\n",
       "    </tr>\n",
       "    <tr>\n",
       "      <th>9</th>\n",
       "      <td>10</td>\n",
       "      <td>CRI</td>\n",
       "      <td>Costa Rica</td>\n",
       "      <td>16.744</td>\n",
       "    </tr>\n",
       "    <tr>\n",
       "      <th>10</th>\n",
       "      <td>11</td>\n",
       "      <td>CZE</td>\n",
       "      <td>Czech Republic</td>\n",
       "      <td>10.197</td>\n",
       "    </tr>\n",
       "    <tr>\n",
       "      <th>11</th>\n",
       "      <td>12</td>\n",
       "      <td>DEU</td>\n",
       "      <td>Germany</td>\n",
       "      <td>10.036</td>\n",
       "    </tr>\n",
       "    <tr>\n",
       "      <th>12</th>\n",
       "      <td>13</td>\n",
       "      <td>DNK</td>\n",
       "      <td>Denmark</td>\n",
       "      <td>10.601</td>\n",
       "    </tr>\n",
       "    <tr>\n",
       "      <th>13</th>\n",
       "      <td>14</td>\n",
       "      <td>EST</td>\n",
       "      <td>Estonia</td>\n",
       "      <td>11.991</td>\n",
       "    </tr>\n",
       "    <tr>\n",
       "      <th>14</th>\n",
       "      <td>15</td>\n",
       "      <td>FIN</td>\n",
       "      <td>Finland</td>\n",
       "      <td>10.906</td>\n",
       "    </tr>\n",
       "    <tr>\n",
       "      <th>15</th>\n",
       "      <td>16</td>\n",
       "      <td>FRA</td>\n",
       "      <td>France</td>\n",
       "      <td>10.007</td>\n",
       "    </tr>\n",
       "    <tr>\n",
       "      <th>16</th>\n",
       "      <td>17</td>\n",
       "      <td>GBR</td>\n",
       "      <td>England (UK)</td>\n",
       "      <td>10.216</td>\n",
       "    </tr>\n",
       "    <tr>\n",
       "      <th>17</th>\n",
       "      <td>18</td>\n",
       "      <td>GRC</td>\n",
       "      <td>Greece</td>\n",
       "      <td>6.204</td>\n",
       "    </tr>\n",
       "    <tr>\n",
       "      <th>18</th>\n",
       "      <td>19</td>\n",
       "      <td>HUN</td>\n",
       "      <td>Hungary</td>\n",
       "      <td>10.075</td>\n",
       "    </tr>\n",
       "    <tr>\n",
       "      <th>19</th>\n",
       "      <td>20</td>\n",
       "      <td>IDN</td>\n",
       "      <td>Indonesia</td>\n",
       "      <td>11.594</td>\n",
       "    </tr>\n",
       "    <tr>\n",
       "      <th>20</th>\n",
       "      <td>21</td>\n",
       "      <td>IRL</td>\n",
       "      <td>Ireland</td>\n",
       "      <td>10.408</td>\n",
       "    </tr>\n",
       "    <tr>\n",
       "      <th>21</th>\n",
       "      <td>22</td>\n",
       "      <td>ISL</td>\n",
       "      <td>Iceland</td>\n",
       "      <td>10.957</td>\n",
       "    </tr>\n",
       "    <tr>\n",
       "      <th>22</th>\n",
       "      <td>23</td>\n",
       "      <td>ISR</td>\n",
       "      <td>Israel</td>\n",
       "      <td>12.563</td>\n",
       "    </tr>\n",
       "    <tr>\n",
       "      <th>23</th>\n",
       "      <td>24</td>\n",
       "      <td>ITA</td>\n",
       "      <td>Italy</td>\n",
       "      <td>7.775</td>\n",
       "    </tr>\n",
       "    <tr>\n",
       "      <th>24</th>\n",
       "      <td>25</td>\n",
       "      <td>JPN</td>\n",
       "      <td>Japan</td>\n",
       "      <td>10.366</td>\n",
       "    </tr>\n",
       "    <tr>\n",
       "      <th>25</th>\n",
       "      <td>26</td>\n",
       "      <td>LTU</td>\n",
       "      <td>Lithuania</td>\n",
       "      <td>11.743</td>\n",
       "    </tr>\n",
       "    <tr>\n",
       "      <th>26</th>\n",
       "      <td>27</td>\n",
       "      <td>LUX</td>\n",
       "      <td>Luxembourg</td>\n",
       "      <td>8.474</td>\n",
       "    </tr>\n",
       "    <tr>\n",
       "      <th>27</th>\n",
       "      <td>28</td>\n",
       "      <td>LVA</td>\n",
       "      <td>Latvia</td>\n",
       "      <td>11.148</td>\n",
       "    </tr>\n",
       "    <tr>\n",
       "      <th>28</th>\n",
       "      <td>29</td>\n",
       "      <td>MEX</td>\n",
       "      <td>Mexico</td>\n",
       "      <td>12.155</td>\n",
       "    </tr>\n",
       "    <tr>\n",
       "      <th>29</th>\n",
       "      <td>30</td>\n",
       "      <td>NOR</td>\n",
       "      <td>Norway</td>\n",
       "      <td>13.185</td>\n",
       "    </tr>\n",
       "    <tr>\n",
       "      <th>30</th>\n",
       "      <td>31</td>\n",
       "      <td>NZL</td>\n",
       "      <td>New Zealand</td>\n",
       "      <td>10.138</td>\n",
       "    </tr>\n",
       "    <tr>\n",
       "      <th>31</th>\n",
       "      <td>32</td>\n",
       "      <td>POL</td>\n",
       "      <td>Poland</td>\n",
       "      <td>10.892</td>\n",
       "    </tr>\n",
       "    <tr>\n",
       "      <th>32</th>\n",
       "      <td>33</td>\n",
       "      <td>PRT</td>\n",
       "      <td>Portugal</td>\n",
       "      <td>10.124</td>\n",
       "    </tr>\n",
       "    <tr>\n",
       "      <th>33</th>\n",
       "      <td>34</td>\n",
       "      <td>RUS</td>\n",
       "      <td>Russian Federation</td>\n",
       "      <td>10.532</td>\n",
       "    </tr>\n",
       "    <tr>\n",
       "      <th>34</th>\n",
       "      <td>35</td>\n",
       "      <td>SAU</td>\n",
       "      <td>Saudi Arabia</td>\n",
       "      <td>12.296</td>\n",
       "    </tr>\n",
       "    <tr>\n",
       "      <th>35</th>\n",
       "      <td>36</td>\n",
       "      <td>SVK</td>\n",
       "      <td>Slovak Republic</td>\n",
       "      <td>10.049</td>\n",
       "    </tr>\n",
       "    <tr>\n",
       "      <th>36</th>\n",
       "      <td>37</td>\n",
       "      <td>SVN</td>\n",
       "      <td>Slovenia</td>\n",
       "      <td>10.079</td>\n",
       "    </tr>\n",
       "    <tr>\n",
       "      <th>37</th>\n",
       "      <td>38</td>\n",
       "      <td>SWE</td>\n",
       "      <td>Sweden</td>\n",
       "      <td>10.150</td>\n",
       "    </tr>\n",
       "    <tr>\n",
       "      <th>38</th>\n",
       "      <td>39</td>\n",
       "      <td>TUR</td>\n",
       "      <td>Türkiye</td>\n",
       "      <td>12.407</td>\n",
       "    </tr>\n",
       "  </tbody>\n",
       "</table>\n",
       "</div>"
      ],
      "text/plain": [
       "    Unnamed: 0 country_id        country_name  gov_expenditure\n",
       "0            1        ARG           Argentina           12.523\n",
       "1            2        AUS           Australia           12.600\n",
       "2            3        AUT             Austria           10.262\n",
       "3            4        BRA              Brazil           10.412\n",
       "4            5        CAN              Canada           12.010\n",
       "5            6        CHE         Switzerland           14.333\n",
       "6            7        CHL               Chile           13.519\n",
       "7            8        CHN               China           10.439\n",
       "8            9        COL            Colombia           12.475\n",
       "9           10        CRI          Costa Rica           16.744\n",
       "10          11        CZE      Czech Republic           10.197\n",
       "11          12        DEU             Germany           10.036\n",
       "12          13        DNK             Denmark           10.601\n",
       "13          14        EST             Estonia           11.991\n",
       "14          15        FIN             Finland           10.906\n",
       "15          16        FRA              France           10.007\n",
       "16          17        GBR        England (UK)           10.216\n",
       "17          18        GRC              Greece            6.204\n",
       "18          19        HUN             Hungary           10.075\n",
       "19          20        IDN           Indonesia           11.594\n",
       "20          21        IRL             Ireland           10.408\n",
       "21          22        ISL             Iceland           10.957\n",
       "22          23        ISR              Israel           12.563\n",
       "23          24        ITA               Italy            7.775\n",
       "24          25        JPN               Japan           10.366\n",
       "25          26        LTU           Lithuania           11.743\n",
       "26          27        LUX          Luxembourg            8.474\n",
       "27          28        LVA              Latvia           11.148\n",
       "28          29        MEX              Mexico           12.155\n",
       "29          30        NOR              Norway           13.185\n",
       "30          31        NZL         New Zealand           10.138\n",
       "31          32        POL              Poland           10.892\n",
       "32          33        PRT            Portugal           10.124\n",
       "33          34        RUS  Russian Federation           10.532\n",
       "34          35        SAU        Saudi Arabia           12.296\n",
       "35          36        SVK     Slovak Republic           10.049\n",
       "36          37        SVN            Slovenia           10.079\n",
       "37          38        SWE              Sweden           10.150\n",
       "38          39        TUR             Türkiye           12.407"
      ]
     },
     "execution_count": 12,
     "metadata": {},
     "output_type": "execute_result"
    }
   ],
   "source": [
    "gov_spending39 = pd.read_csv(\"https://raw.githubusercontent.com/nurkhamidah/Education_Dashboard/master/39countries_govspendonedu.csv\", sep=\",\")\n",
    "gov_spending39"
   ]
  },
  {
   "cell_type": "code",
   "execution_count": 13,
   "metadata": {},
   "outputs": [
    {
     "data": {
      "application/vnd.plotly.v1+json": {
       "config": {
        "plotlyServerURL": "https://plot.ly"
       },
       "data": [
        {
         "hovertemplate": "Country: %{x}<br>Expenditure: %{y}%<br><extra></extra>",
         "marker": {
          "color": "rgba(187, 138, 68, 0.6)",
          "line": {
           "color": "rgba(58, 79, 80, 1.0)",
           "width": 3
          }
         },
         "orientation": "v",
         "type": "bar",
         "x": [
          "Argentina",
          "Australia",
          "Austria",
          "Brazil",
          "Canada",
          "Switzerland",
          "Chile",
          "China",
          "Colombia",
          "Costa Rica",
          "Czech Republic",
          "Germany",
          "Denmark",
          "Estonia",
          "Finland",
          "France",
          "England (UK)",
          "Greece",
          "Hungary",
          "Indonesia",
          "Ireland",
          "Iceland",
          "Israel",
          "Italy",
          "Japan",
          "Lithuania",
          "Luxembourg",
          "Latvia",
          "Mexico",
          "Norway",
          "New Zealand",
          "Poland",
          "Portugal",
          "Russian Federation",
          "Saudi Arabia",
          "Slovak Republic",
          "Slovenia",
          "Sweden",
          "Türkiye"
         ],
         "y": [
          12.523,
          12.6,
          10.262,
          10.412,
          12.01,
          14.333,
          13.519,
          10.439,
          12.475,
          16.744,
          10.197,
          10.036,
          10.601,
          11.991,
          10.906,
          10.007,
          10.216,
          6.204,
          10.075,
          11.594,
          10.408,
          10.957,
          12.563,
          7.775,
          10.366,
          11.743,
          8.474,
          11.148,
          12.155,
          13.185,
          10.138,
          10.892,
          10.124,
          10.532,
          12.296,
          10.049,
          10.079,
          10.15,
          12.407
         ]
        }
       ],
       "layout": {
        "template": {
         "data": {
          "bar": [
           {
            "error_x": {
             "color": "#2a3f5f"
            },
            "error_y": {
             "color": "#2a3f5f"
            },
            "marker": {
             "line": {
              "color": "#E5ECF6",
              "width": 0.5
             },
             "pattern": {
              "fillmode": "overlay",
              "size": 10,
              "solidity": 0.2
             }
            },
            "type": "bar"
           }
          ],
          "barpolar": [
           {
            "marker": {
             "line": {
              "color": "#E5ECF6",
              "width": 0.5
             },
             "pattern": {
              "fillmode": "overlay",
              "size": 10,
              "solidity": 0.2
             }
            },
            "type": "barpolar"
           }
          ],
          "carpet": [
           {
            "aaxis": {
             "endlinecolor": "#2a3f5f",
             "gridcolor": "white",
             "linecolor": "white",
             "minorgridcolor": "white",
             "startlinecolor": "#2a3f5f"
            },
            "baxis": {
             "endlinecolor": "#2a3f5f",
             "gridcolor": "white",
             "linecolor": "white",
             "minorgridcolor": "white",
             "startlinecolor": "#2a3f5f"
            },
            "type": "carpet"
           }
          ],
          "choropleth": [
           {
            "colorbar": {
             "outlinewidth": 0,
             "ticks": ""
            },
            "type": "choropleth"
           }
          ],
          "contour": [
           {
            "colorbar": {
             "outlinewidth": 0,
             "ticks": ""
            },
            "colorscale": [
             [
              0,
              "#0d0887"
             ],
             [
              0.1111111111111111,
              "#46039f"
             ],
             [
              0.2222222222222222,
              "#7201a8"
             ],
             [
              0.3333333333333333,
              "#9c179e"
             ],
             [
              0.4444444444444444,
              "#bd3786"
             ],
             [
              0.5555555555555556,
              "#d8576b"
             ],
             [
              0.6666666666666666,
              "#ed7953"
             ],
             [
              0.7777777777777778,
              "#fb9f3a"
             ],
             [
              0.8888888888888888,
              "#fdca26"
             ],
             [
              1,
              "#f0f921"
             ]
            ],
            "type": "contour"
           }
          ],
          "contourcarpet": [
           {
            "colorbar": {
             "outlinewidth": 0,
             "ticks": ""
            },
            "type": "contourcarpet"
           }
          ],
          "heatmap": [
           {
            "colorbar": {
             "outlinewidth": 0,
             "ticks": ""
            },
            "colorscale": [
             [
              0,
              "#0d0887"
             ],
             [
              0.1111111111111111,
              "#46039f"
             ],
             [
              0.2222222222222222,
              "#7201a8"
             ],
             [
              0.3333333333333333,
              "#9c179e"
             ],
             [
              0.4444444444444444,
              "#bd3786"
             ],
             [
              0.5555555555555556,
              "#d8576b"
             ],
             [
              0.6666666666666666,
              "#ed7953"
             ],
             [
              0.7777777777777778,
              "#fb9f3a"
             ],
             [
              0.8888888888888888,
              "#fdca26"
             ],
             [
              1,
              "#f0f921"
             ]
            ],
            "type": "heatmap"
           }
          ],
          "heatmapgl": [
           {
            "colorbar": {
             "outlinewidth": 0,
             "ticks": ""
            },
            "colorscale": [
             [
              0,
              "#0d0887"
             ],
             [
              0.1111111111111111,
              "#46039f"
             ],
             [
              0.2222222222222222,
              "#7201a8"
             ],
             [
              0.3333333333333333,
              "#9c179e"
             ],
             [
              0.4444444444444444,
              "#bd3786"
             ],
             [
              0.5555555555555556,
              "#d8576b"
             ],
             [
              0.6666666666666666,
              "#ed7953"
             ],
             [
              0.7777777777777778,
              "#fb9f3a"
             ],
             [
              0.8888888888888888,
              "#fdca26"
             ],
             [
              1,
              "#f0f921"
             ]
            ],
            "type": "heatmapgl"
           }
          ],
          "histogram": [
           {
            "marker": {
             "pattern": {
              "fillmode": "overlay",
              "size": 10,
              "solidity": 0.2
             }
            },
            "type": "histogram"
           }
          ],
          "histogram2d": [
           {
            "colorbar": {
             "outlinewidth": 0,
             "ticks": ""
            },
            "colorscale": [
             [
              0,
              "#0d0887"
             ],
             [
              0.1111111111111111,
              "#46039f"
             ],
             [
              0.2222222222222222,
              "#7201a8"
             ],
             [
              0.3333333333333333,
              "#9c179e"
             ],
             [
              0.4444444444444444,
              "#bd3786"
             ],
             [
              0.5555555555555556,
              "#d8576b"
             ],
             [
              0.6666666666666666,
              "#ed7953"
             ],
             [
              0.7777777777777778,
              "#fb9f3a"
             ],
             [
              0.8888888888888888,
              "#fdca26"
             ],
             [
              1,
              "#f0f921"
             ]
            ],
            "type": "histogram2d"
           }
          ],
          "histogram2dcontour": [
           {
            "colorbar": {
             "outlinewidth": 0,
             "ticks": ""
            },
            "colorscale": [
             [
              0,
              "#0d0887"
             ],
             [
              0.1111111111111111,
              "#46039f"
             ],
             [
              0.2222222222222222,
              "#7201a8"
             ],
             [
              0.3333333333333333,
              "#9c179e"
             ],
             [
              0.4444444444444444,
              "#bd3786"
             ],
             [
              0.5555555555555556,
              "#d8576b"
             ],
             [
              0.6666666666666666,
              "#ed7953"
             ],
             [
              0.7777777777777778,
              "#fb9f3a"
             ],
             [
              0.8888888888888888,
              "#fdca26"
             ],
             [
              1,
              "#f0f921"
             ]
            ],
            "type": "histogram2dcontour"
           }
          ],
          "mesh3d": [
           {
            "colorbar": {
             "outlinewidth": 0,
             "ticks": ""
            },
            "type": "mesh3d"
           }
          ],
          "parcoords": [
           {
            "line": {
             "colorbar": {
              "outlinewidth": 0,
              "ticks": ""
             }
            },
            "type": "parcoords"
           }
          ],
          "pie": [
           {
            "automargin": true,
            "type": "pie"
           }
          ],
          "scatter": [
           {
            "fillpattern": {
             "fillmode": "overlay",
             "size": 10,
             "solidity": 0.2
            },
            "type": "scatter"
           }
          ],
          "scatter3d": [
           {
            "line": {
             "colorbar": {
              "outlinewidth": 0,
              "ticks": ""
             }
            },
            "marker": {
             "colorbar": {
              "outlinewidth": 0,
              "ticks": ""
             }
            },
            "type": "scatter3d"
           }
          ],
          "scattercarpet": [
           {
            "marker": {
             "colorbar": {
              "outlinewidth": 0,
              "ticks": ""
             }
            },
            "type": "scattercarpet"
           }
          ],
          "scattergeo": [
           {
            "marker": {
             "colorbar": {
              "outlinewidth": 0,
              "ticks": ""
             }
            },
            "type": "scattergeo"
           }
          ],
          "scattergl": [
           {
            "marker": {
             "colorbar": {
              "outlinewidth": 0,
              "ticks": ""
             }
            },
            "type": "scattergl"
           }
          ],
          "scattermapbox": [
           {
            "marker": {
             "colorbar": {
              "outlinewidth": 0,
              "ticks": ""
             }
            },
            "type": "scattermapbox"
           }
          ],
          "scatterpolar": [
           {
            "marker": {
             "colorbar": {
              "outlinewidth": 0,
              "ticks": ""
             }
            },
            "type": "scatterpolar"
           }
          ],
          "scatterpolargl": [
           {
            "marker": {
             "colorbar": {
              "outlinewidth": 0,
              "ticks": ""
             }
            },
            "type": "scatterpolargl"
           }
          ],
          "scatterternary": [
           {
            "marker": {
             "colorbar": {
              "outlinewidth": 0,
              "ticks": ""
             }
            },
            "type": "scatterternary"
           }
          ],
          "surface": [
           {
            "colorbar": {
             "outlinewidth": 0,
             "ticks": ""
            },
            "colorscale": [
             [
              0,
              "#0d0887"
             ],
             [
              0.1111111111111111,
              "#46039f"
             ],
             [
              0.2222222222222222,
              "#7201a8"
             ],
             [
              0.3333333333333333,
              "#9c179e"
             ],
             [
              0.4444444444444444,
              "#bd3786"
             ],
             [
              0.5555555555555556,
              "#d8576b"
             ],
             [
              0.6666666666666666,
              "#ed7953"
             ],
             [
              0.7777777777777778,
              "#fb9f3a"
             ],
             [
              0.8888888888888888,
              "#fdca26"
             ],
             [
              1,
              "#f0f921"
             ]
            ],
            "type": "surface"
           }
          ],
          "table": [
           {
            "cells": {
             "fill": {
              "color": "#EBF0F8"
             },
             "line": {
              "color": "white"
             }
            },
            "header": {
             "fill": {
              "color": "#C8D4E3"
             },
             "line": {
              "color": "white"
             }
            },
            "type": "table"
           }
          ]
         },
         "layout": {
          "annotationdefaults": {
           "arrowcolor": "#2a3f5f",
           "arrowhead": 0,
           "arrowwidth": 1
          },
          "autotypenumbers": "strict",
          "coloraxis": {
           "colorbar": {
            "outlinewidth": 0,
            "ticks": ""
           }
          },
          "colorscale": {
           "diverging": [
            [
             0,
             "#8e0152"
            ],
            [
             0.1,
             "#c51b7d"
            ],
            [
             0.2,
             "#de77ae"
            ],
            [
             0.3,
             "#f1b6da"
            ],
            [
             0.4,
             "#fde0ef"
            ],
            [
             0.5,
             "#f7f7f7"
            ],
            [
             0.6,
             "#e6f5d0"
            ],
            [
             0.7,
             "#b8e186"
            ],
            [
             0.8,
             "#7fbc41"
            ],
            [
             0.9,
             "#4d9221"
            ],
            [
             1,
             "#276419"
            ]
           ],
           "sequential": [
            [
             0,
             "#0d0887"
            ],
            [
             0.1111111111111111,
             "#46039f"
            ],
            [
             0.2222222222222222,
             "#7201a8"
            ],
            [
             0.3333333333333333,
             "#9c179e"
            ],
            [
             0.4444444444444444,
             "#bd3786"
            ],
            [
             0.5555555555555556,
             "#d8576b"
            ],
            [
             0.6666666666666666,
             "#ed7953"
            ],
            [
             0.7777777777777778,
             "#fb9f3a"
            ],
            [
             0.8888888888888888,
             "#fdca26"
            ],
            [
             1,
             "#f0f921"
            ]
           ],
           "sequentialminus": [
            [
             0,
             "#0d0887"
            ],
            [
             0.1111111111111111,
             "#46039f"
            ],
            [
             0.2222222222222222,
             "#7201a8"
            ],
            [
             0.3333333333333333,
             "#9c179e"
            ],
            [
             0.4444444444444444,
             "#bd3786"
            ],
            [
             0.5555555555555556,
             "#d8576b"
            ],
            [
             0.6666666666666666,
             "#ed7953"
            ],
            [
             0.7777777777777778,
             "#fb9f3a"
            ],
            [
             0.8888888888888888,
             "#fdca26"
            ],
            [
             1,
             "#f0f921"
            ]
           ]
          },
          "colorway": [
           "#636efa",
           "#EF553B",
           "#00cc96",
           "#ab63fa",
           "#FFA15A",
           "#19d3f3",
           "#FF6692",
           "#B6E880",
           "#FF97FF",
           "#FECB52"
          ],
          "font": {
           "color": "#2a3f5f"
          },
          "geo": {
           "bgcolor": "white",
           "lakecolor": "white",
           "landcolor": "#E5ECF6",
           "showlakes": true,
           "showland": true,
           "subunitcolor": "white"
          },
          "hoverlabel": {
           "align": "left"
          },
          "hovermode": "closest",
          "mapbox": {
           "style": "light"
          },
          "paper_bgcolor": "white",
          "plot_bgcolor": "#E5ECF6",
          "polar": {
           "angularaxis": {
            "gridcolor": "white",
            "linecolor": "white",
            "ticks": ""
           },
           "bgcolor": "#E5ECF6",
           "radialaxis": {
            "gridcolor": "white",
            "linecolor": "white",
            "ticks": ""
           }
          },
          "scene": {
           "xaxis": {
            "backgroundcolor": "#E5ECF6",
            "gridcolor": "white",
            "gridwidth": 2,
            "linecolor": "white",
            "showbackground": true,
            "ticks": "",
            "zerolinecolor": "white"
           },
           "yaxis": {
            "backgroundcolor": "#E5ECF6",
            "gridcolor": "white",
            "gridwidth": 2,
            "linecolor": "white",
            "showbackground": true,
            "ticks": "",
            "zerolinecolor": "white"
           },
           "zaxis": {
            "backgroundcolor": "#E5ECF6",
            "gridcolor": "white",
            "gridwidth": 2,
            "linecolor": "white",
            "showbackground": true,
            "ticks": "",
            "zerolinecolor": "white"
           }
          },
          "shapedefaults": {
           "line": {
            "color": "#2a3f5f"
           }
          },
          "ternary": {
           "aaxis": {
            "gridcolor": "white",
            "linecolor": "white",
            "ticks": ""
           },
           "baxis": {
            "gridcolor": "white",
            "linecolor": "white",
            "ticks": ""
           },
           "bgcolor": "#E5ECF6",
           "caxis": {
            "gridcolor": "white",
            "linecolor": "white",
            "ticks": ""
           }
          },
          "title": {
           "x": 0.05
          },
          "xaxis": {
           "automargin": true,
           "gridcolor": "white",
           "linecolor": "white",
           "ticks": "",
           "title": {
            "standoff": 15
           },
           "zerolinecolor": "white",
           "zerolinewidth": 2
          },
          "yaxis": {
           "automargin": true,
           "gridcolor": "white",
           "linecolor": "white",
           "ticks": "",
           "title": {
            "standoff": 15
           },
           "zerolinecolor": "white",
           "zerolinewidth": 2
          }
         }
        }
       }
      }
     },
     "metadata": {},
     "output_type": "display_data"
    }
   ],
   "source": [
    "from audioop import avg\n",
    "from statistics import mean\n",
    "\n",
    "gov = go.Figure()\n",
    "gov.add_trace(go.Bar(\n",
    "    x=gov_spending39['country_name'],\n",
    "    y=gov_spending39['gov_expenditure'],\n",
    "    orientation='v',\n",
    "    marker=dict(\n",
    "        color='rgba(187, 138, 68, 0.6)',\n",
    "        line=dict(color='rgba(58, 79, 80, 1.0)', width=3)\n",
    "    ),\n",
    "    hovertemplate='Country: %{x}<br>'+\n",
    "        'Expenditure: %{y}'+'%'+'<br>'+\n",
    "        '<extra></extra>',\n",
    "))\n",
    "gov.show()"
   ]
  },
  {
   "cell_type": "markdown",
   "metadata": {},
   "source": [
    "## Teacher Salary and Expenditure Per Capita (39 Countries Examined)"
   ]
  },
  {
   "cell_type": "code",
   "execution_count": 14,
   "metadata": {},
   "outputs": [
    {
     "data": {
      "text/html": [
       "<div>\n",
       "<style scoped>\n",
       "    .dataframe tbody tr th:only-of-type {\n",
       "        vertical-align: middle;\n",
       "    }\n",
       "\n",
       "    .dataframe tbody tr th {\n",
       "        vertical-align: top;\n",
       "    }\n",
       "\n",
       "    .dataframe thead th {\n",
       "        text-align: right;\n",
       "    }\n",
       "</style>\n",
       "<table border=\"1\" class=\"dataframe\">\n",
       "  <thead>\n",
       "    <tr style=\"text-align: right;\">\n",
       "      <th></th>\n",
       "      <th>Unnamed: 0</th>\n",
       "      <th>country_id</th>\n",
       "      <th>country_name</th>\n",
       "      <th>salary</th>\n",
       "      <th>expenditure_percapita</th>\n",
       "    </tr>\n",
       "  </thead>\n",
       "  <tbody>\n",
       "    <tr>\n",
       "      <th>0</th>\n",
       "      <td>1</td>\n",
       "      <td>ARG</td>\n",
       "      <td>Argentina</td>\n",
       "      <td>9647.000000</td>\n",
       "      <td>7612.858</td>\n",
       "    </tr>\n",
       "    <tr>\n",
       "      <th>1</th>\n",
       "      <td>2</td>\n",
       "      <td>AUS</td>\n",
       "      <td>Australia</td>\n",
       "      <td>62300.000000</td>\n",
       "      <td>31928.353</td>\n",
       "    </tr>\n",
       "    <tr>\n",
       "      <th>2</th>\n",
       "      <td>3</td>\n",
       "      <td>AUT</td>\n",
       "      <td>Austria</td>\n",
       "      <td>45807.350000</td>\n",
       "      <td>22390.217</td>\n",
       "    </tr>\n",
       "    <tr>\n",
       "      <th>3</th>\n",
       "      <td>4</td>\n",
       "      <td>BRA</td>\n",
       "      <td>Brazil</td>\n",
       "      <td>16748.510000</td>\n",
       "      <td>5431.875</td>\n",
       "    </tr>\n",
       "    <tr>\n",
       "      <th>4</th>\n",
       "      <td>5</td>\n",
       "      <td>CAN</td>\n",
       "      <td>Canada</td>\n",
       "      <td>55345.000000</td>\n",
       "      <td>25567.441</td>\n",
       "    </tr>\n",
       "    <tr>\n",
       "      <th>5</th>\n",
       "      <td>6</td>\n",
       "      <td>CHE</td>\n",
       "      <td>Switzerland</td>\n",
       "      <td>99302.000000</td>\n",
       "      <td>43729.155</td>\n",
       "    </tr>\n",
       "    <tr>\n",
       "      <th>6</th>\n",
       "      <td>7</td>\n",
       "      <td>CHL</td>\n",
       "      <td>Chile</td>\n",
       "      <td>18194.714000</td>\n",
       "      <td>9657.872</td>\n",
       "    </tr>\n",
       "    <tr>\n",
       "      <th>7</th>\n",
       "      <td>8</td>\n",
       "      <td>CHN</td>\n",
       "      <td>China</td>\n",
       "      <td>25788.780000</td>\n",
       "      <td>4698.876</td>\n",
       "    </tr>\n",
       "    <tr>\n",
       "      <th>8</th>\n",
       "      <td>9</td>\n",
       "      <td>COL</td>\n",
       "      <td>Colombia</td>\n",
       "      <td>9684.000000</td>\n",
       "      <td>4753.920</td>\n",
       "    </tr>\n",
       "    <tr>\n",
       "      <th>9</th>\n",
       "      <td>10</td>\n",
       "      <td>CRI</td>\n",
       "      <td>Costa Rica</td>\n",
       "      <td>35316.000000</td>\n",
       "      <td>8141.640</td>\n",
       "    </tr>\n",
       "    <tr>\n",
       "      <th>10</th>\n",
       "      <td>11</td>\n",
       "      <td>CZE</td>\n",
       "      <td>Czech Republic</td>\n",
       "      <td>12203.000000</td>\n",
       "      <td>9255.229</td>\n",
       "    </tr>\n",
       "    <tr>\n",
       "      <th>11</th>\n",
       "      <td>12</td>\n",
       "      <td>DEU</td>\n",
       "      <td>Germany</td>\n",
       "      <td>59049.301663</td>\n",
       "      <td>21587.115</td>\n",
       "    </tr>\n",
       "    <tr>\n",
       "      <th>12</th>\n",
       "      <td>13</td>\n",
       "      <td>DNK</td>\n",
       "      <td>Denmark</td>\n",
       "      <td>55184.000000</td>\n",
       "      <td>27471.908</td>\n",
       "    </tr>\n",
       "    <tr>\n",
       "      <th>13</th>\n",
       "      <td>14</td>\n",
       "      <td>EST</td>\n",
       "      <td>Estonia</td>\n",
       "      <td>19061.220000</td>\n",
       "      <td>10664.238</td>\n",
       "    </tr>\n",
       "    <tr>\n",
       "      <th>14</th>\n",
       "      <td>15</td>\n",
       "      <td>FIN</td>\n",
       "      <td>Finland</td>\n",
       "      <td>42216.563159</td>\n",
       "      <td>24112.507</td>\n",
       "    </tr>\n",
       "    <tr>\n",
       "      <th>15</th>\n",
       "      <td>16</td>\n",
       "      <td>FRA</td>\n",
       "      <td>France</td>\n",
       "      <td>42457.990000</td>\n",
       "      <td>20171.810</td>\n",
       "    </tr>\n",
       "    <tr>\n",
       "      <th>16</th>\n",
       "      <td>17</td>\n",
       "      <td>GBR</td>\n",
       "      <td>England (UK)</td>\n",
       "      <td>38280.044274</td>\n",
       "      <td>29361.085</td>\n",
       "    </tr>\n",
       "    <tr>\n",
       "      <th>17</th>\n",
       "      <td>18</td>\n",
       "      <td>GRC</td>\n",
       "      <td>Greece</td>\n",
       "      <td>22917.326253</td>\n",
       "      <td>13133.812</td>\n",
       "    </tr>\n",
       "    <tr>\n",
       "      <th>18</th>\n",
       "      <td>19</td>\n",
       "      <td>HUN</td>\n",
       "      <td>Hungary</td>\n",
       "      <td>15564.000000</td>\n",
       "      <td>7930.688</td>\n",
       "    </tr>\n",
       "    <tr>\n",
       "      <th>19</th>\n",
       "      <td>20</td>\n",
       "      <td>IDN</td>\n",
       "      <td>Indonesia</td>\n",
       "      <td>4630.320000</td>\n",
       "      <td>2166.313</td>\n",
       "    </tr>\n",
       "    <tr>\n",
       "      <th>20</th>\n",
       "      <td>21</td>\n",
       "      <td>IRL</td>\n",
       "      <td>Ireland</td>\n",
       "      <td>43220.658848</td>\n",
       "      <td>20585.451</td>\n",
       "    </tr>\n",
       "    <tr>\n",
       "      <th>21</th>\n",
       "      <td>22</td>\n",
       "      <td>ISL</td>\n",
       "      <td>Iceland</td>\n",
       "      <td>41989.440000</td>\n",
       "      <td>30042.675</td>\n",
       "    </tr>\n",
       "    <tr>\n",
       "      <th>22</th>\n",
       "      <td>23</td>\n",
       "      <td>ISR</td>\n",
       "      <td>Israel</td>\n",
       "      <td>47568.000000</td>\n",
       "      <td>21029.968</td>\n",
       "    </tr>\n",
       "    <tr>\n",
       "      <th>23</th>\n",
       "      <td>24</td>\n",
       "      <td>ITA</td>\n",
       "      <td>Italy</td>\n",
       "      <td>35738.888299</td>\n",
       "      <td>18485.920</td>\n",
       "    </tr>\n",
       "    <tr>\n",
       "      <th>24</th>\n",
       "      <td>25</td>\n",
       "      <td>JPN</td>\n",
       "      <td>Japan</td>\n",
       "      <td>36384.000000</td>\n",
       "      <td>10404.085</td>\n",
       "    </tr>\n",
       "    <tr>\n",
       "      <th>25</th>\n",
       "      <td>26</td>\n",
       "      <td>LTU</td>\n",
       "      <td>Lithuania</td>\n",
       "      <td>26142.789541</td>\n",
       "      <td>11215.149</td>\n",
       "    </tr>\n",
       "    <tr>\n",
       "      <th>26</th>\n",
       "      <td>27</td>\n",
       "      <td>LUX</td>\n",
       "      <td>Luxembourg</td>\n",
       "      <td>60394.640000</td>\n",
       "      <td>34219.114</td>\n",
       "    </tr>\n",
       "    <tr>\n",
       "      <th>27</th>\n",
       "      <td>28</td>\n",
       "      <td>LVA</td>\n",
       "      <td>Latvia</td>\n",
       "      <td>11927.880000</td>\n",
       "      <td>9191.337</td>\n",
       "    </tr>\n",
       "    <tr>\n",
       "      <th>28</th>\n",
       "      <td>29</td>\n",
       "      <td>MEX</td>\n",
       "      <td>Mexico</td>\n",
       "      <td>16044.000000</td>\n",
       "      <td>6230.653</td>\n",
       "    </tr>\n",
       "    <tr>\n",
       "      <th>29</th>\n",
       "      <td>30</td>\n",
       "      <td>NOR</td>\n",
       "      <td>Norway</td>\n",
       "      <td>44189.000000</td>\n",
       "      <td>32329.209</td>\n",
       "    </tr>\n",
       "    <tr>\n",
       "      <th>30</th>\n",
       "      <td>31</td>\n",
       "      <td>NZL</td>\n",
       "      <td>New Zealand</td>\n",
       "      <td>48949.000000</td>\n",
       "      <td>17079.105</td>\n",
       "    </tr>\n",
       "    <tr>\n",
       "      <th>31</th>\n",
       "      <td>32</td>\n",
       "      <td>POL</td>\n",
       "      <td>Poland</td>\n",
       "      <td>18068.000000</td>\n",
       "      <td>9009.787</td>\n",
       "    </tr>\n",
       "    <tr>\n",
       "      <th>32</th>\n",
       "      <td>33</td>\n",
       "      <td>PRT</td>\n",
       "      <td>Portugal</td>\n",
       "      <td>15358.530000</td>\n",
       "      <td>13679.779</td>\n",
       "    </tr>\n",
       "    <tr>\n",
       "      <th>33</th>\n",
       "      <td>34</td>\n",
       "      <td>RUS</td>\n",
       "      <td>Russian Federation</td>\n",
       "      <td>15192.000000</td>\n",
       "      <td>5463.750</td>\n",
       "    </tr>\n",
       "    <tr>\n",
       "      <th>34</th>\n",
       "      <td>35</td>\n",
       "      <td>SAU</td>\n",
       "      <td>Saudi Arabia</td>\n",
       "      <td>40224.000000</td>\n",
       "      <td>8547.939</td>\n",
       "    </tr>\n",
       "    <tr>\n",
       "      <th>35</th>\n",
       "      <td>36</td>\n",
       "      <td>SVK</td>\n",
       "      <td>Slovak Republic</td>\n",
       "      <td>16399.436074</td>\n",
       "      <td>10185.247</td>\n",
       "    </tr>\n",
       "    <tr>\n",
       "      <th>36</th>\n",
       "      <td>37</td>\n",
       "      <td>SVN</td>\n",
       "      <td>Slovenia</td>\n",
       "      <td>35504.253147</td>\n",
       "      <td>13319.562</td>\n",
       "    </tr>\n",
       "    <tr>\n",
       "      <th>37</th>\n",
       "      <td>38</td>\n",
       "      <td>SWE</td>\n",
       "      <td>Sweden</td>\n",
       "      <td>37000.000000</td>\n",
       "      <td>24241.578</td>\n",
       "    </tr>\n",
       "    <tr>\n",
       "      <th>38</th>\n",
       "      <td>39</td>\n",
       "      <td>TUR</td>\n",
       "      <td>Türkiye</td>\n",
       "      <td>5871.780000</td>\n",
       "      <td>3062.756</td>\n",
       "    </tr>\n",
       "  </tbody>\n",
       "</table>\n",
       "</div>"
      ],
      "text/plain": [
       "    Unnamed: 0 country_id        country_name        salary  \\\n",
       "0            1        ARG           Argentina   9647.000000   \n",
       "1            2        AUS           Australia  62300.000000   \n",
       "2            3        AUT             Austria  45807.350000   \n",
       "3            4        BRA              Brazil  16748.510000   \n",
       "4            5        CAN              Canada  55345.000000   \n",
       "5            6        CHE         Switzerland  99302.000000   \n",
       "6            7        CHL               Chile  18194.714000   \n",
       "7            8        CHN               China  25788.780000   \n",
       "8            9        COL            Colombia   9684.000000   \n",
       "9           10        CRI          Costa Rica  35316.000000   \n",
       "10          11        CZE      Czech Republic  12203.000000   \n",
       "11          12        DEU             Germany  59049.301663   \n",
       "12          13        DNK             Denmark  55184.000000   \n",
       "13          14        EST             Estonia  19061.220000   \n",
       "14          15        FIN             Finland  42216.563159   \n",
       "15          16        FRA              France  42457.990000   \n",
       "16          17        GBR        England (UK)  38280.044274   \n",
       "17          18        GRC              Greece  22917.326253   \n",
       "18          19        HUN             Hungary  15564.000000   \n",
       "19          20        IDN           Indonesia   4630.320000   \n",
       "20          21        IRL             Ireland  43220.658848   \n",
       "21          22        ISL             Iceland  41989.440000   \n",
       "22          23        ISR              Israel  47568.000000   \n",
       "23          24        ITA               Italy  35738.888299   \n",
       "24          25        JPN               Japan  36384.000000   \n",
       "25          26        LTU           Lithuania  26142.789541   \n",
       "26          27        LUX          Luxembourg  60394.640000   \n",
       "27          28        LVA              Latvia  11927.880000   \n",
       "28          29        MEX              Mexico  16044.000000   \n",
       "29          30        NOR              Norway  44189.000000   \n",
       "30          31        NZL         New Zealand  48949.000000   \n",
       "31          32        POL              Poland  18068.000000   \n",
       "32          33        PRT            Portugal  15358.530000   \n",
       "33          34        RUS  Russian Federation  15192.000000   \n",
       "34          35        SAU        Saudi Arabia  40224.000000   \n",
       "35          36        SVK     Slovak Republic  16399.436074   \n",
       "36          37        SVN            Slovenia  35504.253147   \n",
       "37          38        SWE              Sweden  37000.000000   \n",
       "38          39        TUR             Türkiye   5871.780000   \n",
       "\n",
       "    expenditure_percapita  \n",
       "0                7612.858  \n",
       "1               31928.353  \n",
       "2               22390.217  \n",
       "3                5431.875  \n",
       "4               25567.441  \n",
       "5               43729.155  \n",
       "6                9657.872  \n",
       "7                4698.876  \n",
       "8                4753.920  \n",
       "9                8141.640  \n",
       "10               9255.229  \n",
       "11              21587.115  \n",
       "12              27471.908  \n",
       "13              10664.238  \n",
       "14              24112.507  \n",
       "15              20171.810  \n",
       "16              29361.085  \n",
       "17              13133.812  \n",
       "18               7930.688  \n",
       "19               2166.313  \n",
       "20              20585.451  \n",
       "21              30042.675  \n",
       "22              21029.968  \n",
       "23              18485.920  \n",
       "24              10404.085  \n",
       "25              11215.149  \n",
       "26              34219.114  \n",
       "27               9191.337  \n",
       "28               6230.653  \n",
       "29              32329.209  \n",
       "30              17079.105  \n",
       "31               9009.787  \n",
       "32              13679.779  \n",
       "33               5463.750  \n",
       "34               8547.939  \n",
       "35              10185.247  \n",
       "36              13319.562  \n",
       "37              24241.578  \n",
       "38               3062.756  "
      ]
     },
     "execution_count": 14,
     "metadata": {},
     "output_type": "execute_result"
    }
   ],
   "source": [
    "salary = pd.read_csv(\"https://raw.githubusercontent.com/nurkhamidah/Education_Dashboard/master/39countries_salary.csv\")\n",
    "salary"
   ]
  },
  {
   "cell_type": "code",
   "execution_count": 15,
   "metadata": {},
   "outputs": [
    {
     "name": "stderr",
     "output_type": "stream",
     "text": [
      "/var/folders/fc/9dfyqjt13ks879g0zmsg9b2h0000gp/T/ipykernel_786/209755026.py:1: SettingWithCopyWarning:\n",
      "\n",
      "\n",
      "A value is trying to be set on a copy of a slice from a DataFrame\n",
      "\n",
      "See the caveats in the documentation: https://pandas.pydata.org/pandas-docs/stable/user_guide/indexing.html#returning-a-view-versus-a-copy\n",
      "\n"
     ]
    },
    {
     "data": {
      "text/html": [
       "<div>\n",
       "<style scoped>\n",
       "    .dataframe tbody tr th:only-of-type {\n",
       "        vertical-align: middle;\n",
       "    }\n",
       "\n",
       "    .dataframe tbody tr th {\n",
       "        vertical-align: top;\n",
       "    }\n",
       "\n",
       "    .dataframe thead th {\n",
       "        text-align: right;\n",
       "    }\n",
       "</style>\n",
       "<table border=\"1\" class=\"dataframe\">\n",
       "  <thead>\n",
       "    <tr style=\"text-align: right;\">\n",
       "      <th></th>\n",
       "      <th>Unnamed: 0</th>\n",
       "      <th>country_id</th>\n",
       "      <th>country_name</th>\n",
       "      <th>salary</th>\n",
       "      <th>expenditure_percapita</th>\n",
       "      <th>ratio</th>\n",
       "    </tr>\n",
       "  </thead>\n",
       "  <tbody>\n",
       "    <tr>\n",
       "      <th>5</th>\n",
       "      <td>6</td>\n",
       "      <td>CHE</td>\n",
       "      <td>Switzerland</td>\n",
       "      <td>99302.000000</td>\n",
       "      <td>43729.155</td>\n",
       "      <td>0.440365</td>\n",
       "    </tr>\n",
       "    <tr>\n",
       "      <th>1</th>\n",
       "      <td>2</td>\n",
       "      <td>AUS</td>\n",
       "      <td>Australia</td>\n",
       "      <td>62300.000000</td>\n",
       "      <td>31928.353</td>\n",
       "      <td>0.512494</td>\n",
       "    </tr>\n",
       "    <tr>\n",
       "      <th>26</th>\n",
       "      <td>27</td>\n",
       "      <td>LUX</td>\n",
       "      <td>Luxembourg</td>\n",
       "      <td>60394.640000</td>\n",
       "      <td>34219.114</td>\n",
       "      <td>0.566592</td>\n",
       "    </tr>\n",
       "    <tr>\n",
       "      <th>11</th>\n",
       "      <td>12</td>\n",
       "      <td>DEU</td>\n",
       "      <td>Germany</td>\n",
       "      <td>59049.301663</td>\n",
       "      <td>21587.115</td>\n",
       "      <td>0.365578</td>\n",
       "    </tr>\n",
       "    <tr>\n",
       "      <th>4</th>\n",
       "      <td>5</td>\n",
       "      <td>CAN</td>\n",
       "      <td>Canada</td>\n",
       "      <td>55345.000000</td>\n",
       "      <td>25567.441</td>\n",
       "      <td>0.461965</td>\n",
       "    </tr>\n",
       "    <tr>\n",
       "      <th>12</th>\n",
       "      <td>13</td>\n",
       "      <td>DNK</td>\n",
       "      <td>Denmark</td>\n",
       "      <td>55184.000000</td>\n",
       "      <td>27471.908</td>\n",
       "      <td>0.497824</td>\n",
       "    </tr>\n",
       "    <tr>\n",
       "      <th>30</th>\n",
       "      <td>31</td>\n",
       "      <td>NZL</td>\n",
       "      <td>New Zealand</td>\n",
       "      <td>48949.000000</td>\n",
       "      <td>17079.105</td>\n",
       "      <td>0.348916</td>\n",
       "    </tr>\n",
       "    <tr>\n",
       "      <th>22</th>\n",
       "      <td>23</td>\n",
       "      <td>ISR</td>\n",
       "      <td>Israel</td>\n",
       "      <td>47568.000000</td>\n",
       "      <td>21029.968</td>\n",
       "      <td>0.442103</td>\n",
       "    </tr>\n",
       "    <tr>\n",
       "      <th>2</th>\n",
       "      <td>3</td>\n",
       "      <td>AUT</td>\n",
       "      <td>Austria</td>\n",
       "      <td>45807.350000</td>\n",
       "      <td>22390.217</td>\n",
       "      <td>0.488791</td>\n",
       "    </tr>\n",
       "    <tr>\n",
       "      <th>29</th>\n",
       "      <td>30</td>\n",
       "      <td>NOR</td>\n",
       "      <td>Norway</td>\n",
       "      <td>44189.000000</td>\n",
       "      <td>32329.209</td>\n",
       "      <td>0.731612</td>\n",
       "    </tr>\n",
       "    <tr>\n",
       "      <th>20</th>\n",
       "      <td>21</td>\n",
       "      <td>IRL</td>\n",
       "      <td>Ireland</td>\n",
       "      <td>43220.658848</td>\n",
       "      <td>20585.451</td>\n",
       "      <td>0.476287</td>\n",
       "    </tr>\n",
       "    <tr>\n",
       "      <th>15</th>\n",
       "      <td>16</td>\n",
       "      <td>FRA</td>\n",
       "      <td>France</td>\n",
       "      <td>42457.990000</td>\n",
       "      <td>20171.810</td>\n",
       "      <td>0.475100</td>\n",
       "    </tr>\n",
       "    <tr>\n",
       "      <th>14</th>\n",
       "      <td>15</td>\n",
       "      <td>FIN</td>\n",
       "      <td>Finland</td>\n",
       "      <td>42216.563159</td>\n",
       "      <td>24112.507</td>\n",
       "      <td>0.571162</td>\n",
       "    </tr>\n",
       "    <tr>\n",
       "      <th>21</th>\n",
       "      <td>22</td>\n",
       "      <td>ISL</td>\n",
       "      <td>Iceland</td>\n",
       "      <td>41989.440000</td>\n",
       "      <td>30042.675</td>\n",
       "      <td>0.715482</td>\n",
       "    </tr>\n",
       "    <tr>\n",
       "      <th>34</th>\n",
       "      <td>35</td>\n",
       "      <td>SAU</td>\n",
       "      <td>Saudi Arabia</td>\n",
       "      <td>40224.000000</td>\n",
       "      <td>8547.939</td>\n",
       "      <td>0.212508</td>\n",
       "    </tr>\n",
       "    <tr>\n",
       "      <th>16</th>\n",
       "      <td>17</td>\n",
       "      <td>GBR</td>\n",
       "      <td>England (UK)</td>\n",
       "      <td>38280.044274</td>\n",
       "      <td>29361.085</td>\n",
       "      <td>0.767008</td>\n",
       "    </tr>\n",
       "    <tr>\n",
       "      <th>37</th>\n",
       "      <td>38</td>\n",
       "      <td>SWE</td>\n",
       "      <td>Sweden</td>\n",
       "      <td>37000.000000</td>\n",
       "      <td>24241.578</td>\n",
       "      <td>0.655178</td>\n",
       "    </tr>\n",
       "    <tr>\n",
       "      <th>24</th>\n",
       "      <td>25</td>\n",
       "      <td>JPN</td>\n",
       "      <td>Japan</td>\n",
       "      <td>36384.000000</td>\n",
       "      <td>10404.085</td>\n",
       "      <td>0.285952</td>\n",
       "    </tr>\n",
       "    <tr>\n",
       "      <th>23</th>\n",
       "      <td>24</td>\n",
       "      <td>ITA</td>\n",
       "      <td>Italy</td>\n",
       "      <td>35738.888299</td>\n",
       "      <td>18485.920</td>\n",
       "      <td>0.517249</td>\n",
       "    </tr>\n",
       "    <tr>\n",
       "      <th>36</th>\n",
       "      <td>37</td>\n",
       "      <td>SVN</td>\n",
       "      <td>Slovenia</td>\n",
       "      <td>35504.253147</td>\n",
       "      <td>13319.562</td>\n",
       "      <td>0.375154</td>\n",
       "    </tr>\n",
       "    <tr>\n",
       "      <th>9</th>\n",
       "      <td>10</td>\n",
       "      <td>CRI</td>\n",
       "      <td>Costa Rica</td>\n",
       "      <td>35316.000000</td>\n",
       "      <td>8141.640</td>\n",
       "      <td>0.230537</td>\n",
       "    </tr>\n",
       "    <tr>\n",
       "      <th>25</th>\n",
       "      <td>26</td>\n",
       "      <td>LTU</td>\n",
       "      <td>Lithuania</td>\n",
       "      <td>26142.789541</td>\n",
       "      <td>11215.149</td>\n",
       "      <td>0.428996</td>\n",
       "    </tr>\n",
       "    <tr>\n",
       "      <th>7</th>\n",
       "      <td>8</td>\n",
       "      <td>CHN</td>\n",
       "      <td>China</td>\n",
       "      <td>25788.780000</td>\n",
       "      <td>4698.876</td>\n",
       "      <td>0.182206</td>\n",
       "    </tr>\n",
       "    <tr>\n",
       "      <th>17</th>\n",
       "      <td>18</td>\n",
       "      <td>GRC</td>\n",
       "      <td>Greece</td>\n",
       "      <td>22917.326253</td>\n",
       "      <td>13133.812</td>\n",
       "      <td>0.573095</td>\n",
       "    </tr>\n",
       "    <tr>\n",
       "      <th>13</th>\n",
       "      <td>14</td>\n",
       "      <td>EST</td>\n",
       "      <td>Estonia</td>\n",
       "      <td>19061.220000</td>\n",
       "      <td>10664.238</td>\n",
       "      <td>0.559473</td>\n",
       "    </tr>\n",
       "    <tr>\n",
       "      <th>6</th>\n",
       "      <td>7</td>\n",
       "      <td>CHL</td>\n",
       "      <td>Chile</td>\n",
       "      <td>18194.714000</td>\n",
       "      <td>9657.872</td>\n",
       "      <td>0.530806</td>\n",
       "    </tr>\n",
       "    <tr>\n",
       "      <th>31</th>\n",
       "      <td>32</td>\n",
       "      <td>POL</td>\n",
       "      <td>Poland</td>\n",
       "      <td>18068.000000</td>\n",
       "      <td>9009.787</td>\n",
       "      <td>0.498660</td>\n",
       "    </tr>\n",
       "    <tr>\n",
       "      <th>3</th>\n",
       "      <td>4</td>\n",
       "      <td>BRA</td>\n",
       "      <td>Brazil</td>\n",
       "      <td>16748.510000</td>\n",
       "      <td>5431.875</td>\n",
       "      <td>0.324320</td>\n",
       "    </tr>\n",
       "    <tr>\n",
       "      <th>35</th>\n",
       "      <td>36</td>\n",
       "      <td>SVK</td>\n",
       "      <td>Slovak Republic</td>\n",
       "      <td>16399.436074</td>\n",
       "      <td>10185.247</td>\n",
       "      <td>0.621073</td>\n",
       "    </tr>\n",
       "    <tr>\n",
       "      <th>28</th>\n",
       "      <td>29</td>\n",
       "      <td>MEX</td>\n",
       "      <td>Mexico</td>\n",
       "      <td>16044.000000</td>\n",
       "      <td>6230.653</td>\n",
       "      <td>0.388348</td>\n",
       "    </tr>\n",
       "    <tr>\n",
       "      <th>18</th>\n",
       "      <td>19</td>\n",
       "      <td>HUN</td>\n",
       "      <td>Hungary</td>\n",
       "      <td>15564.000000</td>\n",
       "      <td>7930.688</td>\n",
       "      <td>0.509553</td>\n",
       "    </tr>\n",
       "    <tr>\n",
       "      <th>32</th>\n",
       "      <td>33</td>\n",
       "      <td>PRT</td>\n",
       "      <td>Portugal</td>\n",
       "      <td>15358.530000</td>\n",
       "      <td>13679.779</td>\n",
       "      <td>0.890696</td>\n",
       "    </tr>\n",
       "    <tr>\n",
       "      <th>33</th>\n",
       "      <td>34</td>\n",
       "      <td>RUS</td>\n",
       "      <td>Russian Federation</td>\n",
       "      <td>15192.000000</td>\n",
       "      <td>5463.750</td>\n",
       "      <td>0.359647</td>\n",
       "    </tr>\n",
       "    <tr>\n",
       "      <th>10</th>\n",
       "      <td>11</td>\n",
       "      <td>CZE</td>\n",
       "      <td>Czech Republic</td>\n",
       "      <td>12203.000000</td>\n",
       "      <td>9255.229</td>\n",
       "      <td>0.758439</td>\n",
       "    </tr>\n",
       "    <tr>\n",
       "      <th>27</th>\n",
       "      <td>28</td>\n",
       "      <td>LVA</td>\n",
       "      <td>Latvia</td>\n",
       "      <td>11927.880000</td>\n",
       "      <td>9191.337</td>\n",
       "      <td>0.770576</td>\n",
       "    </tr>\n",
       "    <tr>\n",
       "      <th>8</th>\n",
       "      <td>9</td>\n",
       "      <td>COL</td>\n",
       "      <td>Colombia</td>\n",
       "      <td>9684.000000</td>\n",
       "      <td>4753.920</td>\n",
       "      <td>0.490905</td>\n",
       "    </tr>\n",
       "    <tr>\n",
       "      <th>0</th>\n",
       "      <td>1</td>\n",
       "      <td>ARG</td>\n",
       "      <td>Argentina</td>\n",
       "      <td>9647.000000</td>\n",
       "      <td>7612.858</td>\n",
       "      <td>0.789143</td>\n",
       "    </tr>\n",
       "    <tr>\n",
       "      <th>38</th>\n",
       "      <td>39</td>\n",
       "      <td>TUR</td>\n",
       "      <td>Türkiye</td>\n",
       "      <td>5871.780000</td>\n",
       "      <td>3062.756</td>\n",
       "      <td>0.521606</td>\n",
       "    </tr>\n",
       "    <tr>\n",
       "      <th>19</th>\n",
       "      <td>20</td>\n",
       "      <td>IDN</td>\n",
       "      <td>Indonesia</td>\n",
       "      <td>4630.320000</td>\n",
       "      <td>2166.313</td>\n",
       "      <td>0.467854</td>\n",
       "    </tr>\n",
       "  </tbody>\n",
       "</table>\n",
       "</div>"
      ],
      "text/plain": [
       "    Unnamed: 0 country_id        country_name        salary  \\\n",
       "5            6        CHE         Switzerland  99302.000000   \n",
       "1            2        AUS           Australia  62300.000000   \n",
       "26          27        LUX          Luxembourg  60394.640000   \n",
       "11          12        DEU             Germany  59049.301663   \n",
       "4            5        CAN              Canada  55345.000000   \n",
       "12          13        DNK             Denmark  55184.000000   \n",
       "30          31        NZL         New Zealand  48949.000000   \n",
       "22          23        ISR              Israel  47568.000000   \n",
       "2            3        AUT             Austria  45807.350000   \n",
       "29          30        NOR              Norway  44189.000000   \n",
       "20          21        IRL             Ireland  43220.658848   \n",
       "15          16        FRA              France  42457.990000   \n",
       "14          15        FIN             Finland  42216.563159   \n",
       "21          22        ISL             Iceland  41989.440000   \n",
       "34          35        SAU        Saudi Arabia  40224.000000   \n",
       "16          17        GBR        England (UK)  38280.044274   \n",
       "37          38        SWE              Sweden  37000.000000   \n",
       "24          25        JPN               Japan  36384.000000   \n",
       "23          24        ITA               Italy  35738.888299   \n",
       "36          37        SVN            Slovenia  35504.253147   \n",
       "9           10        CRI          Costa Rica  35316.000000   \n",
       "25          26        LTU           Lithuania  26142.789541   \n",
       "7            8        CHN               China  25788.780000   \n",
       "17          18        GRC              Greece  22917.326253   \n",
       "13          14        EST             Estonia  19061.220000   \n",
       "6            7        CHL               Chile  18194.714000   \n",
       "31          32        POL              Poland  18068.000000   \n",
       "3            4        BRA              Brazil  16748.510000   \n",
       "35          36        SVK     Slovak Republic  16399.436074   \n",
       "28          29        MEX              Mexico  16044.000000   \n",
       "18          19        HUN             Hungary  15564.000000   \n",
       "32          33        PRT            Portugal  15358.530000   \n",
       "33          34        RUS  Russian Federation  15192.000000   \n",
       "10          11        CZE      Czech Republic  12203.000000   \n",
       "27          28        LVA              Latvia  11927.880000   \n",
       "8            9        COL            Colombia   9684.000000   \n",
       "0            1        ARG           Argentina   9647.000000   \n",
       "38          39        TUR             Türkiye   5871.780000   \n",
       "19          20        IDN           Indonesia   4630.320000   \n",
       "\n",
       "    expenditure_percapita     ratio  \n",
       "5               43729.155  0.440365  \n",
       "1               31928.353  0.512494  \n",
       "26              34219.114  0.566592  \n",
       "11              21587.115  0.365578  \n",
       "4               25567.441  0.461965  \n",
       "12              27471.908  0.497824  \n",
       "30              17079.105  0.348916  \n",
       "22              21029.968  0.442103  \n",
       "2               22390.217  0.488791  \n",
       "29              32329.209  0.731612  \n",
       "20              20585.451  0.476287  \n",
       "15              20171.810  0.475100  \n",
       "14              24112.507  0.571162  \n",
       "21              30042.675  0.715482  \n",
       "34               8547.939  0.212508  \n",
       "16              29361.085  0.767008  \n",
       "37              24241.578  0.655178  \n",
       "24              10404.085  0.285952  \n",
       "23              18485.920  0.517249  \n",
       "36              13319.562  0.375154  \n",
       "9                8141.640  0.230537  \n",
       "25              11215.149  0.428996  \n",
       "7                4698.876  0.182206  \n",
       "17              13133.812  0.573095  \n",
       "13              10664.238  0.559473  \n",
       "6                9657.872  0.530806  \n",
       "31               9009.787  0.498660  \n",
       "3                5431.875  0.324320  \n",
       "35              10185.247  0.621073  \n",
       "28               6230.653  0.388348  \n",
       "18               7930.688  0.509553  \n",
       "32              13679.779  0.890696  \n",
       "33               5463.750  0.359647  \n",
       "10               9255.229  0.758439  \n",
       "27               9191.337  0.770576  \n",
       "8                4753.920  0.490905  \n",
       "0                7612.858  0.789143  \n",
       "38               3062.756  0.521606  \n",
       "19               2166.313  0.467854  "
      ]
     },
     "execution_count": 15,
     "metadata": {},
     "output_type": "execute_result"
    }
   ],
   "source": [
    "salary['salary'][salary['country_id'] == 'SWE'] = 37000\n",
    "salary_use = salary\n",
    "salary_use['ratio'] = salary_use['expenditure_percapita']/salary_use['salary']\n",
    "salary_use = salary_use.sort_values('salary', ascending=False)\n",
    "salary_use"
   ]
  },
  {
   "cell_type": "code",
   "execution_count": 16,
   "metadata": {},
   "outputs": [
    {
     "data": {
      "application/vnd.plotly.v1+json": {
       "config": {
        "plotlyServerURL": "https://plot.ly"
       },
       "data": [
        {
         "hovertemplate": "Country: %{x}<br>Salary: %{y}USD<br><extra></extra>",
         "name": "Salary (Year) in USD",
         "type": "bar",
         "x": [
          "Switzerland",
          "Australia",
          "Luxembourg",
          "Germany",
          "Canada",
          "Denmark",
          "New Zealand",
          "Israel",
          "Austria",
          "Norway",
          "Ireland",
          "France",
          "Finland",
          "Iceland",
          "Saudi Arabia",
          "England (UK)",
          "Sweden",
          "Japan",
          "Italy",
          "Slovenia",
          "Costa Rica",
          "Lithuania",
          "China",
          "Greece",
          "Estonia",
          "Chile",
          "Poland",
          "Brazil",
          "Slovak Republic",
          "Mexico",
          "Hungary",
          "Portugal",
          "Russian Federation",
          "Czech Republic",
          "Latvia",
          "Colombia",
          "Argentina",
          "Türkiye",
          "Indonesia"
         ],
         "y": [
          99302,
          62300,
          60394.64,
          59049.3016631247,
          55345,
          55184,
          48949,
          47568,
          45807.35,
          44189,
          43220.6588480204,
          42457.99,
          42216.5631587502,
          41989.44,
          40224,
          38280.0442739586,
          37000,
          36384,
          35738.8882987495,
          35504.2531468748,
          35316,
          26142.7895412496,
          25788.78,
          22917.3262527084,
          19061.22,
          18194.714,
          18068,
          16748.51,
          16399.4360735417,
          16044,
          15564,
          15358.53,
          15192,
          12203,
          11927.88,
          9684,
          9647,
          5871.78,
          4630.32
         ]
        },
        {
         "customdata": [
          0.44,
          0.51,
          0.57,
          0.37,
          0.46,
          0.5,
          0.35,
          0.44,
          0.49,
          0.73,
          0.48,
          0.48,
          0.57,
          0.72,
          0.21,
          0.77,
          0.66,
          0.29,
          0.52,
          0.38,
          0.23,
          0.43,
          0.18,
          0.57,
          0.56,
          0.53,
          0.5,
          0.32,
          0.62,
          0.39,
          0.51,
          0.89,
          0.36,
          0.76,
          0.77,
          0.49,
          0.79,
          0.52,
          0.47
         ],
         "hovertemplate": "Country: %{x}<br>Expenditure Percapita: %{y}USD<br>Ratio: %{customdata}%<extra></extra>",
         "name": "Expenditure Percapita",
         "type": "bar",
         "x": [
          "Switzerland",
          "Australia",
          "Luxembourg",
          "Germany",
          "Canada",
          "Denmark",
          "New Zealand",
          "Israel",
          "Austria",
          "Norway",
          "Ireland",
          "France",
          "Finland",
          "Iceland",
          "Saudi Arabia",
          "England (UK)",
          "Sweden",
          "Japan",
          "Italy",
          "Slovenia",
          "Costa Rica",
          "Lithuania",
          "China",
          "Greece",
          "Estonia",
          "Chile",
          "Poland",
          "Brazil",
          "Slovak Republic",
          "Mexico",
          "Hungary",
          "Portugal",
          "Russian Federation",
          "Czech Republic",
          "Latvia",
          "Colombia",
          "Argentina",
          "Türkiye",
          "Indonesia"
         ],
         "y": [
          43729.155,
          31928.353,
          34219.114,
          21587.115,
          25567.441,
          27471.908,
          17079.105,
          21029.968,
          22390.217,
          32329.209,
          20585.451,
          20171.81,
          24112.507,
          30042.675,
          8547.939,
          29361.085,
          24241.578,
          10404.085,
          18485.92,
          13319.562,
          8141.64,
          11215.149,
          4698.876,
          13133.812,
          10664.238,
          9657.872,
          9009.787,
          5431.875,
          10185.247,
          6230.653,
          7930.688,
          13679.779,
          5463.75,
          9255.229,
          9191.337,
          4753.92,
          7612.858,
          3062.756,
          2166.313
         ]
        }
       ],
       "layout": {
        "barmode": "group",
        "legend": {
         "x": 0.99,
         "xanchor": "right",
         "y": 0.99,
         "yanchor": "top"
        },
        "template": {
         "data": {
          "bar": [
           {
            "error_x": {
             "color": "#2a3f5f"
            },
            "error_y": {
             "color": "#2a3f5f"
            },
            "marker": {
             "line": {
              "color": "#E5ECF6",
              "width": 0.5
             },
             "pattern": {
              "fillmode": "overlay",
              "size": 10,
              "solidity": 0.2
             }
            },
            "type": "bar"
           }
          ],
          "barpolar": [
           {
            "marker": {
             "line": {
              "color": "#E5ECF6",
              "width": 0.5
             },
             "pattern": {
              "fillmode": "overlay",
              "size": 10,
              "solidity": 0.2
             }
            },
            "type": "barpolar"
           }
          ],
          "carpet": [
           {
            "aaxis": {
             "endlinecolor": "#2a3f5f",
             "gridcolor": "white",
             "linecolor": "white",
             "minorgridcolor": "white",
             "startlinecolor": "#2a3f5f"
            },
            "baxis": {
             "endlinecolor": "#2a3f5f",
             "gridcolor": "white",
             "linecolor": "white",
             "minorgridcolor": "white",
             "startlinecolor": "#2a3f5f"
            },
            "type": "carpet"
           }
          ],
          "choropleth": [
           {
            "colorbar": {
             "outlinewidth": 0,
             "ticks": ""
            },
            "type": "choropleth"
           }
          ],
          "contour": [
           {
            "colorbar": {
             "outlinewidth": 0,
             "ticks": ""
            },
            "colorscale": [
             [
              0,
              "#0d0887"
             ],
             [
              0.1111111111111111,
              "#46039f"
             ],
             [
              0.2222222222222222,
              "#7201a8"
             ],
             [
              0.3333333333333333,
              "#9c179e"
             ],
             [
              0.4444444444444444,
              "#bd3786"
             ],
             [
              0.5555555555555556,
              "#d8576b"
             ],
             [
              0.6666666666666666,
              "#ed7953"
             ],
             [
              0.7777777777777778,
              "#fb9f3a"
             ],
             [
              0.8888888888888888,
              "#fdca26"
             ],
             [
              1,
              "#f0f921"
             ]
            ],
            "type": "contour"
           }
          ],
          "contourcarpet": [
           {
            "colorbar": {
             "outlinewidth": 0,
             "ticks": ""
            },
            "type": "contourcarpet"
           }
          ],
          "heatmap": [
           {
            "colorbar": {
             "outlinewidth": 0,
             "ticks": ""
            },
            "colorscale": [
             [
              0,
              "#0d0887"
             ],
             [
              0.1111111111111111,
              "#46039f"
             ],
             [
              0.2222222222222222,
              "#7201a8"
             ],
             [
              0.3333333333333333,
              "#9c179e"
             ],
             [
              0.4444444444444444,
              "#bd3786"
             ],
             [
              0.5555555555555556,
              "#d8576b"
             ],
             [
              0.6666666666666666,
              "#ed7953"
             ],
             [
              0.7777777777777778,
              "#fb9f3a"
             ],
             [
              0.8888888888888888,
              "#fdca26"
             ],
             [
              1,
              "#f0f921"
             ]
            ],
            "type": "heatmap"
           }
          ],
          "heatmapgl": [
           {
            "colorbar": {
             "outlinewidth": 0,
             "ticks": ""
            },
            "colorscale": [
             [
              0,
              "#0d0887"
             ],
             [
              0.1111111111111111,
              "#46039f"
             ],
             [
              0.2222222222222222,
              "#7201a8"
             ],
             [
              0.3333333333333333,
              "#9c179e"
             ],
             [
              0.4444444444444444,
              "#bd3786"
             ],
             [
              0.5555555555555556,
              "#d8576b"
             ],
             [
              0.6666666666666666,
              "#ed7953"
             ],
             [
              0.7777777777777778,
              "#fb9f3a"
             ],
             [
              0.8888888888888888,
              "#fdca26"
             ],
             [
              1,
              "#f0f921"
             ]
            ],
            "type": "heatmapgl"
           }
          ],
          "histogram": [
           {
            "marker": {
             "pattern": {
              "fillmode": "overlay",
              "size": 10,
              "solidity": 0.2
             }
            },
            "type": "histogram"
           }
          ],
          "histogram2d": [
           {
            "colorbar": {
             "outlinewidth": 0,
             "ticks": ""
            },
            "colorscale": [
             [
              0,
              "#0d0887"
             ],
             [
              0.1111111111111111,
              "#46039f"
             ],
             [
              0.2222222222222222,
              "#7201a8"
             ],
             [
              0.3333333333333333,
              "#9c179e"
             ],
             [
              0.4444444444444444,
              "#bd3786"
             ],
             [
              0.5555555555555556,
              "#d8576b"
             ],
             [
              0.6666666666666666,
              "#ed7953"
             ],
             [
              0.7777777777777778,
              "#fb9f3a"
             ],
             [
              0.8888888888888888,
              "#fdca26"
             ],
             [
              1,
              "#f0f921"
             ]
            ],
            "type": "histogram2d"
           }
          ],
          "histogram2dcontour": [
           {
            "colorbar": {
             "outlinewidth": 0,
             "ticks": ""
            },
            "colorscale": [
             [
              0,
              "#0d0887"
             ],
             [
              0.1111111111111111,
              "#46039f"
             ],
             [
              0.2222222222222222,
              "#7201a8"
             ],
             [
              0.3333333333333333,
              "#9c179e"
             ],
             [
              0.4444444444444444,
              "#bd3786"
             ],
             [
              0.5555555555555556,
              "#d8576b"
             ],
             [
              0.6666666666666666,
              "#ed7953"
             ],
             [
              0.7777777777777778,
              "#fb9f3a"
             ],
             [
              0.8888888888888888,
              "#fdca26"
             ],
             [
              1,
              "#f0f921"
             ]
            ],
            "type": "histogram2dcontour"
           }
          ],
          "mesh3d": [
           {
            "colorbar": {
             "outlinewidth": 0,
             "ticks": ""
            },
            "type": "mesh3d"
           }
          ],
          "parcoords": [
           {
            "line": {
             "colorbar": {
              "outlinewidth": 0,
              "ticks": ""
             }
            },
            "type": "parcoords"
           }
          ],
          "pie": [
           {
            "automargin": true,
            "type": "pie"
           }
          ],
          "scatter": [
           {
            "fillpattern": {
             "fillmode": "overlay",
             "size": 10,
             "solidity": 0.2
            },
            "type": "scatter"
           }
          ],
          "scatter3d": [
           {
            "line": {
             "colorbar": {
              "outlinewidth": 0,
              "ticks": ""
             }
            },
            "marker": {
             "colorbar": {
              "outlinewidth": 0,
              "ticks": ""
             }
            },
            "type": "scatter3d"
           }
          ],
          "scattercarpet": [
           {
            "marker": {
             "colorbar": {
              "outlinewidth": 0,
              "ticks": ""
             }
            },
            "type": "scattercarpet"
           }
          ],
          "scattergeo": [
           {
            "marker": {
             "colorbar": {
              "outlinewidth": 0,
              "ticks": ""
             }
            },
            "type": "scattergeo"
           }
          ],
          "scattergl": [
           {
            "marker": {
             "colorbar": {
              "outlinewidth": 0,
              "ticks": ""
             }
            },
            "type": "scattergl"
           }
          ],
          "scattermapbox": [
           {
            "marker": {
             "colorbar": {
              "outlinewidth": 0,
              "ticks": ""
             }
            },
            "type": "scattermapbox"
           }
          ],
          "scatterpolar": [
           {
            "marker": {
             "colorbar": {
              "outlinewidth": 0,
              "ticks": ""
             }
            },
            "type": "scatterpolar"
           }
          ],
          "scatterpolargl": [
           {
            "marker": {
             "colorbar": {
              "outlinewidth": 0,
              "ticks": ""
             }
            },
            "type": "scatterpolargl"
           }
          ],
          "scatterternary": [
           {
            "marker": {
             "colorbar": {
              "outlinewidth": 0,
              "ticks": ""
             }
            },
            "type": "scatterternary"
           }
          ],
          "surface": [
           {
            "colorbar": {
             "outlinewidth": 0,
             "ticks": ""
            },
            "colorscale": [
             [
              0,
              "#0d0887"
             ],
             [
              0.1111111111111111,
              "#46039f"
             ],
             [
              0.2222222222222222,
              "#7201a8"
             ],
             [
              0.3333333333333333,
              "#9c179e"
             ],
             [
              0.4444444444444444,
              "#bd3786"
             ],
             [
              0.5555555555555556,
              "#d8576b"
             ],
             [
              0.6666666666666666,
              "#ed7953"
             ],
             [
              0.7777777777777778,
              "#fb9f3a"
             ],
             [
              0.8888888888888888,
              "#fdca26"
             ],
             [
              1,
              "#f0f921"
             ]
            ],
            "type": "surface"
           }
          ],
          "table": [
           {
            "cells": {
             "fill": {
              "color": "#EBF0F8"
             },
             "line": {
              "color": "white"
             }
            },
            "header": {
             "fill": {
              "color": "#C8D4E3"
             },
             "line": {
              "color": "white"
             }
            },
            "type": "table"
           }
          ]
         },
         "layout": {
          "annotationdefaults": {
           "arrowcolor": "#2a3f5f",
           "arrowhead": 0,
           "arrowwidth": 1
          },
          "autotypenumbers": "strict",
          "coloraxis": {
           "colorbar": {
            "outlinewidth": 0,
            "ticks": ""
           }
          },
          "colorscale": {
           "diverging": [
            [
             0,
             "#8e0152"
            ],
            [
             0.1,
             "#c51b7d"
            ],
            [
             0.2,
             "#de77ae"
            ],
            [
             0.3,
             "#f1b6da"
            ],
            [
             0.4,
             "#fde0ef"
            ],
            [
             0.5,
             "#f7f7f7"
            ],
            [
             0.6,
             "#e6f5d0"
            ],
            [
             0.7,
             "#b8e186"
            ],
            [
             0.8,
             "#7fbc41"
            ],
            [
             0.9,
             "#4d9221"
            ],
            [
             1,
             "#276419"
            ]
           ],
           "sequential": [
            [
             0,
             "#0d0887"
            ],
            [
             0.1111111111111111,
             "#46039f"
            ],
            [
             0.2222222222222222,
             "#7201a8"
            ],
            [
             0.3333333333333333,
             "#9c179e"
            ],
            [
             0.4444444444444444,
             "#bd3786"
            ],
            [
             0.5555555555555556,
             "#d8576b"
            ],
            [
             0.6666666666666666,
             "#ed7953"
            ],
            [
             0.7777777777777778,
             "#fb9f3a"
            ],
            [
             0.8888888888888888,
             "#fdca26"
            ],
            [
             1,
             "#f0f921"
            ]
           ],
           "sequentialminus": [
            [
             0,
             "#0d0887"
            ],
            [
             0.1111111111111111,
             "#46039f"
            ],
            [
             0.2222222222222222,
             "#7201a8"
            ],
            [
             0.3333333333333333,
             "#9c179e"
            ],
            [
             0.4444444444444444,
             "#bd3786"
            ],
            [
             0.5555555555555556,
             "#d8576b"
            ],
            [
             0.6666666666666666,
             "#ed7953"
            ],
            [
             0.7777777777777778,
             "#fb9f3a"
            ],
            [
             0.8888888888888888,
             "#fdca26"
            ],
            [
             1,
             "#f0f921"
            ]
           ]
          },
          "colorway": [
           "#636efa",
           "#EF553B",
           "#00cc96",
           "#ab63fa",
           "#FFA15A",
           "#19d3f3",
           "#FF6692",
           "#B6E880",
           "#FF97FF",
           "#FECB52"
          ],
          "font": {
           "color": "#2a3f5f"
          },
          "geo": {
           "bgcolor": "white",
           "lakecolor": "white",
           "landcolor": "#E5ECF6",
           "showlakes": true,
           "showland": true,
           "subunitcolor": "white"
          },
          "hoverlabel": {
           "align": "left"
          },
          "hovermode": "closest",
          "mapbox": {
           "style": "light"
          },
          "paper_bgcolor": "white",
          "plot_bgcolor": "#E5ECF6",
          "polar": {
           "angularaxis": {
            "gridcolor": "white",
            "linecolor": "white",
            "ticks": ""
           },
           "bgcolor": "#E5ECF6",
           "radialaxis": {
            "gridcolor": "white",
            "linecolor": "white",
            "ticks": ""
           }
          },
          "scene": {
           "xaxis": {
            "backgroundcolor": "#E5ECF6",
            "gridcolor": "white",
            "gridwidth": 2,
            "linecolor": "white",
            "showbackground": true,
            "ticks": "",
            "zerolinecolor": "white"
           },
           "yaxis": {
            "backgroundcolor": "#E5ECF6",
            "gridcolor": "white",
            "gridwidth": 2,
            "linecolor": "white",
            "showbackground": true,
            "ticks": "",
            "zerolinecolor": "white"
           },
           "zaxis": {
            "backgroundcolor": "#E5ECF6",
            "gridcolor": "white",
            "gridwidth": 2,
            "linecolor": "white",
            "showbackground": true,
            "ticks": "",
            "zerolinecolor": "white"
           }
          },
          "shapedefaults": {
           "line": {
            "color": "#2a3f5f"
           }
          },
          "ternary": {
           "aaxis": {
            "gridcolor": "white",
            "linecolor": "white",
            "ticks": ""
           },
           "baxis": {
            "gridcolor": "white",
            "linecolor": "white",
            "ticks": ""
           },
           "bgcolor": "#E5ECF6",
           "caxis": {
            "gridcolor": "white",
            "linecolor": "white",
            "ticks": ""
           }
          },
          "title": {
           "x": 0.05
          },
          "xaxis": {
           "automargin": true,
           "gridcolor": "white",
           "linecolor": "white",
           "ticks": "",
           "title": {
            "standoff": 15
           },
           "zerolinecolor": "white",
           "zerolinewidth": 2
          },
          "yaxis": {
           "automargin": true,
           "gridcolor": "white",
           "linecolor": "white",
           "ticks": "",
           "title": {
            "standoff": 15
           },
           "zerolinecolor": "white",
           "zerolinewidth": 2
          }
         }
        }
       }
      }
     },
     "metadata": {},
     "output_type": "display_data"
    }
   ],
   "source": [
    "animals=['giraffes', 'orangutans', 'monkeys']\n",
    "\n",
    "sal = go.Figure(data=[\n",
    "    go.Bar(name='Salary (Year) in USD', \n",
    "           x=salary_use['country_name'], \n",
    "           y=salary_use['salary'],\n",
    "           hovertemplate='Country: %{x}<br>'+\n",
    "           'Salary: %{y}'+'USD'+'<br>'+\n",
    "           '<extra></extra>',\n",
    "           ),\n",
    "    go.Bar(name='Expenditure Percapita', \n",
    "           x=salary_use['country_name'], \n",
    "           y=salary_use['expenditure_percapita'],\n",
    "           customdata=salary_use['ratio'].round(2),\n",
    "           hovertemplate='Country: %{x}<br>'+\n",
    "           'Expenditure Percapita: %{y}'+'USD'+'<br>'+\n",
    "           'Ratio: %{customdata}'+'%'+\n",
    "           '<extra></extra>',\n",
    "           )],\n",
    "                )\n",
    "# Change the bar mode\n",
    "sal.update_layout(barmode='group',\n",
    "                  legend=dict(\n",
    "                      yanchor='top',\n",
    "                      y=0.99,\n",
    "                      xanchor='right',\n",
    "                      x=0.99\n",
    "                  ))\n",
    "sal.show()"
   ]
  },
  {
   "cell_type": "markdown",
   "metadata": {},
   "source": [
    "## All Data (For Regression Analysis)"
   ]
  },
  {
   "cell_type": "code",
   "execution_count": 17,
   "metadata": {},
   "outputs": [
    {
     "data": {
      "text/html": [
       "<div>\n",
       "<style scoped>\n",
       "    .dataframe tbody tr th:only-of-type {\n",
       "        vertical-align: middle;\n",
       "    }\n",
       "\n",
       "    .dataframe tbody tr th {\n",
       "        vertical-align: top;\n",
       "    }\n",
       "\n",
       "    .dataframe thead th {\n",
       "        text-align: right;\n",
       "    }\n",
       "</style>\n",
       "<table border=\"1\" class=\"dataframe\">\n",
       "  <thead>\n",
       "    <tr style=\"text-align: right;\">\n",
       "      <th></th>\n",
       "      <th>Unnamed: 0</th>\n",
       "      <th>country_id</th>\n",
       "      <th>country_name</th>\n",
       "      <th>salary</th>\n",
       "      <th>expenditure_percapita</th>\n",
       "      <th>gov_expenditure</th>\n",
       "      <th>net_user</th>\n",
       "      <th>expected_school</th>\n",
       "      <th>years_school</th>\n",
       "      <th>reading_mean</th>\n",
       "      <th>math_mean</th>\n",
       "      <th>science_mean</th>\n",
       "      <th>country_index</th>\n",
       "    </tr>\n",
       "  </thead>\n",
       "  <tbody>\n",
       "    <tr>\n",
       "      <th>0</th>\n",
       "      <td>1</td>\n",
       "      <td>ARG</td>\n",
       "      <td>Argentina</td>\n",
       "      <td>9647.000000</td>\n",
       "      <td>7612.858</td>\n",
       "      <td>12.523</td>\n",
       "      <td>85.500</td>\n",
       "      <td>17.9</td>\n",
       "      <td>11.1</td>\n",
       "      <td>402</td>\n",
       "      <td>379</td>\n",
       "      <td>404</td>\n",
       "      <td>0.855</td>\n",
       "    </tr>\n",
       "    <tr>\n",
       "      <th>1</th>\n",
       "      <td>2</td>\n",
       "      <td>AUS</td>\n",
       "      <td>Australia</td>\n",
       "      <td>62300.000000</td>\n",
       "      <td>31928.353</td>\n",
       "      <td>12.600</td>\n",
       "      <td>89.600</td>\n",
       "      <td>21.1</td>\n",
       "      <td>12.7</td>\n",
       "      <td>503</td>\n",
       "      <td>491</td>\n",
       "      <td>503</td>\n",
       "      <td>0.924</td>\n",
       "    </tr>\n",
       "    <tr>\n",
       "      <th>2</th>\n",
       "      <td>3</td>\n",
       "      <td>AUT</td>\n",
       "      <td>Austria</td>\n",
       "      <td>45807.350000</td>\n",
       "      <td>22390.217</td>\n",
       "      <td>10.262</td>\n",
       "      <td>87.529</td>\n",
       "      <td>16.0</td>\n",
       "      <td>12.3</td>\n",
       "      <td>484</td>\n",
       "      <td>499</td>\n",
       "      <td>490</td>\n",
       "      <td>0.865</td>\n",
       "    </tr>\n",
       "    <tr>\n",
       "      <th>3</th>\n",
       "      <td>4</td>\n",
       "      <td>BRA</td>\n",
       "      <td>Brazil</td>\n",
       "      <td>16748.510000</td>\n",
       "      <td>5431.875</td>\n",
       "      <td>10.412</td>\n",
       "      <td>81.343</td>\n",
       "      <td>15.6</td>\n",
       "      <td>8.1</td>\n",
       "      <td>413</td>\n",
       "      <td>384</td>\n",
       "      <td>404</td>\n",
       "      <td>0.694</td>\n",
       "    </tr>\n",
       "    <tr>\n",
       "      <th>4</th>\n",
       "      <td>5</td>\n",
       "      <td>CAN</td>\n",
       "      <td>Canada</td>\n",
       "      <td>19112.280000</td>\n",
       "      <td>25567.441</td>\n",
       "      <td>12.010</td>\n",
       "      <td>96.970</td>\n",
       "      <td>16.4</td>\n",
       "      <td>13.8</td>\n",
       "      <td>520</td>\n",
       "      <td>512</td>\n",
       "      <td>518</td>\n",
       "      <td>0.894</td>\n",
       "    </tr>\n",
       "    <tr>\n",
       "      <th>5</th>\n",
       "      <td>6</td>\n",
       "      <td>CHE</td>\n",
       "      <td>Switzerland</td>\n",
       "      <td>99302.000000</td>\n",
       "      <td>43729.155</td>\n",
       "      <td>14.333</td>\n",
       "      <td>94.200</td>\n",
       "      <td>16.5</td>\n",
       "      <td>13.9</td>\n",
       "      <td>484</td>\n",
       "      <td>515</td>\n",
       "      <td>495</td>\n",
       "      <td>0.900</td>\n",
       "    </tr>\n",
       "    <tr>\n",
       "      <th>6</th>\n",
       "      <td>7</td>\n",
       "      <td>CHL</td>\n",
       "      <td>Chile</td>\n",
       "      <td>18194.714000</td>\n",
       "      <td>9657.872</td>\n",
       "      <td>13.519</td>\n",
       "      <td>88.300</td>\n",
       "      <td>16.7</td>\n",
       "      <td>10.9</td>\n",
       "      <td>452</td>\n",
       "      <td>417</td>\n",
       "      <td>444</td>\n",
       "      <td>0.810</td>\n",
       "    </tr>\n",
       "    <tr>\n",
       "      <th>7</th>\n",
       "      <td>8</td>\n",
       "      <td>CHN</td>\n",
       "      <td>China</td>\n",
       "      <td>25788.780000</td>\n",
       "      <td>4698.876</td>\n",
       "      <td>10.439</td>\n",
       "      <td>70.405</td>\n",
       "      <td>14.2</td>\n",
       "      <td>7.6</td>\n",
       "      <td>555</td>\n",
       "      <td>591</td>\n",
       "      <td>590</td>\n",
       "      <td>0.660</td>\n",
       "    </tr>\n",
       "    <tr>\n",
       "      <th>8</th>\n",
       "      <td>9</td>\n",
       "      <td>COL</td>\n",
       "      <td>Colombia</td>\n",
       "      <td>9684.000000</td>\n",
       "      <td>4753.920</td>\n",
       "      <td>12.475</td>\n",
       "      <td>69.790</td>\n",
       "      <td>14.4</td>\n",
       "      <td>8.9</td>\n",
       "      <td>412</td>\n",
       "      <td>391</td>\n",
       "      <td>413</td>\n",
       "      <td>0.682</td>\n",
       "    </tr>\n",
       "    <tr>\n",
       "      <th>9</th>\n",
       "      <td>10</td>\n",
       "      <td>CRI</td>\n",
       "      <td>Costa Rica</td>\n",
       "      <td>4724.240000</td>\n",
       "      <td>8141.640</td>\n",
       "      <td>16.744</td>\n",
       "      <td>80.530</td>\n",
       "      <td>16.5</td>\n",
       "      <td>8.8</td>\n",
       "      <td>426</td>\n",
       "      <td>402</td>\n",
       "      <td>416</td>\n",
       "      <td>0.726</td>\n",
       "    </tr>\n",
       "    <tr>\n",
       "      <th>10</th>\n",
       "      <td>11</td>\n",
       "      <td>CZE</td>\n",
       "      <td>Czech Republic</td>\n",
       "      <td>12203.000000</td>\n",
       "      <td>9255.229</td>\n",
       "      <td>10.197</td>\n",
       "      <td>81.339</td>\n",
       "      <td>16.2</td>\n",
       "      <td>12.9</td>\n",
       "      <td>490</td>\n",
       "      <td>499</td>\n",
       "      <td>497</td>\n",
       "      <td>0.890</td>\n",
       "    </tr>\n",
       "    <tr>\n",
       "      <th>11</th>\n",
       "      <td>12</td>\n",
       "      <td>DEU</td>\n",
       "      <td>Germany</td>\n",
       "      <td>59049.301663</td>\n",
       "      <td>21587.115</td>\n",
       "      <td>10.036</td>\n",
       "      <td>89.813</td>\n",
       "      <td>17.0</td>\n",
       "      <td>14.1</td>\n",
       "      <td>498</td>\n",
       "      <td>500</td>\n",
       "      <td>503</td>\n",
       "      <td>0.943</td>\n",
       "    </tr>\n",
       "    <tr>\n",
       "      <th>12</th>\n",
       "      <td>13</td>\n",
       "      <td>DNK</td>\n",
       "      <td>Denmark</td>\n",
       "      <td>55184.000000</td>\n",
       "      <td>27471.908</td>\n",
       "      <td>10.601</td>\n",
       "      <td>96.549</td>\n",
       "      <td>18.7</td>\n",
       "      <td>13.0</td>\n",
       "      <td>501</td>\n",
       "      <td>509</td>\n",
       "      <td>493</td>\n",
       "      <td>0.920</td>\n",
       "    </tr>\n",
       "    <tr>\n",
       "      <th>13</th>\n",
       "      <td>14</td>\n",
       "      <td>EST</td>\n",
       "      <td>Estonia</td>\n",
       "      <td>19061.220000</td>\n",
       "      <td>10664.238</td>\n",
       "      <td>11.991</td>\n",
       "      <td>89.058</td>\n",
       "      <td>15.9</td>\n",
       "      <td>13.5</td>\n",
       "      <td>523</td>\n",
       "      <td>523</td>\n",
       "      <td>530</td>\n",
       "      <td>0.882</td>\n",
       "    </tr>\n",
       "    <tr>\n",
       "      <th>14</th>\n",
       "      <td>15</td>\n",
       "      <td>FIN</td>\n",
       "      <td>Finland</td>\n",
       "      <td>42216.563159</td>\n",
       "      <td>24112.507</td>\n",
       "      <td>10.906</td>\n",
       "      <td>92.170</td>\n",
       "      <td>19.1</td>\n",
       "      <td>12.9</td>\n",
       "      <td>520</td>\n",
       "      <td>507</td>\n",
       "      <td>522</td>\n",
       "      <td>0.927</td>\n",
       "    </tr>\n",
       "    <tr>\n",
       "      <th>15</th>\n",
       "      <td>16</td>\n",
       "      <td>FRA</td>\n",
       "      <td>France</td>\n",
       "      <td>16748.510000</td>\n",
       "      <td>20171.810</td>\n",
       "      <td>10.007</td>\n",
       "      <td>84.800</td>\n",
       "      <td>15.8</td>\n",
       "      <td>11.6</td>\n",
       "      <td>493</td>\n",
       "      <td>495</td>\n",
       "      <td>493</td>\n",
       "      <td>0.817</td>\n",
       "    </tr>\n",
       "    <tr>\n",
       "      <th>16</th>\n",
       "      <td>17</td>\n",
       "      <td>GBR</td>\n",
       "      <td>England (UK)</td>\n",
       "      <td>38280.044274</td>\n",
       "      <td>29361.085</td>\n",
       "      <td>10.216</td>\n",
       "      <td>94.818</td>\n",
       "      <td>17.3</td>\n",
       "      <td>13.4</td>\n",
       "      <td>504</td>\n",
       "      <td>502</td>\n",
       "      <td>505</td>\n",
       "      <td>0.928</td>\n",
       "    </tr>\n",
       "    <tr>\n",
       "      <th>17</th>\n",
       "      <td>18</td>\n",
       "      <td>GRC</td>\n",
       "      <td>Greece</td>\n",
       "      <td>22917.326253</td>\n",
       "      <td>13133.812</td>\n",
       "      <td>6.204</td>\n",
       "      <td>78.116</td>\n",
       "      <td>20.0</td>\n",
       "      <td>11.4</td>\n",
       "      <td>457</td>\n",
       "      <td>451</td>\n",
       "      <td>452</td>\n",
       "      <td>0.849</td>\n",
       "    </tr>\n",
       "    <tr>\n",
       "      <th>18</th>\n",
       "      <td>19</td>\n",
       "      <td>HUN</td>\n",
       "      <td>Hungary</td>\n",
       "      <td>15564.000000</td>\n",
       "      <td>7930.688</td>\n",
       "      <td>10.075</td>\n",
       "      <td>84.771</td>\n",
       "      <td>15.0</td>\n",
       "      <td>12.2</td>\n",
       "      <td>476</td>\n",
       "      <td>481</td>\n",
       "      <td>481</td>\n",
       "      <td>0.821</td>\n",
       "    </tr>\n",
       "    <tr>\n",
       "      <th>19</th>\n",
       "      <td>20</td>\n",
       "      <td>IDN</td>\n",
       "      <td>Indonesia</td>\n",
       "      <td>4630.320000</td>\n",
       "      <td>2166.313</td>\n",
       "      <td>11.594</td>\n",
       "      <td>53.726</td>\n",
       "      <td>13.7</td>\n",
       "      <td>8.6</td>\n",
       "      <td>371</td>\n",
       "      <td>379</td>\n",
       "      <td>396</td>\n",
       "      <td>0.650</td>\n",
       "    </tr>\n",
       "    <tr>\n",
       "      <th>20</th>\n",
       "      <td>21</td>\n",
       "      <td>IRL</td>\n",
       "      <td>Ireland</td>\n",
       "      <td>43220.658848</td>\n",
       "      <td>20585.451</td>\n",
       "      <td>10.408</td>\n",
       "      <td>92.000</td>\n",
       "      <td>18.9</td>\n",
       "      <td>11.6</td>\n",
       "      <td>518</td>\n",
       "      <td>500</td>\n",
       "      <td>496</td>\n",
       "      <td>0.922</td>\n",
       "    </tr>\n",
       "    <tr>\n",
       "      <th>21</th>\n",
       "      <td>22</td>\n",
       "      <td>ISL</td>\n",
       "      <td>Iceland</td>\n",
       "      <td>41989.440000</td>\n",
       "      <td>30042.675</td>\n",
       "      <td>10.957</td>\n",
       "      <td>99.000</td>\n",
       "      <td>19.2</td>\n",
       "      <td>13.8</td>\n",
       "      <td>474</td>\n",
       "      <td>495</td>\n",
       "      <td>475</td>\n",
       "      <td>0.926</td>\n",
       "    </tr>\n",
       "    <tr>\n",
       "      <th>22</th>\n",
       "      <td>23</td>\n",
       "      <td>ISR</td>\n",
       "      <td>Israel</td>\n",
       "      <td>47568.000000</td>\n",
       "      <td>21029.968</td>\n",
       "      <td>12.563</td>\n",
       "      <td>90.127</td>\n",
       "      <td>16.1</td>\n",
       "      <td>13.3</td>\n",
       "      <td>470</td>\n",
       "      <td>463</td>\n",
       "      <td>462</td>\n",
       "      <td>0.883</td>\n",
       "    </tr>\n",
       "    <tr>\n",
       "      <th>23</th>\n",
       "      <td>24</td>\n",
       "      <td>ITA</td>\n",
       "      <td>Italy</td>\n",
       "      <td>35738.888299</td>\n",
       "      <td>18485.920</td>\n",
       "      <td>7.775</td>\n",
       "      <td>70.483</td>\n",
       "      <td>16.2</td>\n",
       "      <td>10.7</td>\n",
       "      <td>476</td>\n",
       "      <td>487</td>\n",
       "      <td>468</td>\n",
       "      <td>0.793</td>\n",
       "    </tr>\n",
       "    <tr>\n",
       "      <th>24</th>\n",
       "      <td>25</td>\n",
       "      <td>JPN</td>\n",
       "      <td>Japan</td>\n",
       "      <td>36384.000000</td>\n",
       "      <td>10404.085</td>\n",
       "      <td>10.366</td>\n",
       "      <td>90.219</td>\n",
       "      <td>15.2</td>\n",
       "      <td>13.4</td>\n",
       "      <td>504</td>\n",
       "      <td>527</td>\n",
       "      <td>529</td>\n",
       "      <td>0.851</td>\n",
       "    </tr>\n",
       "    <tr>\n",
       "      <th>25</th>\n",
       "      <td>26</td>\n",
       "      <td>LTU</td>\n",
       "      <td>Lithuania</td>\n",
       "      <td>26142.789541</td>\n",
       "      <td>11215.149</td>\n",
       "      <td>11.743</td>\n",
       "      <td>83.056</td>\n",
       "      <td>16.3</td>\n",
       "      <td>13.5</td>\n",
       "      <td>476</td>\n",
       "      <td>481</td>\n",
       "      <td>482</td>\n",
       "      <td>0.898</td>\n",
       "    </tr>\n",
       "    <tr>\n",
       "      <th>26</th>\n",
       "      <td>27</td>\n",
       "      <td>LUX</td>\n",
       "      <td>Luxembourg</td>\n",
       "      <td>60394.640000</td>\n",
       "      <td>34219.114</td>\n",
       "      <td>8.474</td>\n",
       "      <td>98.822</td>\n",
       "      <td>14.4</td>\n",
       "      <td>13.0</td>\n",
       "      <td>470</td>\n",
       "      <td>483</td>\n",
       "      <td>477</td>\n",
       "      <td>0.806</td>\n",
       "    </tr>\n",
       "    <tr>\n",
       "      <th>27</th>\n",
       "      <td>28</td>\n",
       "      <td>LVA</td>\n",
       "      <td>Latvia</td>\n",
       "      <td>11927.880000</td>\n",
       "      <td>9191.337</td>\n",
       "      <td>11.148</td>\n",
       "      <td>88.900</td>\n",
       "      <td>16.2</td>\n",
       "      <td>13.3</td>\n",
       "      <td>479</td>\n",
       "      <td>496</td>\n",
       "      <td>487</td>\n",
       "      <td>0.883</td>\n",
       "    </tr>\n",
       "    <tr>\n",
       "      <th>28</th>\n",
       "      <td>29</td>\n",
       "      <td>MEX</td>\n",
       "      <td>Mexico</td>\n",
       "      <td>16044.000000</td>\n",
       "      <td>6230.653</td>\n",
       "      <td>12.155</td>\n",
       "      <td>71.968</td>\n",
       "      <td>14.9</td>\n",
       "      <td>9.2</td>\n",
       "      <td>420</td>\n",
       "      <td>409</td>\n",
       "      <td>419</td>\n",
       "      <td>0.703</td>\n",
       "    </tr>\n",
       "    <tr>\n",
       "      <th>29</th>\n",
       "      <td>30</td>\n",
       "      <td>NOR</td>\n",
       "      <td>Norway</td>\n",
       "      <td>44189.000000</td>\n",
       "      <td>32329.209</td>\n",
       "      <td>13.185</td>\n",
       "      <td>97.000</td>\n",
       "      <td>18.2</td>\n",
       "      <td>13.0</td>\n",
       "      <td>499</td>\n",
       "      <td>501</td>\n",
       "      <td>490</td>\n",
       "      <td>0.930</td>\n",
       "    </tr>\n",
       "    <tr>\n",
       "      <th>30</th>\n",
       "      <td>31</td>\n",
       "      <td>NZL</td>\n",
       "      <td>New Zealand</td>\n",
       "      <td>48949.000000</td>\n",
       "      <td>17079.105</td>\n",
       "      <td>10.138</td>\n",
       "      <td>91.500</td>\n",
       "      <td>20.3</td>\n",
       "      <td>12.9</td>\n",
       "      <td>506</td>\n",
       "      <td>494</td>\n",
       "      <td>508</td>\n",
       "      <td>0.926</td>\n",
       "    </tr>\n",
       "    <tr>\n",
       "      <th>31</th>\n",
       "      <td>32</td>\n",
       "      <td>POL</td>\n",
       "      <td>Poland</td>\n",
       "      <td>18068.000000</td>\n",
       "      <td>9009.787</td>\n",
       "      <td>10.892</td>\n",
       "      <td>83.185</td>\n",
       "      <td>16.0</td>\n",
       "      <td>13.2</td>\n",
       "      <td>512</td>\n",
       "      <td>516</td>\n",
       "      <td>511</td>\n",
       "      <td>0.869</td>\n",
       "    </tr>\n",
       "    <tr>\n",
       "      <th>32</th>\n",
       "      <td>33</td>\n",
       "      <td>PRT</td>\n",
       "      <td>Portugal</td>\n",
       "      <td>15358.530000</td>\n",
       "      <td>13679.779</td>\n",
       "      <td>10.124</td>\n",
       "      <td>78.262</td>\n",
       "      <td>16.9</td>\n",
       "      <td>9.6</td>\n",
       "      <td>492</td>\n",
       "      <td>492</td>\n",
       "      <td>492</td>\n",
       "      <td>0.768</td>\n",
       "    </tr>\n",
       "    <tr>\n",
       "      <th>33</th>\n",
       "      <td>34</td>\n",
       "      <td>RUS</td>\n",
       "      <td>Russian Federation</td>\n",
       "      <td>15192.000000</td>\n",
       "      <td>5463.750</td>\n",
       "      <td>10.532</td>\n",
       "      <td>84.995</td>\n",
       "      <td>15.8</td>\n",
       "      <td>12.8</td>\n",
       "      <td>479</td>\n",
       "      <td>488</td>\n",
       "      <td>478</td>\n",
       "      <td>0.823</td>\n",
       "    </tr>\n",
       "    <tr>\n",
       "      <th>34</th>\n",
       "      <td>35</td>\n",
       "      <td>SAU</td>\n",
       "      <td>Saudi Arabia</td>\n",
       "      <td>40224.000000</td>\n",
       "      <td>8547.939</td>\n",
       "      <td>12.296</td>\n",
       "      <td>97.860</td>\n",
       "      <td>16.1</td>\n",
       "      <td>11.3</td>\n",
       "      <td>399</td>\n",
       "      <td>373</td>\n",
       "      <td>386</td>\n",
       "      <td>0.789</td>\n",
       "    </tr>\n",
       "    <tr>\n",
       "      <th>35</th>\n",
       "      <td>36</td>\n",
       "      <td>SVK</td>\n",
       "      <td>Slovak Republic</td>\n",
       "      <td>16399.436074</td>\n",
       "      <td>10185.247</td>\n",
       "      <td>10.049</td>\n",
       "      <td>89.921</td>\n",
       "      <td>14.5</td>\n",
       "      <td>12.9</td>\n",
       "      <td>458</td>\n",
       "      <td>486</td>\n",
       "      <td>464</td>\n",
       "      <td>0.826</td>\n",
       "    </tr>\n",
       "    <tr>\n",
       "      <th>36</th>\n",
       "      <td>37</td>\n",
       "      <td>SVN</td>\n",
       "      <td>Slovenia</td>\n",
       "      <td>35504.253147</td>\n",
       "      <td>13319.562</td>\n",
       "      <td>10.079</td>\n",
       "      <td>86.601</td>\n",
       "      <td>17.7</td>\n",
       "      <td>12.8</td>\n",
       "      <td>495</td>\n",
       "      <td>509</td>\n",
       "      <td>507</td>\n",
       "      <td>0.910</td>\n",
       "    </tr>\n",
       "    <tr>\n",
       "      <th>37</th>\n",
       "      <td>38</td>\n",
       "      <td>SWE</td>\n",
       "      <td>Sweden</td>\n",
       "      <td>254214.231474</td>\n",
       "      <td>24241.578</td>\n",
       "      <td>10.150</td>\n",
       "      <td>94.539</td>\n",
       "      <td>19.4</td>\n",
       "      <td>12.6</td>\n",
       "      <td>506</td>\n",
       "      <td>502</td>\n",
       "      <td>499</td>\n",
       "      <td>0.918</td>\n",
       "    </tr>\n",
       "    <tr>\n",
       "      <th>38</th>\n",
       "      <td>39</td>\n",
       "      <td>TUR</td>\n",
       "      <td>Türkiye</td>\n",
       "      <td>5871.780000</td>\n",
       "      <td>3062.756</td>\n",
       "      <td>12.407</td>\n",
       "      <td>77.670</td>\n",
       "      <td>18.3</td>\n",
       "      <td>8.6</td>\n",
       "      <td>466</td>\n",
       "      <td>454</td>\n",
       "      <td>468</td>\n",
       "      <td>0.731</td>\n",
       "    </tr>\n",
       "  </tbody>\n",
       "</table>\n",
       "</div>"
      ],
      "text/plain": [
       "    Unnamed: 0 country_id        country_name         salary  \\\n",
       "0            1        ARG           Argentina    9647.000000   \n",
       "1            2        AUS           Australia   62300.000000   \n",
       "2            3        AUT             Austria   45807.350000   \n",
       "3            4        BRA              Brazil   16748.510000   \n",
       "4            5        CAN              Canada   19112.280000   \n",
       "5            6        CHE         Switzerland   99302.000000   \n",
       "6            7        CHL               Chile   18194.714000   \n",
       "7            8        CHN               China   25788.780000   \n",
       "8            9        COL            Colombia    9684.000000   \n",
       "9           10        CRI          Costa Rica    4724.240000   \n",
       "10          11        CZE      Czech Republic   12203.000000   \n",
       "11          12        DEU             Germany   59049.301663   \n",
       "12          13        DNK             Denmark   55184.000000   \n",
       "13          14        EST             Estonia   19061.220000   \n",
       "14          15        FIN             Finland   42216.563159   \n",
       "15          16        FRA              France   16748.510000   \n",
       "16          17        GBR        England (UK)   38280.044274   \n",
       "17          18        GRC              Greece   22917.326253   \n",
       "18          19        HUN             Hungary   15564.000000   \n",
       "19          20        IDN           Indonesia    4630.320000   \n",
       "20          21        IRL             Ireland   43220.658848   \n",
       "21          22        ISL             Iceland   41989.440000   \n",
       "22          23        ISR              Israel   47568.000000   \n",
       "23          24        ITA               Italy   35738.888299   \n",
       "24          25        JPN               Japan   36384.000000   \n",
       "25          26        LTU           Lithuania   26142.789541   \n",
       "26          27        LUX          Luxembourg   60394.640000   \n",
       "27          28        LVA              Latvia   11927.880000   \n",
       "28          29        MEX              Mexico   16044.000000   \n",
       "29          30        NOR              Norway   44189.000000   \n",
       "30          31        NZL         New Zealand   48949.000000   \n",
       "31          32        POL              Poland   18068.000000   \n",
       "32          33        PRT            Portugal   15358.530000   \n",
       "33          34        RUS  Russian Federation   15192.000000   \n",
       "34          35        SAU        Saudi Arabia   40224.000000   \n",
       "35          36        SVK     Slovak Republic   16399.436074   \n",
       "36          37        SVN            Slovenia   35504.253147   \n",
       "37          38        SWE              Sweden  254214.231474   \n",
       "38          39        TUR             Türkiye    5871.780000   \n",
       "\n",
       "    expenditure_percapita  gov_expenditure  net_user  expected_school  \\\n",
       "0                7612.858           12.523    85.500             17.9   \n",
       "1               31928.353           12.600    89.600             21.1   \n",
       "2               22390.217           10.262    87.529             16.0   \n",
       "3                5431.875           10.412    81.343             15.6   \n",
       "4               25567.441           12.010    96.970             16.4   \n",
       "5               43729.155           14.333    94.200             16.5   \n",
       "6                9657.872           13.519    88.300             16.7   \n",
       "7                4698.876           10.439    70.405             14.2   \n",
       "8                4753.920           12.475    69.790             14.4   \n",
       "9                8141.640           16.744    80.530             16.5   \n",
       "10               9255.229           10.197    81.339             16.2   \n",
       "11              21587.115           10.036    89.813             17.0   \n",
       "12              27471.908           10.601    96.549             18.7   \n",
       "13              10664.238           11.991    89.058             15.9   \n",
       "14              24112.507           10.906    92.170             19.1   \n",
       "15              20171.810           10.007    84.800             15.8   \n",
       "16              29361.085           10.216    94.818             17.3   \n",
       "17              13133.812            6.204    78.116             20.0   \n",
       "18               7930.688           10.075    84.771             15.0   \n",
       "19               2166.313           11.594    53.726             13.7   \n",
       "20              20585.451           10.408    92.000             18.9   \n",
       "21              30042.675           10.957    99.000             19.2   \n",
       "22              21029.968           12.563    90.127             16.1   \n",
       "23              18485.920            7.775    70.483             16.2   \n",
       "24              10404.085           10.366    90.219             15.2   \n",
       "25              11215.149           11.743    83.056             16.3   \n",
       "26              34219.114            8.474    98.822             14.4   \n",
       "27               9191.337           11.148    88.900             16.2   \n",
       "28               6230.653           12.155    71.968             14.9   \n",
       "29              32329.209           13.185    97.000             18.2   \n",
       "30              17079.105           10.138    91.500             20.3   \n",
       "31               9009.787           10.892    83.185             16.0   \n",
       "32              13679.779           10.124    78.262             16.9   \n",
       "33               5463.750           10.532    84.995             15.8   \n",
       "34               8547.939           12.296    97.860             16.1   \n",
       "35              10185.247           10.049    89.921             14.5   \n",
       "36              13319.562           10.079    86.601             17.7   \n",
       "37              24241.578           10.150    94.539             19.4   \n",
       "38               3062.756           12.407    77.670             18.3   \n",
       "\n",
       "    years_school  reading_mean  math_mean  science_mean  country_index  \n",
       "0           11.1           402        379           404          0.855  \n",
       "1           12.7           503        491           503          0.924  \n",
       "2           12.3           484        499           490          0.865  \n",
       "3            8.1           413        384           404          0.694  \n",
       "4           13.8           520        512           518          0.894  \n",
       "5           13.9           484        515           495          0.900  \n",
       "6           10.9           452        417           444          0.810  \n",
       "7            7.6           555        591           590          0.660  \n",
       "8            8.9           412        391           413          0.682  \n",
       "9            8.8           426        402           416          0.726  \n",
       "10          12.9           490        499           497          0.890  \n",
       "11          14.1           498        500           503          0.943  \n",
       "12          13.0           501        509           493          0.920  \n",
       "13          13.5           523        523           530          0.882  \n",
       "14          12.9           520        507           522          0.927  \n",
       "15          11.6           493        495           493          0.817  \n",
       "16          13.4           504        502           505          0.928  \n",
       "17          11.4           457        451           452          0.849  \n",
       "18          12.2           476        481           481          0.821  \n",
       "19           8.6           371        379           396          0.650  \n",
       "20          11.6           518        500           496          0.922  \n",
       "21          13.8           474        495           475          0.926  \n",
       "22          13.3           470        463           462          0.883  \n",
       "23          10.7           476        487           468          0.793  \n",
       "24          13.4           504        527           529          0.851  \n",
       "25          13.5           476        481           482          0.898  \n",
       "26          13.0           470        483           477          0.806  \n",
       "27          13.3           479        496           487          0.883  \n",
       "28           9.2           420        409           419          0.703  \n",
       "29          13.0           499        501           490          0.930  \n",
       "30          12.9           506        494           508          0.926  \n",
       "31          13.2           512        516           511          0.869  \n",
       "32           9.6           492        492           492          0.768  \n",
       "33          12.8           479        488           478          0.823  \n",
       "34          11.3           399        373           386          0.789  \n",
       "35          12.9           458        486           464          0.826  \n",
       "36          12.8           495        509           507          0.910  \n",
       "37          12.6           506        502           499          0.918  \n",
       "38           8.6           466        454           468          0.731  "
      ]
     },
     "execution_count": 17,
     "metadata": {},
     "output_type": "execute_result"
    }
   ],
   "source": [
    "all_data = pd.read_csv(\"https://raw.githubusercontent.com/nurkhamidah/Education_Dashboard/master/39countries_alldata.csv\", sep=\",\")\n",
    "all_data"
   ]
  },
  {
   "cell_type": "markdown",
   "metadata": {},
   "source": [
    "#### Correlation Plots"
   ]
  },
  {
   "cell_type": "code",
   "execution_count": 18,
   "metadata": {},
   "outputs": [
    {
     "data": {
      "application/vnd.plotly.v1+json": {
       "config": {
        "plotlyServerURL": "https://plot.ly"
       },
       "data": [
        {
         "hovertemplate": "gov_expenditure=%{x}<br>country_index=%{y}<extra></extra>",
         "legendgroup": "",
         "marker": {
          "color": "#636efa",
          "symbol": "circle"
         },
         "mode": "markers",
         "name": "",
         "orientation": "v",
         "showlegend": false,
         "type": "scatter",
         "x": [
          12.523,
          12.6,
          10.262,
          10.412,
          12.01,
          14.333,
          13.519,
          10.439,
          12.475,
          16.744,
          10.197,
          10.036,
          10.601,
          11.991,
          10.906,
          10.007,
          10.216,
          6.204,
          10.075,
          11.594,
          10.408,
          10.957,
          12.563,
          7.775,
          10.366,
          11.743,
          8.474,
          11.148,
          12.155,
          13.185,
          10.138,
          10.892,
          10.124,
          10.532,
          12.296,
          10.049,
          10.079,
          10.15,
          12.407
         ],
         "xaxis": "x",
         "y": [
          0.855,
          0.924,
          0.865,
          0.694,
          0.894,
          0.9,
          0.81,
          0.66,
          0.682,
          0.726,
          0.89,
          0.943,
          0.92,
          0.882,
          0.927,
          0.817,
          0.928,
          0.849,
          0.821,
          0.65,
          0.922,
          0.926,
          0.883,
          0.793,
          0.851,
          0.898,
          0.806,
          0.883,
          0.703,
          0.93,
          0.926,
          0.869,
          0.768,
          0.823,
          0.789,
          0.826,
          0.91,
          0.918,
          0.731
         ],
         "yaxis": "y"
        }
       ],
       "layout": {
        "legend": {
         "tracegroupgap": 0
        },
        "margin": {
         "t": 60
        },
        "template": {
         "data": {
          "bar": [
           {
            "error_x": {
             "color": "#2a3f5f"
            },
            "error_y": {
             "color": "#2a3f5f"
            },
            "marker": {
             "line": {
              "color": "#E5ECF6",
              "width": 0.5
             },
             "pattern": {
              "fillmode": "overlay",
              "size": 10,
              "solidity": 0.2
             }
            },
            "type": "bar"
           }
          ],
          "barpolar": [
           {
            "marker": {
             "line": {
              "color": "#E5ECF6",
              "width": 0.5
             },
             "pattern": {
              "fillmode": "overlay",
              "size": 10,
              "solidity": 0.2
             }
            },
            "type": "barpolar"
           }
          ],
          "carpet": [
           {
            "aaxis": {
             "endlinecolor": "#2a3f5f",
             "gridcolor": "white",
             "linecolor": "white",
             "minorgridcolor": "white",
             "startlinecolor": "#2a3f5f"
            },
            "baxis": {
             "endlinecolor": "#2a3f5f",
             "gridcolor": "white",
             "linecolor": "white",
             "minorgridcolor": "white",
             "startlinecolor": "#2a3f5f"
            },
            "type": "carpet"
           }
          ],
          "choropleth": [
           {
            "colorbar": {
             "outlinewidth": 0,
             "ticks": ""
            },
            "type": "choropleth"
           }
          ],
          "contour": [
           {
            "colorbar": {
             "outlinewidth": 0,
             "ticks": ""
            },
            "colorscale": [
             [
              0,
              "#0d0887"
             ],
             [
              0.1111111111111111,
              "#46039f"
             ],
             [
              0.2222222222222222,
              "#7201a8"
             ],
             [
              0.3333333333333333,
              "#9c179e"
             ],
             [
              0.4444444444444444,
              "#bd3786"
             ],
             [
              0.5555555555555556,
              "#d8576b"
             ],
             [
              0.6666666666666666,
              "#ed7953"
             ],
             [
              0.7777777777777778,
              "#fb9f3a"
             ],
             [
              0.8888888888888888,
              "#fdca26"
             ],
             [
              1,
              "#f0f921"
             ]
            ],
            "type": "contour"
           }
          ],
          "contourcarpet": [
           {
            "colorbar": {
             "outlinewidth": 0,
             "ticks": ""
            },
            "type": "contourcarpet"
           }
          ],
          "heatmap": [
           {
            "colorbar": {
             "outlinewidth": 0,
             "ticks": ""
            },
            "colorscale": [
             [
              0,
              "#0d0887"
             ],
             [
              0.1111111111111111,
              "#46039f"
             ],
             [
              0.2222222222222222,
              "#7201a8"
             ],
             [
              0.3333333333333333,
              "#9c179e"
             ],
             [
              0.4444444444444444,
              "#bd3786"
             ],
             [
              0.5555555555555556,
              "#d8576b"
             ],
             [
              0.6666666666666666,
              "#ed7953"
             ],
             [
              0.7777777777777778,
              "#fb9f3a"
             ],
             [
              0.8888888888888888,
              "#fdca26"
             ],
             [
              1,
              "#f0f921"
             ]
            ],
            "type": "heatmap"
           }
          ],
          "heatmapgl": [
           {
            "colorbar": {
             "outlinewidth": 0,
             "ticks": ""
            },
            "colorscale": [
             [
              0,
              "#0d0887"
             ],
             [
              0.1111111111111111,
              "#46039f"
             ],
             [
              0.2222222222222222,
              "#7201a8"
             ],
             [
              0.3333333333333333,
              "#9c179e"
             ],
             [
              0.4444444444444444,
              "#bd3786"
             ],
             [
              0.5555555555555556,
              "#d8576b"
             ],
             [
              0.6666666666666666,
              "#ed7953"
             ],
             [
              0.7777777777777778,
              "#fb9f3a"
             ],
             [
              0.8888888888888888,
              "#fdca26"
             ],
             [
              1,
              "#f0f921"
             ]
            ],
            "type": "heatmapgl"
           }
          ],
          "histogram": [
           {
            "marker": {
             "pattern": {
              "fillmode": "overlay",
              "size": 10,
              "solidity": 0.2
             }
            },
            "type": "histogram"
           }
          ],
          "histogram2d": [
           {
            "colorbar": {
             "outlinewidth": 0,
             "ticks": ""
            },
            "colorscale": [
             [
              0,
              "#0d0887"
             ],
             [
              0.1111111111111111,
              "#46039f"
             ],
             [
              0.2222222222222222,
              "#7201a8"
             ],
             [
              0.3333333333333333,
              "#9c179e"
             ],
             [
              0.4444444444444444,
              "#bd3786"
             ],
             [
              0.5555555555555556,
              "#d8576b"
             ],
             [
              0.6666666666666666,
              "#ed7953"
             ],
             [
              0.7777777777777778,
              "#fb9f3a"
             ],
             [
              0.8888888888888888,
              "#fdca26"
             ],
             [
              1,
              "#f0f921"
             ]
            ],
            "type": "histogram2d"
           }
          ],
          "histogram2dcontour": [
           {
            "colorbar": {
             "outlinewidth": 0,
             "ticks": ""
            },
            "colorscale": [
             [
              0,
              "#0d0887"
             ],
             [
              0.1111111111111111,
              "#46039f"
             ],
             [
              0.2222222222222222,
              "#7201a8"
             ],
             [
              0.3333333333333333,
              "#9c179e"
             ],
             [
              0.4444444444444444,
              "#bd3786"
             ],
             [
              0.5555555555555556,
              "#d8576b"
             ],
             [
              0.6666666666666666,
              "#ed7953"
             ],
             [
              0.7777777777777778,
              "#fb9f3a"
             ],
             [
              0.8888888888888888,
              "#fdca26"
             ],
             [
              1,
              "#f0f921"
             ]
            ],
            "type": "histogram2dcontour"
           }
          ],
          "mesh3d": [
           {
            "colorbar": {
             "outlinewidth": 0,
             "ticks": ""
            },
            "type": "mesh3d"
           }
          ],
          "parcoords": [
           {
            "line": {
             "colorbar": {
              "outlinewidth": 0,
              "ticks": ""
             }
            },
            "type": "parcoords"
           }
          ],
          "pie": [
           {
            "automargin": true,
            "type": "pie"
           }
          ],
          "scatter": [
           {
            "fillpattern": {
             "fillmode": "overlay",
             "size": 10,
             "solidity": 0.2
            },
            "type": "scatter"
           }
          ],
          "scatter3d": [
           {
            "line": {
             "colorbar": {
              "outlinewidth": 0,
              "ticks": ""
             }
            },
            "marker": {
             "colorbar": {
              "outlinewidth": 0,
              "ticks": ""
             }
            },
            "type": "scatter3d"
           }
          ],
          "scattercarpet": [
           {
            "marker": {
             "colorbar": {
              "outlinewidth": 0,
              "ticks": ""
             }
            },
            "type": "scattercarpet"
           }
          ],
          "scattergeo": [
           {
            "marker": {
             "colorbar": {
              "outlinewidth": 0,
              "ticks": ""
             }
            },
            "type": "scattergeo"
           }
          ],
          "scattergl": [
           {
            "marker": {
             "colorbar": {
              "outlinewidth": 0,
              "ticks": ""
             }
            },
            "type": "scattergl"
           }
          ],
          "scattermapbox": [
           {
            "marker": {
             "colorbar": {
              "outlinewidth": 0,
              "ticks": ""
             }
            },
            "type": "scattermapbox"
           }
          ],
          "scatterpolar": [
           {
            "marker": {
             "colorbar": {
              "outlinewidth": 0,
              "ticks": ""
             }
            },
            "type": "scatterpolar"
           }
          ],
          "scatterpolargl": [
           {
            "marker": {
             "colorbar": {
              "outlinewidth": 0,
              "ticks": ""
             }
            },
            "type": "scatterpolargl"
           }
          ],
          "scatterternary": [
           {
            "marker": {
             "colorbar": {
              "outlinewidth": 0,
              "ticks": ""
             }
            },
            "type": "scatterternary"
           }
          ],
          "surface": [
           {
            "colorbar": {
             "outlinewidth": 0,
             "ticks": ""
            },
            "colorscale": [
             [
              0,
              "#0d0887"
             ],
             [
              0.1111111111111111,
              "#46039f"
             ],
             [
              0.2222222222222222,
              "#7201a8"
             ],
             [
              0.3333333333333333,
              "#9c179e"
             ],
             [
              0.4444444444444444,
              "#bd3786"
             ],
             [
              0.5555555555555556,
              "#d8576b"
             ],
             [
              0.6666666666666666,
              "#ed7953"
             ],
             [
              0.7777777777777778,
              "#fb9f3a"
             ],
             [
              0.8888888888888888,
              "#fdca26"
             ],
             [
              1,
              "#f0f921"
             ]
            ],
            "type": "surface"
           }
          ],
          "table": [
           {
            "cells": {
             "fill": {
              "color": "#EBF0F8"
             },
             "line": {
              "color": "white"
             }
            },
            "header": {
             "fill": {
              "color": "#C8D4E3"
             },
             "line": {
              "color": "white"
             }
            },
            "type": "table"
           }
          ]
         },
         "layout": {
          "annotationdefaults": {
           "arrowcolor": "#2a3f5f",
           "arrowhead": 0,
           "arrowwidth": 1
          },
          "autotypenumbers": "strict",
          "coloraxis": {
           "colorbar": {
            "outlinewidth": 0,
            "ticks": ""
           }
          },
          "colorscale": {
           "diverging": [
            [
             0,
             "#8e0152"
            ],
            [
             0.1,
             "#c51b7d"
            ],
            [
             0.2,
             "#de77ae"
            ],
            [
             0.3,
             "#f1b6da"
            ],
            [
             0.4,
             "#fde0ef"
            ],
            [
             0.5,
             "#f7f7f7"
            ],
            [
             0.6,
             "#e6f5d0"
            ],
            [
             0.7,
             "#b8e186"
            ],
            [
             0.8,
             "#7fbc41"
            ],
            [
             0.9,
             "#4d9221"
            ],
            [
             1,
             "#276419"
            ]
           ],
           "sequential": [
            [
             0,
             "#0d0887"
            ],
            [
             0.1111111111111111,
             "#46039f"
            ],
            [
             0.2222222222222222,
             "#7201a8"
            ],
            [
             0.3333333333333333,
             "#9c179e"
            ],
            [
             0.4444444444444444,
             "#bd3786"
            ],
            [
             0.5555555555555556,
             "#d8576b"
            ],
            [
             0.6666666666666666,
             "#ed7953"
            ],
            [
             0.7777777777777778,
             "#fb9f3a"
            ],
            [
             0.8888888888888888,
             "#fdca26"
            ],
            [
             1,
             "#f0f921"
            ]
           ],
           "sequentialminus": [
            [
             0,
             "#0d0887"
            ],
            [
             0.1111111111111111,
             "#46039f"
            ],
            [
             0.2222222222222222,
             "#7201a8"
            ],
            [
             0.3333333333333333,
             "#9c179e"
            ],
            [
             0.4444444444444444,
             "#bd3786"
            ],
            [
             0.5555555555555556,
             "#d8576b"
            ],
            [
             0.6666666666666666,
             "#ed7953"
            ],
            [
             0.7777777777777778,
             "#fb9f3a"
            ],
            [
             0.8888888888888888,
             "#fdca26"
            ],
            [
             1,
             "#f0f921"
            ]
           ]
          },
          "colorway": [
           "#636efa",
           "#EF553B",
           "#00cc96",
           "#ab63fa",
           "#FFA15A",
           "#19d3f3",
           "#FF6692",
           "#B6E880",
           "#FF97FF",
           "#FECB52"
          ],
          "font": {
           "color": "#2a3f5f"
          },
          "geo": {
           "bgcolor": "white",
           "lakecolor": "white",
           "landcolor": "#E5ECF6",
           "showlakes": true,
           "showland": true,
           "subunitcolor": "white"
          },
          "hoverlabel": {
           "align": "left"
          },
          "hovermode": "closest",
          "mapbox": {
           "style": "light"
          },
          "paper_bgcolor": "white",
          "plot_bgcolor": "#E5ECF6",
          "polar": {
           "angularaxis": {
            "gridcolor": "white",
            "linecolor": "white",
            "ticks": ""
           },
           "bgcolor": "#E5ECF6",
           "radialaxis": {
            "gridcolor": "white",
            "linecolor": "white",
            "ticks": ""
           }
          },
          "scene": {
           "xaxis": {
            "backgroundcolor": "#E5ECF6",
            "gridcolor": "white",
            "gridwidth": 2,
            "linecolor": "white",
            "showbackground": true,
            "ticks": "",
            "zerolinecolor": "white"
           },
           "yaxis": {
            "backgroundcolor": "#E5ECF6",
            "gridcolor": "white",
            "gridwidth": 2,
            "linecolor": "white",
            "showbackground": true,
            "ticks": "",
            "zerolinecolor": "white"
           },
           "zaxis": {
            "backgroundcolor": "#E5ECF6",
            "gridcolor": "white",
            "gridwidth": 2,
            "linecolor": "white",
            "showbackground": true,
            "ticks": "",
            "zerolinecolor": "white"
           }
          },
          "shapedefaults": {
           "line": {
            "color": "#2a3f5f"
           }
          },
          "ternary": {
           "aaxis": {
            "gridcolor": "white",
            "linecolor": "white",
            "ticks": ""
           },
           "baxis": {
            "gridcolor": "white",
            "linecolor": "white",
            "ticks": ""
           },
           "bgcolor": "#E5ECF6",
           "caxis": {
            "gridcolor": "white",
            "linecolor": "white",
            "ticks": ""
           }
          },
          "title": {
           "x": 0.05
          },
          "xaxis": {
           "automargin": true,
           "gridcolor": "white",
           "linecolor": "white",
           "ticks": "",
           "title": {
            "standoff": 15
           },
           "zerolinecolor": "white",
           "zerolinewidth": 2
          },
          "yaxis": {
           "automargin": true,
           "gridcolor": "white",
           "linecolor": "white",
           "ticks": "",
           "title": {
            "standoff": 15
           },
           "zerolinecolor": "white",
           "zerolinewidth": 2
          }
         }
        },
        "xaxis": {
         "anchor": "y",
         "domain": [
          0,
          1
         ],
         "title": {
          "text": "gov_expenditure"
         }
        },
        "yaxis": {
         "anchor": "x",
         "domain": [
          0,
          1
         ],
         "title": {
          "text": "country_index"
         }
        }
       }
      }
     },
     "metadata": {},
     "output_type": "display_data"
    }
   ],
   "source": [
    "fig1 = px.scatter(all_data, x='gov_expenditure', y='country_index')\n",
    "fig1.show()"
   ]
  },
  {
   "cell_type": "code",
   "execution_count": 19,
   "metadata": {},
   "outputs": [
    {
     "data": {
      "application/vnd.plotly.v1+json": {
       "config": {
        "plotlyServerURL": "https://plot.ly"
       },
       "data": [
        {
         "hovertemplate": "reading_mean=%{x}<br>country_index=%{y}<extra></extra>",
         "legendgroup": "",
         "marker": {
          "color": "#636efa",
          "symbol": "circle"
         },
         "mode": "markers",
         "name": "",
         "orientation": "v",
         "showlegend": false,
         "type": "scatter",
         "x": [
          402,
          503,
          484,
          413,
          520,
          484,
          452,
          555,
          412,
          426,
          490,
          498,
          501,
          523,
          520,
          493,
          504,
          457,
          476,
          371,
          518,
          474,
          470,
          476,
          504,
          476,
          470,
          479,
          420,
          499,
          506,
          512,
          492,
          479,
          399,
          458,
          495,
          506,
          466
         ],
         "xaxis": "x",
         "y": [
          0.855,
          0.924,
          0.865,
          0.694,
          0.894,
          0.9,
          0.81,
          0.66,
          0.682,
          0.726,
          0.89,
          0.943,
          0.92,
          0.882,
          0.927,
          0.817,
          0.928,
          0.849,
          0.821,
          0.65,
          0.922,
          0.926,
          0.883,
          0.793,
          0.851,
          0.898,
          0.806,
          0.883,
          0.703,
          0.93,
          0.926,
          0.869,
          0.768,
          0.823,
          0.789,
          0.826,
          0.91,
          0.918,
          0.731
         ],
         "yaxis": "y"
        }
       ],
       "layout": {
        "legend": {
         "tracegroupgap": 0
        },
        "margin": {
         "t": 60
        },
        "template": {
         "data": {
          "bar": [
           {
            "error_x": {
             "color": "#2a3f5f"
            },
            "error_y": {
             "color": "#2a3f5f"
            },
            "marker": {
             "line": {
              "color": "#E5ECF6",
              "width": 0.5
             },
             "pattern": {
              "fillmode": "overlay",
              "size": 10,
              "solidity": 0.2
             }
            },
            "type": "bar"
           }
          ],
          "barpolar": [
           {
            "marker": {
             "line": {
              "color": "#E5ECF6",
              "width": 0.5
             },
             "pattern": {
              "fillmode": "overlay",
              "size": 10,
              "solidity": 0.2
             }
            },
            "type": "barpolar"
           }
          ],
          "carpet": [
           {
            "aaxis": {
             "endlinecolor": "#2a3f5f",
             "gridcolor": "white",
             "linecolor": "white",
             "minorgridcolor": "white",
             "startlinecolor": "#2a3f5f"
            },
            "baxis": {
             "endlinecolor": "#2a3f5f",
             "gridcolor": "white",
             "linecolor": "white",
             "minorgridcolor": "white",
             "startlinecolor": "#2a3f5f"
            },
            "type": "carpet"
           }
          ],
          "choropleth": [
           {
            "colorbar": {
             "outlinewidth": 0,
             "ticks": ""
            },
            "type": "choropleth"
           }
          ],
          "contour": [
           {
            "colorbar": {
             "outlinewidth": 0,
             "ticks": ""
            },
            "colorscale": [
             [
              0,
              "#0d0887"
             ],
             [
              0.1111111111111111,
              "#46039f"
             ],
             [
              0.2222222222222222,
              "#7201a8"
             ],
             [
              0.3333333333333333,
              "#9c179e"
             ],
             [
              0.4444444444444444,
              "#bd3786"
             ],
             [
              0.5555555555555556,
              "#d8576b"
             ],
             [
              0.6666666666666666,
              "#ed7953"
             ],
             [
              0.7777777777777778,
              "#fb9f3a"
             ],
             [
              0.8888888888888888,
              "#fdca26"
             ],
             [
              1,
              "#f0f921"
             ]
            ],
            "type": "contour"
           }
          ],
          "contourcarpet": [
           {
            "colorbar": {
             "outlinewidth": 0,
             "ticks": ""
            },
            "type": "contourcarpet"
           }
          ],
          "heatmap": [
           {
            "colorbar": {
             "outlinewidth": 0,
             "ticks": ""
            },
            "colorscale": [
             [
              0,
              "#0d0887"
             ],
             [
              0.1111111111111111,
              "#46039f"
             ],
             [
              0.2222222222222222,
              "#7201a8"
             ],
             [
              0.3333333333333333,
              "#9c179e"
             ],
             [
              0.4444444444444444,
              "#bd3786"
             ],
             [
              0.5555555555555556,
              "#d8576b"
             ],
             [
              0.6666666666666666,
              "#ed7953"
             ],
             [
              0.7777777777777778,
              "#fb9f3a"
             ],
             [
              0.8888888888888888,
              "#fdca26"
             ],
             [
              1,
              "#f0f921"
             ]
            ],
            "type": "heatmap"
           }
          ],
          "heatmapgl": [
           {
            "colorbar": {
             "outlinewidth": 0,
             "ticks": ""
            },
            "colorscale": [
             [
              0,
              "#0d0887"
             ],
             [
              0.1111111111111111,
              "#46039f"
             ],
             [
              0.2222222222222222,
              "#7201a8"
             ],
             [
              0.3333333333333333,
              "#9c179e"
             ],
             [
              0.4444444444444444,
              "#bd3786"
             ],
             [
              0.5555555555555556,
              "#d8576b"
             ],
             [
              0.6666666666666666,
              "#ed7953"
             ],
             [
              0.7777777777777778,
              "#fb9f3a"
             ],
             [
              0.8888888888888888,
              "#fdca26"
             ],
             [
              1,
              "#f0f921"
             ]
            ],
            "type": "heatmapgl"
           }
          ],
          "histogram": [
           {
            "marker": {
             "pattern": {
              "fillmode": "overlay",
              "size": 10,
              "solidity": 0.2
             }
            },
            "type": "histogram"
           }
          ],
          "histogram2d": [
           {
            "colorbar": {
             "outlinewidth": 0,
             "ticks": ""
            },
            "colorscale": [
             [
              0,
              "#0d0887"
             ],
             [
              0.1111111111111111,
              "#46039f"
             ],
             [
              0.2222222222222222,
              "#7201a8"
             ],
             [
              0.3333333333333333,
              "#9c179e"
             ],
             [
              0.4444444444444444,
              "#bd3786"
             ],
             [
              0.5555555555555556,
              "#d8576b"
             ],
             [
              0.6666666666666666,
              "#ed7953"
             ],
             [
              0.7777777777777778,
              "#fb9f3a"
             ],
             [
              0.8888888888888888,
              "#fdca26"
             ],
             [
              1,
              "#f0f921"
             ]
            ],
            "type": "histogram2d"
           }
          ],
          "histogram2dcontour": [
           {
            "colorbar": {
             "outlinewidth": 0,
             "ticks": ""
            },
            "colorscale": [
             [
              0,
              "#0d0887"
             ],
             [
              0.1111111111111111,
              "#46039f"
             ],
             [
              0.2222222222222222,
              "#7201a8"
             ],
             [
              0.3333333333333333,
              "#9c179e"
             ],
             [
              0.4444444444444444,
              "#bd3786"
             ],
             [
              0.5555555555555556,
              "#d8576b"
             ],
             [
              0.6666666666666666,
              "#ed7953"
             ],
             [
              0.7777777777777778,
              "#fb9f3a"
             ],
             [
              0.8888888888888888,
              "#fdca26"
             ],
             [
              1,
              "#f0f921"
             ]
            ],
            "type": "histogram2dcontour"
           }
          ],
          "mesh3d": [
           {
            "colorbar": {
             "outlinewidth": 0,
             "ticks": ""
            },
            "type": "mesh3d"
           }
          ],
          "parcoords": [
           {
            "line": {
             "colorbar": {
              "outlinewidth": 0,
              "ticks": ""
             }
            },
            "type": "parcoords"
           }
          ],
          "pie": [
           {
            "automargin": true,
            "type": "pie"
           }
          ],
          "scatter": [
           {
            "fillpattern": {
             "fillmode": "overlay",
             "size": 10,
             "solidity": 0.2
            },
            "type": "scatter"
           }
          ],
          "scatter3d": [
           {
            "line": {
             "colorbar": {
              "outlinewidth": 0,
              "ticks": ""
             }
            },
            "marker": {
             "colorbar": {
              "outlinewidth": 0,
              "ticks": ""
             }
            },
            "type": "scatter3d"
           }
          ],
          "scattercarpet": [
           {
            "marker": {
             "colorbar": {
              "outlinewidth": 0,
              "ticks": ""
             }
            },
            "type": "scattercarpet"
           }
          ],
          "scattergeo": [
           {
            "marker": {
             "colorbar": {
              "outlinewidth": 0,
              "ticks": ""
             }
            },
            "type": "scattergeo"
           }
          ],
          "scattergl": [
           {
            "marker": {
             "colorbar": {
              "outlinewidth": 0,
              "ticks": ""
             }
            },
            "type": "scattergl"
           }
          ],
          "scattermapbox": [
           {
            "marker": {
             "colorbar": {
              "outlinewidth": 0,
              "ticks": ""
             }
            },
            "type": "scattermapbox"
           }
          ],
          "scatterpolar": [
           {
            "marker": {
             "colorbar": {
              "outlinewidth": 0,
              "ticks": ""
             }
            },
            "type": "scatterpolar"
           }
          ],
          "scatterpolargl": [
           {
            "marker": {
             "colorbar": {
              "outlinewidth": 0,
              "ticks": ""
             }
            },
            "type": "scatterpolargl"
           }
          ],
          "scatterternary": [
           {
            "marker": {
             "colorbar": {
              "outlinewidth": 0,
              "ticks": ""
             }
            },
            "type": "scatterternary"
           }
          ],
          "surface": [
           {
            "colorbar": {
             "outlinewidth": 0,
             "ticks": ""
            },
            "colorscale": [
             [
              0,
              "#0d0887"
             ],
             [
              0.1111111111111111,
              "#46039f"
             ],
             [
              0.2222222222222222,
              "#7201a8"
             ],
             [
              0.3333333333333333,
              "#9c179e"
             ],
             [
              0.4444444444444444,
              "#bd3786"
             ],
             [
              0.5555555555555556,
              "#d8576b"
             ],
             [
              0.6666666666666666,
              "#ed7953"
             ],
             [
              0.7777777777777778,
              "#fb9f3a"
             ],
             [
              0.8888888888888888,
              "#fdca26"
             ],
             [
              1,
              "#f0f921"
             ]
            ],
            "type": "surface"
           }
          ],
          "table": [
           {
            "cells": {
             "fill": {
              "color": "#EBF0F8"
             },
             "line": {
              "color": "white"
             }
            },
            "header": {
             "fill": {
              "color": "#C8D4E3"
             },
             "line": {
              "color": "white"
             }
            },
            "type": "table"
           }
          ]
         },
         "layout": {
          "annotationdefaults": {
           "arrowcolor": "#2a3f5f",
           "arrowhead": 0,
           "arrowwidth": 1
          },
          "autotypenumbers": "strict",
          "coloraxis": {
           "colorbar": {
            "outlinewidth": 0,
            "ticks": ""
           }
          },
          "colorscale": {
           "diverging": [
            [
             0,
             "#8e0152"
            ],
            [
             0.1,
             "#c51b7d"
            ],
            [
             0.2,
             "#de77ae"
            ],
            [
             0.3,
             "#f1b6da"
            ],
            [
             0.4,
             "#fde0ef"
            ],
            [
             0.5,
             "#f7f7f7"
            ],
            [
             0.6,
             "#e6f5d0"
            ],
            [
             0.7,
             "#b8e186"
            ],
            [
             0.8,
             "#7fbc41"
            ],
            [
             0.9,
             "#4d9221"
            ],
            [
             1,
             "#276419"
            ]
           ],
           "sequential": [
            [
             0,
             "#0d0887"
            ],
            [
             0.1111111111111111,
             "#46039f"
            ],
            [
             0.2222222222222222,
             "#7201a8"
            ],
            [
             0.3333333333333333,
             "#9c179e"
            ],
            [
             0.4444444444444444,
             "#bd3786"
            ],
            [
             0.5555555555555556,
             "#d8576b"
            ],
            [
             0.6666666666666666,
             "#ed7953"
            ],
            [
             0.7777777777777778,
             "#fb9f3a"
            ],
            [
             0.8888888888888888,
             "#fdca26"
            ],
            [
             1,
             "#f0f921"
            ]
           ],
           "sequentialminus": [
            [
             0,
             "#0d0887"
            ],
            [
             0.1111111111111111,
             "#46039f"
            ],
            [
             0.2222222222222222,
             "#7201a8"
            ],
            [
             0.3333333333333333,
             "#9c179e"
            ],
            [
             0.4444444444444444,
             "#bd3786"
            ],
            [
             0.5555555555555556,
             "#d8576b"
            ],
            [
             0.6666666666666666,
             "#ed7953"
            ],
            [
             0.7777777777777778,
             "#fb9f3a"
            ],
            [
             0.8888888888888888,
             "#fdca26"
            ],
            [
             1,
             "#f0f921"
            ]
           ]
          },
          "colorway": [
           "#636efa",
           "#EF553B",
           "#00cc96",
           "#ab63fa",
           "#FFA15A",
           "#19d3f3",
           "#FF6692",
           "#B6E880",
           "#FF97FF",
           "#FECB52"
          ],
          "font": {
           "color": "#2a3f5f"
          },
          "geo": {
           "bgcolor": "white",
           "lakecolor": "white",
           "landcolor": "#E5ECF6",
           "showlakes": true,
           "showland": true,
           "subunitcolor": "white"
          },
          "hoverlabel": {
           "align": "left"
          },
          "hovermode": "closest",
          "mapbox": {
           "style": "light"
          },
          "paper_bgcolor": "white",
          "plot_bgcolor": "#E5ECF6",
          "polar": {
           "angularaxis": {
            "gridcolor": "white",
            "linecolor": "white",
            "ticks": ""
           },
           "bgcolor": "#E5ECF6",
           "radialaxis": {
            "gridcolor": "white",
            "linecolor": "white",
            "ticks": ""
           }
          },
          "scene": {
           "xaxis": {
            "backgroundcolor": "#E5ECF6",
            "gridcolor": "white",
            "gridwidth": 2,
            "linecolor": "white",
            "showbackground": true,
            "ticks": "",
            "zerolinecolor": "white"
           },
           "yaxis": {
            "backgroundcolor": "#E5ECF6",
            "gridcolor": "white",
            "gridwidth": 2,
            "linecolor": "white",
            "showbackground": true,
            "ticks": "",
            "zerolinecolor": "white"
           },
           "zaxis": {
            "backgroundcolor": "#E5ECF6",
            "gridcolor": "white",
            "gridwidth": 2,
            "linecolor": "white",
            "showbackground": true,
            "ticks": "",
            "zerolinecolor": "white"
           }
          },
          "shapedefaults": {
           "line": {
            "color": "#2a3f5f"
           }
          },
          "ternary": {
           "aaxis": {
            "gridcolor": "white",
            "linecolor": "white",
            "ticks": ""
           },
           "baxis": {
            "gridcolor": "white",
            "linecolor": "white",
            "ticks": ""
           },
           "bgcolor": "#E5ECF6",
           "caxis": {
            "gridcolor": "white",
            "linecolor": "white",
            "ticks": ""
           }
          },
          "title": {
           "x": 0.05
          },
          "xaxis": {
           "automargin": true,
           "gridcolor": "white",
           "linecolor": "white",
           "ticks": "",
           "title": {
            "standoff": 15
           },
           "zerolinecolor": "white",
           "zerolinewidth": 2
          },
          "yaxis": {
           "automargin": true,
           "gridcolor": "white",
           "linecolor": "white",
           "ticks": "",
           "title": {
            "standoff": 15
           },
           "zerolinecolor": "white",
           "zerolinewidth": 2
          }
         }
        },
        "xaxis": {
         "anchor": "y",
         "domain": [
          0,
          1
         ],
         "title": {
          "text": "reading_mean"
         }
        },
        "yaxis": {
         "anchor": "x",
         "domain": [
          0,
          1
         ],
         "title": {
          "text": "country_index"
         }
        }
       }
      }
     },
     "metadata": {},
     "output_type": "display_data"
    }
   ],
   "source": [
    "fig2 = px.scatter(all_data, x='reading_mean', y='country_index')\n",
    "fig2.show()"
   ]
  },
  {
   "cell_type": "code",
   "execution_count": 20,
   "metadata": {},
   "outputs": [
    {
     "data": {
      "application/vnd.plotly.v1+json": {
       "config": {
        "plotlyServerURL": "https://plot.ly"
       },
       "data": [
        {
         "hovertemplate": "math_mean=%{x}<br>country_index=%{y}<extra></extra>",
         "legendgroup": "",
         "marker": {
          "color": "#636efa",
          "symbol": "circle"
         },
         "mode": "markers",
         "name": "",
         "orientation": "v",
         "showlegend": false,
         "type": "scatter",
         "x": [
          379,
          491,
          499,
          384,
          512,
          515,
          417,
          591,
          391,
          402,
          499,
          500,
          509,
          523,
          507,
          495,
          502,
          451,
          481,
          379,
          500,
          495,
          463,
          487,
          527,
          481,
          483,
          496,
          409,
          501,
          494,
          516,
          492,
          488,
          373,
          486,
          509,
          502,
          454
         ],
         "xaxis": "x",
         "y": [
          0.855,
          0.924,
          0.865,
          0.694,
          0.894,
          0.9,
          0.81,
          0.66,
          0.682,
          0.726,
          0.89,
          0.943,
          0.92,
          0.882,
          0.927,
          0.817,
          0.928,
          0.849,
          0.821,
          0.65,
          0.922,
          0.926,
          0.883,
          0.793,
          0.851,
          0.898,
          0.806,
          0.883,
          0.703,
          0.93,
          0.926,
          0.869,
          0.768,
          0.823,
          0.789,
          0.826,
          0.91,
          0.918,
          0.731
         ],
         "yaxis": "y"
        }
       ],
       "layout": {
        "legend": {
         "tracegroupgap": 0
        },
        "margin": {
         "t": 60
        },
        "template": {
         "data": {
          "bar": [
           {
            "error_x": {
             "color": "#2a3f5f"
            },
            "error_y": {
             "color": "#2a3f5f"
            },
            "marker": {
             "line": {
              "color": "#E5ECF6",
              "width": 0.5
             },
             "pattern": {
              "fillmode": "overlay",
              "size": 10,
              "solidity": 0.2
             }
            },
            "type": "bar"
           }
          ],
          "barpolar": [
           {
            "marker": {
             "line": {
              "color": "#E5ECF6",
              "width": 0.5
             },
             "pattern": {
              "fillmode": "overlay",
              "size": 10,
              "solidity": 0.2
             }
            },
            "type": "barpolar"
           }
          ],
          "carpet": [
           {
            "aaxis": {
             "endlinecolor": "#2a3f5f",
             "gridcolor": "white",
             "linecolor": "white",
             "minorgridcolor": "white",
             "startlinecolor": "#2a3f5f"
            },
            "baxis": {
             "endlinecolor": "#2a3f5f",
             "gridcolor": "white",
             "linecolor": "white",
             "minorgridcolor": "white",
             "startlinecolor": "#2a3f5f"
            },
            "type": "carpet"
           }
          ],
          "choropleth": [
           {
            "colorbar": {
             "outlinewidth": 0,
             "ticks": ""
            },
            "type": "choropleth"
           }
          ],
          "contour": [
           {
            "colorbar": {
             "outlinewidth": 0,
             "ticks": ""
            },
            "colorscale": [
             [
              0,
              "#0d0887"
             ],
             [
              0.1111111111111111,
              "#46039f"
             ],
             [
              0.2222222222222222,
              "#7201a8"
             ],
             [
              0.3333333333333333,
              "#9c179e"
             ],
             [
              0.4444444444444444,
              "#bd3786"
             ],
             [
              0.5555555555555556,
              "#d8576b"
             ],
             [
              0.6666666666666666,
              "#ed7953"
             ],
             [
              0.7777777777777778,
              "#fb9f3a"
             ],
             [
              0.8888888888888888,
              "#fdca26"
             ],
             [
              1,
              "#f0f921"
             ]
            ],
            "type": "contour"
           }
          ],
          "contourcarpet": [
           {
            "colorbar": {
             "outlinewidth": 0,
             "ticks": ""
            },
            "type": "contourcarpet"
           }
          ],
          "heatmap": [
           {
            "colorbar": {
             "outlinewidth": 0,
             "ticks": ""
            },
            "colorscale": [
             [
              0,
              "#0d0887"
             ],
             [
              0.1111111111111111,
              "#46039f"
             ],
             [
              0.2222222222222222,
              "#7201a8"
             ],
             [
              0.3333333333333333,
              "#9c179e"
             ],
             [
              0.4444444444444444,
              "#bd3786"
             ],
             [
              0.5555555555555556,
              "#d8576b"
             ],
             [
              0.6666666666666666,
              "#ed7953"
             ],
             [
              0.7777777777777778,
              "#fb9f3a"
             ],
             [
              0.8888888888888888,
              "#fdca26"
             ],
             [
              1,
              "#f0f921"
             ]
            ],
            "type": "heatmap"
           }
          ],
          "heatmapgl": [
           {
            "colorbar": {
             "outlinewidth": 0,
             "ticks": ""
            },
            "colorscale": [
             [
              0,
              "#0d0887"
             ],
             [
              0.1111111111111111,
              "#46039f"
             ],
             [
              0.2222222222222222,
              "#7201a8"
             ],
             [
              0.3333333333333333,
              "#9c179e"
             ],
             [
              0.4444444444444444,
              "#bd3786"
             ],
             [
              0.5555555555555556,
              "#d8576b"
             ],
             [
              0.6666666666666666,
              "#ed7953"
             ],
             [
              0.7777777777777778,
              "#fb9f3a"
             ],
             [
              0.8888888888888888,
              "#fdca26"
             ],
             [
              1,
              "#f0f921"
             ]
            ],
            "type": "heatmapgl"
           }
          ],
          "histogram": [
           {
            "marker": {
             "pattern": {
              "fillmode": "overlay",
              "size": 10,
              "solidity": 0.2
             }
            },
            "type": "histogram"
           }
          ],
          "histogram2d": [
           {
            "colorbar": {
             "outlinewidth": 0,
             "ticks": ""
            },
            "colorscale": [
             [
              0,
              "#0d0887"
             ],
             [
              0.1111111111111111,
              "#46039f"
             ],
             [
              0.2222222222222222,
              "#7201a8"
             ],
             [
              0.3333333333333333,
              "#9c179e"
             ],
             [
              0.4444444444444444,
              "#bd3786"
             ],
             [
              0.5555555555555556,
              "#d8576b"
             ],
             [
              0.6666666666666666,
              "#ed7953"
             ],
             [
              0.7777777777777778,
              "#fb9f3a"
             ],
             [
              0.8888888888888888,
              "#fdca26"
             ],
             [
              1,
              "#f0f921"
             ]
            ],
            "type": "histogram2d"
           }
          ],
          "histogram2dcontour": [
           {
            "colorbar": {
             "outlinewidth": 0,
             "ticks": ""
            },
            "colorscale": [
             [
              0,
              "#0d0887"
             ],
             [
              0.1111111111111111,
              "#46039f"
             ],
             [
              0.2222222222222222,
              "#7201a8"
             ],
             [
              0.3333333333333333,
              "#9c179e"
             ],
             [
              0.4444444444444444,
              "#bd3786"
             ],
             [
              0.5555555555555556,
              "#d8576b"
             ],
             [
              0.6666666666666666,
              "#ed7953"
             ],
             [
              0.7777777777777778,
              "#fb9f3a"
             ],
             [
              0.8888888888888888,
              "#fdca26"
             ],
             [
              1,
              "#f0f921"
             ]
            ],
            "type": "histogram2dcontour"
           }
          ],
          "mesh3d": [
           {
            "colorbar": {
             "outlinewidth": 0,
             "ticks": ""
            },
            "type": "mesh3d"
           }
          ],
          "parcoords": [
           {
            "line": {
             "colorbar": {
              "outlinewidth": 0,
              "ticks": ""
             }
            },
            "type": "parcoords"
           }
          ],
          "pie": [
           {
            "automargin": true,
            "type": "pie"
           }
          ],
          "scatter": [
           {
            "fillpattern": {
             "fillmode": "overlay",
             "size": 10,
             "solidity": 0.2
            },
            "type": "scatter"
           }
          ],
          "scatter3d": [
           {
            "line": {
             "colorbar": {
              "outlinewidth": 0,
              "ticks": ""
             }
            },
            "marker": {
             "colorbar": {
              "outlinewidth": 0,
              "ticks": ""
             }
            },
            "type": "scatter3d"
           }
          ],
          "scattercarpet": [
           {
            "marker": {
             "colorbar": {
              "outlinewidth": 0,
              "ticks": ""
             }
            },
            "type": "scattercarpet"
           }
          ],
          "scattergeo": [
           {
            "marker": {
             "colorbar": {
              "outlinewidth": 0,
              "ticks": ""
             }
            },
            "type": "scattergeo"
           }
          ],
          "scattergl": [
           {
            "marker": {
             "colorbar": {
              "outlinewidth": 0,
              "ticks": ""
             }
            },
            "type": "scattergl"
           }
          ],
          "scattermapbox": [
           {
            "marker": {
             "colorbar": {
              "outlinewidth": 0,
              "ticks": ""
             }
            },
            "type": "scattermapbox"
           }
          ],
          "scatterpolar": [
           {
            "marker": {
             "colorbar": {
              "outlinewidth": 0,
              "ticks": ""
             }
            },
            "type": "scatterpolar"
           }
          ],
          "scatterpolargl": [
           {
            "marker": {
             "colorbar": {
              "outlinewidth": 0,
              "ticks": ""
             }
            },
            "type": "scatterpolargl"
           }
          ],
          "scatterternary": [
           {
            "marker": {
             "colorbar": {
              "outlinewidth": 0,
              "ticks": ""
             }
            },
            "type": "scatterternary"
           }
          ],
          "surface": [
           {
            "colorbar": {
             "outlinewidth": 0,
             "ticks": ""
            },
            "colorscale": [
             [
              0,
              "#0d0887"
             ],
             [
              0.1111111111111111,
              "#46039f"
             ],
             [
              0.2222222222222222,
              "#7201a8"
             ],
             [
              0.3333333333333333,
              "#9c179e"
             ],
             [
              0.4444444444444444,
              "#bd3786"
             ],
             [
              0.5555555555555556,
              "#d8576b"
             ],
             [
              0.6666666666666666,
              "#ed7953"
             ],
             [
              0.7777777777777778,
              "#fb9f3a"
             ],
             [
              0.8888888888888888,
              "#fdca26"
             ],
             [
              1,
              "#f0f921"
             ]
            ],
            "type": "surface"
           }
          ],
          "table": [
           {
            "cells": {
             "fill": {
              "color": "#EBF0F8"
             },
             "line": {
              "color": "white"
             }
            },
            "header": {
             "fill": {
              "color": "#C8D4E3"
             },
             "line": {
              "color": "white"
             }
            },
            "type": "table"
           }
          ]
         },
         "layout": {
          "annotationdefaults": {
           "arrowcolor": "#2a3f5f",
           "arrowhead": 0,
           "arrowwidth": 1
          },
          "autotypenumbers": "strict",
          "coloraxis": {
           "colorbar": {
            "outlinewidth": 0,
            "ticks": ""
           }
          },
          "colorscale": {
           "diverging": [
            [
             0,
             "#8e0152"
            ],
            [
             0.1,
             "#c51b7d"
            ],
            [
             0.2,
             "#de77ae"
            ],
            [
             0.3,
             "#f1b6da"
            ],
            [
             0.4,
             "#fde0ef"
            ],
            [
             0.5,
             "#f7f7f7"
            ],
            [
             0.6,
             "#e6f5d0"
            ],
            [
             0.7,
             "#b8e186"
            ],
            [
             0.8,
             "#7fbc41"
            ],
            [
             0.9,
             "#4d9221"
            ],
            [
             1,
             "#276419"
            ]
           ],
           "sequential": [
            [
             0,
             "#0d0887"
            ],
            [
             0.1111111111111111,
             "#46039f"
            ],
            [
             0.2222222222222222,
             "#7201a8"
            ],
            [
             0.3333333333333333,
             "#9c179e"
            ],
            [
             0.4444444444444444,
             "#bd3786"
            ],
            [
             0.5555555555555556,
             "#d8576b"
            ],
            [
             0.6666666666666666,
             "#ed7953"
            ],
            [
             0.7777777777777778,
             "#fb9f3a"
            ],
            [
             0.8888888888888888,
             "#fdca26"
            ],
            [
             1,
             "#f0f921"
            ]
           ],
           "sequentialminus": [
            [
             0,
             "#0d0887"
            ],
            [
             0.1111111111111111,
             "#46039f"
            ],
            [
             0.2222222222222222,
             "#7201a8"
            ],
            [
             0.3333333333333333,
             "#9c179e"
            ],
            [
             0.4444444444444444,
             "#bd3786"
            ],
            [
             0.5555555555555556,
             "#d8576b"
            ],
            [
             0.6666666666666666,
             "#ed7953"
            ],
            [
             0.7777777777777778,
             "#fb9f3a"
            ],
            [
             0.8888888888888888,
             "#fdca26"
            ],
            [
             1,
             "#f0f921"
            ]
           ]
          },
          "colorway": [
           "#636efa",
           "#EF553B",
           "#00cc96",
           "#ab63fa",
           "#FFA15A",
           "#19d3f3",
           "#FF6692",
           "#B6E880",
           "#FF97FF",
           "#FECB52"
          ],
          "font": {
           "color": "#2a3f5f"
          },
          "geo": {
           "bgcolor": "white",
           "lakecolor": "white",
           "landcolor": "#E5ECF6",
           "showlakes": true,
           "showland": true,
           "subunitcolor": "white"
          },
          "hoverlabel": {
           "align": "left"
          },
          "hovermode": "closest",
          "mapbox": {
           "style": "light"
          },
          "paper_bgcolor": "white",
          "plot_bgcolor": "#E5ECF6",
          "polar": {
           "angularaxis": {
            "gridcolor": "white",
            "linecolor": "white",
            "ticks": ""
           },
           "bgcolor": "#E5ECF6",
           "radialaxis": {
            "gridcolor": "white",
            "linecolor": "white",
            "ticks": ""
           }
          },
          "scene": {
           "xaxis": {
            "backgroundcolor": "#E5ECF6",
            "gridcolor": "white",
            "gridwidth": 2,
            "linecolor": "white",
            "showbackground": true,
            "ticks": "",
            "zerolinecolor": "white"
           },
           "yaxis": {
            "backgroundcolor": "#E5ECF6",
            "gridcolor": "white",
            "gridwidth": 2,
            "linecolor": "white",
            "showbackground": true,
            "ticks": "",
            "zerolinecolor": "white"
           },
           "zaxis": {
            "backgroundcolor": "#E5ECF6",
            "gridcolor": "white",
            "gridwidth": 2,
            "linecolor": "white",
            "showbackground": true,
            "ticks": "",
            "zerolinecolor": "white"
           }
          },
          "shapedefaults": {
           "line": {
            "color": "#2a3f5f"
           }
          },
          "ternary": {
           "aaxis": {
            "gridcolor": "white",
            "linecolor": "white",
            "ticks": ""
           },
           "baxis": {
            "gridcolor": "white",
            "linecolor": "white",
            "ticks": ""
           },
           "bgcolor": "#E5ECF6",
           "caxis": {
            "gridcolor": "white",
            "linecolor": "white",
            "ticks": ""
           }
          },
          "title": {
           "x": 0.05
          },
          "xaxis": {
           "automargin": true,
           "gridcolor": "white",
           "linecolor": "white",
           "ticks": "",
           "title": {
            "standoff": 15
           },
           "zerolinecolor": "white",
           "zerolinewidth": 2
          },
          "yaxis": {
           "automargin": true,
           "gridcolor": "white",
           "linecolor": "white",
           "ticks": "",
           "title": {
            "standoff": 15
           },
           "zerolinecolor": "white",
           "zerolinewidth": 2
          }
         }
        },
        "xaxis": {
         "anchor": "y",
         "domain": [
          0,
          1
         ],
         "title": {
          "text": "math_mean"
         }
        },
        "yaxis": {
         "anchor": "x",
         "domain": [
          0,
          1
         ],
         "title": {
          "text": "country_index"
         }
        }
       }
      }
     },
     "metadata": {},
     "output_type": "display_data"
    }
   ],
   "source": [
    "fig3 = px.scatter(all_data, x='math_mean', y='country_index')\n",
    "fig3.show()"
   ]
  },
  {
   "cell_type": "code",
   "execution_count": 21,
   "metadata": {},
   "outputs": [
    {
     "data": {
      "application/vnd.plotly.v1+json": {
       "config": {
        "plotlyServerURL": "https://plot.ly"
       },
       "data": [
        {
         "hovertemplate": "science_mean=%{x}<br>country_index=%{y}<extra></extra>",
         "legendgroup": "",
         "marker": {
          "color": "#636efa",
          "symbol": "circle"
         },
         "mode": "markers",
         "name": "",
         "orientation": "v",
         "showlegend": false,
         "type": "scatter",
         "x": [
          404,
          503,
          490,
          404,
          518,
          495,
          444,
          590,
          413,
          416,
          497,
          503,
          493,
          530,
          522,
          493,
          505,
          452,
          481,
          396,
          496,
          475,
          462,
          468,
          529,
          482,
          477,
          487,
          419,
          490,
          508,
          511,
          492,
          478,
          386,
          464,
          507,
          499,
          468
         ],
         "xaxis": "x",
         "y": [
          0.855,
          0.924,
          0.865,
          0.694,
          0.894,
          0.9,
          0.81,
          0.66,
          0.682,
          0.726,
          0.89,
          0.943,
          0.92,
          0.882,
          0.927,
          0.817,
          0.928,
          0.849,
          0.821,
          0.65,
          0.922,
          0.926,
          0.883,
          0.793,
          0.851,
          0.898,
          0.806,
          0.883,
          0.703,
          0.93,
          0.926,
          0.869,
          0.768,
          0.823,
          0.789,
          0.826,
          0.91,
          0.918,
          0.731
         ],
         "yaxis": "y"
        }
       ],
       "layout": {
        "legend": {
         "tracegroupgap": 0
        },
        "margin": {
         "t": 60
        },
        "template": {
         "data": {
          "bar": [
           {
            "error_x": {
             "color": "#2a3f5f"
            },
            "error_y": {
             "color": "#2a3f5f"
            },
            "marker": {
             "line": {
              "color": "#E5ECF6",
              "width": 0.5
             },
             "pattern": {
              "fillmode": "overlay",
              "size": 10,
              "solidity": 0.2
             }
            },
            "type": "bar"
           }
          ],
          "barpolar": [
           {
            "marker": {
             "line": {
              "color": "#E5ECF6",
              "width": 0.5
             },
             "pattern": {
              "fillmode": "overlay",
              "size": 10,
              "solidity": 0.2
             }
            },
            "type": "barpolar"
           }
          ],
          "carpet": [
           {
            "aaxis": {
             "endlinecolor": "#2a3f5f",
             "gridcolor": "white",
             "linecolor": "white",
             "minorgridcolor": "white",
             "startlinecolor": "#2a3f5f"
            },
            "baxis": {
             "endlinecolor": "#2a3f5f",
             "gridcolor": "white",
             "linecolor": "white",
             "minorgridcolor": "white",
             "startlinecolor": "#2a3f5f"
            },
            "type": "carpet"
           }
          ],
          "choropleth": [
           {
            "colorbar": {
             "outlinewidth": 0,
             "ticks": ""
            },
            "type": "choropleth"
           }
          ],
          "contour": [
           {
            "colorbar": {
             "outlinewidth": 0,
             "ticks": ""
            },
            "colorscale": [
             [
              0,
              "#0d0887"
             ],
             [
              0.1111111111111111,
              "#46039f"
             ],
             [
              0.2222222222222222,
              "#7201a8"
             ],
             [
              0.3333333333333333,
              "#9c179e"
             ],
             [
              0.4444444444444444,
              "#bd3786"
             ],
             [
              0.5555555555555556,
              "#d8576b"
             ],
             [
              0.6666666666666666,
              "#ed7953"
             ],
             [
              0.7777777777777778,
              "#fb9f3a"
             ],
             [
              0.8888888888888888,
              "#fdca26"
             ],
             [
              1,
              "#f0f921"
             ]
            ],
            "type": "contour"
           }
          ],
          "contourcarpet": [
           {
            "colorbar": {
             "outlinewidth": 0,
             "ticks": ""
            },
            "type": "contourcarpet"
           }
          ],
          "heatmap": [
           {
            "colorbar": {
             "outlinewidth": 0,
             "ticks": ""
            },
            "colorscale": [
             [
              0,
              "#0d0887"
             ],
             [
              0.1111111111111111,
              "#46039f"
             ],
             [
              0.2222222222222222,
              "#7201a8"
             ],
             [
              0.3333333333333333,
              "#9c179e"
             ],
             [
              0.4444444444444444,
              "#bd3786"
             ],
             [
              0.5555555555555556,
              "#d8576b"
             ],
             [
              0.6666666666666666,
              "#ed7953"
             ],
             [
              0.7777777777777778,
              "#fb9f3a"
             ],
             [
              0.8888888888888888,
              "#fdca26"
             ],
             [
              1,
              "#f0f921"
             ]
            ],
            "type": "heatmap"
           }
          ],
          "heatmapgl": [
           {
            "colorbar": {
             "outlinewidth": 0,
             "ticks": ""
            },
            "colorscale": [
             [
              0,
              "#0d0887"
             ],
             [
              0.1111111111111111,
              "#46039f"
             ],
             [
              0.2222222222222222,
              "#7201a8"
             ],
             [
              0.3333333333333333,
              "#9c179e"
             ],
             [
              0.4444444444444444,
              "#bd3786"
             ],
             [
              0.5555555555555556,
              "#d8576b"
             ],
             [
              0.6666666666666666,
              "#ed7953"
             ],
             [
              0.7777777777777778,
              "#fb9f3a"
             ],
             [
              0.8888888888888888,
              "#fdca26"
             ],
             [
              1,
              "#f0f921"
             ]
            ],
            "type": "heatmapgl"
           }
          ],
          "histogram": [
           {
            "marker": {
             "pattern": {
              "fillmode": "overlay",
              "size": 10,
              "solidity": 0.2
             }
            },
            "type": "histogram"
           }
          ],
          "histogram2d": [
           {
            "colorbar": {
             "outlinewidth": 0,
             "ticks": ""
            },
            "colorscale": [
             [
              0,
              "#0d0887"
             ],
             [
              0.1111111111111111,
              "#46039f"
             ],
             [
              0.2222222222222222,
              "#7201a8"
             ],
             [
              0.3333333333333333,
              "#9c179e"
             ],
             [
              0.4444444444444444,
              "#bd3786"
             ],
             [
              0.5555555555555556,
              "#d8576b"
             ],
             [
              0.6666666666666666,
              "#ed7953"
             ],
             [
              0.7777777777777778,
              "#fb9f3a"
             ],
             [
              0.8888888888888888,
              "#fdca26"
             ],
             [
              1,
              "#f0f921"
             ]
            ],
            "type": "histogram2d"
           }
          ],
          "histogram2dcontour": [
           {
            "colorbar": {
             "outlinewidth": 0,
             "ticks": ""
            },
            "colorscale": [
             [
              0,
              "#0d0887"
             ],
             [
              0.1111111111111111,
              "#46039f"
             ],
             [
              0.2222222222222222,
              "#7201a8"
             ],
             [
              0.3333333333333333,
              "#9c179e"
             ],
             [
              0.4444444444444444,
              "#bd3786"
             ],
             [
              0.5555555555555556,
              "#d8576b"
             ],
             [
              0.6666666666666666,
              "#ed7953"
             ],
             [
              0.7777777777777778,
              "#fb9f3a"
             ],
             [
              0.8888888888888888,
              "#fdca26"
             ],
             [
              1,
              "#f0f921"
             ]
            ],
            "type": "histogram2dcontour"
           }
          ],
          "mesh3d": [
           {
            "colorbar": {
             "outlinewidth": 0,
             "ticks": ""
            },
            "type": "mesh3d"
           }
          ],
          "parcoords": [
           {
            "line": {
             "colorbar": {
              "outlinewidth": 0,
              "ticks": ""
             }
            },
            "type": "parcoords"
           }
          ],
          "pie": [
           {
            "automargin": true,
            "type": "pie"
           }
          ],
          "scatter": [
           {
            "fillpattern": {
             "fillmode": "overlay",
             "size": 10,
             "solidity": 0.2
            },
            "type": "scatter"
           }
          ],
          "scatter3d": [
           {
            "line": {
             "colorbar": {
              "outlinewidth": 0,
              "ticks": ""
             }
            },
            "marker": {
             "colorbar": {
              "outlinewidth": 0,
              "ticks": ""
             }
            },
            "type": "scatter3d"
           }
          ],
          "scattercarpet": [
           {
            "marker": {
             "colorbar": {
              "outlinewidth": 0,
              "ticks": ""
             }
            },
            "type": "scattercarpet"
           }
          ],
          "scattergeo": [
           {
            "marker": {
             "colorbar": {
              "outlinewidth": 0,
              "ticks": ""
             }
            },
            "type": "scattergeo"
           }
          ],
          "scattergl": [
           {
            "marker": {
             "colorbar": {
              "outlinewidth": 0,
              "ticks": ""
             }
            },
            "type": "scattergl"
           }
          ],
          "scattermapbox": [
           {
            "marker": {
             "colorbar": {
              "outlinewidth": 0,
              "ticks": ""
             }
            },
            "type": "scattermapbox"
           }
          ],
          "scatterpolar": [
           {
            "marker": {
             "colorbar": {
              "outlinewidth": 0,
              "ticks": ""
             }
            },
            "type": "scatterpolar"
           }
          ],
          "scatterpolargl": [
           {
            "marker": {
             "colorbar": {
              "outlinewidth": 0,
              "ticks": ""
             }
            },
            "type": "scatterpolargl"
           }
          ],
          "scatterternary": [
           {
            "marker": {
             "colorbar": {
              "outlinewidth": 0,
              "ticks": ""
             }
            },
            "type": "scatterternary"
           }
          ],
          "surface": [
           {
            "colorbar": {
             "outlinewidth": 0,
             "ticks": ""
            },
            "colorscale": [
             [
              0,
              "#0d0887"
             ],
             [
              0.1111111111111111,
              "#46039f"
             ],
             [
              0.2222222222222222,
              "#7201a8"
             ],
             [
              0.3333333333333333,
              "#9c179e"
             ],
             [
              0.4444444444444444,
              "#bd3786"
             ],
             [
              0.5555555555555556,
              "#d8576b"
             ],
             [
              0.6666666666666666,
              "#ed7953"
             ],
             [
              0.7777777777777778,
              "#fb9f3a"
             ],
             [
              0.8888888888888888,
              "#fdca26"
             ],
             [
              1,
              "#f0f921"
             ]
            ],
            "type": "surface"
           }
          ],
          "table": [
           {
            "cells": {
             "fill": {
              "color": "#EBF0F8"
             },
             "line": {
              "color": "white"
             }
            },
            "header": {
             "fill": {
              "color": "#C8D4E3"
             },
             "line": {
              "color": "white"
             }
            },
            "type": "table"
           }
          ]
         },
         "layout": {
          "annotationdefaults": {
           "arrowcolor": "#2a3f5f",
           "arrowhead": 0,
           "arrowwidth": 1
          },
          "autotypenumbers": "strict",
          "coloraxis": {
           "colorbar": {
            "outlinewidth": 0,
            "ticks": ""
           }
          },
          "colorscale": {
           "diverging": [
            [
             0,
             "#8e0152"
            ],
            [
             0.1,
             "#c51b7d"
            ],
            [
             0.2,
             "#de77ae"
            ],
            [
             0.3,
             "#f1b6da"
            ],
            [
             0.4,
             "#fde0ef"
            ],
            [
             0.5,
             "#f7f7f7"
            ],
            [
             0.6,
             "#e6f5d0"
            ],
            [
             0.7,
             "#b8e186"
            ],
            [
             0.8,
             "#7fbc41"
            ],
            [
             0.9,
             "#4d9221"
            ],
            [
             1,
             "#276419"
            ]
           ],
           "sequential": [
            [
             0,
             "#0d0887"
            ],
            [
             0.1111111111111111,
             "#46039f"
            ],
            [
             0.2222222222222222,
             "#7201a8"
            ],
            [
             0.3333333333333333,
             "#9c179e"
            ],
            [
             0.4444444444444444,
             "#bd3786"
            ],
            [
             0.5555555555555556,
             "#d8576b"
            ],
            [
             0.6666666666666666,
             "#ed7953"
            ],
            [
             0.7777777777777778,
             "#fb9f3a"
            ],
            [
             0.8888888888888888,
             "#fdca26"
            ],
            [
             1,
             "#f0f921"
            ]
           ],
           "sequentialminus": [
            [
             0,
             "#0d0887"
            ],
            [
             0.1111111111111111,
             "#46039f"
            ],
            [
             0.2222222222222222,
             "#7201a8"
            ],
            [
             0.3333333333333333,
             "#9c179e"
            ],
            [
             0.4444444444444444,
             "#bd3786"
            ],
            [
             0.5555555555555556,
             "#d8576b"
            ],
            [
             0.6666666666666666,
             "#ed7953"
            ],
            [
             0.7777777777777778,
             "#fb9f3a"
            ],
            [
             0.8888888888888888,
             "#fdca26"
            ],
            [
             1,
             "#f0f921"
            ]
           ]
          },
          "colorway": [
           "#636efa",
           "#EF553B",
           "#00cc96",
           "#ab63fa",
           "#FFA15A",
           "#19d3f3",
           "#FF6692",
           "#B6E880",
           "#FF97FF",
           "#FECB52"
          ],
          "font": {
           "color": "#2a3f5f"
          },
          "geo": {
           "bgcolor": "white",
           "lakecolor": "white",
           "landcolor": "#E5ECF6",
           "showlakes": true,
           "showland": true,
           "subunitcolor": "white"
          },
          "hoverlabel": {
           "align": "left"
          },
          "hovermode": "closest",
          "mapbox": {
           "style": "light"
          },
          "paper_bgcolor": "white",
          "plot_bgcolor": "#E5ECF6",
          "polar": {
           "angularaxis": {
            "gridcolor": "white",
            "linecolor": "white",
            "ticks": ""
           },
           "bgcolor": "#E5ECF6",
           "radialaxis": {
            "gridcolor": "white",
            "linecolor": "white",
            "ticks": ""
           }
          },
          "scene": {
           "xaxis": {
            "backgroundcolor": "#E5ECF6",
            "gridcolor": "white",
            "gridwidth": 2,
            "linecolor": "white",
            "showbackground": true,
            "ticks": "",
            "zerolinecolor": "white"
           },
           "yaxis": {
            "backgroundcolor": "#E5ECF6",
            "gridcolor": "white",
            "gridwidth": 2,
            "linecolor": "white",
            "showbackground": true,
            "ticks": "",
            "zerolinecolor": "white"
           },
           "zaxis": {
            "backgroundcolor": "#E5ECF6",
            "gridcolor": "white",
            "gridwidth": 2,
            "linecolor": "white",
            "showbackground": true,
            "ticks": "",
            "zerolinecolor": "white"
           }
          },
          "shapedefaults": {
           "line": {
            "color": "#2a3f5f"
           }
          },
          "ternary": {
           "aaxis": {
            "gridcolor": "white",
            "linecolor": "white",
            "ticks": ""
           },
           "baxis": {
            "gridcolor": "white",
            "linecolor": "white",
            "ticks": ""
           },
           "bgcolor": "#E5ECF6",
           "caxis": {
            "gridcolor": "white",
            "linecolor": "white",
            "ticks": ""
           }
          },
          "title": {
           "x": 0.05
          },
          "xaxis": {
           "automargin": true,
           "gridcolor": "white",
           "linecolor": "white",
           "ticks": "",
           "title": {
            "standoff": 15
           },
           "zerolinecolor": "white",
           "zerolinewidth": 2
          },
          "yaxis": {
           "automargin": true,
           "gridcolor": "white",
           "linecolor": "white",
           "ticks": "",
           "title": {
            "standoff": 15
           },
           "zerolinecolor": "white",
           "zerolinewidth": 2
          }
         }
        },
        "xaxis": {
         "anchor": "y",
         "domain": [
          0,
          1
         ],
         "title": {
          "text": "science_mean"
         }
        },
        "yaxis": {
         "anchor": "x",
         "domain": [
          0,
          1
         ],
         "title": {
          "text": "country_index"
         }
        }
       }
      }
     },
     "metadata": {},
     "output_type": "display_data"
    }
   ],
   "source": [
    "fig4 = px.scatter(all_data, x='science_mean', y='country_index')\n",
    "fig4.show()"
   ]
  },
  {
   "cell_type": "code",
   "execution_count": 22,
   "metadata": {},
   "outputs": [
    {
     "data": {
      "application/vnd.plotly.v1+json": {
       "config": {
        "plotlyServerURL": "https://plot.ly"
       },
       "data": [
        {
         "hovertemplate": "salary=%{x}<br>country_index=%{y}<extra></extra>",
         "legendgroup": "",
         "marker": {
          "color": "#636efa",
          "symbol": "circle"
         },
         "mode": "markers",
         "name": "",
         "orientation": "v",
         "showlegend": false,
         "type": "scatter",
         "x": [
          9647,
          62300,
          45807.35,
          16748.51,
          19112.28,
          99302,
          18194.714,
          25788.78,
          9684,
          4724.24,
          12203,
          59049.3016631247,
          55184,
          19061.22,
          42216.5631587502,
          16748.51,
          38280.0442739586,
          22917.3262527084,
          15564,
          4630.32,
          43220.6588480204,
          41989.44,
          47568,
          35738.8882987495,
          36384,
          26142.7895412496,
          60394.64,
          11927.88,
          16044,
          44189,
          48949,
          18068,
          15358.53,
          15192,
          40224,
          16399.4360735417,
          35504.2531468748,
          254214.231473751,
          5871.78
         ],
         "xaxis": "x",
         "y": [
          0.855,
          0.924,
          0.865,
          0.694,
          0.894,
          0.9,
          0.81,
          0.66,
          0.682,
          0.726,
          0.89,
          0.943,
          0.92,
          0.882,
          0.927,
          0.817,
          0.928,
          0.849,
          0.821,
          0.65,
          0.922,
          0.926,
          0.883,
          0.793,
          0.851,
          0.898,
          0.806,
          0.883,
          0.703,
          0.93,
          0.926,
          0.869,
          0.768,
          0.823,
          0.789,
          0.826,
          0.91,
          0.918,
          0.731
         ],
         "yaxis": "y"
        }
       ],
       "layout": {
        "legend": {
         "tracegroupgap": 0
        },
        "margin": {
         "t": 60
        },
        "template": {
         "data": {
          "bar": [
           {
            "error_x": {
             "color": "#2a3f5f"
            },
            "error_y": {
             "color": "#2a3f5f"
            },
            "marker": {
             "line": {
              "color": "#E5ECF6",
              "width": 0.5
             },
             "pattern": {
              "fillmode": "overlay",
              "size": 10,
              "solidity": 0.2
             }
            },
            "type": "bar"
           }
          ],
          "barpolar": [
           {
            "marker": {
             "line": {
              "color": "#E5ECF6",
              "width": 0.5
             },
             "pattern": {
              "fillmode": "overlay",
              "size": 10,
              "solidity": 0.2
             }
            },
            "type": "barpolar"
           }
          ],
          "carpet": [
           {
            "aaxis": {
             "endlinecolor": "#2a3f5f",
             "gridcolor": "white",
             "linecolor": "white",
             "minorgridcolor": "white",
             "startlinecolor": "#2a3f5f"
            },
            "baxis": {
             "endlinecolor": "#2a3f5f",
             "gridcolor": "white",
             "linecolor": "white",
             "minorgridcolor": "white",
             "startlinecolor": "#2a3f5f"
            },
            "type": "carpet"
           }
          ],
          "choropleth": [
           {
            "colorbar": {
             "outlinewidth": 0,
             "ticks": ""
            },
            "type": "choropleth"
           }
          ],
          "contour": [
           {
            "colorbar": {
             "outlinewidth": 0,
             "ticks": ""
            },
            "colorscale": [
             [
              0,
              "#0d0887"
             ],
             [
              0.1111111111111111,
              "#46039f"
             ],
             [
              0.2222222222222222,
              "#7201a8"
             ],
             [
              0.3333333333333333,
              "#9c179e"
             ],
             [
              0.4444444444444444,
              "#bd3786"
             ],
             [
              0.5555555555555556,
              "#d8576b"
             ],
             [
              0.6666666666666666,
              "#ed7953"
             ],
             [
              0.7777777777777778,
              "#fb9f3a"
             ],
             [
              0.8888888888888888,
              "#fdca26"
             ],
             [
              1,
              "#f0f921"
             ]
            ],
            "type": "contour"
           }
          ],
          "contourcarpet": [
           {
            "colorbar": {
             "outlinewidth": 0,
             "ticks": ""
            },
            "type": "contourcarpet"
           }
          ],
          "heatmap": [
           {
            "colorbar": {
             "outlinewidth": 0,
             "ticks": ""
            },
            "colorscale": [
             [
              0,
              "#0d0887"
             ],
             [
              0.1111111111111111,
              "#46039f"
             ],
             [
              0.2222222222222222,
              "#7201a8"
             ],
             [
              0.3333333333333333,
              "#9c179e"
             ],
             [
              0.4444444444444444,
              "#bd3786"
             ],
             [
              0.5555555555555556,
              "#d8576b"
             ],
             [
              0.6666666666666666,
              "#ed7953"
             ],
             [
              0.7777777777777778,
              "#fb9f3a"
             ],
             [
              0.8888888888888888,
              "#fdca26"
             ],
             [
              1,
              "#f0f921"
             ]
            ],
            "type": "heatmap"
           }
          ],
          "heatmapgl": [
           {
            "colorbar": {
             "outlinewidth": 0,
             "ticks": ""
            },
            "colorscale": [
             [
              0,
              "#0d0887"
             ],
             [
              0.1111111111111111,
              "#46039f"
             ],
             [
              0.2222222222222222,
              "#7201a8"
             ],
             [
              0.3333333333333333,
              "#9c179e"
             ],
             [
              0.4444444444444444,
              "#bd3786"
             ],
             [
              0.5555555555555556,
              "#d8576b"
             ],
             [
              0.6666666666666666,
              "#ed7953"
             ],
             [
              0.7777777777777778,
              "#fb9f3a"
             ],
             [
              0.8888888888888888,
              "#fdca26"
             ],
             [
              1,
              "#f0f921"
             ]
            ],
            "type": "heatmapgl"
           }
          ],
          "histogram": [
           {
            "marker": {
             "pattern": {
              "fillmode": "overlay",
              "size": 10,
              "solidity": 0.2
             }
            },
            "type": "histogram"
           }
          ],
          "histogram2d": [
           {
            "colorbar": {
             "outlinewidth": 0,
             "ticks": ""
            },
            "colorscale": [
             [
              0,
              "#0d0887"
             ],
             [
              0.1111111111111111,
              "#46039f"
             ],
             [
              0.2222222222222222,
              "#7201a8"
             ],
             [
              0.3333333333333333,
              "#9c179e"
             ],
             [
              0.4444444444444444,
              "#bd3786"
             ],
             [
              0.5555555555555556,
              "#d8576b"
             ],
             [
              0.6666666666666666,
              "#ed7953"
             ],
             [
              0.7777777777777778,
              "#fb9f3a"
             ],
             [
              0.8888888888888888,
              "#fdca26"
             ],
             [
              1,
              "#f0f921"
             ]
            ],
            "type": "histogram2d"
           }
          ],
          "histogram2dcontour": [
           {
            "colorbar": {
             "outlinewidth": 0,
             "ticks": ""
            },
            "colorscale": [
             [
              0,
              "#0d0887"
             ],
             [
              0.1111111111111111,
              "#46039f"
             ],
             [
              0.2222222222222222,
              "#7201a8"
             ],
             [
              0.3333333333333333,
              "#9c179e"
             ],
             [
              0.4444444444444444,
              "#bd3786"
             ],
             [
              0.5555555555555556,
              "#d8576b"
             ],
             [
              0.6666666666666666,
              "#ed7953"
             ],
             [
              0.7777777777777778,
              "#fb9f3a"
             ],
             [
              0.8888888888888888,
              "#fdca26"
             ],
             [
              1,
              "#f0f921"
             ]
            ],
            "type": "histogram2dcontour"
           }
          ],
          "mesh3d": [
           {
            "colorbar": {
             "outlinewidth": 0,
             "ticks": ""
            },
            "type": "mesh3d"
           }
          ],
          "parcoords": [
           {
            "line": {
             "colorbar": {
              "outlinewidth": 0,
              "ticks": ""
             }
            },
            "type": "parcoords"
           }
          ],
          "pie": [
           {
            "automargin": true,
            "type": "pie"
           }
          ],
          "scatter": [
           {
            "fillpattern": {
             "fillmode": "overlay",
             "size": 10,
             "solidity": 0.2
            },
            "type": "scatter"
           }
          ],
          "scatter3d": [
           {
            "line": {
             "colorbar": {
              "outlinewidth": 0,
              "ticks": ""
             }
            },
            "marker": {
             "colorbar": {
              "outlinewidth": 0,
              "ticks": ""
             }
            },
            "type": "scatter3d"
           }
          ],
          "scattercarpet": [
           {
            "marker": {
             "colorbar": {
              "outlinewidth": 0,
              "ticks": ""
             }
            },
            "type": "scattercarpet"
           }
          ],
          "scattergeo": [
           {
            "marker": {
             "colorbar": {
              "outlinewidth": 0,
              "ticks": ""
             }
            },
            "type": "scattergeo"
           }
          ],
          "scattergl": [
           {
            "marker": {
             "colorbar": {
              "outlinewidth": 0,
              "ticks": ""
             }
            },
            "type": "scattergl"
           }
          ],
          "scattermapbox": [
           {
            "marker": {
             "colorbar": {
              "outlinewidth": 0,
              "ticks": ""
             }
            },
            "type": "scattermapbox"
           }
          ],
          "scatterpolar": [
           {
            "marker": {
             "colorbar": {
              "outlinewidth": 0,
              "ticks": ""
             }
            },
            "type": "scatterpolar"
           }
          ],
          "scatterpolargl": [
           {
            "marker": {
             "colorbar": {
              "outlinewidth": 0,
              "ticks": ""
             }
            },
            "type": "scatterpolargl"
           }
          ],
          "scatterternary": [
           {
            "marker": {
             "colorbar": {
              "outlinewidth": 0,
              "ticks": ""
             }
            },
            "type": "scatterternary"
           }
          ],
          "surface": [
           {
            "colorbar": {
             "outlinewidth": 0,
             "ticks": ""
            },
            "colorscale": [
             [
              0,
              "#0d0887"
             ],
             [
              0.1111111111111111,
              "#46039f"
             ],
             [
              0.2222222222222222,
              "#7201a8"
             ],
             [
              0.3333333333333333,
              "#9c179e"
             ],
             [
              0.4444444444444444,
              "#bd3786"
             ],
             [
              0.5555555555555556,
              "#d8576b"
             ],
             [
              0.6666666666666666,
              "#ed7953"
             ],
             [
              0.7777777777777778,
              "#fb9f3a"
             ],
             [
              0.8888888888888888,
              "#fdca26"
             ],
             [
              1,
              "#f0f921"
             ]
            ],
            "type": "surface"
           }
          ],
          "table": [
           {
            "cells": {
             "fill": {
              "color": "#EBF0F8"
             },
             "line": {
              "color": "white"
             }
            },
            "header": {
             "fill": {
              "color": "#C8D4E3"
             },
             "line": {
              "color": "white"
             }
            },
            "type": "table"
           }
          ]
         },
         "layout": {
          "annotationdefaults": {
           "arrowcolor": "#2a3f5f",
           "arrowhead": 0,
           "arrowwidth": 1
          },
          "autotypenumbers": "strict",
          "coloraxis": {
           "colorbar": {
            "outlinewidth": 0,
            "ticks": ""
           }
          },
          "colorscale": {
           "diverging": [
            [
             0,
             "#8e0152"
            ],
            [
             0.1,
             "#c51b7d"
            ],
            [
             0.2,
             "#de77ae"
            ],
            [
             0.3,
             "#f1b6da"
            ],
            [
             0.4,
             "#fde0ef"
            ],
            [
             0.5,
             "#f7f7f7"
            ],
            [
             0.6,
             "#e6f5d0"
            ],
            [
             0.7,
             "#b8e186"
            ],
            [
             0.8,
             "#7fbc41"
            ],
            [
             0.9,
             "#4d9221"
            ],
            [
             1,
             "#276419"
            ]
           ],
           "sequential": [
            [
             0,
             "#0d0887"
            ],
            [
             0.1111111111111111,
             "#46039f"
            ],
            [
             0.2222222222222222,
             "#7201a8"
            ],
            [
             0.3333333333333333,
             "#9c179e"
            ],
            [
             0.4444444444444444,
             "#bd3786"
            ],
            [
             0.5555555555555556,
             "#d8576b"
            ],
            [
             0.6666666666666666,
             "#ed7953"
            ],
            [
             0.7777777777777778,
             "#fb9f3a"
            ],
            [
             0.8888888888888888,
             "#fdca26"
            ],
            [
             1,
             "#f0f921"
            ]
           ],
           "sequentialminus": [
            [
             0,
             "#0d0887"
            ],
            [
             0.1111111111111111,
             "#46039f"
            ],
            [
             0.2222222222222222,
             "#7201a8"
            ],
            [
             0.3333333333333333,
             "#9c179e"
            ],
            [
             0.4444444444444444,
             "#bd3786"
            ],
            [
             0.5555555555555556,
             "#d8576b"
            ],
            [
             0.6666666666666666,
             "#ed7953"
            ],
            [
             0.7777777777777778,
             "#fb9f3a"
            ],
            [
             0.8888888888888888,
             "#fdca26"
            ],
            [
             1,
             "#f0f921"
            ]
           ]
          },
          "colorway": [
           "#636efa",
           "#EF553B",
           "#00cc96",
           "#ab63fa",
           "#FFA15A",
           "#19d3f3",
           "#FF6692",
           "#B6E880",
           "#FF97FF",
           "#FECB52"
          ],
          "font": {
           "color": "#2a3f5f"
          },
          "geo": {
           "bgcolor": "white",
           "lakecolor": "white",
           "landcolor": "#E5ECF6",
           "showlakes": true,
           "showland": true,
           "subunitcolor": "white"
          },
          "hoverlabel": {
           "align": "left"
          },
          "hovermode": "closest",
          "mapbox": {
           "style": "light"
          },
          "paper_bgcolor": "white",
          "plot_bgcolor": "#E5ECF6",
          "polar": {
           "angularaxis": {
            "gridcolor": "white",
            "linecolor": "white",
            "ticks": ""
           },
           "bgcolor": "#E5ECF6",
           "radialaxis": {
            "gridcolor": "white",
            "linecolor": "white",
            "ticks": ""
           }
          },
          "scene": {
           "xaxis": {
            "backgroundcolor": "#E5ECF6",
            "gridcolor": "white",
            "gridwidth": 2,
            "linecolor": "white",
            "showbackground": true,
            "ticks": "",
            "zerolinecolor": "white"
           },
           "yaxis": {
            "backgroundcolor": "#E5ECF6",
            "gridcolor": "white",
            "gridwidth": 2,
            "linecolor": "white",
            "showbackground": true,
            "ticks": "",
            "zerolinecolor": "white"
           },
           "zaxis": {
            "backgroundcolor": "#E5ECF6",
            "gridcolor": "white",
            "gridwidth": 2,
            "linecolor": "white",
            "showbackground": true,
            "ticks": "",
            "zerolinecolor": "white"
           }
          },
          "shapedefaults": {
           "line": {
            "color": "#2a3f5f"
           }
          },
          "ternary": {
           "aaxis": {
            "gridcolor": "white",
            "linecolor": "white",
            "ticks": ""
           },
           "baxis": {
            "gridcolor": "white",
            "linecolor": "white",
            "ticks": ""
           },
           "bgcolor": "#E5ECF6",
           "caxis": {
            "gridcolor": "white",
            "linecolor": "white",
            "ticks": ""
           }
          },
          "title": {
           "x": 0.05
          },
          "xaxis": {
           "automargin": true,
           "gridcolor": "white",
           "linecolor": "white",
           "ticks": "",
           "title": {
            "standoff": 15
           },
           "zerolinecolor": "white",
           "zerolinewidth": 2
          },
          "yaxis": {
           "automargin": true,
           "gridcolor": "white",
           "linecolor": "white",
           "ticks": "",
           "title": {
            "standoff": 15
           },
           "zerolinecolor": "white",
           "zerolinewidth": 2
          }
         }
        },
        "xaxis": {
         "anchor": "y",
         "domain": [
          0,
          1
         ],
         "title": {
          "text": "salary"
         }
        },
        "yaxis": {
         "anchor": "x",
         "domain": [
          0,
          1
         ],
         "title": {
          "text": "country_index"
         }
        }
       }
      }
     },
     "metadata": {},
     "output_type": "display_data"
    }
   ],
   "source": [
    "fig5 = px.scatter(all_data, x='salary', y='country_index')\n",
    "fig5.show()"
   ]
  },
  {
   "cell_type": "code",
   "execution_count": 23,
   "metadata": {},
   "outputs": [
    {
     "data": {
      "application/vnd.plotly.v1+json": {
       "config": {
        "plotlyServerURL": "https://plot.ly"
       },
       "data": [
        {
         "hovertemplate": "net_user=%{x}<br>country_index=%{y}<extra></extra>",
         "legendgroup": "",
         "marker": {
          "color": "#636efa",
          "symbol": "circle"
         },
         "mode": "markers",
         "name": "",
         "orientation": "v",
         "showlegend": false,
         "type": "scatter",
         "x": [
          85.5,
          89.6,
          87.529,
          81.343,
          96.97,
          94.2,
          88.3,
          70.405,
          69.79,
          80.53,
          81.339,
          89.813,
          96.549,
          89.058,
          92.17,
          84.8,
          94.818,
          78.116,
          84.771,
          53.726,
          92,
          99,
          90.127,
          70.483,
          90.219,
          83.056,
          98.822,
          88.9,
          71.968,
          97,
          91.5,
          83.185,
          78.262,
          84.995,
          97.86,
          89.921,
          86.601,
          94.539,
          77.67
         ],
         "xaxis": "x",
         "y": [
          0.855,
          0.924,
          0.865,
          0.694,
          0.894,
          0.9,
          0.81,
          0.66,
          0.682,
          0.726,
          0.89,
          0.943,
          0.92,
          0.882,
          0.927,
          0.817,
          0.928,
          0.849,
          0.821,
          0.65,
          0.922,
          0.926,
          0.883,
          0.793,
          0.851,
          0.898,
          0.806,
          0.883,
          0.703,
          0.93,
          0.926,
          0.869,
          0.768,
          0.823,
          0.789,
          0.826,
          0.91,
          0.918,
          0.731
         ],
         "yaxis": "y"
        }
       ],
       "layout": {
        "legend": {
         "tracegroupgap": 0
        },
        "margin": {
         "t": 60
        },
        "template": {
         "data": {
          "bar": [
           {
            "error_x": {
             "color": "#2a3f5f"
            },
            "error_y": {
             "color": "#2a3f5f"
            },
            "marker": {
             "line": {
              "color": "#E5ECF6",
              "width": 0.5
             },
             "pattern": {
              "fillmode": "overlay",
              "size": 10,
              "solidity": 0.2
             }
            },
            "type": "bar"
           }
          ],
          "barpolar": [
           {
            "marker": {
             "line": {
              "color": "#E5ECF6",
              "width": 0.5
             },
             "pattern": {
              "fillmode": "overlay",
              "size": 10,
              "solidity": 0.2
             }
            },
            "type": "barpolar"
           }
          ],
          "carpet": [
           {
            "aaxis": {
             "endlinecolor": "#2a3f5f",
             "gridcolor": "white",
             "linecolor": "white",
             "minorgridcolor": "white",
             "startlinecolor": "#2a3f5f"
            },
            "baxis": {
             "endlinecolor": "#2a3f5f",
             "gridcolor": "white",
             "linecolor": "white",
             "minorgridcolor": "white",
             "startlinecolor": "#2a3f5f"
            },
            "type": "carpet"
           }
          ],
          "choropleth": [
           {
            "colorbar": {
             "outlinewidth": 0,
             "ticks": ""
            },
            "type": "choropleth"
           }
          ],
          "contour": [
           {
            "colorbar": {
             "outlinewidth": 0,
             "ticks": ""
            },
            "colorscale": [
             [
              0,
              "#0d0887"
             ],
             [
              0.1111111111111111,
              "#46039f"
             ],
             [
              0.2222222222222222,
              "#7201a8"
             ],
             [
              0.3333333333333333,
              "#9c179e"
             ],
             [
              0.4444444444444444,
              "#bd3786"
             ],
             [
              0.5555555555555556,
              "#d8576b"
             ],
             [
              0.6666666666666666,
              "#ed7953"
             ],
             [
              0.7777777777777778,
              "#fb9f3a"
             ],
             [
              0.8888888888888888,
              "#fdca26"
             ],
             [
              1,
              "#f0f921"
             ]
            ],
            "type": "contour"
           }
          ],
          "contourcarpet": [
           {
            "colorbar": {
             "outlinewidth": 0,
             "ticks": ""
            },
            "type": "contourcarpet"
           }
          ],
          "heatmap": [
           {
            "colorbar": {
             "outlinewidth": 0,
             "ticks": ""
            },
            "colorscale": [
             [
              0,
              "#0d0887"
             ],
             [
              0.1111111111111111,
              "#46039f"
             ],
             [
              0.2222222222222222,
              "#7201a8"
             ],
             [
              0.3333333333333333,
              "#9c179e"
             ],
             [
              0.4444444444444444,
              "#bd3786"
             ],
             [
              0.5555555555555556,
              "#d8576b"
             ],
             [
              0.6666666666666666,
              "#ed7953"
             ],
             [
              0.7777777777777778,
              "#fb9f3a"
             ],
             [
              0.8888888888888888,
              "#fdca26"
             ],
             [
              1,
              "#f0f921"
             ]
            ],
            "type": "heatmap"
           }
          ],
          "heatmapgl": [
           {
            "colorbar": {
             "outlinewidth": 0,
             "ticks": ""
            },
            "colorscale": [
             [
              0,
              "#0d0887"
             ],
             [
              0.1111111111111111,
              "#46039f"
             ],
             [
              0.2222222222222222,
              "#7201a8"
             ],
             [
              0.3333333333333333,
              "#9c179e"
             ],
             [
              0.4444444444444444,
              "#bd3786"
             ],
             [
              0.5555555555555556,
              "#d8576b"
             ],
             [
              0.6666666666666666,
              "#ed7953"
             ],
             [
              0.7777777777777778,
              "#fb9f3a"
             ],
             [
              0.8888888888888888,
              "#fdca26"
             ],
             [
              1,
              "#f0f921"
             ]
            ],
            "type": "heatmapgl"
           }
          ],
          "histogram": [
           {
            "marker": {
             "pattern": {
              "fillmode": "overlay",
              "size": 10,
              "solidity": 0.2
             }
            },
            "type": "histogram"
           }
          ],
          "histogram2d": [
           {
            "colorbar": {
             "outlinewidth": 0,
             "ticks": ""
            },
            "colorscale": [
             [
              0,
              "#0d0887"
             ],
             [
              0.1111111111111111,
              "#46039f"
             ],
             [
              0.2222222222222222,
              "#7201a8"
             ],
             [
              0.3333333333333333,
              "#9c179e"
             ],
             [
              0.4444444444444444,
              "#bd3786"
             ],
             [
              0.5555555555555556,
              "#d8576b"
             ],
             [
              0.6666666666666666,
              "#ed7953"
             ],
             [
              0.7777777777777778,
              "#fb9f3a"
             ],
             [
              0.8888888888888888,
              "#fdca26"
             ],
             [
              1,
              "#f0f921"
             ]
            ],
            "type": "histogram2d"
           }
          ],
          "histogram2dcontour": [
           {
            "colorbar": {
             "outlinewidth": 0,
             "ticks": ""
            },
            "colorscale": [
             [
              0,
              "#0d0887"
             ],
             [
              0.1111111111111111,
              "#46039f"
             ],
             [
              0.2222222222222222,
              "#7201a8"
             ],
             [
              0.3333333333333333,
              "#9c179e"
             ],
             [
              0.4444444444444444,
              "#bd3786"
             ],
             [
              0.5555555555555556,
              "#d8576b"
             ],
             [
              0.6666666666666666,
              "#ed7953"
             ],
             [
              0.7777777777777778,
              "#fb9f3a"
             ],
             [
              0.8888888888888888,
              "#fdca26"
             ],
             [
              1,
              "#f0f921"
             ]
            ],
            "type": "histogram2dcontour"
           }
          ],
          "mesh3d": [
           {
            "colorbar": {
             "outlinewidth": 0,
             "ticks": ""
            },
            "type": "mesh3d"
           }
          ],
          "parcoords": [
           {
            "line": {
             "colorbar": {
              "outlinewidth": 0,
              "ticks": ""
             }
            },
            "type": "parcoords"
           }
          ],
          "pie": [
           {
            "automargin": true,
            "type": "pie"
           }
          ],
          "scatter": [
           {
            "fillpattern": {
             "fillmode": "overlay",
             "size": 10,
             "solidity": 0.2
            },
            "type": "scatter"
           }
          ],
          "scatter3d": [
           {
            "line": {
             "colorbar": {
              "outlinewidth": 0,
              "ticks": ""
             }
            },
            "marker": {
             "colorbar": {
              "outlinewidth": 0,
              "ticks": ""
             }
            },
            "type": "scatter3d"
           }
          ],
          "scattercarpet": [
           {
            "marker": {
             "colorbar": {
              "outlinewidth": 0,
              "ticks": ""
             }
            },
            "type": "scattercarpet"
           }
          ],
          "scattergeo": [
           {
            "marker": {
             "colorbar": {
              "outlinewidth": 0,
              "ticks": ""
             }
            },
            "type": "scattergeo"
           }
          ],
          "scattergl": [
           {
            "marker": {
             "colorbar": {
              "outlinewidth": 0,
              "ticks": ""
             }
            },
            "type": "scattergl"
           }
          ],
          "scattermapbox": [
           {
            "marker": {
             "colorbar": {
              "outlinewidth": 0,
              "ticks": ""
             }
            },
            "type": "scattermapbox"
           }
          ],
          "scatterpolar": [
           {
            "marker": {
             "colorbar": {
              "outlinewidth": 0,
              "ticks": ""
             }
            },
            "type": "scatterpolar"
           }
          ],
          "scatterpolargl": [
           {
            "marker": {
             "colorbar": {
              "outlinewidth": 0,
              "ticks": ""
             }
            },
            "type": "scatterpolargl"
           }
          ],
          "scatterternary": [
           {
            "marker": {
             "colorbar": {
              "outlinewidth": 0,
              "ticks": ""
             }
            },
            "type": "scatterternary"
           }
          ],
          "surface": [
           {
            "colorbar": {
             "outlinewidth": 0,
             "ticks": ""
            },
            "colorscale": [
             [
              0,
              "#0d0887"
             ],
             [
              0.1111111111111111,
              "#46039f"
             ],
             [
              0.2222222222222222,
              "#7201a8"
             ],
             [
              0.3333333333333333,
              "#9c179e"
             ],
             [
              0.4444444444444444,
              "#bd3786"
             ],
             [
              0.5555555555555556,
              "#d8576b"
             ],
             [
              0.6666666666666666,
              "#ed7953"
             ],
             [
              0.7777777777777778,
              "#fb9f3a"
             ],
             [
              0.8888888888888888,
              "#fdca26"
             ],
             [
              1,
              "#f0f921"
             ]
            ],
            "type": "surface"
           }
          ],
          "table": [
           {
            "cells": {
             "fill": {
              "color": "#EBF0F8"
             },
             "line": {
              "color": "white"
             }
            },
            "header": {
             "fill": {
              "color": "#C8D4E3"
             },
             "line": {
              "color": "white"
             }
            },
            "type": "table"
           }
          ]
         },
         "layout": {
          "annotationdefaults": {
           "arrowcolor": "#2a3f5f",
           "arrowhead": 0,
           "arrowwidth": 1
          },
          "autotypenumbers": "strict",
          "coloraxis": {
           "colorbar": {
            "outlinewidth": 0,
            "ticks": ""
           }
          },
          "colorscale": {
           "diverging": [
            [
             0,
             "#8e0152"
            ],
            [
             0.1,
             "#c51b7d"
            ],
            [
             0.2,
             "#de77ae"
            ],
            [
             0.3,
             "#f1b6da"
            ],
            [
             0.4,
             "#fde0ef"
            ],
            [
             0.5,
             "#f7f7f7"
            ],
            [
             0.6,
             "#e6f5d0"
            ],
            [
             0.7,
             "#b8e186"
            ],
            [
             0.8,
             "#7fbc41"
            ],
            [
             0.9,
             "#4d9221"
            ],
            [
             1,
             "#276419"
            ]
           ],
           "sequential": [
            [
             0,
             "#0d0887"
            ],
            [
             0.1111111111111111,
             "#46039f"
            ],
            [
             0.2222222222222222,
             "#7201a8"
            ],
            [
             0.3333333333333333,
             "#9c179e"
            ],
            [
             0.4444444444444444,
             "#bd3786"
            ],
            [
             0.5555555555555556,
             "#d8576b"
            ],
            [
             0.6666666666666666,
             "#ed7953"
            ],
            [
             0.7777777777777778,
             "#fb9f3a"
            ],
            [
             0.8888888888888888,
             "#fdca26"
            ],
            [
             1,
             "#f0f921"
            ]
           ],
           "sequentialminus": [
            [
             0,
             "#0d0887"
            ],
            [
             0.1111111111111111,
             "#46039f"
            ],
            [
             0.2222222222222222,
             "#7201a8"
            ],
            [
             0.3333333333333333,
             "#9c179e"
            ],
            [
             0.4444444444444444,
             "#bd3786"
            ],
            [
             0.5555555555555556,
             "#d8576b"
            ],
            [
             0.6666666666666666,
             "#ed7953"
            ],
            [
             0.7777777777777778,
             "#fb9f3a"
            ],
            [
             0.8888888888888888,
             "#fdca26"
            ],
            [
             1,
             "#f0f921"
            ]
           ]
          },
          "colorway": [
           "#636efa",
           "#EF553B",
           "#00cc96",
           "#ab63fa",
           "#FFA15A",
           "#19d3f3",
           "#FF6692",
           "#B6E880",
           "#FF97FF",
           "#FECB52"
          ],
          "font": {
           "color": "#2a3f5f"
          },
          "geo": {
           "bgcolor": "white",
           "lakecolor": "white",
           "landcolor": "#E5ECF6",
           "showlakes": true,
           "showland": true,
           "subunitcolor": "white"
          },
          "hoverlabel": {
           "align": "left"
          },
          "hovermode": "closest",
          "mapbox": {
           "style": "light"
          },
          "paper_bgcolor": "white",
          "plot_bgcolor": "#E5ECF6",
          "polar": {
           "angularaxis": {
            "gridcolor": "white",
            "linecolor": "white",
            "ticks": ""
           },
           "bgcolor": "#E5ECF6",
           "radialaxis": {
            "gridcolor": "white",
            "linecolor": "white",
            "ticks": ""
           }
          },
          "scene": {
           "xaxis": {
            "backgroundcolor": "#E5ECF6",
            "gridcolor": "white",
            "gridwidth": 2,
            "linecolor": "white",
            "showbackground": true,
            "ticks": "",
            "zerolinecolor": "white"
           },
           "yaxis": {
            "backgroundcolor": "#E5ECF6",
            "gridcolor": "white",
            "gridwidth": 2,
            "linecolor": "white",
            "showbackground": true,
            "ticks": "",
            "zerolinecolor": "white"
           },
           "zaxis": {
            "backgroundcolor": "#E5ECF6",
            "gridcolor": "white",
            "gridwidth": 2,
            "linecolor": "white",
            "showbackground": true,
            "ticks": "",
            "zerolinecolor": "white"
           }
          },
          "shapedefaults": {
           "line": {
            "color": "#2a3f5f"
           }
          },
          "ternary": {
           "aaxis": {
            "gridcolor": "white",
            "linecolor": "white",
            "ticks": ""
           },
           "baxis": {
            "gridcolor": "white",
            "linecolor": "white",
            "ticks": ""
           },
           "bgcolor": "#E5ECF6",
           "caxis": {
            "gridcolor": "white",
            "linecolor": "white",
            "ticks": ""
           }
          },
          "title": {
           "x": 0.05
          },
          "xaxis": {
           "automargin": true,
           "gridcolor": "white",
           "linecolor": "white",
           "ticks": "",
           "title": {
            "standoff": 15
           },
           "zerolinecolor": "white",
           "zerolinewidth": 2
          },
          "yaxis": {
           "automargin": true,
           "gridcolor": "white",
           "linecolor": "white",
           "ticks": "",
           "title": {
            "standoff": 15
           },
           "zerolinecolor": "white",
           "zerolinewidth": 2
          }
         }
        },
        "xaxis": {
         "anchor": "y",
         "domain": [
          0,
          1
         ],
         "title": {
          "text": "net_user"
         }
        },
        "yaxis": {
         "anchor": "x",
         "domain": [
          0,
          1
         ],
         "title": {
          "text": "country_index"
         }
        }
       }
      }
     },
     "metadata": {},
     "output_type": "display_data"
    }
   ],
   "source": [
    "fig6 = px.scatter(all_data, x='net_user', y='country_index')\n",
    "fig6.show()"
   ]
  },
  {
   "cell_type": "code",
   "execution_count": 24,
   "metadata": {},
   "outputs": [
    {
     "data": {
      "application/vnd.plotly.v1+json": {
       "config": {
        "plotlyServerURL": "https://plot.ly"
       },
       "data": [
        {
         "hovertemplate": "expected_school=%{x}<br>country_index=%{y}<extra></extra>",
         "legendgroup": "",
         "marker": {
          "color": "#636efa",
          "symbol": "circle"
         },
         "mode": "markers",
         "name": "",
         "orientation": "v",
         "showlegend": false,
         "type": "scatter",
         "x": [
          17.9,
          21.1,
          16,
          15.6,
          16.4,
          16.5,
          16.7,
          14.2,
          14.4,
          16.5,
          16.2,
          17,
          18.7,
          15.9,
          19.1,
          15.8,
          17.3,
          20,
          15,
          13.7,
          18.9,
          19.2,
          16.1,
          16.2,
          15.2,
          16.3,
          14.4,
          16.2,
          14.9,
          18.2,
          20.3,
          16,
          16.9,
          15.8,
          16.1,
          14.5,
          17.7,
          19.4,
          18.3
         ],
         "xaxis": "x",
         "y": [
          0.855,
          0.924,
          0.865,
          0.694,
          0.894,
          0.9,
          0.81,
          0.66,
          0.682,
          0.726,
          0.89,
          0.943,
          0.92,
          0.882,
          0.927,
          0.817,
          0.928,
          0.849,
          0.821,
          0.65,
          0.922,
          0.926,
          0.883,
          0.793,
          0.851,
          0.898,
          0.806,
          0.883,
          0.703,
          0.93,
          0.926,
          0.869,
          0.768,
          0.823,
          0.789,
          0.826,
          0.91,
          0.918,
          0.731
         ],
         "yaxis": "y"
        }
       ],
       "layout": {
        "legend": {
         "tracegroupgap": 0
        },
        "margin": {
         "t": 60
        },
        "template": {
         "data": {
          "bar": [
           {
            "error_x": {
             "color": "#2a3f5f"
            },
            "error_y": {
             "color": "#2a3f5f"
            },
            "marker": {
             "line": {
              "color": "#E5ECF6",
              "width": 0.5
             },
             "pattern": {
              "fillmode": "overlay",
              "size": 10,
              "solidity": 0.2
             }
            },
            "type": "bar"
           }
          ],
          "barpolar": [
           {
            "marker": {
             "line": {
              "color": "#E5ECF6",
              "width": 0.5
             },
             "pattern": {
              "fillmode": "overlay",
              "size": 10,
              "solidity": 0.2
             }
            },
            "type": "barpolar"
           }
          ],
          "carpet": [
           {
            "aaxis": {
             "endlinecolor": "#2a3f5f",
             "gridcolor": "white",
             "linecolor": "white",
             "minorgridcolor": "white",
             "startlinecolor": "#2a3f5f"
            },
            "baxis": {
             "endlinecolor": "#2a3f5f",
             "gridcolor": "white",
             "linecolor": "white",
             "minorgridcolor": "white",
             "startlinecolor": "#2a3f5f"
            },
            "type": "carpet"
           }
          ],
          "choropleth": [
           {
            "colorbar": {
             "outlinewidth": 0,
             "ticks": ""
            },
            "type": "choropleth"
           }
          ],
          "contour": [
           {
            "colorbar": {
             "outlinewidth": 0,
             "ticks": ""
            },
            "colorscale": [
             [
              0,
              "#0d0887"
             ],
             [
              0.1111111111111111,
              "#46039f"
             ],
             [
              0.2222222222222222,
              "#7201a8"
             ],
             [
              0.3333333333333333,
              "#9c179e"
             ],
             [
              0.4444444444444444,
              "#bd3786"
             ],
             [
              0.5555555555555556,
              "#d8576b"
             ],
             [
              0.6666666666666666,
              "#ed7953"
             ],
             [
              0.7777777777777778,
              "#fb9f3a"
             ],
             [
              0.8888888888888888,
              "#fdca26"
             ],
             [
              1,
              "#f0f921"
             ]
            ],
            "type": "contour"
           }
          ],
          "contourcarpet": [
           {
            "colorbar": {
             "outlinewidth": 0,
             "ticks": ""
            },
            "type": "contourcarpet"
           }
          ],
          "heatmap": [
           {
            "colorbar": {
             "outlinewidth": 0,
             "ticks": ""
            },
            "colorscale": [
             [
              0,
              "#0d0887"
             ],
             [
              0.1111111111111111,
              "#46039f"
             ],
             [
              0.2222222222222222,
              "#7201a8"
             ],
             [
              0.3333333333333333,
              "#9c179e"
             ],
             [
              0.4444444444444444,
              "#bd3786"
             ],
             [
              0.5555555555555556,
              "#d8576b"
             ],
             [
              0.6666666666666666,
              "#ed7953"
             ],
             [
              0.7777777777777778,
              "#fb9f3a"
             ],
             [
              0.8888888888888888,
              "#fdca26"
             ],
             [
              1,
              "#f0f921"
             ]
            ],
            "type": "heatmap"
           }
          ],
          "heatmapgl": [
           {
            "colorbar": {
             "outlinewidth": 0,
             "ticks": ""
            },
            "colorscale": [
             [
              0,
              "#0d0887"
             ],
             [
              0.1111111111111111,
              "#46039f"
             ],
             [
              0.2222222222222222,
              "#7201a8"
             ],
             [
              0.3333333333333333,
              "#9c179e"
             ],
             [
              0.4444444444444444,
              "#bd3786"
             ],
             [
              0.5555555555555556,
              "#d8576b"
             ],
             [
              0.6666666666666666,
              "#ed7953"
             ],
             [
              0.7777777777777778,
              "#fb9f3a"
             ],
             [
              0.8888888888888888,
              "#fdca26"
             ],
             [
              1,
              "#f0f921"
             ]
            ],
            "type": "heatmapgl"
           }
          ],
          "histogram": [
           {
            "marker": {
             "pattern": {
              "fillmode": "overlay",
              "size": 10,
              "solidity": 0.2
             }
            },
            "type": "histogram"
           }
          ],
          "histogram2d": [
           {
            "colorbar": {
             "outlinewidth": 0,
             "ticks": ""
            },
            "colorscale": [
             [
              0,
              "#0d0887"
             ],
             [
              0.1111111111111111,
              "#46039f"
             ],
             [
              0.2222222222222222,
              "#7201a8"
             ],
             [
              0.3333333333333333,
              "#9c179e"
             ],
             [
              0.4444444444444444,
              "#bd3786"
             ],
             [
              0.5555555555555556,
              "#d8576b"
             ],
             [
              0.6666666666666666,
              "#ed7953"
             ],
             [
              0.7777777777777778,
              "#fb9f3a"
             ],
             [
              0.8888888888888888,
              "#fdca26"
             ],
             [
              1,
              "#f0f921"
             ]
            ],
            "type": "histogram2d"
           }
          ],
          "histogram2dcontour": [
           {
            "colorbar": {
             "outlinewidth": 0,
             "ticks": ""
            },
            "colorscale": [
             [
              0,
              "#0d0887"
             ],
             [
              0.1111111111111111,
              "#46039f"
             ],
             [
              0.2222222222222222,
              "#7201a8"
             ],
             [
              0.3333333333333333,
              "#9c179e"
             ],
             [
              0.4444444444444444,
              "#bd3786"
             ],
             [
              0.5555555555555556,
              "#d8576b"
             ],
             [
              0.6666666666666666,
              "#ed7953"
             ],
             [
              0.7777777777777778,
              "#fb9f3a"
             ],
             [
              0.8888888888888888,
              "#fdca26"
             ],
             [
              1,
              "#f0f921"
             ]
            ],
            "type": "histogram2dcontour"
           }
          ],
          "mesh3d": [
           {
            "colorbar": {
             "outlinewidth": 0,
             "ticks": ""
            },
            "type": "mesh3d"
           }
          ],
          "parcoords": [
           {
            "line": {
             "colorbar": {
              "outlinewidth": 0,
              "ticks": ""
             }
            },
            "type": "parcoords"
           }
          ],
          "pie": [
           {
            "automargin": true,
            "type": "pie"
           }
          ],
          "scatter": [
           {
            "fillpattern": {
             "fillmode": "overlay",
             "size": 10,
             "solidity": 0.2
            },
            "type": "scatter"
           }
          ],
          "scatter3d": [
           {
            "line": {
             "colorbar": {
              "outlinewidth": 0,
              "ticks": ""
             }
            },
            "marker": {
             "colorbar": {
              "outlinewidth": 0,
              "ticks": ""
             }
            },
            "type": "scatter3d"
           }
          ],
          "scattercarpet": [
           {
            "marker": {
             "colorbar": {
              "outlinewidth": 0,
              "ticks": ""
             }
            },
            "type": "scattercarpet"
           }
          ],
          "scattergeo": [
           {
            "marker": {
             "colorbar": {
              "outlinewidth": 0,
              "ticks": ""
             }
            },
            "type": "scattergeo"
           }
          ],
          "scattergl": [
           {
            "marker": {
             "colorbar": {
              "outlinewidth": 0,
              "ticks": ""
             }
            },
            "type": "scattergl"
           }
          ],
          "scattermapbox": [
           {
            "marker": {
             "colorbar": {
              "outlinewidth": 0,
              "ticks": ""
             }
            },
            "type": "scattermapbox"
           }
          ],
          "scatterpolar": [
           {
            "marker": {
             "colorbar": {
              "outlinewidth": 0,
              "ticks": ""
             }
            },
            "type": "scatterpolar"
           }
          ],
          "scatterpolargl": [
           {
            "marker": {
             "colorbar": {
              "outlinewidth": 0,
              "ticks": ""
             }
            },
            "type": "scatterpolargl"
           }
          ],
          "scatterternary": [
           {
            "marker": {
             "colorbar": {
              "outlinewidth": 0,
              "ticks": ""
             }
            },
            "type": "scatterternary"
           }
          ],
          "surface": [
           {
            "colorbar": {
             "outlinewidth": 0,
             "ticks": ""
            },
            "colorscale": [
             [
              0,
              "#0d0887"
             ],
             [
              0.1111111111111111,
              "#46039f"
             ],
             [
              0.2222222222222222,
              "#7201a8"
             ],
             [
              0.3333333333333333,
              "#9c179e"
             ],
             [
              0.4444444444444444,
              "#bd3786"
             ],
             [
              0.5555555555555556,
              "#d8576b"
             ],
             [
              0.6666666666666666,
              "#ed7953"
             ],
             [
              0.7777777777777778,
              "#fb9f3a"
             ],
             [
              0.8888888888888888,
              "#fdca26"
             ],
             [
              1,
              "#f0f921"
             ]
            ],
            "type": "surface"
           }
          ],
          "table": [
           {
            "cells": {
             "fill": {
              "color": "#EBF0F8"
             },
             "line": {
              "color": "white"
             }
            },
            "header": {
             "fill": {
              "color": "#C8D4E3"
             },
             "line": {
              "color": "white"
             }
            },
            "type": "table"
           }
          ]
         },
         "layout": {
          "annotationdefaults": {
           "arrowcolor": "#2a3f5f",
           "arrowhead": 0,
           "arrowwidth": 1
          },
          "autotypenumbers": "strict",
          "coloraxis": {
           "colorbar": {
            "outlinewidth": 0,
            "ticks": ""
           }
          },
          "colorscale": {
           "diverging": [
            [
             0,
             "#8e0152"
            ],
            [
             0.1,
             "#c51b7d"
            ],
            [
             0.2,
             "#de77ae"
            ],
            [
             0.3,
             "#f1b6da"
            ],
            [
             0.4,
             "#fde0ef"
            ],
            [
             0.5,
             "#f7f7f7"
            ],
            [
             0.6,
             "#e6f5d0"
            ],
            [
             0.7,
             "#b8e186"
            ],
            [
             0.8,
             "#7fbc41"
            ],
            [
             0.9,
             "#4d9221"
            ],
            [
             1,
             "#276419"
            ]
           ],
           "sequential": [
            [
             0,
             "#0d0887"
            ],
            [
             0.1111111111111111,
             "#46039f"
            ],
            [
             0.2222222222222222,
             "#7201a8"
            ],
            [
             0.3333333333333333,
             "#9c179e"
            ],
            [
             0.4444444444444444,
             "#bd3786"
            ],
            [
             0.5555555555555556,
             "#d8576b"
            ],
            [
             0.6666666666666666,
             "#ed7953"
            ],
            [
             0.7777777777777778,
             "#fb9f3a"
            ],
            [
             0.8888888888888888,
             "#fdca26"
            ],
            [
             1,
             "#f0f921"
            ]
           ],
           "sequentialminus": [
            [
             0,
             "#0d0887"
            ],
            [
             0.1111111111111111,
             "#46039f"
            ],
            [
             0.2222222222222222,
             "#7201a8"
            ],
            [
             0.3333333333333333,
             "#9c179e"
            ],
            [
             0.4444444444444444,
             "#bd3786"
            ],
            [
             0.5555555555555556,
             "#d8576b"
            ],
            [
             0.6666666666666666,
             "#ed7953"
            ],
            [
             0.7777777777777778,
             "#fb9f3a"
            ],
            [
             0.8888888888888888,
             "#fdca26"
            ],
            [
             1,
             "#f0f921"
            ]
           ]
          },
          "colorway": [
           "#636efa",
           "#EF553B",
           "#00cc96",
           "#ab63fa",
           "#FFA15A",
           "#19d3f3",
           "#FF6692",
           "#B6E880",
           "#FF97FF",
           "#FECB52"
          ],
          "font": {
           "color": "#2a3f5f"
          },
          "geo": {
           "bgcolor": "white",
           "lakecolor": "white",
           "landcolor": "#E5ECF6",
           "showlakes": true,
           "showland": true,
           "subunitcolor": "white"
          },
          "hoverlabel": {
           "align": "left"
          },
          "hovermode": "closest",
          "mapbox": {
           "style": "light"
          },
          "paper_bgcolor": "white",
          "plot_bgcolor": "#E5ECF6",
          "polar": {
           "angularaxis": {
            "gridcolor": "white",
            "linecolor": "white",
            "ticks": ""
           },
           "bgcolor": "#E5ECF6",
           "radialaxis": {
            "gridcolor": "white",
            "linecolor": "white",
            "ticks": ""
           }
          },
          "scene": {
           "xaxis": {
            "backgroundcolor": "#E5ECF6",
            "gridcolor": "white",
            "gridwidth": 2,
            "linecolor": "white",
            "showbackground": true,
            "ticks": "",
            "zerolinecolor": "white"
           },
           "yaxis": {
            "backgroundcolor": "#E5ECF6",
            "gridcolor": "white",
            "gridwidth": 2,
            "linecolor": "white",
            "showbackground": true,
            "ticks": "",
            "zerolinecolor": "white"
           },
           "zaxis": {
            "backgroundcolor": "#E5ECF6",
            "gridcolor": "white",
            "gridwidth": 2,
            "linecolor": "white",
            "showbackground": true,
            "ticks": "",
            "zerolinecolor": "white"
           }
          },
          "shapedefaults": {
           "line": {
            "color": "#2a3f5f"
           }
          },
          "ternary": {
           "aaxis": {
            "gridcolor": "white",
            "linecolor": "white",
            "ticks": ""
           },
           "baxis": {
            "gridcolor": "white",
            "linecolor": "white",
            "ticks": ""
           },
           "bgcolor": "#E5ECF6",
           "caxis": {
            "gridcolor": "white",
            "linecolor": "white",
            "ticks": ""
           }
          },
          "title": {
           "x": 0.05
          },
          "xaxis": {
           "automargin": true,
           "gridcolor": "white",
           "linecolor": "white",
           "ticks": "",
           "title": {
            "standoff": 15
           },
           "zerolinecolor": "white",
           "zerolinewidth": 2
          },
          "yaxis": {
           "automargin": true,
           "gridcolor": "white",
           "linecolor": "white",
           "ticks": "",
           "title": {
            "standoff": 15
           },
           "zerolinecolor": "white",
           "zerolinewidth": 2
          }
         }
        },
        "xaxis": {
         "anchor": "y",
         "domain": [
          0,
          1
         ],
         "title": {
          "text": "expected_school"
         }
        },
        "yaxis": {
         "anchor": "x",
         "domain": [
          0,
          1
         ],
         "title": {
          "text": "country_index"
         }
        }
       }
      }
     },
     "metadata": {},
     "output_type": "display_data"
    }
   ],
   "source": [
    "fig7 = px.scatter(all_data, x='expected_school', y='country_index')\n",
    "fig7.show()"
   ]
  },
  {
   "cell_type": "code",
   "execution_count": 25,
   "metadata": {},
   "outputs": [
    {
     "data": {
      "application/vnd.plotly.v1+json": {
       "config": {
        "plotlyServerURL": "https://plot.ly"
       },
       "data": [
        {
         "hovertemplate": "years_school=%{x}<br>country_index=%{y}<extra></extra>",
         "legendgroup": "",
         "marker": {
          "color": "#636efa",
          "symbol": "circle"
         },
         "mode": "markers",
         "name": "",
         "orientation": "v",
         "showlegend": false,
         "type": "scatter",
         "x": [
          11.1,
          12.7,
          12.3,
          8.1,
          13.8,
          13.9,
          10.9,
          7.6,
          8.9,
          8.8,
          12.9,
          14.1,
          13,
          13.5,
          12.9,
          11.6,
          13.4,
          11.4,
          12.2,
          8.6,
          11.6,
          13.8,
          13.3,
          10.7,
          13.4,
          13.5,
          13,
          13.3,
          9.2,
          13,
          12.9,
          13.2,
          9.6,
          12.8,
          11.3,
          12.9,
          12.8,
          12.6,
          8.6
         ],
         "xaxis": "x",
         "y": [
          0.855,
          0.924,
          0.865,
          0.694,
          0.894,
          0.9,
          0.81,
          0.66,
          0.682,
          0.726,
          0.89,
          0.943,
          0.92,
          0.882,
          0.927,
          0.817,
          0.928,
          0.849,
          0.821,
          0.65,
          0.922,
          0.926,
          0.883,
          0.793,
          0.851,
          0.898,
          0.806,
          0.883,
          0.703,
          0.93,
          0.926,
          0.869,
          0.768,
          0.823,
          0.789,
          0.826,
          0.91,
          0.918,
          0.731
         ],
         "yaxis": "y"
        }
       ],
       "layout": {
        "legend": {
         "tracegroupgap": 0
        },
        "margin": {
         "t": 60
        },
        "template": {
         "data": {
          "bar": [
           {
            "error_x": {
             "color": "#2a3f5f"
            },
            "error_y": {
             "color": "#2a3f5f"
            },
            "marker": {
             "line": {
              "color": "#E5ECF6",
              "width": 0.5
             },
             "pattern": {
              "fillmode": "overlay",
              "size": 10,
              "solidity": 0.2
             }
            },
            "type": "bar"
           }
          ],
          "barpolar": [
           {
            "marker": {
             "line": {
              "color": "#E5ECF6",
              "width": 0.5
             },
             "pattern": {
              "fillmode": "overlay",
              "size": 10,
              "solidity": 0.2
             }
            },
            "type": "barpolar"
           }
          ],
          "carpet": [
           {
            "aaxis": {
             "endlinecolor": "#2a3f5f",
             "gridcolor": "white",
             "linecolor": "white",
             "minorgridcolor": "white",
             "startlinecolor": "#2a3f5f"
            },
            "baxis": {
             "endlinecolor": "#2a3f5f",
             "gridcolor": "white",
             "linecolor": "white",
             "minorgridcolor": "white",
             "startlinecolor": "#2a3f5f"
            },
            "type": "carpet"
           }
          ],
          "choropleth": [
           {
            "colorbar": {
             "outlinewidth": 0,
             "ticks": ""
            },
            "type": "choropleth"
           }
          ],
          "contour": [
           {
            "colorbar": {
             "outlinewidth": 0,
             "ticks": ""
            },
            "colorscale": [
             [
              0,
              "#0d0887"
             ],
             [
              0.1111111111111111,
              "#46039f"
             ],
             [
              0.2222222222222222,
              "#7201a8"
             ],
             [
              0.3333333333333333,
              "#9c179e"
             ],
             [
              0.4444444444444444,
              "#bd3786"
             ],
             [
              0.5555555555555556,
              "#d8576b"
             ],
             [
              0.6666666666666666,
              "#ed7953"
             ],
             [
              0.7777777777777778,
              "#fb9f3a"
             ],
             [
              0.8888888888888888,
              "#fdca26"
             ],
             [
              1,
              "#f0f921"
             ]
            ],
            "type": "contour"
           }
          ],
          "contourcarpet": [
           {
            "colorbar": {
             "outlinewidth": 0,
             "ticks": ""
            },
            "type": "contourcarpet"
           }
          ],
          "heatmap": [
           {
            "colorbar": {
             "outlinewidth": 0,
             "ticks": ""
            },
            "colorscale": [
             [
              0,
              "#0d0887"
             ],
             [
              0.1111111111111111,
              "#46039f"
             ],
             [
              0.2222222222222222,
              "#7201a8"
             ],
             [
              0.3333333333333333,
              "#9c179e"
             ],
             [
              0.4444444444444444,
              "#bd3786"
             ],
             [
              0.5555555555555556,
              "#d8576b"
             ],
             [
              0.6666666666666666,
              "#ed7953"
             ],
             [
              0.7777777777777778,
              "#fb9f3a"
             ],
             [
              0.8888888888888888,
              "#fdca26"
             ],
             [
              1,
              "#f0f921"
             ]
            ],
            "type": "heatmap"
           }
          ],
          "heatmapgl": [
           {
            "colorbar": {
             "outlinewidth": 0,
             "ticks": ""
            },
            "colorscale": [
             [
              0,
              "#0d0887"
             ],
             [
              0.1111111111111111,
              "#46039f"
             ],
             [
              0.2222222222222222,
              "#7201a8"
             ],
             [
              0.3333333333333333,
              "#9c179e"
             ],
             [
              0.4444444444444444,
              "#bd3786"
             ],
             [
              0.5555555555555556,
              "#d8576b"
             ],
             [
              0.6666666666666666,
              "#ed7953"
             ],
             [
              0.7777777777777778,
              "#fb9f3a"
             ],
             [
              0.8888888888888888,
              "#fdca26"
             ],
             [
              1,
              "#f0f921"
             ]
            ],
            "type": "heatmapgl"
           }
          ],
          "histogram": [
           {
            "marker": {
             "pattern": {
              "fillmode": "overlay",
              "size": 10,
              "solidity": 0.2
             }
            },
            "type": "histogram"
           }
          ],
          "histogram2d": [
           {
            "colorbar": {
             "outlinewidth": 0,
             "ticks": ""
            },
            "colorscale": [
             [
              0,
              "#0d0887"
             ],
             [
              0.1111111111111111,
              "#46039f"
             ],
             [
              0.2222222222222222,
              "#7201a8"
             ],
             [
              0.3333333333333333,
              "#9c179e"
             ],
             [
              0.4444444444444444,
              "#bd3786"
             ],
             [
              0.5555555555555556,
              "#d8576b"
             ],
             [
              0.6666666666666666,
              "#ed7953"
             ],
             [
              0.7777777777777778,
              "#fb9f3a"
             ],
             [
              0.8888888888888888,
              "#fdca26"
             ],
             [
              1,
              "#f0f921"
             ]
            ],
            "type": "histogram2d"
           }
          ],
          "histogram2dcontour": [
           {
            "colorbar": {
             "outlinewidth": 0,
             "ticks": ""
            },
            "colorscale": [
             [
              0,
              "#0d0887"
             ],
             [
              0.1111111111111111,
              "#46039f"
             ],
             [
              0.2222222222222222,
              "#7201a8"
             ],
             [
              0.3333333333333333,
              "#9c179e"
             ],
             [
              0.4444444444444444,
              "#bd3786"
             ],
             [
              0.5555555555555556,
              "#d8576b"
             ],
             [
              0.6666666666666666,
              "#ed7953"
             ],
             [
              0.7777777777777778,
              "#fb9f3a"
             ],
             [
              0.8888888888888888,
              "#fdca26"
             ],
             [
              1,
              "#f0f921"
             ]
            ],
            "type": "histogram2dcontour"
           }
          ],
          "mesh3d": [
           {
            "colorbar": {
             "outlinewidth": 0,
             "ticks": ""
            },
            "type": "mesh3d"
           }
          ],
          "parcoords": [
           {
            "line": {
             "colorbar": {
              "outlinewidth": 0,
              "ticks": ""
             }
            },
            "type": "parcoords"
           }
          ],
          "pie": [
           {
            "automargin": true,
            "type": "pie"
           }
          ],
          "scatter": [
           {
            "fillpattern": {
             "fillmode": "overlay",
             "size": 10,
             "solidity": 0.2
            },
            "type": "scatter"
           }
          ],
          "scatter3d": [
           {
            "line": {
             "colorbar": {
              "outlinewidth": 0,
              "ticks": ""
             }
            },
            "marker": {
             "colorbar": {
              "outlinewidth": 0,
              "ticks": ""
             }
            },
            "type": "scatter3d"
           }
          ],
          "scattercarpet": [
           {
            "marker": {
             "colorbar": {
              "outlinewidth": 0,
              "ticks": ""
             }
            },
            "type": "scattercarpet"
           }
          ],
          "scattergeo": [
           {
            "marker": {
             "colorbar": {
              "outlinewidth": 0,
              "ticks": ""
             }
            },
            "type": "scattergeo"
           }
          ],
          "scattergl": [
           {
            "marker": {
             "colorbar": {
              "outlinewidth": 0,
              "ticks": ""
             }
            },
            "type": "scattergl"
           }
          ],
          "scattermapbox": [
           {
            "marker": {
             "colorbar": {
              "outlinewidth": 0,
              "ticks": ""
             }
            },
            "type": "scattermapbox"
           }
          ],
          "scatterpolar": [
           {
            "marker": {
             "colorbar": {
              "outlinewidth": 0,
              "ticks": ""
             }
            },
            "type": "scatterpolar"
           }
          ],
          "scatterpolargl": [
           {
            "marker": {
             "colorbar": {
              "outlinewidth": 0,
              "ticks": ""
             }
            },
            "type": "scatterpolargl"
           }
          ],
          "scatterternary": [
           {
            "marker": {
             "colorbar": {
              "outlinewidth": 0,
              "ticks": ""
             }
            },
            "type": "scatterternary"
           }
          ],
          "surface": [
           {
            "colorbar": {
             "outlinewidth": 0,
             "ticks": ""
            },
            "colorscale": [
             [
              0,
              "#0d0887"
             ],
             [
              0.1111111111111111,
              "#46039f"
             ],
             [
              0.2222222222222222,
              "#7201a8"
             ],
             [
              0.3333333333333333,
              "#9c179e"
             ],
             [
              0.4444444444444444,
              "#bd3786"
             ],
             [
              0.5555555555555556,
              "#d8576b"
             ],
             [
              0.6666666666666666,
              "#ed7953"
             ],
             [
              0.7777777777777778,
              "#fb9f3a"
             ],
             [
              0.8888888888888888,
              "#fdca26"
             ],
             [
              1,
              "#f0f921"
             ]
            ],
            "type": "surface"
           }
          ],
          "table": [
           {
            "cells": {
             "fill": {
              "color": "#EBF0F8"
             },
             "line": {
              "color": "white"
             }
            },
            "header": {
             "fill": {
              "color": "#C8D4E3"
             },
             "line": {
              "color": "white"
             }
            },
            "type": "table"
           }
          ]
         },
         "layout": {
          "annotationdefaults": {
           "arrowcolor": "#2a3f5f",
           "arrowhead": 0,
           "arrowwidth": 1
          },
          "autotypenumbers": "strict",
          "coloraxis": {
           "colorbar": {
            "outlinewidth": 0,
            "ticks": ""
           }
          },
          "colorscale": {
           "diverging": [
            [
             0,
             "#8e0152"
            ],
            [
             0.1,
             "#c51b7d"
            ],
            [
             0.2,
             "#de77ae"
            ],
            [
             0.3,
             "#f1b6da"
            ],
            [
             0.4,
             "#fde0ef"
            ],
            [
             0.5,
             "#f7f7f7"
            ],
            [
             0.6,
             "#e6f5d0"
            ],
            [
             0.7,
             "#b8e186"
            ],
            [
             0.8,
             "#7fbc41"
            ],
            [
             0.9,
             "#4d9221"
            ],
            [
             1,
             "#276419"
            ]
           ],
           "sequential": [
            [
             0,
             "#0d0887"
            ],
            [
             0.1111111111111111,
             "#46039f"
            ],
            [
             0.2222222222222222,
             "#7201a8"
            ],
            [
             0.3333333333333333,
             "#9c179e"
            ],
            [
             0.4444444444444444,
             "#bd3786"
            ],
            [
             0.5555555555555556,
             "#d8576b"
            ],
            [
             0.6666666666666666,
             "#ed7953"
            ],
            [
             0.7777777777777778,
             "#fb9f3a"
            ],
            [
             0.8888888888888888,
             "#fdca26"
            ],
            [
             1,
             "#f0f921"
            ]
           ],
           "sequentialminus": [
            [
             0,
             "#0d0887"
            ],
            [
             0.1111111111111111,
             "#46039f"
            ],
            [
             0.2222222222222222,
             "#7201a8"
            ],
            [
             0.3333333333333333,
             "#9c179e"
            ],
            [
             0.4444444444444444,
             "#bd3786"
            ],
            [
             0.5555555555555556,
             "#d8576b"
            ],
            [
             0.6666666666666666,
             "#ed7953"
            ],
            [
             0.7777777777777778,
             "#fb9f3a"
            ],
            [
             0.8888888888888888,
             "#fdca26"
            ],
            [
             1,
             "#f0f921"
            ]
           ]
          },
          "colorway": [
           "#636efa",
           "#EF553B",
           "#00cc96",
           "#ab63fa",
           "#FFA15A",
           "#19d3f3",
           "#FF6692",
           "#B6E880",
           "#FF97FF",
           "#FECB52"
          ],
          "font": {
           "color": "#2a3f5f"
          },
          "geo": {
           "bgcolor": "white",
           "lakecolor": "white",
           "landcolor": "#E5ECF6",
           "showlakes": true,
           "showland": true,
           "subunitcolor": "white"
          },
          "hoverlabel": {
           "align": "left"
          },
          "hovermode": "closest",
          "mapbox": {
           "style": "light"
          },
          "paper_bgcolor": "white",
          "plot_bgcolor": "#E5ECF6",
          "polar": {
           "angularaxis": {
            "gridcolor": "white",
            "linecolor": "white",
            "ticks": ""
           },
           "bgcolor": "#E5ECF6",
           "radialaxis": {
            "gridcolor": "white",
            "linecolor": "white",
            "ticks": ""
           }
          },
          "scene": {
           "xaxis": {
            "backgroundcolor": "#E5ECF6",
            "gridcolor": "white",
            "gridwidth": 2,
            "linecolor": "white",
            "showbackground": true,
            "ticks": "",
            "zerolinecolor": "white"
           },
           "yaxis": {
            "backgroundcolor": "#E5ECF6",
            "gridcolor": "white",
            "gridwidth": 2,
            "linecolor": "white",
            "showbackground": true,
            "ticks": "",
            "zerolinecolor": "white"
           },
           "zaxis": {
            "backgroundcolor": "#E5ECF6",
            "gridcolor": "white",
            "gridwidth": 2,
            "linecolor": "white",
            "showbackground": true,
            "ticks": "",
            "zerolinecolor": "white"
           }
          },
          "shapedefaults": {
           "line": {
            "color": "#2a3f5f"
           }
          },
          "ternary": {
           "aaxis": {
            "gridcolor": "white",
            "linecolor": "white",
            "ticks": ""
           },
           "baxis": {
            "gridcolor": "white",
            "linecolor": "white",
            "ticks": ""
           },
           "bgcolor": "#E5ECF6",
           "caxis": {
            "gridcolor": "white",
            "linecolor": "white",
            "ticks": ""
           }
          },
          "title": {
           "x": 0.05
          },
          "xaxis": {
           "automargin": true,
           "gridcolor": "white",
           "linecolor": "white",
           "ticks": "",
           "title": {
            "standoff": 15
           },
           "zerolinecolor": "white",
           "zerolinewidth": 2
          },
          "yaxis": {
           "automargin": true,
           "gridcolor": "white",
           "linecolor": "white",
           "ticks": "",
           "title": {
            "standoff": 15
           },
           "zerolinecolor": "white",
           "zerolinewidth": 2
          }
         }
        },
        "xaxis": {
         "anchor": "y",
         "domain": [
          0,
          1
         ],
         "title": {
          "text": "years_school"
         }
        },
        "yaxis": {
         "anchor": "x",
         "domain": [
          0,
          1
         ],
         "title": {
          "text": "country_index"
         }
        }
       }
      }
     },
     "metadata": {},
     "output_type": "display_data"
    }
   ],
   "source": [
    "fig8 = px.scatter(all_data, x='years_school', y='country_index')\n",
    "fig8.show()"
   ]
  },
  {
   "cell_type": "markdown",
   "metadata": {},
   "source": [
    "#### Regression Analysis"
   ]
  },
  {
   "cell_type": "code",
   "execution_count": 29,
   "metadata": {},
   "outputs": [
    {
     "data": {
      "application/vnd.plotly.v1+json": {
       "config": {
        "plotlyServerURL": "https://plot.ly"
       },
       "data": [
        {
         "coloraxis": "coloraxis",
         "hovertemplate": "x: %{x}<br>y: %{y}<br>color: %{z}<extra></extra>",
         "name": "0",
         "type": "heatmap",
         "x": [
          "Unnamed: 0",
          "salary",
          "expenditure_percapita",
          "gov_expenditure",
          "net_user",
          "expected_school",
          "years_school",
          "reading_mean",
          "math_mean",
          "science_mean",
          "country_index",
          "ratio"
         ],
         "xaxis": "x",
         "y": [
          "Unnamed: 0",
          "salary",
          "expenditure_percapita",
          "gov_expenditure",
          "net_user",
          "expected_school",
          "years_school",
          "reading_mean",
          "math_mean",
          "science_mean",
          "country_index",
          "ratio"
         ],
         "yaxis": "y",
         "z": [
          [
           1,
           0.16368153248873904,
           -0.16698758442895664,
           -0.24266596181995312,
           0.0548000128839108,
           0.019284515807994836,
           0.10229356749171477,
           0.03516352717330557,
           0.09109456003454297,
           0.01480481025860568,
           0.03344702631263365,
           -0.2706590031919264
          ],
          [
           0.16368153248873904,
           1,
           0.5205609975998985,
           -0.09066505494717238,
           0.40157263999037546,
           0.37512552100611407,
           0.3116805535066508,
           0.2825434873576009,
           0.26267886900050835,
           0.2300915790366325,
           0.39901086021639137,
           -0.37444482913657007
          ],
          [
           -0.16698758442895664,
           0.5205609975998985,
           1,
           -0.019805737922384603,
           0.658549041604945,
           0.43239987945772757,
           0.5937840790637455,
           0.42900905121672783,
           0.4246884114066124,
           0.35290458121180407,
           0.6453731344019051,
           0.09122171690974332
          ],
          [
           -0.24266596181995312,
           -0.09066505494717238,
           -0.019805737922384603,
           1,
           0.05293959823544423,
           -0.059022536394064275,
           -0.14456184132091027,
           -0.2587959866515944,
           -0.32207912029085783,
           -0.2685345788069824,
           -0.12460794270096989,
           0.33169117803351006
          ],
          [
           0.0548000128839108,
           0.40157263999037546,
           0.658549041604945,
           0.05293959823544423,
           1,
           0.42368704871524077,
           0.7427487538445738,
           0.41759493998336555,
           0.34172951073907176,
           0.3038534701224407,
           0.7595044903691482,
           0.04865205853663505
          ],
          [
           0.019284515807994836,
           0.37512552100611407,
           0.43239987945772757,
           -0.059022536394064275,
           0.42368704871524077,
           1,
           0.29378811761915835,
           0.3146515001076412,
           0.15607586442061366,
           0.186148373251475,
           0.6256580564928041,
           -0.00010376872455099865
          ],
          [
           0.10229356749171477,
           0.3116805535066508,
           0.5937840790637455,
           -0.14456184132091027,
           0.7427487538445738,
           0.29378811761915835,
           1,
           0.49486324586727864,
           0.5149443950816509,
           0.4498308817874322,
           0.8986759307687546,
           -0.024085097005856516
          ],
          [
           0.03516352717330557,
           0.2825434873576009,
           0.42900905121672783,
           -0.2587959866515944,
           0.41759493998336555,
           0.3146515001076412,
           0.49486324586727864,
           1,
           0.949782374604015,
           0.9691203759352249,
           0.5729492011705791,
           -0.047699331166382995
          ],
          [
           0.09109456003454297,
           0.26267886900050835,
           0.4246884114066124,
           -0.32207912029085783,
           0.34172951073907176,
           0.15607586442061366,
           0.5149443950816509,
           0.949782374604015,
           1,
           0.971954144431426,
           0.5095655208833721,
           -0.09469095105424785
          ],
          [
           0.01480481025860568,
           0.2300915790366325,
           0.35290458121180407,
           -0.2685345788069824,
           0.3038534701224407,
           0.186148373251475,
           0.4498308817874322,
           0.9691203759352249,
           0.971954144431426,
           1,
           0.47600926995546566,
           -0.09682365502847551
          ],
          [
           0.03344702631263365,
           0.39901086021639137,
           0.6453731344019051,
           -0.12460794270096989,
           0.7595044903691482,
           0.6256580564928041,
           0.8986759307687546,
           0.5729492011705791,
           0.5095655208833721,
           0.47600926995546566,
           1,
           -0.006407963820839858
          ],
          [
           -0.2706590031919264,
           -0.37444482913657007,
           0.09122171690974332,
           0.33169117803351006,
           0.04865205853663505,
           -0.00010376872455099865,
           -0.024085097005856516,
           -0.047699331166382995,
           -0.09469095105424785,
           -0.09682365502847551,
           -0.006407963820839858,
           1
          ]
         ]
        }
       ],
       "layout": {
        "coloraxis": {
         "colorscale": [
          [
           0,
           "#0d0887"
          ],
          [
           0.1111111111111111,
           "#46039f"
          ],
          [
           0.2222222222222222,
           "#7201a8"
          ],
          [
           0.3333333333333333,
           "#9c179e"
          ],
          [
           0.4444444444444444,
           "#bd3786"
          ],
          [
           0.5555555555555556,
           "#d8576b"
          ],
          [
           0.6666666666666666,
           "#ed7953"
          ],
          [
           0.7777777777777778,
           "#fb9f3a"
          ],
          [
           0.8888888888888888,
           "#fdca26"
          ],
          [
           1,
           "#f0f921"
          ]
         ]
        },
        "margin": {
         "t": 60
        },
        "template": {
         "data": {
          "bar": [
           {
            "error_x": {
             "color": "#2a3f5f"
            },
            "error_y": {
             "color": "#2a3f5f"
            },
            "marker": {
             "line": {
              "color": "#E5ECF6",
              "width": 0.5
             },
             "pattern": {
              "fillmode": "overlay",
              "size": 10,
              "solidity": 0.2
             }
            },
            "type": "bar"
           }
          ],
          "barpolar": [
           {
            "marker": {
             "line": {
              "color": "#E5ECF6",
              "width": 0.5
             },
             "pattern": {
              "fillmode": "overlay",
              "size": 10,
              "solidity": 0.2
             }
            },
            "type": "barpolar"
           }
          ],
          "carpet": [
           {
            "aaxis": {
             "endlinecolor": "#2a3f5f",
             "gridcolor": "white",
             "linecolor": "white",
             "minorgridcolor": "white",
             "startlinecolor": "#2a3f5f"
            },
            "baxis": {
             "endlinecolor": "#2a3f5f",
             "gridcolor": "white",
             "linecolor": "white",
             "minorgridcolor": "white",
             "startlinecolor": "#2a3f5f"
            },
            "type": "carpet"
           }
          ],
          "choropleth": [
           {
            "colorbar": {
             "outlinewidth": 0,
             "ticks": ""
            },
            "type": "choropleth"
           }
          ],
          "contour": [
           {
            "colorbar": {
             "outlinewidth": 0,
             "ticks": ""
            },
            "colorscale": [
             [
              0,
              "#0d0887"
             ],
             [
              0.1111111111111111,
              "#46039f"
             ],
             [
              0.2222222222222222,
              "#7201a8"
             ],
             [
              0.3333333333333333,
              "#9c179e"
             ],
             [
              0.4444444444444444,
              "#bd3786"
             ],
             [
              0.5555555555555556,
              "#d8576b"
             ],
             [
              0.6666666666666666,
              "#ed7953"
             ],
             [
              0.7777777777777778,
              "#fb9f3a"
             ],
             [
              0.8888888888888888,
              "#fdca26"
             ],
             [
              1,
              "#f0f921"
             ]
            ],
            "type": "contour"
           }
          ],
          "contourcarpet": [
           {
            "colorbar": {
             "outlinewidth": 0,
             "ticks": ""
            },
            "type": "contourcarpet"
           }
          ],
          "heatmap": [
           {
            "colorbar": {
             "outlinewidth": 0,
             "ticks": ""
            },
            "colorscale": [
             [
              0,
              "#0d0887"
             ],
             [
              0.1111111111111111,
              "#46039f"
             ],
             [
              0.2222222222222222,
              "#7201a8"
             ],
             [
              0.3333333333333333,
              "#9c179e"
             ],
             [
              0.4444444444444444,
              "#bd3786"
             ],
             [
              0.5555555555555556,
              "#d8576b"
             ],
             [
              0.6666666666666666,
              "#ed7953"
             ],
             [
              0.7777777777777778,
              "#fb9f3a"
             ],
             [
              0.8888888888888888,
              "#fdca26"
             ],
             [
              1,
              "#f0f921"
             ]
            ],
            "type": "heatmap"
           }
          ],
          "heatmapgl": [
           {
            "colorbar": {
             "outlinewidth": 0,
             "ticks": ""
            },
            "colorscale": [
             [
              0,
              "#0d0887"
             ],
             [
              0.1111111111111111,
              "#46039f"
             ],
             [
              0.2222222222222222,
              "#7201a8"
             ],
             [
              0.3333333333333333,
              "#9c179e"
             ],
             [
              0.4444444444444444,
              "#bd3786"
             ],
             [
              0.5555555555555556,
              "#d8576b"
             ],
             [
              0.6666666666666666,
              "#ed7953"
             ],
             [
              0.7777777777777778,
              "#fb9f3a"
             ],
             [
              0.8888888888888888,
              "#fdca26"
             ],
             [
              1,
              "#f0f921"
             ]
            ],
            "type": "heatmapgl"
           }
          ],
          "histogram": [
           {
            "marker": {
             "pattern": {
              "fillmode": "overlay",
              "size": 10,
              "solidity": 0.2
             }
            },
            "type": "histogram"
           }
          ],
          "histogram2d": [
           {
            "colorbar": {
             "outlinewidth": 0,
             "ticks": ""
            },
            "colorscale": [
             [
              0,
              "#0d0887"
             ],
             [
              0.1111111111111111,
              "#46039f"
             ],
             [
              0.2222222222222222,
              "#7201a8"
             ],
             [
              0.3333333333333333,
              "#9c179e"
             ],
             [
              0.4444444444444444,
              "#bd3786"
             ],
             [
              0.5555555555555556,
              "#d8576b"
             ],
             [
              0.6666666666666666,
              "#ed7953"
             ],
             [
              0.7777777777777778,
              "#fb9f3a"
             ],
             [
              0.8888888888888888,
              "#fdca26"
             ],
             [
              1,
              "#f0f921"
             ]
            ],
            "type": "histogram2d"
           }
          ],
          "histogram2dcontour": [
           {
            "colorbar": {
             "outlinewidth": 0,
             "ticks": ""
            },
            "colorscale": [
             [
              0,
              "#0d0887"
             ],
             [
              0.1111111111111111,
              "#46039f"
             ],
             [
              0.2222222222222222,
              "#7201a8"
             ],
             [
              0.3333333333333333,
              "#9c179e"
             ],
             [
              0.4444444444444444,
              "#bd3786"
             ],
             [
              0.5555555555555556,
              "#d8576b"
             ],
             [
              0.6666666666666666,
              "#ed7953"
             ],
             [
              0.7777777777777778,
              "#fb9f3a"
             ],
             [
              0.8888888888888888,
              "#fdca26"
             ],
             [
              1,
              "#f0f921"
             ]
            ],
            "type": "histogram2dcontour"
           }
          ],
          "mesh3d": [
           {
            "colorbar": {
             "outlinewidth": 0,
             "ticks": ""
            },
            "type": "mesh3d"
           }
          ],
          "parcoords": [
           {
            "line": {
             "colorbar": {
              "outlinewidth": 0,
              "ticks": ""
             }
            },
            "type": "parcoords"
           }
          ],
          "pie": [
           {
            "automargin": true,
            "type": "pie"
           }
          ],
          "scatter": [
           {
            "fillpattern": {
             "fillmode": "overlay",
             "size": 10,
             "solidity": 0.2
            },
            "type": "scatter"
           }
          ],
          "scatter3d": [
           {
            "line": {
             "colorbar": {
              "outlinewidth": 0,
              "ticks": ""
             }
            },
            "marker": {
             "colorbar": {
              "outlinewidth": 0,
              "ticks": ""
             }
            },
            "type": "scatter3d"
           }
          ],
          "scattercarpet": [
           {
            "marker": {
             "colorbar": {
              "outlinewidth": 0,
              "ticks": ""
             }
            },
            "type": "scattercarpet"
           }
          ],
          "scattergeo": [
           {
            "marker": {
             "colorbar": {
              "outlinewidth": 0,
              "ticks": ""
             }
            },
            "type": "scattergeo"
           }
          ],
          "scattergl": [
           {
            "marker": {
             "colorbar": {
              "outlinewidth": 0,
              "ticks": ""
             }
            },
            "type": "scattergl"
           }
          ],
          "scattermapbox": [
           {
            "marker": {
             "colorbar": {
              "outlinewidth": 0,
              "ticks": ""
             }
            },
            "type": "scattermapbox"
           }
          ],
          "scatterpolar": [
           {
            "marker": {
             "colorbar": {
              "outlinewidth": 0,
              "ticks": ""
             }
            },
            "type": "scatterpolar"
           }
          ],
          "scatterpolargl": [
           {
            "marker": {
             "colorbar": {
              "outlinewidth": 0,
              "ticks": ""
             }
            },
            "type": "scatterpolargl"
           }
          ],
          "scatterternary": [
           {
            "marker": {
             "colorbar": {
              "outlinewidth": 0,
              "ticks": ""
             }
            },
            "type": "scatterternary"
           }
          ],
          "surface": [
           {
            "colorbar": {
             "outlinewidth": 0,
             "ticks": ""
            },
            "colorscale": [
             [
              0,
              "#0d0887"
             ],
             [
              0.1111111111111111,
              "#46039f"
             ],
             [
              0.2222222222222222,
              "#7201a8"
             ],
             [
              0.3333333333333333,
              "#9c179e"
             ],
             [
              0.4444444444444444,
              "#bd3786"
             ],
             [
              0.5555555555555556,
              "#d8576b"
             ],
             [
              0.6666666666666666,
              "#ed7953"
             ],
             [
              0.7777777777777778,
              "#fb9f3a"
             ],
             [
              0.8888888888888888,
              "#fdca26"
             ],
             [
              1,
              "#f0f921"
             ]
            ],
            "type": "surface"
           }
          ],
          "table": [
           {
            "cells": {
             "fill": {
              "color": "#EBF0F8"
             },
             "line": {
              "color": "white"
             }
            },
            "header": {
             "fill": {
              "color": "#C8D4E3"
             },
             "line": {
              "color": "white"
             }
            },
            "type": "table"
           }
          ]
         },
         "layout": {
          "annotationdefaults": {
           "arrowcolor": "#2a3f5f",
           "arrowhead": 0,
           "arrowwidth": 1
          },
          "autotypenumbers": "strict",
          "coloraxis": {
           "colorbar": {
            "outlinewidth": 0,
            "ticks": ""
           }
          },
          "colorscale": {
           "diverging": [
            [
             0,
             "#8e0152"
            ],
            [
             0.1,
             "#c51b7d"
            ],
            [
             0.2,
             "#de77ae"
            ],
            [
             0.3,
             "#f1b6da"
            ],
            [
             0.4,
             "#fde0ef"
            ],
            [
             0.5,
             "#f7f7f7"
            ],
            [
             0.6,
             "#e6f5d0"
            ],
            [
             0.7,
             "#b8e186"
            ],
            [
             0.8,
             "#7fbc41"
            ],
            [
             0.9,
             "#4d9221"
            ],
            [
             1,
             "#276419"
            ]
           ],
           "sequential": [
            [
             0,
             "#0d0887"
            ],
            [
             0.1111111111111111,
             "#46039f"
            ],
            [
             0.2222222222222222,
             "#7201a8"
            ],
            [
             0.3333333333333333,
             "#9c179e"
            ],
            [
             0.4444444444444444,
             "#bd3786"
            ],
            [
             0.5555555555555556,
             "#d8576b"
            ],
            [
             0.6666666666666666,
             "#ed7953"
            ],
            [
             0.7777777777777778,
             "#fb9f3a"
            ],
            [
             0.8888888888888888,
             "#fdca26"
            ],
            [
             1,
             "#f0f921"
            ]
           ],
           "sequentialminus": [
            [
             0,
             "#0d0887"
            ],
            [
             0.1111111111111111,
             "#46039f"
            ],
            [
             0.2222222222222222,
             "#7201a8"
            ],
            [
             0.3333333333333333,
             "#9c179e"
            ],
            [
             0.4444444444444444,
             "#bd3786"
            ],
            [
             0.5555555555555556,
             "#d8576b"
            ],
            [
             0.6666666666666666,
             "#ed7953"
            ],
            [
             0.7777777777777778,
             "#fb9f3a"
            ],
            [
             0.8888888888888888,
             "#fdca26"
            ],
            [
             1,
             "#f0f921"
            ]
           ]
          },
          "colorway": [
           "#636efa",
           "#EF553B",
           "#00cc96",
           "#ab63fa",
           "#FFA15A",
           "#19d3f3",
           "#FF6692",
           "#B6E880",
           "#FF97FF",
           "#FECB52"
          ],
          "font": {
           "color": "#2a3f5f"
          },
          "geo": {
           "bgcolor": "white",
           "lakecolor": "white",
           "landcolor": "#E5ECF6",
           "showlakes": true,
           "showland": true,
           "subunitcolor": "white"
          },
          "hoverlabel": {
           "align": "left"
          },
          "hovermode": "closest",
          "mapbox": {
           "style": "light"
          },
          "paper_bgcolor": "white",
          "plot_bgcolor": "#E5ECF6",
          "polar": {
           "angularaxis": {
            "gridcolor": "white",
            "linecolor": "white",
            "ticks": ""
           },
           "bgcolor": "#E5ECF6",
           "radialaxis": {
            "gridcolor": "white",
            "linecolor": "white",
            "ticks": ""
           }
          },
          "scene": {
           "xaxis": {
            "backgroundcolor": "#E5ECF6",
            "gridcolor": "white",
            "gridwidth": 2,
            "linecolor": "white",
            "showbackground": true,
            "ticks": "",
            "zerolinecolor": "white"
           },
           "yaxis": {
            "backgroundcolor": "#E5ECF6",
            "gridcolor": "white",
            "gridwidth": 2,
            "linecolor": "white",
            "showbackground": true,
            "ticks": "",
            "zerolinecolor": "white"
           },
           "zaxis": {
            "backgroundcolor": "#E5ECF6",
            "gridcolor": "white",
            "gridwidth": 2,
            "linecolor": "white",
            "showbackground": true,
            "ticks": "",
            "zerolinecolor": "white"
           }
          },
          "shapedefaults": {
           "line": {
            "color": "#2a3f5f"
           }
          },
          "ternary": {
           "aaxis": {
            "gridcolor": "white",
            "linecolor": "white",
            "ticks": ""
           },
           "baxis": {
            "gridcolor": "white",
            "linecolor": "white",
            "ticks": ""
           },
           "bgcolor": "#E5ECF6",
           "caxis": {
            "gridcolor": "white",
            "linecolor": "white",
            "ticks": ""
           }
          },
          "title": {
           "x": 0.05
          },
          "xaxis": {
           "automargin": true,
           "gridcolor": "white",
           "linecolor": "white",
           "ticks": "",
           "title": {
            "standoff": 15
           },
           "zerolinecolor": "white",
           "zerolinewidth": 2
          },
          "yaxis": {
           "automargin": true,
           "gridcolor": "white",
           "linecolor": "white",
           "ticks": "",
           "title": {
            "standoff": 15
           },
           "zerolinecolor": "white",
           "zerolinewidth": 2
          }
         }
        },
        "xaxis": {
         "anchor": "y",
         "constrain": "domain",
         "domain": [
          0,
          1
         ],
         "scaleanchor": "y"
        },
        "yaxis": {
         "anchor": "x",
         "autorange": "reversed",
         "constrain": "domain",
         "domain": [
          0,
          1
         ]
        }
       }
      }
     },
     "metadata": {},
     "output_type": "display_data"
    }
   ],
   "source": [
    "cor = px.imshow(all_data.corr('pearson'))\n",
    "cor.show()"
   ]
  },
  {
   "cell_type": "code",
   "execution_count": 80,
   "metadata": {},
   "outputs": [],
   "source": [
    "all_data['ratio'] = all_data['expenditure_percapita']/all_data['salary']\n",
    "y = all_data['country_index']\n",
    "X = all_data[['salary', 'net_user','reading_mean', 'math_mean', 'science_mean']]"
   ]
  },
  {
   "cell_type": "code",
   "execution_count": 81,
   "metadata": {},
   "outputs": [
    {
     "data": {
      "text/html": [
       "<table class=\"simpletable\">\n",
       "<caption>OLS Regression Results</caption>\n",
       "<tr>\n",
       "  <th>Dep. Variable:</th>      <td>country_index</td>  <th>  R-squared:         </th> <td>   0.668</td>\n",
       "</tr>\n",
       "<tr>\n",
       "  <th>Model:</th>                   <td>OLS</td>       <th>  Adj. R-squared:    </th> <td>   0.618</td>\n",
       "</tr>\n",
       "<tr>\n",
       "  <th>Method:</th>             <td>Least Squares</td>  <th>  F-statistic:       </th> <td>   13.29</td>\n",
       "</tr>\n",
       "<tr>\n",
       "  <th>Date:</th>             <td>Mon, 10 Oct 2022</td> <th>  Prob (F-statistic):</th> <td>3.99e-07</td>\n",
       "</tr>\n",
       "<tr>\n",
       "  <th>Time:</th>                 <td>08:31:04</td>     <th>  Log-Likelihood:    </th> <td>  63.033</td>\n",
       "</tr>\n",
       "<tr>\n",
       "  <th>No. Observations:</th>      <td>    39</td>      <th>  AIC:               </th> <td>  -114.1</td>\n",
       "</tr>\n",
       "<tr>\n",
       "  <th>Df Residuals:</th>          <td>    33</td>      <th>  BIC:               </th> <td>  -104.1</td>\n",
       "</tr>\n",
       "<tr>\n",
       "  <th>Df Model:</th>              <td>     5</td>      <th>                     </th>     <td> </td>   \n",
       "</tr>\n",
       "<tr>\n",
       "  <th>Covariance Type:</th>      <td>nonrobust</td>    <th>                     </th>     <td> </td>   \n",
       "</tr>\n",
       "</table>\n",
       "<table class=\"simpletable\">\n",
       "<tr>\n",
       "        <td></td>          <th>coef</th>     <th>std err</th>      <th>t</th>      <th>P>|t|</th>  <th>[0.025</th>    <th>0.975]</th>  \n",
       "</tr>\n",
       "<tr>\n",
       "  <th>const</th>        <td>    0.1050</td> <td>    0.126</td> <td>    0.834</td> <td> 0.411</td> <td>   -0.151</td> <td>    0.361</td>\n",
       "</tr>\n",
       "<tr>\n",
       "  <th>salary</th>       <td> 1.255e-07</td> <td> 2.29e-07</td> <td>    0.549</td> <td> 0.587</td> <td> -3.4e-07</td> <td> 5.91e-07</td>\n",
       "</tr>\n",
       "<tr>\n",
       "  <th>net_user</th>     <td>    0.0049</td> <td>    0.001</td> <td>    4.315</td> <td> 0.000</td> <td>    0.003</td> <td>    0.007</td>\n",
       "</tr>\n",
       "<tr>\n",
       "  <th>reading_mean</th> <td>    0.0013</td> <td>    0.001</td> <td>    1.276</td> <td> 0.211</td> <td>   -0.001</td> <td>    0.003</td>\n",
       "</tr>\n",
       "<tr>\n",
       "  <th>math_mean</th>    <td>    0.0004</td> <td>    0.001</td> <td>    0.568</td> <td> 0.574</td> <td>   -0.001</td> <td>    0.002</td>\n",
       "</tr>\n",
       "<tr>\n",
       "  <th>science_mean</th> <td>   -0.0011</td> <td>    0.001</td> <td>   -0.887</td> <td> 0.381</td> <td>   -0.004</td> <td>    0.001</td>\n",
       "</tr>\n",
       "</table>\n",
       "<table class=\"simpletable\">\n",
       "<tr>\n",
       "  <th>Omnibus:</th>       <td> 2.116</td> <th>  Durbin-Watson:     </th> <td>   1.825</td>\n",
       "</tr>\n",
       "<tr>\n",
       "  <th>Prob(Omnibus):</th> <td> 0.347</td> <th>  Jarque-Bera (JB):  </th> <td>   1.432</td>\n",
       "</tr>\n",
       "<tr>\n",
       "  <th>Skew:</th>          <td>-0.466</td> <th>  Prob(JB):          </th> <td>   0.489</td>\n",
       "</tr>\n",
       "<tr>\n",
       "  <th>Kurtosis:</th>      <td> 3.112</td> <th>  Cond. No.          </th> <td>8.18e+05</td>\n",
       "</tr>\n",
       "</table><br/><br/>Notes:<br/>[1] Standard Errors assume that the covariance matrix of the errors is correctly specified.<br/>[2] The condition number is large, 8.18e+05. This might indicate that there are<br/>strong multicollinearity or other numerical problems."
      ],
      "text/plain": [
       "<class 'statsmodels.iolib.summary.Summary'>\n",
       "\"\"\"\n",
       "                            OLS Regression Results                            \n",
       "==============================================================================\n",
       "Dep. Variable:          country_index   R-squared:                       0.668\n",
       "Model:                            OLS   Adj. R-squared:                  0.618\n",
       "Method:                 Least Squares   F-statistic:                     13.29\n",
       "Date:                Mon, 10 Oct 2022   Prob (F-statistic):           3.99e-07\n",
       "Time:                        08:31:04   Log-Likelihood:                 63.033\n",
       "No. Observations:                  39   AIC:                            -114.1\n",
       "Df Residuals:                      33   BIC:                            -104.1\n",
       "Df Model:                           5                                         \n",
       "Covariance Type:            nonrobust                                         \n",
       "================================================================================\n",
       "                   coef    std err          t      P>|t|      [0.025      0.975]\n",
       "--------------------------------------------------------------------------------\n",
       "const            0.1050      0.126      0.834      0.411      -0.151       0.361\n",
       "salary        1.255e-07   2.29e-07      0.549      0.587    -3.4e-07    5.91e-07\n",
       "net_user         0.0049      0.001      4.315      0.000       0.003       0.007\n",
       "reading_mean     0.0013      0.001      1.276      0.211      -0.001       0.003\n",
       "math_mean        0.0004      0.001      0.568      0.574      -0.001       0.002\n",
       "science_mean    -0.0011      0.001     -0.887      0.381      -0.004       0.001\n",
       "==============================================================================\n",
       "Omnibus:                        2.116   Durbin-Watson:                   1.825\n",
       "Prob(Omnibus):                  0.347   Jarque-Bera (JB):                1.432\n",
       "Skew:                          -0.466   Prob(JB):                        0.489\n",
       "Kurtosis:                       3.112   Cond. No.                     8.18e+05\n",
       "==============================================================================\n",
       "\n",
       "Notes:\n",
       "[1] Standard Errors assume that the covariance matrix of the errors is correctly specified.\n",
       "[2] The condition number is large, 8.18e+05. This might indicate that there are\n",
       "strong multicollinearity or other numerical problems.\n",
       "\"\"\""
      ]
     },
     "execution_count": 81,
     "metadata": {},
     "output_type": "execute_result"
    }
   ],
   "source": [
    "X2 = sm.add_constant(X)\n",
    "res = sm.OLS(y, X2).fit()\n",
    "res.summary()"
   ]
  },
  {
   "cell_type": "code",
   "execution_count": 82,
   "metadata": {},
   "outputs": [
    {
     "data": {
      "text/plain": [
       "0.6681702002510225"
      ]
     },
     "execution_count": 82,
     "metadata": {},
     "output_type": "execute_result"
    }
   ],
   "source": [
    "model = LinearRegression()\n",
    "model.fit(X, y)\n",
    "model_r2 = model.score(X, y)\n",
    "model_r2"
   ]
  },
  {
   "cell_type": "code",
   "execution_count": 83,
   "metadata": {},
   "outputs": [],
   "source": [
    "import matplotlib.pyplot as plt\n",
    "import seaborn as sns\n",
    "from sklearn import datasets\n",
    "%matplotlib inline\n",
    "\n",
    "def calculate_residuals(model, features, label):\n",
    "    \"\"\"\n",
    "    Creates predictions on the features with the model and calculates residuals\n",
    "    \"\"\"\n",
    "    predictions = model.predict(features)\n",
    "    df_results = pd.DataFrame({'Actual': label, 'Predicted': predictions})\n",
    "    df_results['Residuals'] = abs(df_results['Actual']) - abs(df_results['Predicted'])\n",
    "    \n",
    "    return df_results\n",
    "\n",
    "def linear_assumption(model, features, label):\n",
    "    \"\"\"\n",
    "    Linearity: Assumes that there is a linear relationship between the predictors and\n",
    "               the response variable. If not, either a quadratic term or another\n",
    "               algorithm should be used.\n",
    "    \"\"\"\n",
    "    print('Assumption 1: Linear Relationship between the Target and the Feature', '\\n')\n",
    "        \n",
    "    print('Checking with a scatter plot of actual vs. predicted.',\n",
    "           'Predictions should follow the diagonal line.')\n",
    "    \n",
    "    # Calculating residuals for the plot\n",
    "    df_results = calculate_residuals(model, features, label)\n",
    "    \n",
    "    # Plotting the actual vs predicted values\n",
    "    sns.lmplot(x='Actual', y='Predicted', data=df_results, fit_reg=False, size=7)\n",
    "        \n",
    "    # Plotting the diagonal line\n",
    "    line_coords = np.arange(df_results.min().min(), df_results.max().max())\n",
    "    plt.plot(line_coords, line_coords,  # X and y points\n",
    "             color='darkorange', linestyle='--')\n",
    "    plt.title('Actual vs. Predicted')\n",
    "    plt.show()"
   ]
  },
  {
   "cell_type": "code",
   "execution_count": 84,
   "metadata": {},
   "outputs": [
    {
     "name": "stdout",
     "output_type": "stream",
     "text": [
      "Assumption 1: Linear Relationship between the Target and the Feature \n",
      "\n",
      "Checking with a scatter plot of actual vs. predicted. Predictions should follow the diagonal line.\n"
     ]
    },
    {
     "name": "stderr",
     "output_type": "stream",
     "text": [
      "/Library/Frameworks/Python.framework/Versions/3.10/lib/python3.10/site-packages/seaborn/regression.py:581: UserWarning:\n",
      "\n",
      "The `size` parameter has been renamed to `height`; please update your code.\n",
      "\n"
     ]
    },
    {
     "data": {
      "image/png": "[encoded data removed]",
      "text/plain": [
       "<Figure size 700x700 with 1 Axes>"
      ]
     },
     "metadata": {},
     "output_type": "display_data"
    }
   ],
   "source": [
    "linear_assumption(model, X, y)"
   ]
  },
  {
   "cell_type": "code",
   "execution_count": 85,
   "metadata": {},
   "outputs": [],
   "source": [
    "def normal_errors_assumption(model, features, label, p_value_thresh=0.05):\n",
    "    \"\"\"\n",
    "    Normality: Assumes that the error terms are normally distributed. If they are not,\n",
    "    nonlinear transformations of variables may solve this.\n",
    "               \n",
    "    This assumption being violated primarily causes issues with the confidence intervals\n",
    "    \"\"\"\n",
    "    from statsmodels.stats.diagnostic import normal_ad\n",
    "    print('Assumption 2: The error terms are normally distributed', '\\n')\n",
    "    \n",
    "    # Calculating residuals for the Anderson-Darling test\n",
    "    df_results = calculate_residuals(model, features, label)\n",
    "    \n",
    "    print('Using the Anderson-Darling test for normal distribution')\n",
    "\n",
    "    # Performing the test on the residuals\n",
    "    p_value = normal_ad(df_results['Residuals'])[1]\n",
    "    print('p-value from the test - below 0.05 generally means non-normal:', p_value)\n",
    "    \n",
    "    # Reporting the normality of the residuals\n",
    "    if p_value < p_value_thresh:\n",
    "        print('Residuals are not normally distributed')\n",
    "    else:\n",
    "        print('Residuals are normally distributed')\n",
    "    \n",
    "    # Plotting the residuals distribution\n",
    "    plt.subplots(figsize=(12, 6))\n",
    "    plt.title('Distribution of Residuals')\n",
    "    sns.distplot(df_results['Residuals'])\n",
    "    plt.show()\n",
    "    \n",
    "    print()\n",
    "    if p_value > p_value_thresh:\n",
    "        print('Assumption satisfied')\n",
    "    else:\n",
    "        print('Assumption not satisfied')\n",
    "        print()\n",
    "        print('Confidence intervals will likely be affected')\n",
    "        print('Try performing nonlinear transformations on variables')"
   ]
  },
  {
   "cell_type": "code",
   "execution_count": 86,
   "metadata": {},
   "outputs": [
    {
     "name": "stdout",
     "output_type": "stream",
     "text": [
      "Assumption 2: The error terms are normally distributed \n",
      "\n",
      "Using the Anderson-Darling test for normal distribution\n",
      "p-value from the test - below 0.05 generally means non-normal: 0.6695702540408359\n",
      "Residuals are normally distributed\n"
     ]
    },
    {
     "name": "stderr",
     "output_type": "stream",
     "text": [
      "/Library/Frameworks/Python.framework/Versions/3.10/lib/python3.10/site-packages/seaborn/distributions.py:2619: FutureWarning:\n",
      "\n",
      "`distplot` is a deprecated function and will be removed in a future version. Please adapt your code to use either `displot` (a figure-level function with similar flexibility) or `histplot` (an axes-level function for histograms).\n",
      "\n"
     ]
    },
    {
     "data": {
      "image/png": "[encoded data removed]",
      "text/plain": [
       "<Figure size 1200x600 with 1 Axes>"
      ]
     },
     "metadata": {},
     "output_type": "display_data"
    },
    {
     "name": "stdout",
     "output_type": "stream",
     "text": [
      "\n",
      "Assumption satisfied\n"
     ]
    }
   ],
   "source": [
    "normal_errors_assumption(model, X, y)"
   ]
  },
  {
   "cell_type": "code",
   "execution_count": 87,
   "metadata": {},
   "outputs": [],
   "source": [
    "def multicollinearity_assumption(model, features, label):\n",
    "    \"\"\"\n",
    "    Multicollinearity: Assumes that predictors are not correlated with each other. If there is\n",
    "                       correlation among the predictors, then either remove prepdictors with high\n",
    "                       Variance Inflation Factor (VIF) values or perform dimensionality reduction\n",
    "                           \n",
    "                       This assumption being violated causes issues with interpretability of the \n",
    "                       coefficients and the standard errors of the coefficients.\n",
    "    \"\"\"\n",
    "    from statsmodels.stats.outliers_influence import variance_inflation_factor\n",
    "    print('Assumption 3: Little to no multicollinearity among predictors')\n",
    "        \n",
    "    # Plotting the heatmap\n",
    "    plt.figure(figsize = (10,8))\n",
    "    sns.heatmap(pd.DataFrame(features, columns=features.columns).corr(), annot=True)\n",
    "    plt.title('Correlation of Variables')\n",
    "    plt.show()\n",
    "        \n",
    "    print('Variance Inflation Factors (VIF)')\n",
    "    print('> 10: An indication that multicollinearity may be present')\n",
    "    print('> 100: Certain multicollinearity among the variables')\n",
    "    print('-------------------------------------')\n",
    "       \n",
    "    # Gathering the VIF for each variable\n",
    "    VIF = [variance_inflation_factor(features, i) for i in range(0,len(features.columns))]\n",
    "    for idx, vif in enumerate(VIF):\n",
    "        print('{0}: {1}'.format(features.columns[idx], vif))\n",
    "        \n",
    "    # Gathering and printing total cases of possible or definite multicollinearity\n",
    "    possible_multicollinearity = sum([1 for vif in VIF if vif > 10])\n",
    "    definite_multicollinearity = sum([1 for vif in VIF if vif > 100])\n",
    "    print()\n",
    "    print('{0} cases of possible multicollinearity'.format(possible_multicollinearity))\n",
    "    print('{0} cases of definite multicollinearity'.format(definite_multicollinearity))\n",
    "    print()\n",
    "\n",
    "    if definite_multicollinearity == 0:\n",
    "        if possible_multicollinearity == 0:\n",
    "            print('Assumption satisfied')\n",
    "        else:\n",
    "            print('Assumption possibly satisfied')\n",
    "            print()\n",
    "            print('Coefficient interpretability may be problematic')\n",
    "            print('Consider removing variables with a high Variance Inflation Factor (VIF)')\n",
    "\n",
    "    else:\n",
    "        print('Assumption not satisfied')\n",
    "        print()\n",
    "        print('Coefficient interpretability will be problematic')\n",
    "        print('Consider removing variables with a high Variance Inflation Factor (VIF)')"
   ]
  },
  {
   "cell_type": "code",
   "execution_count": 88,
   "metadata": {},
   "outputs": [
    {
     "name": "stdout",
     "output_type": "stream",
     "text": [
      "Assumption 3: Little to no multicollinearity among predictors\n"
     ]
    },
    {
     "data": {
      "image/png": "[encoded data removed]",
      "text/plain": [
       "<Figure size 1000x800 with 2 Axes>"
      ]
     },
     "metadata": {},
     "output_type": "display_data"
    },
    {
     "name": "stdout",
     "output_type": "stream",
     "text": [
      "Variance Inflation Factors (VIF)\n",
      "> 10: An indication that multicollinearity may be present\n",
      "> 100: Certain multicollinearity among the variables\n",
      "-------------------------------------\n",
      "salary: 2.081706208489819\n",
      "net_user: 117.48820418186976\n",
      "reading_mean: 3320.60687553146\n",
      "math_mean: 1530.1837927929596\n",
      "science_mean: 4442.50049392955\n",
      "\n",
      "4 cases of possible multicollinearity\n",
      "4 cases of definite multicollinearity\n",
      "\n",
      "Assumption not satisfied\n",
      "\n",
      "Coefficient interpretability will be problematic\n",
      "Consider removing variables with a high Variance Inflation Factor (VIF)\n"
     ]
    }
   ],
   "source": [
    "multicollinearity_assumption(model, X, y)"
   ]
  },
  {
   "cell_type": "code",
   "execution_count": 89,
   "metadata": {},
   "outputs": [],
   "source": [
    "def autocorrelation_assumption(model, features, label):\n",
    "    \"\"\"\n",
    "    Autocorrelation: Assumes that there is no autocorrelation in the residuals. If there is\n",
    "                     autocorrelation, then there is a pattern that is not explained due to\n",
    "                     the current value being dependent on the previous value.\n",
    "                     This may be resolved by adding a lag variable of either the dependent\n",
    "                     variable or some of the predictors.\n",
    "    \"\"\"\n",
    "    from statsmodels.stats.stattools import durbin_watson\n",
    "    print('Assumption 4: No Autocorrelation', '\\n')\n",
    "    \n",
    "    # Calculating residuals for the Durbin Watson-tests\n",
    "    df_results = calculate_residuals(model, features, label)\n",
    "\n",
    "    print('\\nPerforming Durbin-Watson Test')\n",
    "    print('Values of 1.5 < d < 2.5 generally show that there is no autocorrelation in the data')\n",
    "    print('0 to 2< is positive autocorrelation')\n",
    "    print('>2 to 4 is negative autocorrelation')\n",
    "    print('-------------------------------------')\n",
    "    durbinWatson = durbin_watson(df_results['Residuals'])\n",
    "    print('Durbin-Watson:', durbinWatson)\n",
    "    if durbinWatson < 1.5:\n",
    "        print('Signs of positive autocorrelation', '\\n')\n",
    "        print('Assumption not satisfied')\n",
    "    elif durbinWatson > 2.5:\n",
    "        print('Signs of negative autocorrelation', '\\n')\n",
    "        print('Assumption not satisfied')\n",
    "    else:\n",
    "        print('Little to no autocorrelation', '\\n')\n",
    "        print('Assumption satisfied')"
   ]
  },
  {
   "cell_type": "code",
   "execution_count": 90,
   "metadata": {},
   "outputs": [
    {
     "name": "stdout",
     "output_type": "stream",
     "text": [
      "Assumption 4: No Autocorrelation \n",
      "\n",
      "\n",
      "Performing Durbin-Watson Test\n",
      "Values of 1.5 < d < 2.5 generally show that there is no autocorrelation in the data\n",
      "0 to 2< is positive autocorrelation\n",
      ">2 to 4 is negative autocorrelation\n",
      "-------------------------------------\n",
      "Durbin-Watson: 1.8249293003282452\n",
      "Little to no autocorrelation \n",
      "\n",
      "Assumption satisfied\n"
     ]
    }
   ],
   "source": [
    "autocorrelation_assumption(model, X, y)"
   ]
  },
  {
   "cell_type": "code",
   "execution_count": 91,
   "metadata": {},
   "outputs": [],
   "source": [
    "def homoscedasticity_assumption(model, features, label):\n",
    "    \"\"\"\n",
    "    Homoscedasticity: Assumes that the errors exhibit constant variance\n",
    "    \"\"\"\n",
    "    print('Assumption 5: Homoscedasticity of Error Terms', '\\n')\n",
    "    \n",
    "    print('Residuals should have relative constant variance')\n",
    "        \n",
    "    # Calculating residuals for the plot\n",
    "    df_results = calculate_residuals(model, features, label)\n",
    "\n",
    "    # Plotting the residuals\n",
    "    plt.subplots(figsize=(12, 6))\n",
    "    ax = plt.subplot(111)  # To remove spines\n",
    "    plt.scatter(x=df_results.index, y=df_results.Residuals, alpha=0.5)\n",
    "    plt.plot(np.repeat(0, df_results.index.max()), color='darkorange', linestyle='--')\n",
    "    ax.spines['right'].set_visible(False)  # Removing the right spine\n",
    "    ax.spines['top'].set_visible(False)  # Removing the top spine\n",
    "    plt.title('Residuals')\n",
    "    plt.show()  "
   ]
  },
  {
   "cell_type": "code",
   "execution_count": 92,
   "metadata": {},
   "outputs": [
    {
     "name": "stdout",
     "output_type": "stream",
     "text": [
      "Assumption 5: Homoscedasticity of Error Terms \n",
      "\n",
      "Residuals should have relative constant variance\n"
     ]
    },
    {
     "data": {
      "image/png": "[encoded data removed]",
      "text/plain": [
       "<Figure size 1200x600 with 1 Axes>"
      ]
     },
     "metadata": {},
     "output_type": "display_data"
    }
   ],
   "source": [
    "homoscedasticity_assumption(model, X, y)"
   ]
  },
  {
   "cell_type": "markdown",
   "metadata": {},
   "source": [
    "Source: <https://jeffmacaluso.github.io/post/LinearRegressionAssumptions/>"
   ]
  },
  {
   "cell_type": "markdown",
   "metadata": {},
   "source": [
    "#### Fix Multicollinearity"
   ]
  },
  {
   "cell_type": "code",
   "execution_count": 93,
   "metadata": {},
   "outputs": [
    {
     "name": "stderr",
     "output_type": "stream",
     "text": [
      "/var/folders/fc/9dfyqjt13ks879g0zmsg9b2h0000gp/T/ipykernel_786/2465110542.py:1: SettingWithCopyWarning:\n",
      "\n",
      "\n",
      "A value is trying to be set on a copy of a slice from a DataFrame.\n",
      "Try using .loc[row_indexer,col_indexer] = value instead\n",
      "\n",
      "See the caveats in the documentation: https://pandas.pydata.org/pandas-docs/stable/user_guide/indexing.html#returning-a-view-versus-a-copy\n",
      "\n"
     ]
    },
    {
     "data": {
      "text/html": [
       "<div>\n",
       "<style scoped>\n",
       "    .dataframe tbody tr th:only-of-type {\n",
       "        vertical-align: middle;\n",
       "    }\n",
       "\n",
       "    .dataframe tbody tr th {\n",
       "        vertical-align: top;\n",
       "    }\n",
       "\n",
       "    .dataframe thead th {\n",
       "        text-align: right;\n",
       "    }\n",
       "</style>\n",
       "<table border=\"1\" class=\"dataframe\">\n",
       "  <thead>\n",
       "    <tr style=\"text-align: right;\">\n",
       "      <th></th>\n",
       "      <th>salary</th>\n",
       "      <th>pisa</th>\n",
       "      <th>net_user</th>\n",
       "    </tr>\n",
       "  </thead>\n",
       "  <tbody>\n",
       "    <tr>\n",
       "      <th>0</th>\n",
       "      <td>9647.000000</td>\n",
       "      <td>395.000000</td>\n",
       "      <td>85.500</td>\n",
       "    </tr>\n",
       "    <tr>\n",
       "      <th>1</th>\n",
       "      <td>62300.000000</td>\n",
       "      <td>499.000000</td>\n",
       "      <td>89.600</td>\n",
       "    </tr>\n",
       "    <tr>\n",
       "      <th>2</th>\n",
       "      <td>45807.350000</td>\n",
       "      <td>491.000000</td>\n",
       "      <td>87.529</td>\n",
       "    </tr>\n",
       "    <tr>\n",
       "      <th>3</th>\n",
       "      <td>16748.510000</td>\n",
       "      <td>400.333333</td>\n",
       "      <td>81.343</td>\n",
       "    </tr>\n",
       "    <tr>\n",
       "      <th>4</th>\n",
       "      <td>19112.280000</td>\n",
       "      <td>516.666667</td>\n",
       "      <td>96.970</td>\n",
       "    </tr>\n",
       "    <tr>\n",
       "      <th>5</th>\n",
       "      <td>99302.000000</td>\n",
       "      <td>498.000000</td>\n",
       "      <td>94.200</td>\n",
       "    </tr>\n",
       "    <tr>\n",
       "      <th>6</th>\n",
       "      <td>18194.714000</td>\n",
       "      <td>437.666667</td>\n",
       "      <td>88.300</td>\n",
       "    </tr>\n",
       "    <tr>\n",
       "      <th>7</th>\n",
       "      <td>25788.780000</td>\n",
       "      <td>578.666667</td>\n",
       "      <td>70.405</td>\n",
       "    </tr>\n",
       "    <tr>\n",
       "      <th>8</th>\n",
       "      <td>9684.000000</td>\n",
       "      <td>405.333333</td>\n",
       "      <td>69.790</td>\n",
       "    </tr>\n",
       "    <tr>\n",
       "      <th>9</th>\n",
       "      <td>4724.240000</td>\n",
       "      <td>414.666667</td>\n",
       "      <td>80.530</td>\n",
       "    </tr>\n",
       "    <tr>\n",
       "      <th>10</th>\n",
       "      <td>12203.000000</td>\n",
       "      <td>495.333333</td>\n",
       "      <td>81.339</td>\n",
       "    </tr>\n",
       "    <tr>\n",
       "      <th>11</th>\n",
       "      <td>59049.301663</td>\n",
       "      <td>500.333333</td>\n",
       "      <td>89.813</td>\n",
       "    </tr>\n",
       "    <tr>\n",
       "      <th>12</th>\n",
       "      <td>55184.000000</td>\n",
       "      <td>501.000000</td>\n",
       "      <td>96.549</td>\n",
       "    </tr>\n",
       "    <tr>\n",
       "      <th>13</th>\n",
       "      <td>19061.220000</td>\n",
       "      <td>525.333333</td>\n",
       "      <td>89.058</td>\n",
       "    </tr>\n",
       "    <tr>\n",
       "      <th>14</th>\n",
       "      <td>42216.563159</td>\n",
       "      <td>516.333333</td>\n",
       "      <td>92.170</td>\n",
       "    </tr>\n",
       "    <tr>\n",
       "      <th>15</th>\n",
       "      <td>16748.510000</td>\n",
       "      <td>493.666667</td>\n",
       "      <td>84.800</td>\n",
       "    </tr>\n",
       "    <tr>\n",
       "      <th>16</th>\n",
       "      <td>38280.044274</td>\n",
       "      <td>503.666667</td>\n",
       "      <td>94.818</td>\n",
       "    </tr>\n",
       "    <tr>\n",
       "      <th>17</th>\n",
       "      <td>22917.326253</td>\n",
       "      <td>453.333333</td>\n",
       "      <td>78.116</td>\n",
       "    </tr>\n",
       "    <tr>\n",
       "      <th>18</th>\n",
       "      <td>15564.000000</td>\n",
       "      <td>479.333333</td>\n",
       "      <td>84.771</td>\n",
       "    </tr>\n",
       "    <tr>\n",
       "      <th>19</th>\n",
       "      <td>4630.320000</td>\n",
       "      <td>382.000000</td>\n",
       "      <td>53.726</td>\n",
       "    </tr>\n",
       "    <tr>\n",
       "      <th>20</th>\n",
       "      <td>43220.658848</td>\n",
       "      <td>504.666667</td>\n",
       "      <td>92.000</td>\n",
       "    </tr>\n",
       "    <tr>\n",
       "      <th>21</th>\n",
       "      <td>41989.440000</td>\n",
       "      <td>481.333333</td>\n",
       "      <td>99.000</td>\n",
       "    </tr>\n",
       "    <tr>\n",
       "      <th>22</th>\n",
       "      <td>47568.000000</td>\n",
       "      <td>465.000000</td>\n",
       "      <td>90.127</td>\n",
       "    </tr>\n",
       "    <tr>\n",
       "      <th>23</th>\n",
       "      <td>35738.888299</td>\n",
       "      <td>477.000000</td>\n",
       "      <td>70.483</td>\n",
       "    </tr>\n",
       "    <tr>\n",
       "      <th>24</th>\n",
       "      <td>36384.000000</td>\n",
       "      <td>520.000000</td>\n",
       "      <td>90.219</td>\n",
       "    </tr>\n",
       "    <tr>\n",
       "      <th>25</th>\n",
       "      <td>26142.789541</td>\n",
       "      <td>479.666667</td>\n",
       "      <td>83.056</td>\n",
       "    </tr>\n",
       "    <tr>\n",
       "      <th>26</th>\n",
       "      <td>60394.640000</td>\n",
       "      <td>476.666667</td>\n",
       "      <td>98.822</td>\n",
       "    </tr>\n",
       "    <tr>\n",
       "      <th>27</th>\n",
       "      <td>11927.880000</td>\n",
       "      <td>487.333333</td>\n",
       "      <td>88.900</td>\n",
       "    </tr>\n",
       "    <tr>\n",
       "      <th>28</th>\n",
       "      <td>16044.000000</td>\n",
       "      <td>416.000000</td>\n",
       "      <td>71.968</td>\n",
       "    </tr>\n",
       "    <tr>\n",
       "      <th>29</th>\n",
       "      <td>44189.000000</td>\n",
       "      <td>496.666667</td>\n",
       "      <td>97.000</td>\n",
       "    </tr>\n",
       "    <tr>\n",
       "      <th>30</th>\n",
       "      <td>48949.000000</td>\n",
       "      <td>502.666667</td>\n",
       "      <td>91.500</td>\n",
       "    </tr>\n",
       "    <tr>\n",
       "      <th>31</th>\n",
       "      <td>18068.000000</td>\n",
       "      <td>513.000000</td>\n",
       "      <td>83.185</td>\n",
       "    </tr>\n",
       "    <tr>\n",
       "      <th>32</th>\n",
       "      <td>15358.530000</td>\n",
       "      <td>492.000000</td>\n",
       "      <td>78.262</td>\n",
       "    </tr>\n",
       "    <tr>\n",
       "      <th>33</th>\n",
       "      <td>15192.000000</td>\n",
       "      <td>481.666667</td>\n",
       "      <td>84.995</td>\n",
       "    </tr>\n",
       "    <tr>\n",
       "      <th>34</th>\n",
       "      <td>40224.000000</td>\n",
       "      <td>386.000000</td>\n",
       "      <td>97.860</td>\n",
       "    </tr>\n",
       "    <tr>\n",
       "      <th>35</th>\n",
       "      <td>16399.436074</td>\n",
       "      <td>469.333333</td>\n",
       "      <td>89.921</td>\n",
       "    </tr>\n",
       "    <tr>\n",
       "      <th>36</th>\n",
       "      <td>35504.253147</td>\n",
       "      <td>503.666667</td>\n",
       "      <td>86.601</td>\n",
       "    </tr>\n",
       "    <tr>\n",
       "      <th>37</th>\n",
       "      <td>254214.231474</td>\n",
       "      <td>502.333333</td>\n",
       "      <td>94.539</td>\n",
       "    </tr>\n",
       "    <tr>\n",
       "      <th>38</th>\n",
       "      <td>5871.780000</td>\n",
       "      <td>462.666667</td>\n",
       "      <td>77.670</td>\n",
       "    </tr>\n",
       "  </tbody>\n",
       "</table>\n",
       "</div>"
      ],
      "text/plain": [
       "           salary        pisa  net_user\n",
       "0     9647.000000  395.000000    85.500\n",
       "1    62300.000000  499.000000    89.600\n",
       "2    45807.350000  491.000000    87.529\n",
       "3    16748.510000  400.333333    81.343\n",
       "4    19112.280000  516.666667    96.970\n",
       "5    99302.000000  498.000000    94.200\n",
       "6    18194.714000  437.666667    88.300\n",
       "7    25788.780000  578.666667    70.405\n",
       "8     9684.000000  405.333333    69.790\n",
       "9     4724.240000  414.666667    80.530\n",
       "10   12203.000000  495.333333    81.339\n",
       "11   59049.301663  500.333333    89.813\n",
       "12   55184.000000  501.000000    96.549\n",
       "13   19061.220000  525.333333    89.058\n",
       "14   42216.563159  516.333333    92.170\n",
       "15   16748.510000  493.666667    84.800\n",
       "16   38280.044274  503.666667    94.818\n",
       "17   22917.326253  453.333333    78.116\n",
       "18   15564.000000  479.333333    84.771\n",
       "19    4630.320000  382.000000    53.726\n",
       "20   43220.658848  504.666667    92.000\n",
       "21   41989.440000  481.333333    99.000\n",
       "22   47568.000000  465.000000    90.127\n",
       "23   35738.888299  477.000000    70.483\n",
       "24   36384.000000  520.000000    90.219\n",
       "25   26142.789541  479.666667    83.056\n",
       "26   60394.640000  476.666667    98.822\n",
       "27   11927.880000  487.333333    88.900\n",
       "28   16044.000000  416.000000    71.968\n",
       "29   44189.000000  496.666667    97.000\n",
       "30   48949.000000  502.666667    91.500\n",
       "31   18068.000000  513.000000    83.185\n",
       "32   15358.530000  492.000000    78.262\n",
       "33   15192.000000  481.666667    84.995\n",
       "34   40224.000000  386.000000    97.860\n",
       "35   16399.436074  469.333333    89.921\n",
       "36   35504.253147  503.666667    86.601\n",
       "37  254214.231474  502.333333    94.539\n",
       "38    5871.780000  462.666667    77.670"
      ]
     },
     "execution_count": 93,
     "metadata": {},
     "output_type": "execute_result"
    }
   ],
   "source": [
    "X['pisa'] = (X['math_mean']+X['reading_mean']+X['science_mean'])/3\n",
    "X_new = X[['salary', 'pisa', 'net_user']]\n",
    "X_new"
   ]
  },
  {
   "cell_type": "code",
   "execution_count": 94,
   "metadata": {},
   "outputs": [
    {
     "data": {
      "text/plain": [
       "0.6546980438811534"
      ]
     },
     "execution_count": 94,
     "metadata": {},
     "output_type": "execute_result"
    }
   ],
   "source": [
    "model_2 = LinearRegression()\n",
    "model_2.fit(X_new, y)\n",
    "model2_r2 = model_2.score(X_new, y)\n",
    "model2_r2"
   ]
  },
  {
   "cell_type": "code",
   "execution_count": 95,
   "metadata": {},
   "outputs": [
    {
     "name": "stdout",
     "output_type": "stream",
     "text": [
      "Assumption 3: Little to no multicollinearity among predictors\n"
     ]
    },
    {
     "data": {
      "image/png": "[encoded data removed]",
      "text/plain": [
       "<Figure size 1000x800 with 2 Axes>"
      ]
     },
     "metadata": {},
     "output_type": "display_data"
    },
    {
     "name": "stdout",
     "output_type": "stream",
     "text": [
      "Variance Inflation Factors (VIF)\n",
      "> 10: An indication that multicollinearity may be present\n",
      "> 100: Certain multicollinearity among the variables\n",
      "-------------------------------------\n",
      "salary: 1.9575250601867809\n",
      "pisa: 78.05740344276174\n",
      "net_user: 80.98650763551439\n",
      "\n",
      "2 cases of possible multicollinearity\n",
      "0 cases of definite multicollinearity\n",
      "\n",
      "Assumption possibly satisfied\n",
      "\n",
      "Coefficient interpretability may be problematic\n",
      "Consider removing variables with a high Variance Inflation Factor (VIF)\n"
     ]
    }
   ],
   "source": [
    "multicollinearity_assumption(model_2, X_new, y)"
   ]
  },
  {
   "cell_type": "code",
   "execution_count": 96,
   "metadata": {},
   "outputs": [
    {
     "name": "stdout",
     "output_type": "stream",
     "text": [
      "Assumption 1: Linear Relationship between the Target and the Feature \n",
      "\n",
      "Checking with a scatter plot of actual vs. predicted. Predictions should follow the diagonal line.\n"
     ]
    },
    {
     "name": "stderr",
     "output_type": "stream",
     "text": [
      "/Library/Frameworks/Python.framework/Versions/3.10/lib/python3.10/site-packages/seaborn/regression.py:581: UserWarning:\n",
      "\n",
      "The `size` parameter has been renamed to `height`; please update your code.\n",
      "\n"
     ]
    },
    {
     "data": {
      "image/png": "[encoded data removed]",
      "text/plain": [
       "<Figure size 700x700 with 1 Axes>"
      ]
     },
     "metadata": {},
     "output_type": "display_data"
    }
   ],
   "source": [
    "linear_assumption(model_2, X_new, y)"
   ]
  },
  {
   "cell_type": "code",
   "execution_count": 97,
   "metadata": {},
   "outputs": [
    {
     "data": {
      "text/html": [
       "<table class=\"simpletable\">\n",
       "<caption>OLS Regression Results</caption>\n",
       "<tr>\n",
       "  <th>Dep. Variable:</th>      <td>country_index</td>  <th>  R-squared:         </th> <td>   0.655</td>\n",
       "</tr>\n",
       "<tr>\n",
       "  <th>Model:</th>                   <td>OLS</td>       <th>  Adj. R-squared:    </th> <td>   0.625</td>\n",
       "</tr>\n",
       "<tr>\n",
       "  <th>Method:</th>             <td>Least Squares</td>  <th>  F-statistic:       </th> <td>   22.12</td>\n",
       "</tr>\n",
       "<tr>\n",
       "  <th>Date:</th>             <td>Mon, 10 Oct 2022</td> <th>  Prob (F-statistic):</th> <td>3.28e-08</td>\n",
       "</tr>\n",
       "<tr>\n",
       "  <th>Time:</th>                 <td>08:33:05</td>     <th>  Log-Likelihood:    </th> <td>  62.257</td>\n",
       "</tr>\n",
       "<tr>\n",
       "  <th>No. Observations:</th>      <td>    39</td>      <th>  AIC:               </th> <td>  -116.5</td>\n",
       "</tr>\n",
       "<tr>\n",
       "  <th>Df Residuals:</th>          <td>    35</td>      <th>  BIC:               </th> <td>  -109.9</td>\n",
       "</tr>\n",
       "<tr>\n",
       "  <th>Df Model:</th>              <td>     3</td>      <th>                     </th>     <td> </td>   \n",
       "</tr>\n",
       "<tr>\n",
       "  <th>Covariance Type:</th>      <td>nonrobust</td>    <th>                     </th>     <td> </td>   \n",
       "</tr>\n",
       "</table>\n",
       "<table class=\"simpletable\">\n",
       "<tr>\n",
       "      <td></td>        <th>coef</th>     <th>std err</th>      <th>t</th>      <th>P>|t|</th>  <th>[0.025</th>    <th>0.975]</th>  \n",
       "</tr>\n",
       "<tr>\n",
       "  <th>const</th>    <td>    0.0981</td> <td>    0.109</td> <td>    0.901</td> <td> 0.374</td> <td>   -0.123</td> <td>    0.319</td>\n",
       "</tr>\n",
       "<tr>\n",
       "  <th>salary</th>   <td> 1.493e-07</td> <td> 2.25e-07</td> <td>    0.663</td> <td> 0.512</td> <td>-3.08e-07</td> <td> 6.06e-07</td>\n",
       "</tr>\n",
       "<tr>\n",
       "  <th>pisa</th>     <td>    0.0005</td> <td>    0.000</td> <td>    2.612</td> <td> 0.013</td> <td>    0.000</td> <td>    0.001</td>\n",
       "</tr>\n",
       "<tr>\n",
       "  <th>net_user</th> <td>    0.0055</td> <td>    0.001</td> <td>    5.571</td> <td> 0.000</td> <td>    0.004</td> <td>    0.008</td>\n",
       "</tr>\n",
       "</table>\n",
       "<table class=\"simpletable\">\n",
       "<tr>\n",
       "  <th>Omnibus:</th>       <td> 6.055</td> <th>  Durbin-Watson:     </th> <td>   1.851</td>\n",
       "</tr>\n",
       "<tr>\n",
       "  <th>Prob(Omnibus):</th> <td> 0.048</td> <th>  Jarque-Bera (JB):  </th> <td>   4.682</td>\n",
       "</tr>\n",
       "<tr>\n",
       "  <th>Skew:</th>          <td>-0.776</td> <th>  Prob(JB):          </th> <td>  0.0962</td>\n",
       "</tr>\n",
       "<tr>\n",
       "  <th>Kurtosis:</th>      <td> 3.686</td> <th>  Cond. No.          </th> <td>7.14e+05</td>\n",
       "</tr>\n",
       "</table><br/><br/>Notes:<br/>[1] Standard Errors assume that the covariance matrix of the errors is correctly specified.<br/>[2] The condition number is large, 7.14e+05. This might indicate that there are<br/>strong multicollinearity or other numerical problems."
      ],
      "text/plain": [
       "<class 'statsmodels.iolib.summary.Summary'>\n",
       "\"\"\"\n",
       "                            OLS Regression Results                            \n",
       "==============================================================================\n",
       "Dep. Variable:          country_index   R-squared:                       0.655\n",
       "Model:                            OLS   Adj. R-squared:                  0.625\n",
       "Method:                 Least Squares   F-statistic:                     22.12\n",
       "Date:                Mon, 10 Oct 2022   Prob (F-statistic):           3.28e-08\n",
       "Time:                        08:33:05   Log-Likelihood:                 62.257\n",
       "No. Observations:                  39   AIC:                            -116.5\n",
       "Df Residuals:                      35   BIC:                            -109.9\n",
       "Df Model:                           3                                         \n",
       "Covariance Type:            nonrobust                                         \n",
       "==============================================================================\n",
       "                 coef    std err          t      P>|t|      [0.025      0.975]\n",
       "------------------------------------------------------------------------------\n",
       "const          0.0981      0.109      0.901      0.374      -0.123       0.319\n",
       "salary      1.493e-07   2.25e-07      0.663      0.512   -3.08e-07    6.06e-07\n",
       "pisa           0.0005      0.000      2.612      0.013       0.000       0.001\n",
       "net_user       0.0055      0.001      5.571      0.000       0.004       0.008\n",
       "==============================================================================\n",
       "Omnibus:                        6.055   Durbin-Watson:                   1.851\n",
       "Prob(Omnibus):                  0.048   Jarque-Bera (JB):                4.682\n",
       "Skew:                          -0.776   Prob(JB):                       0.0962\n",
       "Kurtosis:                       3.686   Cond. No.                     7.14e+05\n",
       "==============================================================================\n",
       "\n",
       "Notes:\n",
       "[1] Standard Errors assume that the covariance matrix of the errors is correctly specified.\n",
       "[2] The condition number is large, 7.14e+05. This might indicate that there are\n",
       "strong multicollinearity or other numerical problems.\n",
       "\"\"\""
      ]
     },
     "execution_count": 97,
     "metadata": {},
     "output_type": "execute_result"
    }
   ],
   "source": [
    "X2_new = sm.add_constant(X_new)\n",
    "res2 = sm.OLS(y, X2_new).fit()\n",
    "res2.summary()"
   ]
  },
  {
   "cell_type": "code",
   "execution_count": 99,
   "metadata": {},
   "outputs": [
    {
     "data": {
      "text/html": [
       "<table class=\"simpletable\">\n",
       "<caption>OLS Regression Results</caption>\n",
       "<tr>\n",
       "  <th>Dep. Variable:</th>          <td>pisa</td>       <th>  R-squared:         </th> <td>   0.068</td>\n",
       "</tr>\n",
       "<tr>\n",
       "  <th>Model:</th>                   <td>OLS</td>       <th>  Adj. R-squared:    </th> <td>   0.043</td>\n",
       "</tr>\n",
       "<tr>\n",
       "  <th>Method:</th>             <td>Least Squares</td>  <th>  F-statistic:       </th> <td>   2.712</td>\n",
       "</tr>\n",
       "<tr>\n",
       "  <th>Date:</th>             <td>Mon, 10 Oct 2022</td> <th>  Prob (F-statistic):</th>  <td> 0.108</td> \n",
       "</tr>\n",
       "<tr>\n",
       "  <th>Time:</th>                 <td>08:34:29</td>     <th>  Log-Likelihood:    </th> <td> -200.40</td>\n",
       "</tr>\n",
       "<tr>\n",
       "  <th>No. Observations:</th>      <td>    39</td>      <th>  AIC:               </th> <td>   404.8</td>\n",
       "</tr>\n",
       "<tr>\n",
       "  <th>Df Residuals:</th>          <td>    37</td>      <th>  BIC:               </th> <td>   408.1</td>\n",
       "</tr>\n",
       "<tr>\n",
       "  <th>Df Model:</th>              <td>     1</td>      <th>                     </th>     <td> </td>   \n",
       "</tr>\n",
       "<tr>\n",
       "  <th>Covariance Type:</th>      <td>nonrobust</td>    <th>                     </th>     <td> </td>   \n",
       "</tr>\n",
       "</table>\n",
       "<table class=\"simpletable\">\n",
       "<tr>\n",
       "     <td></td>       <th>coef</th>     <th>std err</th>      <th>t</th>      <th>P>|t|</th>  <th>[0.025</th>    <th>0.975]</th>  \n",
       "</tr>\n",
       "<tr>\n",
       "  <th>const</th>  <td>  467.0808</td> <td>    9.084</td> <td>   51.418</td> <td> 0.000</td> <td>  448.675</td> <td>  485.487</td>\n",
       "</tr>\n",
       "<tr>\n",
       "  <th>salary</th> <td>    0.0003</td> <td>    0.000</td> <td>    1.647</td> <td> 0.108</td> <td>-6.34e-05</td> <td>    0.001</td>\n",
       "</tr>\n",
       "</table>\n",
       "<table class=\"simpletable\">\n",
       "<tr>\n",
       "  <th>Omnibus:</th>       <td> 2.132</td> <th>  Durbin-Watson:     </th> <td>   2.293</td>\n",
       "</tr>\n",
       "<tr>\n",
       "  <th>Prob(Omnibus):</th> <td> 0.344</td> <th>  Jarque-Bera (JB):  </th> <td>   1.316</td>\n",
       "</tr>\n",
       "<tr>\n",
       "  <th>Skew:</th>          <td>-0.435</td> <th>  Prob(JB):          </th> <td>   0.518</td>\n",
       "</tr>\n",
       "<tr>\n",
       "  <th>Kurtosis:</th>      <td> 3.233</td> <th>  Cond. No.          </th> <td>7.28e+04</td>\n",
       "</tr>\n",
       "</table><br/><br/>Notes:<br/>[1] Standard Errors assume that the covariance matrix of the errors is correctly specified.<br/>[2] The condition number is large, 7.28e+04. This might indicate that there are<br/>strong multicollinearity or other numerical problems."
      ],
      "text/plain": [
       "<class 'statsmodels.iolib.summary.Summary'>\n",
       "\"\"\"\n",
       "                            OLS Regression Results                            \n",
       "==============================================================================\n",
       "Dep. Variable:                   pisa   R-squared:                       0.068\n",
       "Model:                            OLS   Adj. R-squared:                  0.043\n",
       "Method:                 Least Squares   F-statistic:                     2.712\n",
       "Date:                Mon, 10 Oct 2022   Prob (F-statistic):              0.108\n",
       "Time:                        08:34:29   Log-Likelihood:                -200.40\n",
       "No. Observations:                  39   AIC:                             404.8\n",
       "Df Residuals:                      37   BIC:                             408.1\n",
       "Df Model:                           1                                         \n",
       "Covariance Type:            nonrobust                                         \n",
       "==============================================================================\n",
       "                 coef    std err          t      P>|t|      [0.025      0.975]\n",
       "------------------------------------------------------------------------------\n",
       "const        467.0808      9.084     51.418      0.000     448.675     485.487\n",
       "salary         0.0003      0.000      1.647      0.108   -6.34e-05       0.001\n",
       "==============================================================================\n",
       "Omnibus:                        2.132   Durbin-Watson:                   2.293\n",
       "Prob(Omnibus):                  0.344   Jarque-Bera (JB):                1.316\n",
       "Skew:                          -0.435   Prob(JB):                        0.518\n",
       "Kurtosis:                       3.233   Cond. No.                     7.28e+04\n",
       "==============================================================================\n",
       "\n",
       "Notes:\n",
       "[1] Standard Errors assume that the covariance matrix of the errors is correctly specified.\n",
       "[2] The condition number is large, 7.28e+04. This might indicate that there are\n",
       "strong multicollinearity or other numerical problems.\n",
       "\"\"\""
      ]
     },
     "execution_count": 99,
     "metadata": {},
     "output_type": "execute_result"
    }
   ],
   "source": [
    "x = X_new['salary']\n",
    "y2 = X_new['pisa']\n",
    "x2 = sm.add_constant(x)\n",
    "res3 = sm.OLS(y2, x2).fit()\n",
    "res3.summary()"
   ]
  },
  {
   "cell_type": "markdown",
   "metadata": {},
   "source": [
    "## Education Gap in Indonesia (by Province)"
   ]
  },
  {
   "cell_type": "code",
   "execution_count": 27,
   "metadata": {},
   "outputs": [
    {
     "data": {
      "text/html": [
       "<div>\n",
       "<style scoped>\n",
       "    .dataframe tbody tr th:only-of-type {\n",
       "        vertical-align: middle;\n",
       "    }\n",
       "\n",
       "    .dataframe tbody tr th {\n",
       "        vertical-align: top;\n",
       "    }\n",
       "\n",
       "    .dataframe thead th {\n",
       "        text-align: right;\n",
       "    }\n",
       "</style>\n",
       "<table border=\"1\" class=\"dataframe\">\n",
       "  <thead>\n",
       "    <tr style=\"text-align: right;\">\n",
       "      <th></th>\n",
       "      <th>Unnamed: 0</th>\n",
       "      <th>no</th>\n",
       "      <th>prov_name</th>\n",
       "      <th>school</th>\n",
       "      <th>student</th>\n",
       "      <th>teacher</th>\n",
       "      <th>angka_hls</th>\n",
       "      <th>rata_lama_sekolah</th>\n",
       "    </tr>\n",
       "  </thead>\n",
       "  <tbody>\n",
       "    <tr>\n",
       "      <th>0</th>\n",
       "      <td>1</td>\n",
       "      <td>1</td>\n",
       "      <td>Jawa Timur</td>\n",
       "      <td>25533</td>\n",
       "      <td>4344401</td>\n",
       "      <td>125594</td>\n",
       "      <td>13.36</td>\n",
       "      <td>7.88</td>\n",
       "    </tr>\n",
       "    <tr>\n",
       "      <th>1</th>\n",
       "      <td>2</td>\n",
       "      <td>2</td>\n",
       "      <td>Jawa Barat</td>\n",
       "      <td>27244</td>\n",
       "      <td>7035609</td>\n",
       "      <td>149430</td>\n",
       "      <td>12.61</td>\n",
       "      <td>8.61</td>\n",
       "    </tr>\n",
       "    <tr>\n",
       "      <th>2</th>\n",
       "      <td>3</td>\n",
       "      <td>3</td>\n",
       "      <td>Jawa Tengah</td>\n",
       "      <td>23034</td>\n",
       "      <td>4266632</td>\n",
       "      <td>225544</td>\n",
       "      <td>12.77</td>\n",
       "      <td>7.75</td>\n",
       "    </tr>\n",
       "    <tr>\n",
       "      <th>3</th>\n",
       "      <td>4</td>\n",
       "      <td>4</td>\n",
       "      <td>Sumatera Utara</td>\n",
       "      <td>13554</td>\n",
       "      <td>2561347</td>\n",
       "      <td>165446</td>\n",
       "      <td>13.27</td>\n",
       "      <td>9.58</td>\n",
       "    </tr>\n",
       "    <tr>\n",
       "      <th>4</th>\n",
       "      <td>5</td>\n",
       "      <td>5</td>\n",
       "      <td>Sulawesi Selatan</td>\n",
       "      <td>8746</td>\n",
       "      <td>1443681</td>\n",
       "      <td>108021</td>\n",
       "      <td>13.52</td>\n",
       "      <td>8.46</td>\n",
       "    </tr>\n",
       "    <tr>\n",
       "      <th>5</th>\n",
       "      <td>6</td>\n",
       "      <td>6</td>\n",
       "      <td>Banten</td>\n",
       "      <td>6837</td>\n",
       "      <td>1838197</td>\n",
       "      <td>65988</td>\n",
       "      <td>13.02</td>\n",
       "      <td>8.93</td>\n",
       "    </tr>\n",
       "    <tr>\n",
       "      <th>6</th>\n",
       "      <td>7</td>\n",
       "      <td>7</td>\n",
       "      <td>Nusa Tenggara Timur</td>\n",
       "      <td>7617</td>\n",
       "      <td>1200640</td>\n",
       "      <td>93163</td>\n",
       "      <td>13.20</td>\n",
       "      <td>7.69</td>\n",
       "    </tr>\n",
       "    <tr>\n",
       "      <th>7</th>\n",
       "      <td>8</td>\n",
       "      <td>8</td>\n",
       "      <td>Lampung</td>\n",
       "      <td>6687</td>\n",
       "      <td>1296465</td>\n",
       "      <td>86460</td>\n",
       "      <td>12.73</td>\n",
       "      <td>8.08</td>\n",
       "    </tr>\n",
       "    <tr>\n",
       "      <th>8</th>\n",
       "      <td>9</td>\n",
       "      <td>9</td>\n",
       "      <td>Sumatera Selatan</td>\n",
       "      <td>5460</td>\n",
       "      <td>656273</td>\n",
       "      <td>40365</td>\n",
       "      <td>12.54</td>\n",
       "      <td>8.30</td>\n",
       "    </tr>\n",
       "    <tr>\n",
       "      <th>9</th>\n",
       "      <td>10</td>\n",
       "      <td>10</td>\n",
       "      <td>Aceh</td>\n",
       "      <td>2160</td>\n",
       "      <td>818876</td>\n",
       "      <td>80679</td>\n",
       "      <td>14.36</td>\n",
       "      <td>9.37</td>\n",
       "    </tr>\n",
       "    <tr>\n",
       "      <th>10</th>\n",
       "      <td>11</td>\n",
       "      <td>11</td>\n",
       "      <td>Sumatera Barat</td>\n",
       "      <td>5462</td>\n",
       "      <td>950986</td>\n",
       "      <td>70745</td>\n",
       "      <td>14.09</td>\n",
       "      <td>9.07</td>\n",
       "    </tr>\n",
       "    <tr>\n",
       "      <th>11</th>\n",
       "      <td>12</td>\n",
       "      <td>12</td>\n",
       "      <td>Riau</td>\n",
       "      <td>2114</td>\n",
       "      <td>1197902</td>\n",
       "      <td>60975</td>\n",
       "      <td>13.28</td>\n",
       "      <td>9.19</td>\n",
       "    </tr>\n",
       "    <tr>\n",
       "      <th>12</th>\n",
       "      <td>13</td>\n",
       "      <td>13</td>\n",
       "      <td>Nusa Tenggara Barat</td>\n",
       "      <td>4686</td>\n",
       "      <td>331896</td>\n",
       "      <td>49399</td>\n",
       "      <td>13.90</td>\n",
       "      <td>7.38</td>\n",
       "    </tr>\n",
       "    <tr>\n",
       "      <th>13</th>\n",
       "      <td>14</td>\n",
       "      <td>14</td>\n",
       "      <td>Kalimantan Barat</td>\n",
       "      <td>6265</td>\n",
       "      <td>923832</td>\n",
       "      <td>50945</td>\n",
       "      <td>12.65</td>\n",
       "      <td>7.45</td>\n",
       "    </tr>\n",
       "    <tr>\n",
       "      <th>14</th>\n",
       "      <td>15</td>\n",
       "      <td>15</td>\n",
       "      <td>D.K.I. Jakarta</td>\n",
       "      <td>3809</td>\n",
       "      <td>1302860</td>\n",
       "      <td>67415</td>\n",
       "      <td>13.07</td>\n",
       "      <td>11.17</td>\n",
       "    </tr>\n",
       "    <tr>\n",
       "      <th>15</th>\n",
       "      <td>16</td>\n",
       "      <td>16</td>\n",
       "      <td>Kalimantan Selatan</td>\n",
       "      <td>3745</td>\n",
       "      <td>535056</td>\n",
       "      <td>41055</td>\n",
       "      <td>12.81</td>\n",
       "      <td>8.34</td>\n",
       "    </tr>\n",
       "    <tr>\n",
       "      <th>16</th>\n",
       "      <td>17</td>\n",
       "      <td>17</td>\n",
       "      <td>Sulawesi Tengah</td>\n",
       "      <td>4031</td>\n",
       "      <td>94262</td>\n",
       "      <td>40273</td>\n",
       "      <td>13.23</td>\n",
       "      <td>8.89</td>\n",
       "    </tr>\n",
       "    <tr>\n",
       "      <th>17</th>\n",
       "      <td>18</td>\n",
       "      <td>18</td>\n",
       "      <td>D.I. Yogyakarta</td>\n",
       "      <td>2470</td>\n",
       "      <td>468054</td>\n",
       "      <td>31455</td>\n",
       "      <td>15.64</td>\n",
       "      <td>9.64</td>\n",
       "    </tr>\n",
       "    <tr>\n",
       "      <th>18</th>\n",
       "      <td>19</td>\n",
       "      <td>19</td>\n",
       "      <td>Jambi</td>\n",
       "      <td>3404</td>\n",
       "      <td>566040</td>\n",
       "      <td>41639</td>\n",
       "      <td>13.04</td>\n",
       "      <td>8.60</td>\n",
       "    </tr>\n",
       "    <tr>\n",
       "      <th>19</th>\n",
       "      <td>20</td>\n",
       "      <td>20</td>\n",
       "      <td>Kalimantan Tengah</td>\n",
       "      <td>3758</td>\n",
       "      <td>440722</td>\n",
       "      <td>28766</td>\n",
       "      <td>12.74</td>\n",
       "      <td>8.64</td>\n",
       "    </tr>\n",
       "    <tr>\n",
       "      <th>20</th>\n",
       "      <td>21</td>\n",
       "      <td>21</td>\n",
       "      <td>Sulawesi Tenggara</td>\n",
       "      <td>3442</td>\n",
       "      <td>505544</td>\n",
       "      <td>43080</td>\n",
       "      <td>13.68</td>\n",
       "      <td>9.13</td>\n",
       "    </tr>\n",
       "    <tr>\n",
       "      <th>21</th>\n",
       "      <td>22</td>\n",
       "      <td>22</td>\n",
       "      <td>Sulawesi Utara</td>\n",
       "      <td>3163</td>\n",
       "      <td>379732</td>\n",
       "      <td>25464</td>\n",
       "      <td>12.94</td>\n",
       "      <td>9.62</td>\n",
       "    </tr>\n",
       "    <tr>\n",
       "      <th>22</th>\n",
       "      <td>23</td>\n",
       "      <td>23</td>\n",
       "      <td>Papua</td>\n",
       "      <td>3669</td>\n",
       "      <td>686723</td>\n",
       "      <td>30857</td>\n",
       "      <td>11.11</td>\n",
       "      <td>6.76</td>\n",
       "    </tr>\n",
       "    <tr>\n",
       "      <th>23</th>\n",
       "      <td>24</td>\n",
       "      <td>24</td>\n",
       "      <td>Kalimantan Timur</td>\n",
       "      <td>1110</td>\n",
       "      <td>652093</td>\n",
       "      <td>39408</td>\n",
       "      <td>13.81</td>\n",
       "      <td>9.84</td>\n",
       "    </tr>\n",
       "    <tr>\n",
       "      <th>24</th>\n",
       "      <td>25</td>\n",
       "      <td>25</td>\n",
       "      <td>Bali</td>\n",
       "      <td>2987</td>\n",
       "      <td>664120</td>\n",
       "      <td>13687</td>\n",
       "      <td>13.40</td>\n",
       "      <td>9.06</td>\n",
       "    </tr>\n",
       "    <tr>\n",
       "      <th>25</th>\n",
       "      <td>26</td>\n",
       "      <td>26</td>\n",
       "      <td>Maluku</td>\n",
       "      <td>2788</td>\n",
       "      <td>366139</td>\n",
       "      <td>31633</td>\n",
       "      <td>13.97</td>\n",
       "      <td>10.03</td>\n",
       "    </tr>\n",
       "    <tr>\n",
       "      <th>26</th>\n",
       "      <td>27</td>\n",
       "      <td>27</td>\n",
       "      <td>Bengkulu</td>\n",
       "      <td>1998</td>\n",
       "      <td>332781</td>\n",
       "      <td>26198</td>\n",
       "      <td>13.67</td>\n",
       "      <td>8.87</td>\n",
       "    </tr>\n",
       "    <tr>\n",
       "      <th>27</th>\n",
       "      <td>28</td>\n",
       "      <td>28</td>\n",
       "      <td>Maluku Utara</td>\n",
       "      <td>2049</td>\n",
       "      <td>242158</td>\n",
       "      <td>19794</td>\n",
       "      <td>13.68</td>\n",
       "      <td>9.09</td>\n",
       "    </tr>\n",
       "    <tr>\n",
       "      <th>28</th>\n",
       "      <td>29</td>\n",
       "      <td>29</td>\n",
       "      <td>Sulawesi Barat</td>\n",
       "      <td>1797</td>\n",
       "      <td>226274</td>\n",
       "      <td>17587</td>\n",
       "      <td>12.86</td>\n",
       "      <td>7.96</td>\n",
       "    </tr>\n",
       "    <tr>\n",
       "      <th>29</th>\n",
       "      <td>30</td>\n",
       "      <td>30</td>\n",
       "      <td>Gorontalo</td>\n",
       "      <td>1338</td>\n",
       "      <td>182562</td>\n",
       "      <td>13395</td>\n",
       "      <td>13.11</td>\n",
       "      <td>7.90</td>\n",
       "    </tr>\n",
       "    <tr>\n",
       "      <th>30</th>\n",
       "      <td>31</td>\n",
       "      <td>31</td>\n",
       "      <td>Kepulauan Riau</td>\n",
       "      <td>1546</td>\n",
       "      <td>174723</td>\n",
       "      <td>22362</td>\n",
       "      <td>12.98</td>\n",
       "      <td>10.18</td>\n",
       "    </tr>\n",
       "    <tr>\n",
       "      <th>31</th>\n",
       "      <td>32</td>\n",
       "      <td>32</td>\n",
       "      <td>Papua Barat</td>\n",
       "      <td>1572</td>\n",
       "      <td>93026</td>\n",
       "      <td>15218</td>\n",
       "      <td>13.13</td>\n",
       "      <td>7.69</td>\n",
       "    </tr>\n",
       "    <tr>\n",
       "      <th>32</th>\n",
       "      <td>33</td>\n",
       "      <td>33</td>\n",
       "      <td>Kepulauan Bangka Belitung</td>\n",
       "      <td>1130</td>\n",
       "      <td>198806</td>\n",
       "      <td>14129</td>\n",
       "      <td>12.17</td>\n",
       "      <td>8.08</td>\n",
       "    </tr>\n",
       "    <tr>\n",
       "      <th>33</th>\n",
       "      <td>34</td>\n",
       "      <td>34</td>\n",
       "      <td>Kalimantan Utara</td>\n",
       "      <td>744</td>\n",
       "      <td>129727</td>\n",
       "      <td>9604</td>\n",
       "      <td>12.94</td>\n",
       "      <td>9.11</td>\n",
       "    </tr>\n",
       "  </tbody>\n",
       "</table>\n",
       "</div>"
      ],
      "text/plain": [
       "    Unnamed: 0  no                  prov_name  school  student  teacher  \\\n",
       "0            1   1                 Jawa Timur   25533  4344401   125594   \n",
       "1            2   2                 Jawa Barat   27244  7035609   149430   \n",
       "2            3   3                Jawa Tengah   23034  4266632   225544   \n",
       "3            4   4             Sumatera Utara   13554  2561347   165446   \n",
       "4            5   5           Sulawesi Selatan    8746  1443681   108021   \n",
       "5            6   6                     Banten    6837  1838197    65988   \n",
       "6            7   7        Nusa Tenggara Timur    7617  1200640    93163   \n",
       "7            8   8                    Lampung    6687  1296465    86460   \n",
       "8            9   9           Sumatera Selatan    5460   656273    40365   \n",
       "9           10  10                       Aceh    2160   818876    80679   \n",
       "10          11  11             Sumatera Barat    5462   950986    70745   \n",
       "11          12  12                       Riau    2114  1197902    60975   \n",
       "12          13  13        Nusa Tenggara Barat    4686   331896    49399   \n",
       "13          14  14           Kalimantan Barat    6265   923832    50945   \n",
       "14          15  15             D.K.I. Jakarta    3809  1302860    67415   \n",
       "15          16  16         Kalimantan Selatan    3745   535056    41055   \n",
       "16          17  17            Sulawesi Tengah    4031    94262    40273   \n",
       "17          18  18            D.I. Yogyakarta    2470   468054    31455   \n",
       "18          19  19                      Jambi    3404   566040    41639   \n",
       "19          20  20          Kalimantan Tengah    3758   440722    28766   \n",
       "20          21  21          Sulawesi Tenggara    3442   505544    43080   \n",
       "21          22  22             Sulawesi Utara    3163   379732    25464   \n",
       "22          23  23                      Papua    3669   686723    30857   \n",
       "23          24  24           Kalimantan Timur    1110   652093    39408   \n",
       "24          25  25                       Bali    2987   664120    13687   \n",
       "25          26  26                     Maluku    2788   366139    31633   \n",
       "26          27  27                   Bengkulu    1998   332781    26198   \n",
       "27          28  28               Maluku Utara    2049   242158    19794   \n",
       "28          29  29             Sulawesi Barat    1797   226274    17587   \n",
       "29          30  30                  Gorontalo    1338   182562    13395   \n",
       "30          31  31             Kepulauan Riau    1546   174723    22362   \n",
       "31          32  32                Papua Barat    1572    93026    15218   \n",
       "32          33  33  Kepulauan Bangka Belitung    1130   198806    14129   \n",
       "33          34  34           Kalimantan Utara     744   129727     9604   \n",
       "\n",
       "    angka_hls  rata_lama_sekolah  \n",
       "0       13.36               7.88  \n",
       "1       12.61               8.61  \n",
       "2       12.77               7.75  \n",
       "3       13.27               9.58  \n",
       "4       13.52               8.46  \n",
       "5       13.02               8.93  \n",
       "6       13.20               7.69  \n",
       "7       12.73               8.08  \n",
       "8       12.54               8.30  \n",
       "9       14.36               9.37  \n",
       "10      14.09               9.07  \n",
       "11      13.28               9.19  \n",
       "12      13.90               7.38  \n",
       "13      12.65               7.45  \n",
       "14      13.07              11.17  \n",
       "15      12.81               8.34  \n",
       "16      13.23               8.89  \n",
       "17      15.64               9.64  \n",
       "18      13.04               8.60  \n",
       "19      12.74               8.64  \n",
       "20      13.68               9.13  \n",
       "21      12.94               9.62  \n",
       "22      11.11               6.76  \n",
       "23      13.81               9.84  \n",
       "24      13.40               9.06  \n",
       "25      13.97              10.03  \n",
       "26      13.67               8.87  \n",
       "27      13.68               9.09  \n",
       "28      12.86               7.96  \n",
       "29      13.11               7.90  \n",
       "30      12.98              10.18  \n",
       "31      13.13               7.69  \n",
       "32      12.17               8.08  \n",
       "33      12.94               9.11  "
      ]
     },
     "execution_count": 27,
     "metadata": {},
     "output_type": "execute_result"
    }
   ],
   "source": [
    "edu_gap = pd.read_csv(\"https://raw.githubusercontent.com/nurkhamidah/Education_Dashboard/master/34provinces_edugap.csv\", sep=\",\")\n",
    "edu_gap"
   ]
  },
  {
   "cell_type": "code",
   "execution_count": null,
   "metadata": {},
   "outputs": [],
   "source": []
  },
  {
   "cell_type": "markdown",
   "metadata": {},
   "source": []
  }
 ],
 "metadata": {
  "kernelspec": {
   "display_name": "Python 3.10.6 64-bit",
   "language": "python",
   "name": "python3"
  },
  "language_info": {
   "codemirror_mode": {
    "name": "ipython",
    "version": 3
   },
   "file_extension": ".py",
   "mimetype": "text/x-python",
   "name": "python",
   "nbconvert_exporter": "python",
   "pygments_lexer": "ipython3",
   "version": "3.10.6"
  },
  "orig_nbformat": 4,
  "vscode": {
   "interpreter": {
    "hash": "aee8b7b246df8f9039afb4144a1f6fd8d2ca17a180786b69acc140d282b71a49"
   }
  }
 },
 "nbformat": 4,
 "nbformat_minor": 2
}
